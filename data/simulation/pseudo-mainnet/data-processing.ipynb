{
 "cells": [
  {
   "cell_type": "markdown",
   "id": "c7d1d4b8-32d6-4899-8fdf-f8f45d306411",
   "metadata": {},
   "source": [
    "# Synthesis of a pseudo-mainnet"
   ]
  },
  {
   "cell_type": "markdown",
   "id": "4f3cfe5b-618d-4780-ad4b-8a2247a2975f",
   "metadata": {},
   "source": [
    "## Set up packages"
   ]
  },
  {
   "cell_type": "code",
   "execution_count": 1,
   "id": "62630a48-074a-449e-9d25-e84a285c4f88",
   "metadata": {
    "tags": []
   },
   "outputs": [],
   "source": [
    "suppressMessages({\n",
    "    require(data.table, quietly=TRUE)\n",
    "    require(ggplot2, quietly=TRUE)\n",
    "    require(igraph, quietly=TRUE)\n",
    "    require(magrittr, quietly=TRUE)\n",
    "})"
   ]
  },
  {
   "cell_type": "markdown",
   "id": "c105ce0b-8a77-4c8e-afb6-16f893127850",
   "metadata": {},
   "source": [
    "## Read data files"
   ]
  },
  {
   "cell_type": "markdown",
   "id": "c3faccca-6dc2-4007-b430-e8997ab88490",
   "metadata": {},
   "source": [
    "### Probes of mainnet nodes"
   ]
  },
  {
   "cell_type": "code",
   "execution_count": 2,
   "id": "106fc8ed-b781-4ebc-b90c-8ff265433748",
   "metadata": {
    "tags": []
   },
   "outputs": [
    {
     "data": {
      "text/plain": [
       "                                                                id      \n",
       " 0049eca4703be755cef74ed20e1815b50b5fa0ceb07c6b822c78355dd12fdaa6:   1  \n",
       " 0078d0f5d825d8946e0809e85fe0f21589294cae912104b3ca9f0e4bb93552c3:   1  \n",
       " 008c441677a37d339c96a2bf2c9aa377e2411a00eb9d4588e3362043f0d7b744:   1  \n",
       " 012200f2a61b1d302998036a06091f074f95125848e9caff9f0d23e392538936:   1  \n",
       " 012c09d9b08f7c26d9076a0aea43ead69de74de251de49c6ba67e40d0613053b:   1  \n",
       " 01567bed7019b7452a243cb66b3e8cc433c2eafe4d7569e49227d61bcfd6d33f:   1  \n",
       " (Other)                                                         :2195  \n",
       "               n2n_version   peer_sharing      asn                   country   \n",
       " NodeToNodeVersionV10:   1   f: 745       Min.   :   209   Germany       :528  \n",
       " NodeToNodeVersionV11:   1   t:1456       1st Qu.: 14061   United States :502  \n",
       " NodeToNodeVersionV13: 869                Median : 20860   Canada        :154  \n",
       " NodeToNodeVersionV14:1330                Mean   : 61266   Japan         :123  \n",
       "                                          3rd Qu.: 51167   United Kingdom:108  \n",
       "                                          Max.   :401116   Finland       : 90  \n",
       "                                          NA's   :64       (Other)       :696  "
      ]
     },
     "metadata": {},
     "output_type": "display_data"
    }
   ],
   "source": [
    "ptNodes <- fread(\"pt_nodes.csv\", stringsAsFactors=TRUE)\n",
    "ptNodes %>% summary"
   ]
  },
  {
   "cell_type": "markdown",
   "id": "533787ae-0954-473a-9d81-9f1aa50b6f6a",
   "metadata": {},
   "source": [
    "### Probes of mainnet edges"
   ]
  },
  {
   "cell_type": "code",
   "execution_count": 3,
   "id": "58e6a7e7-95e4-401b-80a7-5893139cf393",
   "metadata": {
    "tags": []
   },
   "outputs": [
    {
     "data": {
      "text/plain": [
       "                                                              source     \n",
       " 99f4b029b0864e19334824015c8d05b34c34353ab7fe36e9da91689ceb512b66:   67  \n",
       " 7e0520b4ebf8159bd1e219d49fc847efc9fe54332cc36aa5ac2350020c2a4939:   64  \n",
       " 624d8747537834fe5aa3da126f5647904f2425fb002c72be6fe811fbd671412b:   61  \n",
       " 73a4c479d08b254dab522708a611981c48e8323ae39ab6ad838c30ba3c8c8811:   59  \n",
       " 1b80ab54864c57bf4f1e9646d30edf48e4d98e8d70ecaacac89adb3a48be5726:   57  \n",
       " 4a5c7640e2e4f40870dfe3df1fe942e90f718394bd68de31e5ec9730c5ece414:   57  \n",
       " (Other)                                                         :49569  \n",
       "                                                              target     \n",
       " 99f4b029b0864e19334824015c8d05b34c34353ab7fe36e9da91689ceb512b66:  194  \n",
       " 2d8b0cb5e44c3e746e7e29fb025dcb258aaf4df658f41c11bdc6824a9059fb84:  185  \n",
       " 9b88f53637710f0b577b5cc060e67ceb1fddbee24c18f600b4497829d2e2323f:  181  \n",
       " d651218f17c10c040eb944416864971abd396ff8142bda7e2d97e26a7fc3a987:  177  \n",
       " d0cca0575254a0c01423d9532b4223e4dc467405ca40bd530e4d1befb3c5c222:  168  \n",
       " 450bb4474418bd71728346d338824776690e9a3a1971e0df5885e938ee2d0c1c:  162  \n",
       " (Other)                                                         :48867  "
      ]
     },
     "metadata": {},
     "output_type": "display_data"
    }
   ],
   "source": [
    "ptEdges <- fread(\"pt_edges.csv\", stringsAsFactors=TRUE)\n",
    "ptEdges %>% summary"
   ]
  },
  {
   "cell_type": "markdown",
   "id": "7d4aed06-2a77-4a96-828b-8532a4cea7aa",
   "metadata": {},
   "source": [
    "### Snapshot of mainnet stakepools"
   ]
  },
  {
   "cell_type": "code",
   "execution_count": 4,
   "id": "65d2bd28-97dc-429b-984e-1bcbcafa7cf0",
   "metadata": {
    "tags": []
   },
   "outputs": [
    {
     "data": {
      "text/plain": [
       "    epoch_no        country    no_of_pools         stake           \n",
       " Min.   :524   Australia: 1   Min.   :  1.00   Min.   :    120272  \n",
       " 1st Qu.:524   Austria  : 1   1st Qu.:  1.00   1st Qu.:  32641441  \n",
       " Median :524   Belgium  : 1   Median :  5.00   Median :  94785845  \n",
       " Mean   :524   Bolivia  : 1   Mean   : 37.09   Mean   : 616847011  \n",
       " 3rd Qu.:524   Brazil   : 1   3rd Qu.: 23.50   3rd Qu.: 517550850  \n",
       " Max.   :524   Canada   : 1   Max.   :537.00   Max.   :7077609940  \n",
       "               (Other)  :29                                        "
      ]
     },
     "metadata": {},
     "output_type": "display_data"
    }
   ],
   "source": [
    "poolCountries <- fread(\"pool_country.csv\", stringsAsFactors=TRUE)\n",
    "poolCountries %>% summary"
   ]
  },
  {
   "cell_type": "markdown",
   "id": "b719d962-3cfc-4a7f-ad30-124dd0aff3e9",
   "metadata": {},
   "source": [
    "### Boundary boxes for countries"
   ]
  },
  {
   "cell_type": "code",
   "execution_count": 5,
   "id": "644ea425-7144-4d27-b647-b5c238322a98",
   "metadata": {
    "tags": []
   },
   "outputs": [
    {
     "data": {
      "text/plain": [
       "        country    ISO3166 country code    longmin              latmin       \n",
       " AT         :  1      :248              Min.   :-179.9850   Min.   :-78.000  \n",
       " AV         :  1   ABW:  1              1st Qu.: -59.9168   1st Qu.: -7.080  \n",
       " Afghanistan:  1   AE :  1              Median :  10.0000   Median : 10.000  \n",
       " Albania    :  1   AT :  1              Mean   :  -0.1206   Mean   :  9.275  \n",
       " Algeria    :  1   ATG:  1              3rd Qu.:  39.6500   3rd Qu.: 32.858  \n",
       " Andorra    :  1   AV :  1              Max.   : 176.1000   Max.   : 62.000  \n",
       " (Other)    :248   BD :  1                                                   \n",
       "    longmax              latmax           Wrapped   \n",
       " Min.   :-174.4170   Min.   :-54.386          :242  \n",
       " 1st Qu.:   0.4457   1st Qu.:  9.544   WRAPPED: 12  \n",
       " Median :  32.5915   Median : 21.000                \n",
       " Mean   :  35.9674   Mean   : 23.508                \n",
       " 3rd Qu.:  75.0000   3rd Qu.: 42.918                \n",
       " Max.   : 180.0000   Max.   : 89.000                \n",
       "                                                    "
      ]
     },
     "metadata": {},
     "output_type": "display_data"
    }
   ],
   "source": [
    "countryBoundingBoxes <- fread(\"country-boundingboxes.csv\", stringsAsFactors=TRUE)\n",
    "countryBoundingBoxes %>% summary"
   ]
  },
  {
   "cell_type": "markdown",
   "id": "bcc58c31-9d01-43f5-95b6-fb8534f51886",
   "metadata": {},
   "source": [
    "### ASN to ASN round-trip pings"
   ]
  },
  {
   "cell_type": "code",
   "execution_count": 49,
   "id": "f276086d-9ae6-4d05-a18e-e02b0fe35e4d",
   "metadata": {
    "tags": []
   },
   "outputs": [
    {
     "data": {
      "text/plain": [
       "      asn1             asn2           rtt_cnt            rtt_avg         \n",
       " Min.   :     0   Min.   :     0   Min.   :       1   Min.   :     0.03  \n",
       " 1st Qu.:  4493   1st Qu.: 34347   1st Qu.:       6   1st Qu.:    30.22  \n",
       " Median : 12276   Median : 57073   Median :    2169   Median :    95.40  \n",
       " Mean   : 26245   Mean   :115727   Mean   :    6231   Mean   :   114.11  \n",
       " 3rd Qu.: 32167   3rd Qu.:203296   3rd Qu.:    4326   3rd Qu.:   173.23  \n",
       " Max.   :401332   Max.   :401612   Max.   :44991955   Max.   :301077.44  \n",
       "                                                                         \n",
       "    rtt_std             rtt_min             rtt_max       \n",
       " Min.   :     0.00   Min.   :     0.00   Min.   :      0  \n",
       " 1st Qu.:     0.82   1st Qu.:    22.19   1st Qu.:     56  \n",
       " Median :     3.64   Median :    75.87   Median :    154  \n",
       " Mean   :    17.62   Mean   :   101.80   Mean   :    424  \n",
       " 3rd Qu.:    13.39   3rd Qu.:   161.65   3rd Qu.:    287  \n",
       " Max.   :173798.40   Max.   :301077.44   Max.   :3592381  \n",
       " NA's   :58552                                            "
      ]
     },
     "metadata": {},
     "output_type": "display_data"
    }
   ],
   "source": [
    "asn_rtt_stat <- fread(\"asn_rtt_stat.csv\")\n",
    "asn_rtt_stat %>% summary"
   ]
  },
  {
   "cell_type": "markdown",
   "id": "4343e7b0-501b-4739-a079-1195d8b429a1",
   "metadata": {},
   "source": [
    "### Intra ASN round-trip pings"
   ]
  },
  {
   "cell_type": "code",
   "execution_count": 50,
   "id": "60f7b435-5508-4a75-8ea1-45301ff2dfd1",
   "metadata": {
    "tags": []
   },
   "outputs": [
    {
     "data": {
      "text/plain": [
       "    rtt_cnt             rtt_avg         rtt_std         rtt_min \n",
       " Min.   :145057189   Min.   :80.41   Min.   :103.5   Min.   :0  \n",
       " 1st Qu.:145057189   1st Qu.:80.41   1st Qu.:103.5   1st Qu.:0  \n",
       " Median :145057189   Median :80.41   Median :103.5   Median :0  \n",
       " Mean   :145057189   Mean   :80.41   Mean   :103.5   Mean   :0  \n",
       " 3rd Qu.:145057189   3rd Qu.:80.41   3rd Qu.:103.5   3rd Qu.:0  \n",
       " Max.   :145057189   Max.   :80.41   Max.   :103.5   Max.   :0  \n",
       "    rtt_max      \n",
       " Min.   :249626  \n",
       " 1st Qu.:249626  \n",
       " Median :249626  \n",
       " Mean   :249626  \n",
       " 3rd Qu.:249626  \n",
       " Max.   :249626  "
      ]
     },
     "metadata": {},
     "output_type": "display_data"
    }
   ],
   "source": [
    "intra_rtt_stat <- fread(\"intra_rtt_stat.csv\")\n",
    "intra_rtt_stat %>% summary"
   ]
  },
  {
   "cell_type": "markdown",
   "id": "55858fa9-91db-45a2-9221-ec2a8adbcee8",
   "metadata": {},
   "source": [
    "### Country to country round-trip pings"
   ]
  },
  {
   "cell_type": "code",
   "execution_count": 74,
   "id": "0ce20cf7-5fb6-43dd-9dd7-3ae639bb6fd3",
   "metadata": {
    "tags": []
   },
   "outputs": [
    {
     "data": {
      "text/plain": [
       "     cty1               cty2              rtt_cnt             rtt_avg         \n",
       " Length:6827        Length:6827        Min.   :        1   Min.   :   0.1315  \n",
       " Class :character   Class :character   1st Qu.:     4258   1st Qu.:  98.0432  \n",
       " Mode  :character   Mode  :character   Median :    18759   Median : 176.9048  \n",
       "                                       Mean   :   385491   Mean   : 179.1625  \n",
       "                                       3rd Qu.:    89268   3rd Qu.: 248.2103  \n",
       "                                       Max.   :442308114   Max.   :1531.4980  \n",
       "                                                                              \n",
       "    rtt_std            rtt_min           rtt_max       \n",
       " Min.   :   0.028   Min.   :   0.00   Min.   :      0  \n",
       " 1st Qu.:   9.609   1st Qu.:  25.17   1st Qu.:    285  \n",
       " Median :  26.345   Median : 109.86   Median :    603  \n",
       " Mean   :  43.461   Mean   : 122.27   Mean   :   5333  \n",
       " 3rd Qu.:  56.788   3rd Qu.: 192.67   3rd Qu.:   1392  \n",
       " Max.   :4392.409   Max.   :1384.45   Max.   :3592381  \n",
       " NA's   :187                                           "
      ]
     },
     "metadata": {},
     "output_type": "display_data"
    }
   ],
   "source": [
    "country_rtt_stat <- fread(\"country_rtt_stat.csv\")\n",
    "country_rtt_stat %>% summary"
   ]
  },
  {
   "cell_type": "markdown",
   "id": "096e2327-1c5b-46b4-b692-0f2b43a4e101",
   "metadata": {},
   "source": [
    "## Create ASN-level totals"
   ]
  },
  {
   "cell_type": "markdown",
   "id": "9afe2d8c-05fc-4bd0-b585-dcc11f8284d9",
   "metadata": {
    "tags": []
   },
   "source": [
    "### Compare node countries to pool countries"
   ]
  },
  {
   "cell_type": "markdown",
   "id": "746600ab-be30-4579-9928-fac33db8c32f",
   "metadata": {},
   "source": [
    "All of the pool countries appear in the list of node countries."
   ]
  },
  {
   "cell_type": "code",
   "execution_count": 6,
   "id": "994e1b0e-e429-4685-a8c1-aa8efda5da05",
   "metadata": {
    "tags": []
   },
   "outputs": [
    {
     "data": {
      "text/html": [
       "\n",
       "<details>\n",
       "\t<summary style=display:list-item;cursor:pointer>\n",
       "\t\t<strong>Levels</strong>:\n",
       "\t</summary>\n",
       "\t<style>\n",
       "\t.list-inline {list-style: none; margin:0; padding: 0}\n",
       "\t.list-inline>li {display: inline-block}\n",
       "\t.list-inline>li:not(:last-child)::after {content: \"\\00b7\"; padding: 0 .5ex}\n",
       "\t</style>\n",
       "\t<ol class=list-inline><li>'Australia'</li><li>'Austria'</li><li>'Belgium'</li><li>'Bolivia'</li><li>'Brazil'</li><li>'Canada'</li><li>'China'</li><li>'Finland'</li><li>'France'</li><li>'Germany'</li><li>'Hungary'</li><li>'India'</li><li>'Indonesia'</li><li>'Ireland'</li><li>'Japan'</li><li>'Latvia'</li><li>'Lithuania'</li><li>'Netherlands'</li><li>'New Zealand'</li><li>'Norway'</li><li>'Poland'</li><li>'Romania'</li><li>'Russian Federation'</li><li>'Seychelles'</li><li>'Singapore'</li><li>'South Africa'</li><li>'South Korea'</li><li>'Spain'</li><li>'Sweden'</li><li>'Switzerland'</li><li>'Taiwan'</li><li>'Thailand'</li><li>'United Arab Emirates'</li><li>'United Kingdom'</li><li>'United States'</li></ol>\n",
       "</details>"
      ],
      "text/latex": [
       "\n",
       "\\emph{Levels}: \\begin{enumerate*}\n",
       "\\item 'Australia'\n",
       "\\item 'Austria'\n",
       "\\item 'Belgium'\n",
       "\\item 'Bolivia'\n",
       "\\item 'Brazil'\n",
       "\\item 'Canada'\n",
       "\\item 'China'\n",
       "\\item 'Finland'\n",
       "\\item 'France'\n",
       "\\item 'Germany'\n",
       "\\item 'Hungary'\n",
       "\\item 'India'\n",
       "\\item 'Indonesia'\n",
       "\\item 'Ireland'\n",
       "\\item 'Japan'\n",
       "\\item 'Latvia'\n",
       "\\item 'Lithuania'\n",
       "\\item 'Netherlands'\n",
       "\\item 'New Zealand'\n",
       "\\item 'Norway'\n",
       "\\item 'Poland'\n",
       "\\item 'Romania'\n",
       "\\item 'Russian Federation'\n",
       "\\item 'Seychelles'\n",
       "\\item 'Singapore'\n",
       "\\item 'South Africa'\n",
       "\\item 'South Korea'\n",
       "\\item 'Spain'\n",
       "\\item 'Sweden'\n",
       "\\item 'Switzerland'\n",
       "\\item 'Taiwan'\n",
       "\\item 'Thailand'\n",
       "\\item 'United Arab Emirates'\n",
       "\\item 'United Kingdom'\n",
       "\\item 'United States'\n",
       "\\end{enumerate*}\n"
      ],
      "text/markdown": [
       "\n",
       "**Levels**: 1. 'Australia'\n",
       "2. 'Austria'\n",
       "3. 'Belgium'\n",
       "4. 'Bolivia'\n",
       "5. 'Brazil'\n",
       "6. 'Canada'\n",
       "7. 'China'\n",
       "8. 'Finland'\n",
       "9. 'France'\n",
       "10. 'Germany'\n",
       "11. 'Hungary'\n",
       "12. 'India'\n",
       "13. 'Indonesia'\n",
       "14. 'Ireland'\n",
       "15. 'Japan'\n",
       "16. 'Latvia'\n",
       "17. 'Lithuania'\n",
       "18. 'Netherlands'\n",
       "19. 'New Zealand'\n",
       "20. 'Norway'\n",
       "21. 'Poland'\n",
       "22. 'Romania'\n",
       "23. 'Russian Federation'\n",
       "24. 'Seychelles'\n",
       "25. 'Singapore'\n",
       "26. 'South Africa'\n",
       "27. 'South Korea'\n",
       "28. 'Spain'\n",
       "29. 'Sweden'\n",
       "30. 'Switzerland'\n",
       "31. 'Taiwan'\n",
       "32. 'Thailand'\n",
       "33. 'United Arab Emirates'\n",
       "34. 'United Kingdom'\n",
       "35. 'United States'\n",
       "\n",
       "\n"
      ],
      "text/plain": [
       "factor(0)\n",
       "35 Levels: Australia Austria Belgium Bolivia Brazil Canada China ... United States"
      ]
     },
     "metadata": {},
     "output_type": "display_data"
    }
   ],
   "source": [
    "poolCountries[!(`country` %in% ptNodes$`country`), unique(`country`)]"
   ]
  },
  {
   "cell_type": "markdown",
   "id": "866b6263-ce21-453c-92e1-a2d8ad6c99d7",
   "metadata": {},
   "source": [
    "Twenty-one of the node countries do not appear in the list of pool countries."
   ]
  },
  {
   "cell_type": "code",
   "execution_count": 7,
   "id": "be12a026-9317-44e7-a942-f2a5c3d7b45d",
   "metadata": {
    "tags": []
   },
   "outputs": [
    {
     "data": {
      "text/html": [
       "<style>\n",
       ".list-inline {list-style: none; margin:0; padding: 0}\n",
       ".list-inline>li {display: inline-block}\n",
       ".list-inline>li:not(:last-child)::after {content: \"\\00b7\"; padding: 0 .5ex}\n",
       "</style>\n",
       "<ol class=list-inline><li></li><li>Estonia</li><li>Argentina</li><li>Viet Nam</li><li>Czechia</li><li>Italy</li><li>Portugal</li><li>Slovenia</li><li>Greece</li><li>Denmark</li><li>Chile</li><li>Cayman Islands</li><li>Israel</li><li>Malaysia</li><li>Luxembourg</li><li>New Caledonia</li><li>Iran</li><li>Malta</li><li>Bulgaria</li><li>Mexico</li><li>Peru</li></ol>\n",
       "\n",
       "<details>\n",
       "\t<summary style=display:list-item;cursor:pointer>\n",
       "\t\t<strong>Levels</strong>:\n",
       "\t</summary>\n",
       "\t<style>\n",
       "\t.list-inline {list-style: none; margin:0; padding: 0}\n",
       "\t.list-inline>li {display: inline-block}\n",
       "\t.list-inline>li:not(:last-child)::after {content: \"\\00b7\"; padding: 0 .5ex}\n",
       "\t</style>\n",
       "\t<ol class=list-inline><li>''</li><li>'Argentina'</li><li>'Australia'</li><li>'Austria'</li><li>'Belgium'</li><li>'Bolivia'</li><li>'Brazil'</li><li>'Bulgaria'</li><li>'Canada'</li><li>'Cayman Islands'</li><li>'Chile'</li><li>'China'</li><li>'Czechia'</li><li>'Denmark'</li><li>'Estonia'</li><li>'Finland'</li><li>'France'</li><li>'Germany'</li><li>'Greece'</li><li>'Hungary'</li><li>'India'</li><li>'Indonesia'</li><li>'Iran'</li><li>'Ireland'</li><li>'Israel'</li><li>'Italy'</li><li>'Japan'</li><li>'Latvia'</li><li>'Lithuania'</li><li>'Luxembourg'</li><li>'Malaysia'</li><li>'Malta'</li><li>'Mexico'</li><li>'Netherlands'</li><li>'New Caledonia'</li><li>'New Zealand'</li><li>'Norway'</li><li>'Peru'</li><li>'Poland'</li><li>'Portugal'</li><li>'Romania'</li><li>'Russian Federation'</li><li>'Seychelles'</li><li>'Singapore'</li><li>'Slovenia'</li><li>'South Africa'</li><li>'South Korea'</li><li>'Spain'</li><li>'Sweden'</li><li>'Switzerland'</li><li>'Taiwan'</li><li>'Thailand'</li><li>'United Arab Emirates'</li><li>'United Kingdom'</li><li>'United States'</li><li>'Viet Nam'</li></ol>\n",
       "</details>"
      ],
      "text/latex": [
       "\\begin{enumerate*}\n",
       "\\item \n",
       "\\item Estonia\n",
       "\\item Argentina\n",
       "\\item Viet Nam\n",
       "\\item Czechia\n",
       "\\item Italy\n",
       "\\item Portugal\n",
       "\\item Slovenia\n",
       "\\item Greece\n",
       "\\item Denmark\n",
       "\\item Chile\n",
       "\\item Cayman Islands\n",
       "\\item Israel\n",
       "\\item Malaysia\n",
       "\\item Luxembourg\n",
       "\\item New Caledonia\n",
       "\\item Iran\n",
       "\\item Malta\n",
       "\\item Bulgaria\n",
       "\\item Mexico\n",
       "\\item Peru\n",
       "\\end{enumerate*}\n",
       "\n",
       "\\emph{Levels}: \\begin{enumerate*}\n",
       "\\item ''\n",
       "\\item 'Argentina'\n",
       "\\item 'Australia'\n",
       "\\item 'Austria'\n",
       "\\item 'Belgium'\n",
       "\\item 'Bolivia'\n",
       "\\item 'Brazil'\n",
       "\\item 'Bulgaria'\n",
       "\\item 'Canada'\n",
       "\\item 'Cayman Islands'\n",
       "\\item 'Chile'\n",
       "\\item 'China'\n",
       "\\item 'Czechia'\n",
       "\\item 'Denmark'\n",
       "\\item 'Estonia'\n",
       "\\item 'Finland'\n",
       "\\item 'France'\n",
       "\\item 'Germany'\n",
       "\\item 'Greece'\n",
       "\\item 'Hungary'\n",
       "\\item 'India'\n",
       "\\item 'Indonesia'\n",
       "\\item 'Iran'\n",
       "\\item 'Ireland'\n",
       "\\item 'Israel'\n",
       "\\item 'Italy'\n",
       "\\item 'Japan'\n",
       "\\item 'Latvia'\n",
       "\\item 'Lithuania'\n",
       "\\item 'Luxembourg'\n",
       "\\item 'Malaysia'\n",
       "\\item 'Malta'\n",
       "\\item 'Mexico'\n",
       "\\item 'Netherlands'\n",
       "\\item 'New Caledonia'\n",
       "\\item 'New Zealand'\n",
       "\\item 'Norway'\n",
       "\\item 'Peru'\n",
       "\\item 'Poland'\n",
       "\\item 'Portugal'\n",
       "\\item 'Romania'\n",
       "\\item 'Russian Federation'\n",
       "\\item 'Seychelles'\n",
       "\\item 'Singapore'\n",
       "\\item 'Slovenia'\n",
       "\\item 'South Africa'\n",
       "\\item 'South Korea'\n",
       "\\item 'Spain'\n",
       "\\item 'Sweden'\n",
       "\\item 'Switzerland'\n",
       "\\item 'Taiwan'\n",
       "\\item 'Thailand'\n",
       "\\item 'United Arab Emirates'\n",
       "\\item 'United Kingdom'\n",
       "\\item 'United States'\n",
       "\\item 'Viet Nam'\n",
       "\\end{enumerate*}\n"
      ],
      "text/markdown": [
       "1. \n",
       "2. Estonia\n",
       "3. Argentina\n",
       "4. Viet Nam\n",
       "5. Czechia\n",
       "6. Italy\n",
       "7. Portugal\n",
       "8. Slovenia\n",
       "9. Greece\n",
       "10. Denmark\n",
       "11. Chile\n",
       "12. Cayman Islands\n",
       "13. Israel\n",
       "14. Malaysia\n",
       "15. Luxembourg\n",
       "16. New Caledonia\n",
       "17. Iran\n",
       "18. Malta\n",
       "19. Bulgaria\n",
       "20. Mexico\n",
       "21. Peru\n",
       "\n",
       "\n",
       "\n",
       "**Levels**: 1. ''\n",
       "2. 'Argentina'\n",
       "3. 'Australia'\n",
       "4. 'Austria'\n",
       "5. 'Belgium'\n",
       "6. 'Bolivia'\n",
       "7. 'Brazil'\n",
       "8. 'Bulgaria'\n",
       "9. 'Canada'\n",
       "10. 'Cayman Islands'\n",
       "11. 'Chile'\n",
       "12. 'China'\n",
       "13. 'Czechia'\n",
       "14. 'Denmark'\n",
       "15. 'Estonia'\n",
       "16. 'Finland'\n",
       "17. 'France'\n",
       "18. 'Germany'\n",
       "19. 'Greece'\n",
       "20. 'Hungary'\n",
       "21. 'India'\n",
       "22. 'Indonesia'\n",
       "23. 'Iran'\n",
       "24. 'Ireland'\n",
       "25. 'Israel'\n",
       "26. 'Italy'\n",
       "27. 'Japan'\n",
       "28. 'Latvia'\n",
       "29. 'Lithuania'\n",
       "30. 'Luxembourg'\n",
       "31. 'Malaysia'\n",
       "32. 'Malta'\n",
       "33. 'Mexico'\n",
       "34. 'Netherlands'\n",
       "35. 'New Caledonia'\n",
       "36. 'New Zealand'\n",
       "37. 'Norway'\n",
       "38. 'Peru'\n",
       "39. 'Poland'\n",
       "40. 'Portugal'\n",
       "41. 'Romania'\n",
       "42. 'Russian Federation'\n",
       "43. 'Seychelles'\n",
       "44. 'Singapore'\n",
       "45. 'Slovenia'\n",
       "46. 'South Africa'\n",
       "47. 'South Korea'\n",
       "48. 'Spain'\n",
       "49. 'Sweden'\n",
       "50. 'Switzerland'\n",
       "51. 'Taiwan'\n",
       "52. 'Thailand'\n",
       "53. 'United Arab Emirates'\n",
       "54. 'United Kingdom'\n",
       "55. 'United States'\n",
       "56. 'Viet Nam'\n",
       "\n",
       "\n"
      ],
      "text/plain": [
       " [1]                Estonia        Argentina      Viet Nam       Czechia       \n",
       " [6] Italy          Portugal       Slovenia       Greece         Denmark       \n",
       "[11] Chile          Cayman Islands Israel         Malaysia       Luxembourg    \n",
       "[16] New Caledonia  Iran           Malta          Bulgaria       Mexico        \n",
       "[21] Peru          \n",
       "56 Levels:  Argentina Australia Austria Belgium Bolivia Brazil ... Viet Nam"
      ]
     },
     "metadata": {},
     "output_type": "display_data"
    }
   ],
   "source": [
    "ptNodes[!(`country` %in% poolCountries$`country`), unique(`country`)]"
   ]
  },
  {
   "cell_type": "markdown",
   "id": "bcee352d-5297-40d4-9423-629a12be822d",
   "metadata": {},
   "source": [
    "### Use hot-deck imputation to assign missing nodes to countries and ASNs"
   ]
  },
  {
   "cell_type": "markdown",
   "id": "461053bf-81fe-4733-a900-4c8aab39b061",
   "metadata": {},
   "source": [
    "If the country is missing, then the ASN is also missing."
   ]
  },
  {
   "cell_type": "code",
   "execution_count": 8,
   "id": "6b50a019-6832-425f-b9b5-f5cc1eb0942d",
   "metadata": {
    "tags": []
   },
   "outputs": [
    {
     "data": {
      "text/html": [
       "<table class=\"dataframe\">\n",
       "<caption>A data.table: 2 x 3</caption>\n",
       "<thead>\n",
       "\t<tr><th scope=col>Has Country</th><th scope=col>Has ASN</th><th scope=col>N</th></tr>\n",
       "\t<tr><th scope=col>&lt;lgl&gt;</th><th scope=col>&lt;lgl&gt;</th><th scope=col>&lt;int&gt;</th></tr>\n",
       "</thead>\n",
       "<tbody>\n",
       "\t<tr><td>FALSE</td><td>FALSE</td><td>  64</td></tr>\n",
       "\t<tr><td> TRUE</td><td> TRUE</td><td>2137</td></tr>\n",
       "</tbody>\n",
       "</table>\n"
      ],
      "text/latex": [
       "A data.table: 2 x 3\n",
       "\\begin{tabular}{lll}\n",
       " Has Country & Has ASN & N\\\\\n",
       " <lgl> & <lgl> & <int>\\\\\n",
       "\\hline\n",
       "\t FALSE & FALSE &   64\\\\\n",
       "\t  TRUE &  TRUE & 2137\\\\\n",
       "\\end{tabular}\n"
      ],
      "text/markdown": [
       "\n",
       "A data.table: 2 x 3\n",
       "\n",
       "| Has Country &lt;lgl&gt; | Has ASN &lt;lgl&gt; | N &lt;int&gt; |\n",
       "|---|---|---|\n",
       "| FALSE | FALSE |   64 |\n",
       "|  TRUE |  TRUE | 2137 |\n",
       "\n"
      ],
      "text/plain": [
       "  Has Country Has ASN N   \n",
       "1 FALSE       FALSE     64\n",
       "2  TRUE        TRUE   2137"
      ]
     },
     "metadata": {},
     "output_type": "display_data"
    }
   ],
   "source": [
    "ptNodes[, .N, .(`Has Country`=`country`!=\"\", `Has ASN`=!is.na(`asn`))]"
   ]
  },
  {
   "cell_type": "code",
   "execution_count": 9,
   "id": "7e270cd8-5093-46e5-a417-02eb75cb883f",
   "metadata": {
    "tags": []
   },
   "outputs": [
    {
     "data": {
      "text/html": [
       "<style>\n",
       ".list-inline {list-style: none; margin:0; padding: 0}\n",
       ".list-inline>li {display: inline-block}\n",
       ".list-inline>li:not(:last-child)::after {content: \"\\00b7\"; padding: 0 .5ex}\n",
       "</style>\n",
       "<ol class=list-inline><li>2137</li><li>2</li></ol>\n"
      ],
      "text/latex": [
       "\\begin{enumerate*}\n",
       "\\item 2137\n",
       "\\item 2\n",
       "\\end{enumerate*}\n"
      ],
      "text/markdown": [
       "1. 2137\n",
       "2. 2\n",
       "\n",
       "\n"
      ],
      "text/plain": [
       "[1] 2137    2"
      ]
     },
     "metadata": {},
     "output_type": "display_data"
    }
   ],
   "source": [
    "nonMissing <- ptNodes[`country` != \"\", .(`country`, `asn`)]\n",
    "nonMissing %>% dim"
   ]
  },
  {
   "cell_type": "code",
   "execution_count": 10,
   "id": "1e5163a1-b85a-4f29-938b-77208b6cd7fa",
   "metadata": {
    "tags": []
   },
   "outputs": [
    {
     "data": {
      "text/html": [
       "2137"
      ],
      "text/latex": [
       "2137"
      ],
      "text/markdown": [
       "2137"
      ],
      "text/plain": [
       "[1] 2137"
      ]
     },
     "metadata": {},
     "output_type": "display_data"
    }
   ],
   "source": [
    "nrow(nonMissing)"
   ]
  },
  {
   "cell_type": "code",
   "execution_count": 11,
   "id": "a5447ea7-a7a1-4c41-89fa-96d5e87c01d8",
   "metadata": {
    "tags": []
   },
   "outputs": [],
   "source": [
    "assignments <- sample(1:nrow(nonMissing), ptNodes[`country`==\"\", .N])"
   ]
  },
  {
   "cell_type": "code",
   "execution_count": 12,
   "id": "a8020c95-28f4-418d-a863-bb41f437e913",
   "metadata": {
    "tags": []
   },
   "outputs": [],
   "source": [
    "ptNodes[`country` ==\"\", `:=`(`country`=nonMissing[assignments, `country`], `asn`=nonMissing[assignments, `asn`])]"
   ]
  },
  {
   "cell_type": "markdown",
   "id": "8fa01f60-ecde-4c3f-8297-bf5eeb12465a",
   "metadata": {},
   "source": [
    "### Distribute the stake among the ASNs"
   ]
  },
  {
   "cell_type": "code",
   "execution_count": 13,
   "id": "48a846c5-e010-4523-9cd6-cf3b232fc0d4",
   "metadata": {
    "tags": []
   },
   "outputs": [
    {
     "data": {
      "text/html": [
       "<table class=\"dataframe\">\n",
       "<caption>A data.table: 6 x 4</caption>\n",
       "<thead>\n",
       "\t<tr><th scope=col>country</th><th scope=col>asn</th><th scope=col>no_of_nodes</th><th scope=col>fraction</th></tr>\n",
       "\t<tr><th scope=col>&lt;fct&gt;</th><th scope=col>&lt;int&gt;</th><th scope=col>&lt;int&gt;</th><th scope=col>&lt;dbl&gt;</th></tr>\n",
       "</thead>\n",
       "<tbody>\n",
       "\t<tr><td>United Kingdom</td><td>51167</td><td>21</td><td>0.18918919</td></tr>\n",
       "\t<tr><td>United Kingdom</td><td>16276</td><td>21</td><td>0.18918919</td></tr>\n",
       "\t<tr><td>United Kingdom</td><td> 5607</td><td> 2</td><td>0.01801802</td></tr>\n",
       "\t<tr><td>United Kingdom</td><td>14061</td><td> 5</td><td>0.04504505</td></tr>\n",
       "\t<tr><td>United Kingdom</td><td>31898</td><td> 4</td><td>0.03603604</td></tr>\n",
       "\t<tr><td>United Kingdom</td><td>13037</td><td> 5</td><td>0.04504505</td></tr>\n",
       "</tbody>\n",
       "</table>\n"
      ],
      "text/latex": [
       "A data.table: 6 x 4\n",
       "\\begin{tabular}{llll}\n",
       " country & asn & no\\_of\\_nodes & fraction\\\\\n",
       " <fct> & <int> & <int> & <dbl>\\\\\n",
       "\\hline\n",
       "\t United Kingdom & 51167 & 21 & 0.18918919\\\\\n",
       "\t United Kingdom & 16276 & 21 & 0.18918919\\\\\n",
       "\t United Kingdom &  5607 &  2 & 0.01801802\\\\\n",
       "\t United Kingdom & 14061 &  5 & 0.04504505\\\\\n",
       "\t United Kingdom & 31898 &  4 & 0.03603604\\\\\n",
       "\t United Kingdom & 13037 &  5 & 0.04504505\\\\\n",
       "\\end{tabular}\n"
      ],
      "text/markdown": [
       "\n",
       "A data.table: 6 x 4\n",
       "\n",
       "| country &lt;fct&gt; | asn &lt;int&gt; | no_of_nodes &lt;int&gt; | fraction &lt;dbl&gt; |\n",
       "|---|---|---|---|\n",
       "| United Kingdom | 51167 | 21 | 0.18918919 |\n",
       "| United Kingdom | 16276 | 21 | 0.18918919 |\n",
       "| United Kingdom |  5607 |  2 | 0.01801802 |\n",
       "| United Kingdom | 14061 |  5 | 0.04504505 |\n",
       "| United Kingdom | 31898 |  4 | 0.03603604 |\n",
       "| United Kingdom | 13037 |  5 | 0.04504505 |\n",
       "\n"
      ],
      "text/plain": [
       "  country        asn   no_of_nodes fraction  \n",
       "1 United Kingdom 51167 21          0.18918919\n",
       "2 United Kingdom 16276 21          0.18918919\n",
       "3 United Kingdom  5607  2          0.01801802\n",
       "4 United Kingdom 14061  5          0.04504505\n",
       "5 United Kingdom 31898  4          0.03603604\n",
       "6 United Kingdom 13037  5          0.04504505"
      ]
     },
     "metadata": {},
     "output_type": "display_data"
    }
   ],
   "source": [
    "nodeFractions <- ptNodes[, .(`no_of_nodes`=.N), .(`country`, `asn`)][, .(`asn`, `no_of_nodes`, `fraction`=`no_of_nodes`/sum(`no_of_nodes`)), .(`country`)]\n",
    "nodeFractions %>% head"
   ]
  },
  {
   "cell_type": "markdown",
   "id": "223f59ea-5818-4f12-b648-b85b112bb529",
   "metadata": {},
   "source": [
    "Randomly distribute the pools to ASNs according to a multinomial distribution weighted by the number of nodes in the ASN."
   ]
  },
  {
   "cell_type": "code",
   "execution_count": 14,
   "id": "de271d8d-b0e9-44d2-ab60-89f0d55df8fd",
   "metadata": {
    "tags": []
   },
   "outputs": [],
   "source": [
    "rpools <- function(no_of_pools, fractions) {\n",
    "    if (sum(no_of_pools) == 0)\n",
    "        0\n",
    "    else\n",
    "        as.numeric(rmultinom(1, no_of_pools, fractions))\n",
    "}"
   ]
  },
  {
   "cell_type": "markdown",
   "id": "3aaec209-a66b-49bd-9833-e56cee86899d",
   "metadata": {},
   "source": [
    "Distribute the country's stake in proportion to the distribution of pools within the ASN."
   ]
  },
  {
   "cell_type": "code",
   "execution_count": 15,
   "id": "b08b5692-a84d-413b-80e3-a44851502793",
   "metadata": {
    "tags": []
   },
   "outputs": [
    {
     "data": {
      "text/html": [
       "<table class=\"dataframe\">\n",
       "<caption>A data.table: 6 x 5</caption>\n",
       "<thead>\n",
       "\t<tr><th scope=col>country</th><th scope=col>asn</th><th scope=col>no_of_nodes</th><th scope=col>no_of_pools</th><th scope=col>stake</th></tr>\n",
       "\t<tr><th scope=col>&lt;fct&gt;</th><th scope=col>&lt;int&gt;</th><th scope=col>&lt;int&gt;</th><th scope=col>&lt;dbl&gt;</th><th scope=col>&lt;dbl&gt;</th></tr>\n",
       "</thead>\n",
       "<tbody>\n",
       "\t<tr><td>United Kingdom</td><td>51167</td><td>21</td><td>10</td><td>269659304</td></tr>\n",
       "\t<tr><td>United Kingdom</td><td>16276</td><td>21</td><td>11</td><td>296625234</td></tr>\n",
       "\t<tr><td>United Kingdom</td><td> 5607</td><td> 2</td><td> 0</td><td>        0</td></tr>\n",
       "\t<tr><td>United Kingdom</td><td>14061</td><td> 5</td><td> 4</td><td>107863722</td></tr>\n",
       "\t<tr><td>United Kingdom</td><td>31898</td><td> 4</td><td> 0</td><td>        0</td></tr>\n",
       "\t<tr><td>United Kingdom</td><td>13037</td><td> 5</td><td> 2</td><td> 53931861</td></tr>\n",
       "</tbody>\n",
       "</table>\n"
      ],
      "text/latex": [
       "A data.table: 6 x 5\n",
       "\\begin{tabular}{lllll}\n",
       " country & asn & no\\_of\\_nodes & no\\_of\\_pools & stake\\\\\n",
       " <fct> & <int> & <int> & <dbl> & <dbl>\\\\\n",
       "\\hline\n",
       "\t United Kingdom & 51167 & 21 & 10 & 269659304\\\\\n",
       "\t United Kingdom & 16276 & 21 & 11 & 296625234\\\\\n",
       "\t United Kingdom &  5607 &  2 &  0 &         0\\\\\n",
       "\t United Kingdom & 14061 &  5 &  4 & 107863722\\\\\n",
       "\t United Kingdom & 31898 &  4 &  0 &         0\\\\\n",
       "\t United Kingdom & 13037 &  5 &  2 &  53931861\\\\\n",
       "\\end{tabular}\n"
      ],
      "text/markdown": [
       "\n",
       "A data.table: 6 x 5\n",
       "\n",
       "| country &lt;fct&gt; | asn &lt;int&gt; | no_of_nodes &lt;int&gt; | no_of_pools &lt;dbl&gt; | stake &lt;dbl&gt; |\n",
       "|---|---|---|---|---|\n",
       "| United Kingdom | 51167 | 21 | 10 | 269659304 |\n",
       "| United Kingdom | 16276 | 21 | 11 | 296625234 |\n",
       "| United Kingdom |  5607 |  2 |  0 |         0 |\n",
       "| United Kingdom | 14061 |  5 |  4 | 107863722 |\n",
       "| United Kingdom | 31898 |  4 |  0 |         0 |\n",
       "| United Kingdom | 13037 |  5 |  2 |  53931861 |\n",
       "\n"
      ],
      "text/plain": [
       "  country        asn   no_of_nodes no_of_pools stake    \n",
       "1 United Kingdom 51167 21          10          269659304\n",
       "2 United Kingdom 16276 21          11          296625234\n",
       "3 United Kingdom  5607  2           0                  0\n",
       "4 United Kingdom 14061  5           4          107863722\n",
       "5 United Kingdom 31898  4           0                  0\n",
       "6 United Kingdom 13037  5           2           53931861"
      ]
     },
     "metadata": {},
     "output_type": "display_data"
    }
   ],
   "source": [
    "asnPools <- poolCountries[\n",
    "    nodeFractions,\n",
    "    on=\"country\"\n",
    "][\n",
    "    `no_of_pools`>0,\n",
    "    .(`asn`, `no_of_nodes`, `no_of_pools`=rpools(`no_of_pools`, `fraction`), `stake`), \n",
    "    .(`country`)\n",
    "][,\n",
    "  .(`asn`, `no_of_nodes`, `no_of_pools`, `stake`=`stake`*`no_of_pools`/sum(`no_of_pools`)),\n",
    "  .(`country`)\n",
    "]\n",
    "asnPools %>% head"
   ]
  },
  {
   "cell_type": "markdown",
   "id": "e31f29cd-734b-4079-85db-a5311cebec22",
   "metadata": {},
   "source": [
    "Check that the resulting disaggregation matches the original marginal distribution."
   ]
  },
  {
   "cell_type": "code",
   "execution_count": 16,
   "id": "4ac2954d-216b-4a44-a785-cbc0c189603f",
   "metadata": {
    "tags": []
   },
   "outputs": [
    {
     "data": {
      "text/html": [
       "TRUE"
      ],
      "text/latex": [
       "TRUE"
      ],
      "text/markdown": [
       "TRUE"
      ],
      "text/plain": [
       "[1] TRUE"
      ]
     },
     "metadata": {},
     "output_type": "display_data"
    }
   ],
   "source": [
    "(\n",
    "    asnPools[, .(`no_of_pools`=sum(`no_of_pools`), `stake`=round(sum(`stake`))), .(`country`=as.character(`country`))][order(`country`)] == \n",
    "    poolCountries[, .(`no_of_pools`, `stake`), .(`country`=as.character(`country`))][order(`country`)]\n",
    ") %>% all"
   ]
  },
  {
   "cell_type": "markdown",
   "id": "980c7f20-b4b6-4866-bd82-d2ddeb2ff072",
   "metadata": {},
   "source": [
    "## Create nodes"
   ]
  },
  {
   "cell_type": "markdown",
   "id": "5bb5a1f4-90dd-4806-9c4e-551e7a60feff",
   "metadata": {},
   "source": [
    "We want 10,000 nodes."
   ]
  },
  {
   "cell_type": "code",
   "execution_count": 17,
   "id": "3c86606b-f958-4a9f-9bce-d56d1f3379e9",
   "metadata": {
    "tags": []
   },
   "outputs": [],
   "source": [
    "nodeCount <- 10000"
   ]
  },
  {
   "cell_type": "markdown",
   "id": "722cab79-9916-48c1-a3c6-a3bcd13be58c",
   "metadata": {},
   "source": [
    "### Resample to increase the number of nodes"
   ]
  },
  {
   "cell_type": "code",
   "execution_count": 18,
   "id": "de84d4de-7dd1-439c-b1fa-63e305d8fc38",
   "metadata": {
    "tags": []
   },
   "outputs": [],
   "source": [
    "extraNodes <- sample(nrow(ptNodes), nodeCount - nrow(ptNodes), replace=TRUE)"
   ]
  },
  {
   "cell_type": "code",
   "execution_count": 19,
   "id": "d2abea3f-001b-4a45-ab7f-23370385b80f",
   "metadata": {
    "tags": []
   },
   "outputs": [
    {
     "data": {
      "text/html": [
       "<style>\n",
       ".list-inline {list-style: none; margin:0; padding: 0}\n",
       ".list-inline>li {display: inline-block}\n",
       ".list-inline>li:not(:last-child)::after {content: \"\\00b7\"; padding: 0 .5ex}\n",
       "</style>\n",
       "<ol class=list-inline><li>10000</li><li>3</li></ol>\n"
      ],
      "text/latex": [
       "\\begin{enumerate*}\n",
       "\\item 10000\n",
       "\\item 3\n",
       "\\end{enumerate*}\n"
      ],
      "text/markdown": [
       "1. 10000\n",
       "2. 3\n",
       "\n",
       "\n"
      ],
      "text/plain": [
       "[1] 10000     3"
      ]
     },
     "metadata": {},
     "output_type": "display_data"
    }
   ],
   "source": [
    "expandedNodes <- rbind(\n",
    "    ptNodes[, .(`country`, `asn`, `id`)],\n",
    "    ptNodes[extraNodes, .(`country`, `asn`, `id`)]\n",
    ")\n",
    "expandedNodes %>% dim"
   ]
  },
  {
   "cell_type": "markdown",
   "id": "69fd5ac0-c573-4780-a3d3-870138af04e2",
   "metadata": {},
   "source": [
    "### Assign stakepools"
   ]
  },
  {
   "cell_type": "code",
   "execution_count": 20,
   "id": "ef99e3f8-287e-4bb9-9ae3-04938ba0f918",
   "metadata": {
    "tags": []
   },
   "outputs": [
    {
     "data": {
      "text/html": [
       "<table class=\"dataframe\">\n",
       "<caption>A data.table: 6 x 4</caption>\n",
       "<thead>\n",
       "\t<tr><th scope=col>country</th><th scope=col>asn</th><th scope=col>id</th><th scope=col>stake</th></tr>\n",
       "\t<tr><th scope=col>&lt;fct&gt;</th><th scope=col>&lt;int&gt;</th><th scope=col>&lt;fct&gt;</th><th scope=col>&lt;dbl&gt;</th></tr>\n",
       "</thead>\n",
       "<tbody>\n",
       "\t<tr><td>United Kingdom</td><td>51167</td><td>21d9843c58f843995ae35cd54c3e7c877ee3c4ee482c1db0f48c292ce53b7d64</td><td>0</td></tr>\n",
       "\t<tr><td>United Kingdom</td><td>51167</td><td>5c316f80890bc3866d1487bba1d88bb42b46bd77527863db15d8933aa1197f7d</td><td>0</td></tr>\n",
       "\t<tr><td>United Kingdom</td><td>51167</td><td>d9af1928ab2e580d8cd8302597dd59ece296253abb863f35492b9a8fcb012a40</td><td>0</td></tr>\n",
       "\t<tr><td>United Kingdom</td><td>51167</td><td>ae91419679c22885d5b2b55743f4117cb6a15b90ecc2586603c0e24d92da85ce</td><td>0</td></tr>\n",
       "\t<tr><td>United Kingdom</td><td>51167</td><td>4428a4672c1d691c652c1f8dca17f61d4e8daffe0653e0404e2104363eb9e218</td><td>0</td></tr>\n",
       "\t<tr><td>United Kingdom</td><td>51167</td><td>d5279a1b4d407448ebcab68c003915433accce7b6a3b1868f8d8198bb55dc7da</td><td>0</td></tr>\n",
       "</tbody>\n",
       "</table>\n"
      ],
      "text/latex": [
       "A data.table: 6 x 4\n",
       "\\begin{tabular}{llll}\n",
       " country & asn & id & stake\\\\\n",
       " <fct> & <int> & <fct> & <dbl>\\\\\n",
       "\\hline\n",
       "\t United Kingdom & 51167 & 21d9843c58f843995ae35cd54c3e7c877ee3c4ee482c1db0f48c292ce53b7d64 & 0\\\\\n",
       "\t United Kingdom & 51167 & 5c316f80890bc3866d1487bba1d88bb42b46bd77527863db15d8933aa1197f7d & 0\\\\\n",
       "\t United Kingdom & 51167 & d9af1928ab2e580d8cd8302597dd59ece296253abb863f35492b9a8fcb012a40 & 0\\\\\n",
       "\t United Kingdom & 51167 & ae91419679c22885d5b2b55743f4117cb6a15b90ecc2586603c0e24d92da85ce & 0\\\\\n",
       "\t United Kingdom & 51167 & 4428a4672c1d691c652c1f8dca17f61d4e8daffe0653e0404e2104363eb9e218 & 0\\\\\n",
       "\t United Kingdom & 51167 & d5279a1b4d407448ebcab68c003915433accce7b6a3b1868f8d8198bb55dc7da & 0\\\\\n",
       "\\end{tabular}\n"
      ],
      "text/markdown": [
       "\n",
       "A data.table: 6 x 4\n",
       "\n",
       "| country &lt;fct&gt; | asn &lt;int&gt; | id &lt;fct&gt; | stake &lt;dbl&gt; |\n",
       "|---|---|---|---|\n",
       "| United Kingdom | 51167 | 21d9843c58f843995ae35cd54c3e7c877ee3c4ee482c1db0f48c292ce53b7d64 | 0 |\n",
       "| United Kingdom | 51167 | 5c316f80890bc3866d1487bba1d88bb42b46bd77527863db15d8933aa1197f7d | 0 |\n",
       "| United Kingdom | 51167 | d9af1928ab2e580d8cd8302597dd59ece296253abb863f35492b9a8fcb012a40 | 0 |\n",
       "| United Kingdom | 51167 | ae91419679c22885d5b2b55743f4117cb6a15b90ecc2586603c0e24d92da85ce | 0 |\n",
       "| United Kingdom | 51167 | 4428a4672c1d691c652c1f8dca17f61d4e8daffe0653e0404e2104363eb9e218 | 0 |\n",
       "| United Kingdom | 51167 | d5279a1b4d407448ebcab68c003915433accce7b6a3b1868f8d8198bb55dc7da | 0 |\n",
       "\n"
      ],
      "text/plain": [
       "  country        asn  \n",
       "1 United Kingdom 51167\n",
       "2 United Kingdom 51167\n",
       "3 United Kingdom 51167\n",
       "4 United Kingdom 51167\n",
       "5 United Kingdom 51167\n",
       "6 United Kingdom 51167\n",
       "  id                                                               stake\n",
       "1 21d9843c58f843995ae35cd54c3e7c877ee3c4ee482c1db0f48c292ce53b7d64 0    \n",
       "2 5c316f80890bc3866d1487bba1d88bb42b46bd77527863db15d8933aa1197f7d 0    \n",
       "3 d9af1928ab2e580d8cd8302597dd59ece296253abb863f35492b9a8fcb012a40 0    \n",
       "4 ae91419679c22885d5b2b55743f4117cb6a15b90ecc2586603c0e24d92da85ce 0    \n",
       "5 4428a4672c1d691c652c1f8dca17f61d4e8daffe0653e0404e2104363eb9e218 0    \n",
       "6 d5279a1b4d407448ebcab68c003915433accce7b6a3b1868f8d8198bb55dc7da 0    "
      ]
     },
     "metadata": {},
     "output_type": "display_data"
    }
   ],
   "source": [
    "nodeStakes <- asnPools[\n",
    "    expandedNodes, on=c(\"country\", \"asn\")\n",
    "][, \n",
    "  .(`id`, `no_of_pools`=rpools(fcoalesce(`no_of_pools`, 0), rep(1, .N)), `stake`), \n",
    "  .(`country`, `asn`)\n",
    "][,\n",
    "  .(`id`, `stake`=`stake`*`no_of_pools`/sum(`no_of_pools`)),\n",
    "  .(`country`, `asn`)\n",
    "]\n",
    "nodeStakes %>% head"
   ]
  },
  {
   "cell_type": "markdown",
   "id": "5e100a84-1c7e-4d3f-94dc-897fe9067f7c",
   "metadata": {},
   "source": [
    "Check that no stake is missing."
   ]
  },
  {
   "cell_type": "code",
   "execution_count": 21,
   "id": "e8dde73e-d47e-4273-8b7b-0d109e912d24",
   "metadata": {
    "tags": []
   },
   "outputs": [
    {
     "data": {
      "text/html": [
       "TRUE"
      ],
      "text/latex": [
       "TRUE"
      ],
      "text/markdown": [
       "TRUE"
      ],
      "text/plain": [
       "[1] TRUE"
      ]
     },
     "metadata": {},
     "output_type": "display_data"
    }
   ],
   "source": [
    "asnPools[, sum(`stake`)] == nodeStakes[, sum(`stake`, na.rm=TRUE)]"
   ]
  },
  {
   "cell_type": "markdown",
   "id": "b58dce25-eea7-4ab4-ab2e-d6a8bff90ae3",
   "metadata": {},
   "source": [
    "### Add geographic locations"
   ]
  },
  {
   "cell_type": "markdown",
   "id": "29a7f4b3-7c74-4c75-a020-ad2460a36180",
   "metadata": {},
   "source": [
    "First make sure that the names align."
   ]
  },
  {
   "cell_type": "code",
   "execution_count": 22,
   "id": "fc49c9f6-c253-4b1c-9005-c36893822ab5",
   "metadata": {
    "tags": []
   },
   "outputs": [
    {
     "data": {
      "text/html": [
       "<table class=\"dataframe\">\n",
       "<caption>A data.table: 0 x 4</caption>\n",
       "<thead>\n",
       "\t<tr><th scope=col>country</th><th scope=col>asn</th><th scope=col>id</th><th scope=col>stake</th></tr>\n",
       "\t<tr><th scope=col>&lt;fct&gt;</th><th scope=col>&lt;int&gt;</th><th scope=col>&lt;fct&gt;</th><th scope=col>&lt;dbl&gt;</th></tr>\n",
       "</thead>\n",
       "<tbody>\n",
       "</tbody>\n",
       "</table>\n"
      ],
      "text/latex": [
       "A data.table: 0 x 4\n",
       "\\begin{tabular}{llll}\n",
       " country & asn & id & stake\\\\\n",
       " <fct> & <int> & <fct> & <dbl>\\\\\n",
       "\\hline\n",
       "\\end{tabular}\n"
      ],
      "text/markdown": [
       "\n",
       "A data.table: 0 x 4\n",
       "\n",
       "| country &lt;fct&gt; | asn &lt;int&gt; | id &lt;fct&gt; | stake &lt;dbl&gt; |\n",
       "|---|---|---|---|\n",
       "\n"
      ],
      "text/plain": [
       "     country asn id stake"
      ]
     },
     "metadata": {},
     "output_type": "display_data"
    }
   ],
   "source": [
    "nodeStakes[!(`country` %in% countryBoundingBoxes$`country`)]"
   ]
  },
  {
   "cell_type": "code",
   "execution_count": 23,
   "id": "50901349-f49e-4577-82fb-6a7e8a9fec34",
   "metadata": {
    "tags": []
   },
   "outputs": [],
   "source": [
    "rlong <- function(longmin, longmax, wrapped) {\n",
    "    if (wrapped)\n",
    "        (runif(1, longmax, 360 + longmin) + 180) %% 360 - 180\n",
    "    else\n",
    "        runif(1, longmin, longmax)\n",
    "}"
   ]
  },
  {
   "cell_type": "code",
   "execution_count": 24,
   "id": "184e1b00-2df5-40f0-9039-3865d6ab0b09",
   "metadata": {
    "tags": []
   },
   "outputs": [],
   "source": [
    "rlat <- function(latmin, latmax) {\n",
    "    runif(1, latmin, latmax)\n",
    "}"
   ]
  },
  {
   "cell_type": "code",
   "execution_count": 26,
   "id": "bc40f4d1-75eb-48f8-a7d1-9256a95b25b5",
   "metadata": {
    "tags": []
   },
   "outputs": [
    {
     "data": {
      "text/html": [
       "<table class=\"dataframe\">\n",
       "<caption>A data.table: 6 x 8</caption>\n",
       "<thead>\n",
       "\t<tr><th scope=col>country</th><th scope=col>asn</th><th scope=col>id</th><th scope=col>index</th><th scope=col>subindex</th><th scope=col>stake</th><th scope=col>long</th><th scope=col>lat</th></tr>\n",
       "\t<tr><th scope=col>&lt;fct&gt;</th><th scope=col>&lt;int&gt;</th><th scope=col>&lt;fct&gt;</th><th scope=col>&lt;dbl&gt;</th><th scope=col>&lt;int&gt;</th><th scope=col>&lt;dbl&gt;</th><th scope=col>&lt;dbl&gt;</th><th scope=col>&lt;dbl&gt;</th></tr>\n",
       "</thead>\n",
       "<tbody>\n",
       "\t<tr><td>China               </td><td>396982</td><td>289f8b9bb1579bbe7709d77becb701f6483d9e6111a1e743629a749410f68f9e</td><td>1272</td><td>3</td><td>105472970</td><td>75.125622</td><td>46.11755</td></tr>\n",
       "\t<tr><td>Ireland             </td><td> 16509</td><td>a24670618efd1f89558e0be86e16afc50700852611898da4d7ddbc66d409eb1d</td><td>1376</td><td>1</td><td>102664810</td><td>-4.201529</td><td>52.12471</td></tr>\n",
       "\t<tr><td>Ireland             </td><td> 16509</td><td>a24670618efd1f89558e0be86e16afc50700852611898da4d7ddbc66d409eb1d</td><td>1436</td><td>5</td><td>102664810</td><td>-5.213518</td><td>51.53925</td></tr>\n",
       "\t<tr><td>Sweden              </td><td> 29518</td><td>422be8a9b4071e260018521141d377b76952ac1c6d458a6f5e02ed32904d12fa</td><td>6844</td><td>1</td><td> 86334178</td><td>55.301411</td><td>58.19664</td></tr>\n",
       "\t<tr><td>United Arab Emirates</td><td> 16509</td><td>b9a646720fe83a1ed251d983345bde7d85c2075cc8485fd50f9df64caaba84de</td><td>  19</td><td>4</td><td> 64328994</td><td>53.699679</td><td>25.45247</td></tr>\n",
       "\t<tr><td>Lithuania           </td><td>212531</td><td>5df19c9f89ba7c5881cf9a7c7683afdde6e39abc0479e14d10b3472d7b31df48</td><td>5707</td><td>4</td><td> 60274453</td><td>21.976099</td><td>55.42198</td></tr>\n",
       "</tbody>\n",
       "</table>\n"
      ],
      "text/latex": [
       "A data.table: 6 x 8\n",
       "\\begin{tabular}{llllllll}\n",
       " country & asn & id & index & subindex & stake & long & lat\\\\\n",
       " <fct> & <int> & <fct> & <dbl> & <int> & <dbl> & <dbl> & <dbl>\\\\\n",
       "\\hline\n",
       "\t China                & 396982 & 289f8b9bb1579bbe7709d77becb701f6483d9e6111a1e743629a749410f68f9e & 1272 & 3 & 105472970 & 75.125622 & 46.11755\\\\\n",
       "\t Ireland              &  16509 & a24670618efd1f89558e0be86e16afc50700852611898da4d7ddbc66d409eb1d & 1376 & 1 & 102664810 & -4.201529 & 52.12471\\\\\n",
       "\t Ireland              &  16509 & a24670618efd1f89558e0be86e16afc50700852611898da4d7ddbc66d409eb1d & 1436 & 5 & 102664810 & -5.213518 & 51.53925\\\\\n",
       "\t Sweden               &  29518 & 422be8a9b4071e260018521141d377b76952ac1c6d458a6f5e02ed32904d12fa & 6844 & 1 &  86334178 & 55.301411 & 58.19664\\\\\n",
       "\t United Arab Emirates &  16509 & b9a646720fe83a1ed251d983345bde7d85c2075cc8485fd50f9df64caaba84de &   19 & 4 &  64328994 & 53.699679 & 25.45247\\\\\n",
       "\t Lithuania            & 212531 & 5df19c9f89ba7c5881cf9a7c7683afdde6e39abc0479e14d10b3472d7b31df48 & 5707 & 4 &  60274453 & 21.976099 & 55.42198\\\\\n",
       "\\end{tabular}\n"
      ],
      "text/markdown": [
       "\n",
       "A data.table: 6 x 8\n",
       "\n",
       "| country &lt;fct&gt; | asn &lt;int&gt; | id &lt;fct&gt; | index &lt;dbl&gt; | subindex &lt;int&gt; | stake &lt;dbl&gt; | long &lt;dbl&gt; | lat &lt;dbl&gt; |\n",
       "|---|---|---|---|---|---|---|---|\n",
       "| China                | 396982 | 289f8b9bb1579bbe7709d77becb701f6483d9e6111a1e743629a749410f68f9e | 1272 | 3 | 105472970 | 75.125622 | 46.11755 |\n",
       "| Ireland              |  16509 | a24670618efd1f89558e0be86e16afc50700852611898da4d7ddbc66d409eb1d | 1376 | 1 | 102664810 | -4.201529 | 52.12471 |\n",
       "| Ireland              |  16509 | a24670618efd1f89558e0be86e16afc50700852611898da4d7ddbc66d409eb1d | 1436 | 5 | 102664810 | -5.213518 | 51.53925 |\n",
       "| Sweden               |  29518 | 422be8a9b4071e260018521141d377b76952ac1c6d458a6f5e02ed32904d12fa | 6844 | 1 |  86334178 | 55.301411 | 58.19664 |\n",
       "| United Arab Emirates |  16509 | b9a646720fe83a1ed251d983345bde7d85c2075cc8485fd50f9df64caaba84de |   19 | 4 |  64328994 | 53.699679 | 25.45247 |\n",
       "| Lithuania            | 212531 | 5df19c9f89ba7c5881cf9a7c7683afdde6e39abc0479e14d10b3472d7b31df48 | 5707 | 4 |  60274453 | 21.976099 | 55.42198 |\n",
       "\n"
      ],
      "text/plain": [
       "  country              asn   \n",
       "1 China                396982\n",
       "2 Ireland               16509\n",
       "3 Ireland               16509\n",
       "4 Sweden                29518\n",
       "5 United Arab Emirates  16509\n",
       "6 Lithuania            212531\n",
       "  id                                                               index\n",
       "1 289f8b9bb1579bbe7709d77becb701f6483d9e6111a1e743629a749410f68f9e 1272 \n",
       "2 a24670618efd1f89558e0be86e16afc50700852611898da4d7ddbc66d409eb1d 1376 \n",
       "3 a24670618efd1f89558e0be86e16afc50700852611898da4d7ddbc66d409eb1d 1436 \n",
       "4 422be8a9b4071e260018521141d377b76952ac1c6d458a6f5e02ed32904d12fa 6844 \n",
       "5 b9a646720fe83a1ed251d983345bde7d85c2075cc8485fd50f9df64caaba84de   19 \n",
       "6 5df19c9f89ba7c5881cf9a7c7683afdde6e39abc0479e14d10b3472d7b31df48 5707 \n",
       "  subindex stake     long      lat     \n",
       "1 3        105472970 75.125622 46.11755\n",
       "2 1        102664810 -4.201529 52.12471\n",
       "3 5        102664810 -5.213518 51.53925\n",
       "4 1         86334178 55.301411 58.19664\n",
       "5 4         64328994 53.699679 25.45247\n",
       "6 4         60274453 21.976099 55.42198"
      ]
     },
     "metadata": {},
     "output_type": "display_data"
    }
   ],
   "source": [
    "nodes <- nodeStakes[\n",
    "    countryBoundingBoxes[, .(`country`, `longmin`, `longmax`, `latmin`, `latmax`, `wrapped`=`Wrapped`==\"WRAPPED\")], \n",
    "    on=\"country\",\n",
    "    nomatch=0\n",
    "][,\n",
    "  .(`index`=.I-1, `country`, `asn`, `id`, `stake`=fcoalesce(`stake`, 0), `long`=mapply(rlong, `longmin`, `longmax`, `wrapped`), `lat`=mapply(rlat, `latmin`, `latmax`))\n",
    "][,\n",
    "  .(`index`, `subindex`=1:.N, `stake`, `long`, `lat`),\n",
    "  .(`country`, `asn`, `id`)\n",
    "][\n",
    "    order(-`stake`)\n",
    "]\n",
    "nodes %>% head"
   ]
  },
  {
   "cell_type": "markdown",
   "id": "06c8b1db-5b01-4cb5-b99e-270e1c441666",
   "metadata": {},
   "source": [
    "## Create edges"
   ]
  },
  {
   "cell_type": "markdown",
   "id": "96f4da0d-484c-49ca-a650-131ea2cf21b3",
   "metadata": {},
   "source": [
    "### Examine summary statistics for edge connectivity"
   ]
  },
  {
   "cell_type": "code",
   "execution_count": 27,
   "id": "126dd6ed-bd69-4991-a2ca-e3d88bb361ad",
   "metadata": {
    "tags": []
   },
   "outputs": [
    {
     "data": {
      "text/plain": [
       "   Min. 1st Qu.  Median    Mean 3rd Qu.    Max. \n",
       "   1.00   31.00   36.00   34.46   40.00   67.00 "
      ]
     },
     "metadata": {},
     "output_type": "display_data"
    }
   ],
   "source": [
    "ptEdges[, .(`degree`=.N), .(`source`)][, `degree`] %>% summary"
   ]
  },
  {
   "cell_type": "code",
   "execution_count": 28,
   "id": "a54deb46-dc08-4d3f-85b3-73856321704d",
   "metadata": {
    "tags": []
   },
   "outputs": [
    {
     "data": {
      "image/png": "[encoded data removed]",
      "text/plain": [
       "plot without title"
      ]
     },
     "metadata": {
      "image/png": {
       "height": 420,
       "width": 420
      }
     },
     "output_type": "display_data"
    }
   ],
   "source": [
    "ggplot(\n",
    "    ptEdges[, .(`degree`=.N), .(`source`)],\n",
    "    aes(x=`degree`)\n",
    ") +\n",
    "    geom_histogram(binwidth=1)"
   ]
  },
  {
   "cell_type": "markdown",
   "id": "d54b63ea-099e-48e1-ba44-e785798ad350",
   "metadata": {},
   "source": [
    "### Connect the empirically observed edges"
   ]
  },
  {
   "cell_type": "code",
   "execution_count": 114,
   "id": "4ed72760-6749-43c0-ac61-6f51d2a605d3",
   "metadata": {
    "tags": []
   },
   "outputs": [
    {
     "data": {
      "text/html": [
       "<style>\n",
       ".list-inline {list-style: none; margin:0; padding: 0}\n",
       ".list-inline>li {display: inline-block}\n",
       ".list-inline>li:not(:last-child)::after {content: \"\\00b7\"; padding: 0 .5ex}\n",
       "</style>\n",
       "<ol class=list-inline><li>173962</li><li>4</li></ol>\n"
      ],
      "text/latex": [
       "\\begin{enumerate*}\n",
       "\\item 173962\n",
       "\\item 4\n",
       "\\end{enumerate*}\n"
      ],
      "text/markdown": [
       "1. 173962\n",
       "2. 4\n",
       "\n",
       "\n"
      ],
      "text/plain": [
       "[1] 173962      4"
      ]
     },
     "metadata": {},
     "output_type": "display_data"
    }
   ],
   "source": [
    "edges <- nodes[, .(`tindex`=`index`, `tasn`=`asn`, `subindex`, `target`=`id`)][\n",
    "    nodes[, .(`sindex`=`index`, `sasn`=`asn`, `subindex`, `source`=`id`)][\n",
    "        ptEdges, on=\"source\", allow.cartesian=TRUE\n",
    "    ], \n",
    "    on=c(\"target\", \"subindex\"),\n",
    "    nomatch=0\n",
    "][,\n",
    "  .(`source_index`=`sindex`, `source_asn`=`sasn`, `target_index`=`tindex`, `target_asn`=`tasn`)\n",
    "]\n",
    "edges %>% dim"
   ]
  },
  {
   "cell_type": "markdown",
   "id": "965cbaaf-c21f-477c-80bb-4a92edc7d37c",
   "metadata": {},
   "source": [
    "### Ensure that each node connects to at least two other relay-like nodes in its ASN"
   ]
  },
  {
   "cell_type": "code",
   "execution_count": 115,
   "id": "3d5d4ae0-f7e7-4ce9-b682-d656fdec2d7f",
   "metadata": {
    "tags": []
   },
   "outputs": [],
   "source": [
    "edges <- rbind(\n",
    "    edges,\n",
    "    nodes[, .(`tindex`=`index`, `asn`)][\n",
    "        nodes[, .(`sindex`=`index`, `asn`)], \n",
    "        on=\"asn\", \n",
    "        allow.cartesian=TRUE\n",
    "    ][\n",
    "        `tindex` != `sindex`,\n",
    "        .(`tindex`, `asn`, `copy`=1:.N),\n",
    "        .(`sindex`)\n",
    "    ][\n",
    "        `copy` <= 3,\n",
    "        .(`source_index`=`sindex`, `source_asn`=`asn`, `target_index`=`tindex`, `target_asn`=`asn`)\n",
    "    ]\n",
    ")"
   ]
  },
  {
   "cell_type": "markdown",
   "id": "5f3f4934-7114-45ce-8a03-4dcbf4e55e7b",
   "metadata": {},
   "source": [
    "### Ensure that each node connects to at least one other node"
   ]
  },
  {
   "cell_type": "code",
   "execution_count": 116,
   "id": "dfdba9e6-6059-4d7f-b254-826d8913cf3d",
   "metadata": {
    "tags": []
   },
   "outputs": [
    {
     "data": {
      "text/html": [
       "1"
      ],
      "text/latex": [
       "1"
      ],
      "text/markdown": [
       "1"
      ],
      "text/plain": [
       "[1] 1"
      ]
     },
     "metadata": {},
     "output_type": "display_data"
    }
   ],
   "source": [
    "disconnected <- nodes[!(`index` %in% edges[, unique(`source_index`)]), .(`source_index`=`index`, `source_asn`=`asn`)]\n",
    "disconnected %>% nrow"
   ]
  },
  {
   "cell_type": "code",
   "execution_count": 117,
   "id": "fb67a5b2-8cca-4f88-b04e-92b6bcb02f5f",
   "metadata": {
    "tags": []
   },
   "outputs": [],
   "source": [
    "redges <- function(missings) {\n",
    "    nodes[\n",
    "        missings[, .(`source_index`, `source_asn`, `target_index`=round(runif(.N, 1, nodeCount)))], \n",
    "        on=c(\"index\" = \"target_index\")\n",
    "    ][,\n",
    "        .(`source_index`, `source_asn`, `target_index`=`index`, `target_asn`=`asn`)\n",
    "    ]\n",
    "}"
   ]
  },
  {
   "cell_type": "code",
   "execution_count": 118,
   "id": "5c97908b-5f0e-423b-ab65-90d86035e9c6",
   "metadata": {
    "tags": []
   },
   "outputs": [],
   "source": [
    "edges <- rbind(edges, redges(disconnected))"
   ]
  },
  {
   "cell_type": "code",
   "execution_count": 119,
   "id": "156cefcd-2d32-43ec-8d89-6e342aaebc0a",
   "metadata": {
    "tags": []
   },
   "outputs": [],
   "source": [
    "poorlyConnected <- function()\n",
    "    edges[, .(`degree`=.N), .(`source_index`, `source_asn`)][`degree` < 20][, .(`source_index`, `source_asn`)]"
   ]
  },
  {
   "cell_type": "code",
   "execution_count": 120,
   "id": "050fa531-41a8-4a80-a15e-30bf17a768eb",
   "metadata": {
    "tags": []
   },
   "outputs": [
    {
     "data": {
      "text/html": [
       "0"
      ],
      "text/latex": [
       "0"
      ],
      "text/markdown": [
       "0"
      ],
      "text/plain": [
       "[1] 0"
      ]
     },
     "metadata": {},
     "output_type": "display_data"
    }
   ],
   "source": [
    "for (i in 1:20) {\n",
    "    deficient <- poorlyConnected()\n",
    "    edges <- rbind(edges, redges(deficient))\n",
    "}\n",
    "poorlyConnected() %>% nrow"
   ]
  },
  {
   "cell_type": "code",
   "execution_count": 121,
   "id": "5ce755a8-12b4-451d-b94a-eed525f3e1d6",
   "metadata": {
    "tags": []
   },
   "outputs": [
    {
     "data": {
      "image/png": "[encoded data removed]",
      "text/plain": [
       "plot without title"
      ]
     },
     "metadata": {
      "image/png": {
       "height": 420,
       "width": 420
      }
     },
     "output_type": "display_data"
    }
   ],
   "source": [
    "ggplot(\n",
    "    edges[, .(`degree`=.N), .(`source_index`)],\n",
    "    aes(x=`degree`)\n",
    ") +\n",
    "    geom_histogram(binwidth=1)"
   ]
  },
  {
   "cell_type": "markdown",
   "id": "d2739489-6f02-4806-9861-66e2e1605fb3",
   "metadata": {},
   "source": [
    "We could smear the spike out, but the recommended node configuration suggests 20 active peers."
   ]
  },
  {
   "cell_type": "markdown",
   "id": "2401b3cc-e207-4fc1-be80-f3224c792927",
   "metadata": {},
   "source": [
    "### Repeat in the reverse direction"
   ]
  },
  {
   "cell_type": "markdown",
   "id": "013ae30e-c4ce-4794-a049-ab927f468f3c",
   "metadata": {},
   "source": [
    "#### Ensure that each node connects to at least one other node"
   ]
  },
  {
   "cell_type": "code",
   "execution_count": 122,
   "id": "261a2780-e682-4b4a-baf2-b06422c06488",
   "metadata": {
    "tags": []
   },
   "outputs": [
    {
     "data": {
      "text/html": [
       "2"
      ],
      "text/latex": [
       "2"
      ],
      "text/markdown": [
       "2"
      ],
      "text/plain": [
       "[1] 2"
      ]
     },
     "metadata": {},
     "output_type": "display_data"
    }
   ],
   "source": [
    "disconnected <- nodes[!(`index` %in% edges[, unique(`target_index`)]), .(`target_index`=`index`, `target_asn`=`asn`)]\n",
    "disconnected %>% nrow"
   ]
  },
  {
   "cell_type": "code",
   "execution_count": 123,
   "id": "e524ec0b-02c0-4d99-ab88-8348c67c1872",
   "metadata": {
    "tags": []
   },
   "outputs": [],
   "source": [
    "redgesReverse <- function(missings) {\n",
    "    nodes[\n",
    "        missings[, .(`target_index`, `target_asn`, `source_index`=round(runif(.N, 1, nodeCount)))], \n",
    "        on=c(\"index\" = \"source_index\")\n",
    "    ][,\n",
    "        .(`source_index`=`index`, `source_asn`=`asn`, `target_index`, `target_asn`)\n",
    "    ]\n",
    "}"
   ]
  },
  {
   "cell_type": "code",
   "execution_count": 124,
   "id": "a3fbccfe-5d59-4668-94dc-d38630391a64",
   "metadata": {
    "tags": []
   },
   "outputs": [],
   "source": [
    "edges <- rbind(edges, redgesReverse(disconnected))"
   ]
  },
  {
   "cell_type": "code",
   "execution_count": 125,
   "id": "ebd78e5a-4811-4fc7-8796-926d0bae90ec",
   "metadata": {
    "tags": []
   },
   "outputs": [],
   "source": [
    "poorlyConnectedReverse <- function()\n",
    "    edges[, .(`degree`=.N), .(`target_index`, `target_asn`)][`degree` < 20][, .(`target_index`, `target_asn`)]"
   ]
  },
  {
   "cell_type": "code",
   "execution_count": 126,
   "id": "ab219ee8-8a12-451c-b9f4-3bc9311e547d",
   "metadata": {
    "tags": []
   },
   "outputs": [
    {
     "data": {
      "text/html": [
       "0"
      ],
      "text/latex": [
       "0"
      ],
      "text/markdown": [
       "0"
      ],
      "text/plain": [
       "[1] 0"
      ]
     },
     "metadata": {},
     "output_type": "display_data"
    }
   ],
   "source": [
    "for (i in 1:20) {\n",
    "    deficient <- poorlyConnectedReverse()\n",
    "    edges <- rbind(edges, redgesReverse(deficient))\n",
    "}\n",
    "poorlyConnectedReverse() %>% nrow"
   ]
  },
  {
   "cell_type": "markdown",
   "id": "23e4e45b-78c7-494c-8fae-e10bad872136",
   "metadata": {},
   "source": [
    "### Give every node five more random peers"
   ]
  },
  {
   "cell_type": "code",
   "execution_count": 127,
   "id": "226c430e-7dee-4a11-86a4-dd8555979d60",
   "metadata": {
    "tags": []
   },
   "outputs": [],
   "source": [
    "for (i in 1:5) {\n",
    "    edges <- rbind(\n",
    "        edges, \n",
    "        redges(\n",
    "            nodes[\n",
    "                sample(1 * nodeCount, nodeCount, replace=TRUE),\n",
    "                .(`source_index`=`index`, `source_asn`=`asn`)\n",
    "            ]\n",
    "        )\n",
    "    )\n",
    "}"
   ]
  },
  {
   "cell_type": "code",
   "execution_count": 128,
   "id": "2911304b-2df1-46a0-8564-42b8afa88ad2",
   "metadata": {
    "tags": []
   },
   "outputs": [
    {
     "data": {
      "image/png": "[encoded data removed]",
      "text/plain": [
       "plot without title"
      ]
     },
     "metadata": {
      "image/png": {
       "height": 420,
       "width": 420
      }
     },
     "output_type": "display_data"
    }
   ],
   "source": [
    "ggplot(\n",
    "    edges[, .(`degree`=.N), .(`source_index`)],\n",
    "    aes(x=`degree`)\n",
    ") +\n",
    "    geom_histogram(binwidth=1)"
   ]
  },
  {
   "cell_type": "markdown",
   "id": "2f19539d-59bd-4900-a200-f5ece8340975",
   "metadata": {},
   "source": [
    "### Check that the graph is connected"
   ]
  },
  {
   "cell_type": "code",
   "execution_count": 172,
   "id": "0a846a78-d05b-475d-95ed-fac18410792f",
   "metadata": {},
   "outputs": [],
   "source": [
    "g <- graph_from_data_frame(edges[, .(`source_index`, `target_index`)])"
   ]
  },
  {
   "cell_type": "code",
   "execution_count": 173,
   "id": "32f2bcfe-a238-4e6d-83a7-798eeb76e6ae",
   "metadata": {
    "tags": []
   },
   "outputs": [
    {
     "data": {
      "text/html": [
       "TRUE"
      ],
      "text/latex": [
       "TRUE"
      ],
      "text/markdown": [
       "TRUE"
      ],
      "text/plain": [
       "[1] TRUE"
      ]
     },
     "metadata": {},
     "output_type": "display_data"
    }
   ],
   "source": [
    "is.connected(g, mode=\"strong\")"
   ]
  },
  {
   "cell_type": "code",
   "execution_count": 175,
   "id": "195b6a3c-8ab3-4060-9911-d26898a02ba9",
   "metadata": {},
   "outputs": [],
   "source": [
    "g <- graph_from_data_frame(edges[, .(`target_index`, `source_index`)])"
   ]
  },
  {
   "cell_type": "code",
   "execution_count": 176,
   "id": "5f53f737-1207-4a24-87b0-0c2b78c02da4",
   "metadata": {
    "tags": []
   },
   "outputs": [
    {
     "data": {
      "text/html": [
       "TRUE"
      ],
      "text/latex": [
       "TRUE"
      ],
      "text/markdown": [
       "TRUE"
      ],
      "text/plain": [
       "[1] TRUE"
      ]
     },
     "metadata": {},
     "output_type": "display_data"
    }
   ],
   "source": [
    "is.connected(g, mode=\"strong\")"
   ]
  },
  {
   "cell_type": "markdown",
   "id": "d2c21247-7ef7-475a-a1d6-09fb320f43e3",
   "metadata": {},
   "source": [
    "## Assign latencies"
   ]
  },
  {
   "cell_type": "markdown",
   "id": "72cd408e-4339-4413-93b9-ff2397933e53",
   "metadata": {},
   "source": [
    "### Assign as many latencies as possible at the ASN to ASN level"
   ]
  },
  {
   "cell_type": "code",
   "execution_count": 147,
   "id": "c62e7f58-4c8b-44ad-95e8-65852bdba3e8",
   "metadata": {
    "tags": []
   },
   "outputs": [],
   "source": [
    "rrtt <- function(rtt_min, rtt_max, rtt_avg, rtt_std) {\n",
    "    if (is.na(rtt_std))\n",
    "        rtt_avg / 2\n",
    "    else\n",
    "        max(rtt_min, min(rtt_max, rnorm(1, rtt_avg, rtt_std))) / 2\n",
    "}"
   ]
  },
  {
   "cell_type": "code",
   "execution_count": 148,
   "id": "27fff747-277e-4332-b27f-4a5fba352bfd",
   "metadata": {
    "tags": []
   },
   "outputs": [
    {
     "data": {
      "text/plain": [
       "  source_index   target_index       rtt         \n",
       " Min.   :   0   Min.   :   0   Min.   :  0.000  \n",
       " 1st Qu.:2257   1st Qu.:2355   1st Qu.:  2.831  \n",
       " Median :3789   Median :3796   Median : 10.325  \n",
       " Mean   :4337   Mean   :4306   Mean   : 29.551  \n",
       " 3rd Qu.:6610   3rd Qu.:6341   3rd Qu.: 48.272  \n",
       " Max.   :9996   Max.   :9996   Max.   :500.000  "
      ]
     },
     "metadata": {},
     "output_type": "display_data"
    }
   ],
   "source": [
    "latencies <- rbind(\n",
    "    asn_rtt_stat[edges, on=c(\"asn1\" = \"source_asn\", \"asn2\" = \"target_asn\"), nomatch=0],\n",
    "    asn_rtt_stat[edges, on=c(\"asn2\" = \"source_asn\", \"asn1\" = \"target_asn\"), nomatch=0]\n",
    ")[,\n",
    "    .(\n",
    "        `rtt`=mapply(rrtt, `rtt_min`, min(`rtt_max`, 1000), min(`rtt_avg`, 1000), `rtt_std`)\n",
    "    ),\n",
    "    .(\n",
    "        `source_index`,\n",
    "        `target_index`\n",
    "    )\n",
    "]\n",
    "latencies %>% summary"
   ]
  },
  {
   "cell_type": "markdown",
   "id": "e307efdf-f3ac-476a-9962-140a7e243c21",
   "metadata": {},
   "source": [
    "### Assign intra ASN latencies for edges that don't yet have latencies"
   ]
  },
  {
   "cell_type": "code",
   "execution_count": 152,
   "id": "c7d1448f-d7cf-49b3-9e36-fb54a52400cd",
   "metadata": {
    "tags": []
   },
   "outputs": [
    {
     "data": {
      "text/plain": [
       "  source_index   target_index       rtt         \n",
       " Min.   :   0   Min.   :   0   Min.   :  0.000  \n",
       " 1st Qu.:2292   1st Qu.:2317   1st Qu.:  2.846  \n",
       " Median :3967   Median :3836   Median : 11.666  \n",
       " Mean   :4475   Mean   :4399   Mean   : 31.485  \n",
       " 3rd Qu.:6846   3rd Qu.:6614   3rd Qu.: 52.221  \n",
       " Max.   :9999   Max.   :9999   Max.   :500.000  "
      ]
     },
     "metadata": {},
     "output_type": "display_data"
    }
   ],
   "source": [
    "latencies <- rbind(\n",
    "    latencies,\n",
    "    latencies[edges, on=.NATURAL][\n",
    "        is.na(`rtt`) & `source_asn` == `target_asn`,\n",
    "        .(`rtt`=rrtt(max(intra_rtt_stat$rtt_min, 2), intra_rtt_stat$rtt_max, intra_rtt_stat$rtt_avg, intra_rtt_stat$rtt_std)),\n",
    "        .(`source_index`, `target_index`)\n",
    "    ]\n",
    ")\n",
    "latencies %>% summary"
   ]
  },
  {
   "cell_type": "markdown",
   "id": "82bf3885-1dcd-44d6-9a9d-dff088bedff9",
   "metadata": {},
   "source": [
    "### Assign remaining latencies"
   ]
  },
  {
   "cell_type": "code",
   "execution_count": 181,
   "id": "a8c0a6d6-183c-4576-9077-328c55a42a0a",
   "metadata": {
    "tags": []
   },
   "outputs": [
    {
     "name": "stdout",
     "output_type": "stream",
     "text": [
      "IGRAPH d2c5462 DN-- 10000 189789 -- \n",
      "+ attr: name (v/c), rtt (e/n)\n"
     ]
    }
   ],
   "source": [
    "g <- graph_from_data_frame(latencies)\n",
    "g %>% summary"
   ]
  }
 ],
 "metadata": {
  "kernelspec": {
   "display_name": "r-minimal kernel",
   "language": "r",
   "name": "r-minimal"
  },
  "language_info": {
   "codemirror_mode": "r",
   "file_extension": ".r",
   "mimetype": "text/x-r-source",
   "name": "R",
   "pygments_lexer": "r",
   "version": "4.2.2"
  }
 },
 "nbformat": 4,
 "nbformat_minor": 5
}
