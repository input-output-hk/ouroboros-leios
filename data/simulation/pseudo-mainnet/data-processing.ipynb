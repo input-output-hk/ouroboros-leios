{
 "cells": [
  {
   "cell_type": "markdown",
   "id": "c7d1d4b8-32d6-4899-8fdf-f8f45d306411",
   "metadata": {},
   "source": [
    "# Synthesis of a pseudo-mainnet"
   ]
  },
  {
   "cell_type": "markdown",
   "id": "4f3cfe5b-618d-4780-ad4b-8a2247a2975f",
   "metadata": {},
   "source": [
    "## Set up packages"
   ]
  },
  {
   "cell_type": "code",
   "execution_count": 1,
   "id": "62630a48-074a-449e-9d25-e84a285c4f88",
   "metadata": {
    "tags": []
   },
   "outputs": [],
   "source": [
    "suppressMessages({\n",
    "    require(data.table, quietly=TRUE)\n",
    "    require(ggplot2, quietly=TRUE)\n",
    "    require(magrittr, quietly=TRUE)\n",
    "})"
   ]
  },
  {
   "cell_type": "markdown",
   "id": "c105ce0b-8a77-4c8e-afb6-16f893127850",
   "metadata": {},
   "source": [
    "## Read data files"
   ]
  },
  {
   "cell_type": "code",
   "execution_count": 2,
   "id": "106fc8ed-b781-4ebc-b90c-8ff265433748",
   "metadata": {
    "tags": []
   },
   "outputs": [
    {
     "data": {
      "text/plain": [
       "                                                                id      \n",
       " 0049eca4703be755cef74ed20e1815b50b5fa0ceb07c6b822c78355dd12fdaa6:   1  \n",
       " 0078d0f5d825d8946e0809e85fe0f21589294cae912104b3ca9f0e4bb93552c3:   1  \n",
       " 008c441677a37d339c96a2bf2c9aa377e2411a00eb9d4588e3362043f0d7b744:   1  \n",
       " 012200f2a61b1d302998036a06091f074f95125848e9caff9f0d23e392538936:   1  \n",
       " 012c09d9b08f7c26d9076a0aea43ead69de74de251de49c6ba67e40d0613053b:   1  \n",
       " 01567bed7019b7452a243cb66b3e8cc433c2eafe4d7569e49227d61bcfd6d33f:   1  \n",
       " (Other)                                                         :2195  \n",
       "               n2n_version   peer_sharing      asn                   country   \n",
       " NodeToNodeVersionV10:   1   f: 745       Min.   :   209   Germany       :528  \n",
       " NodeToNodeVersionV11:   1   t:1456       1st Qu.: 14061   United States :502  \n",
       " NodeToNodeVersionV13: 869                Median : 20860   Canada        :154  \n",
       " NodeToNodeVersionV14:1330                Mean   : 61266   Japan         :123  \n",
       "                                          3rd Qu.: 51167   United Kingdom:108  \n",
       "                                          Max.   :401116   Finland       : 90  \n",
       "                                          NA's   :64       (Other)       :696  "
      ]
     },
     "metadata": {},
     "output_type": "display_data"
    }
   ],
   "source": [
    "ptNodes <- fread(\"pt_nodes.csv\", stringsAsFactors=TRUE)\n",
    "ptNodes %>% summary"
   ]
  },
  {
   "cell_type": "code",
   "execution_count": 3,
   "id": "58e6a7e7-95e4-401b-80a7-5893139cf393",
   "metadata": {
    "tags": []
   },
   "outputs": [
    {
     "data": {
      "text/plain": [
       "                                                              source     \n",
       " 99f4b029b0864e19334824015c8d05b34c34353ab7fe36e9da91689ceb512b66:   67  \n",
       " 7e0520b4ebf8159bd1e219d49fc847efc9fe54332cc36aa5ac2350020c2a4939:   64  \n",
       " 624d8747537834fe5aa3da126f5647904f2425fb002c72be6fe811fbd671412b:   61  \n",
       " 73a4c479d08b254dab522708a611981c48e8323ae39ab6ad838c30ba3c8c8811:   59  \n",
       " 1b80ab54864c57bf4f1e9646d30edf48e4d98e8d70ecaacac89adb3a48be5726:   57  \n",
       " 4a5c7640e2e4f40870dfe3df1fe942e90f718394bd68de31e5ec9730c5ece414:   57  \n",
       " (Other)                                                         :49569  \n",
       "                                                              target     \n",
       " 99f4b029b0864e19334824015c8d05b34c34353ab7fe36e9da91689ceb512b66:  194  \n",
       " 2d8b0cb5e44c3e746e7e29fb025dcb258aaf4df658f41c11bdc6824a9059fb84:  185  \n",
       " 9b88f53637710f0b577b5cc060e67ceb1fddbee24c18f600b4497829d2e2323f:  181  \n",
       " d651218f17c10c040eb944416864971abd396ff8142bda7e2d97e26a7fc3a987:  177  \n",
       " d0cca0575254a0c01423d9532b4223e4dc467405ca40bd530e4d1befb3c5c222:  168  \n",
       " 450bb4474418bd71728346d338824776690e9a3a1971e0df5885e938ee2d0c1c:  162  \n",
       " (Other)                                                         :48867  "
      ]
     },
     "metadata": {},
     "output_type": "display_data"
    }
   ],
   "source": [
    "ptEdges <- fread(\"pt_edges.csv\", stringsAsFactors=TRUE)\n",
    "ptEdges %>% summary"
   ]
  },
  {
   "cell_type": "code",
   "execution_count": 4,
   "id": "65d2bd28-97dc-429b-984e-1bcbcafa7cf0",
   "metadata": {
    "tags": []
   },
   "outputs": [
    {
     "data": {
      "text/plain": [
       "    epoch_no        country    no_of_pools         stake           \n",
       " Min.   :524   Australia: 1   Min.   :  1.00   Min.   :    120272  \n",
       " 1st Qu.:524   Austria  : 1   1st Qu.:  1.00   1st Qu.:  32641441  \n",
       " Median :524   Belgium  : 1   Median :  5.00   Median :  94785845  \n",
       " Mean   :524   Bolivia  : 1   Mean   : 37.09   Mean   : 616847011  \n",
       " 3rd Qu.:524   Brazil   : 1   3rd Qu.: 23.50   3rd Qu.: 517550850  \n",
       " Max.   :524   Canada   : 1   Max.   :537.00   Max.   :7077609940  \n",
       "               (Other)  :29                                        "
      ]
     },
     "metadata": {},
     "output_type": "display_data"
    }
   ],
   "source": [
    "poolCountries <- fread(\"pool_country.csv\", stringsAsFactors=TRUE)\n",
    "poolCountries %>% summary"
   ]
  },
  {
   "cell_type": "code",
   "execution_count": 5,
   "id": "644ea425-7144-4d27-b647-b5c238322a98",
   "metadata": {
    "tags": []
   },
   "outputs": [
    {
     "data": {
      "text/plain": [
       "        country    ISO3166 country code    longmin              latmin       \n",
       " AT         :  1      :248              Min.   :-179.9850   Min.   :-78.000  \n",
       " AV         :  1   ABW:  1              1st Qu.: -59.9168   1st Qu.: -7.080  \n",
       " Afghanistan:  1   AE :  1              Median :  10.0000   Median : 10.000  \n",
       " Albania    :  1   AT :  1              Mean   :  -0.1206   Mean   :  9.275  \n",
       " Algeria    :  1   ATG:  1              3rd Qu.:  39.6500   3rd Qu.: 32.858  \n",
       " Andorra    :  1   AV :  1              Max.   : 176.1000   Max.   : 62.000  \n",
       " (Other)    :248   BD :  1                                                   \n",
       "    longmax              latmax           Wrapped   \n",
       " Min.   :-174.4170   Min.   :-54.386          :242  \n",
       " 1st Qu.:   0.4457   1st Qu.:  9.544   WRAPPED: 12  \n",
       " Median :  32.5915   Median : 21.000                \n",
       " Mean   :  35.9674   Mean   : 23.508                \n",
       " 3rd Qu.:  75.0000   3rd Qu.: 42.918                \n",
       " Max.   : 180.0000   Max.   : 89.000                \n",
       "                                                    "
      ]
     },
     "metadata": {},
     "output_type": "display_data"
    }
   ],
   "source": [
    "countryBoundingBoxes <- fread(\"country-boundingboxes.csv\", stringsAsFactors=TRUE)\n",
    "countryBoundingBoxes %>% summary"
   ]
  },
  {
   "cell_type": "markdown",
   "id": "096e2327-1c5b-46b4-b692-0f2b43a4e101",
   "metadata": {},
   "source": [
    "## Create ASN-level totals"
   ]
  },
  {
   "cell_type": "markdown",
   "id": "9afe2d8c-05fc-4bd0-b585-dcc11f8284d9",
   "metadata": {
    "tags": []
   },
   "source": [
    "### Compare node countries to pool countries"
   ]
  },
  {
   "cell_type": "markdown",
   "id": "746600ab-be30-4579-9928-fac33db8c32f",
   "metadata": {},
   "source": [
    "All of the pool countries appear in the list of node countries."
   ]
  },
  {
   "cell_type": "code",
   "execution_count": 6,
   "id": "994e1b0e-e429-4685-a8c1-aa8efda5da05",
   "metadata": {
    "tags": []
   },
   "outputs": [
    {
     "data": {
      "text/html": [
       "\n",
       "<details>\n",
       "\t<summary style=display:list-item;cursor:pointer>\n",
       "\t\t<strong>Levels</strong>:\n",
       "\t</summary>\n",
       "\t<style>\n",
       "\t.list-inline {list-style: none; margin:0; padding: 0}\n",
       "\t.list-inline>li {display: inline-block}\n",
       "\t.list-inline>li:not(:last-child)::after {content: \"\\00b7\"; padding: 0 .5ex}\n",
       "\t</style>\n",
       "\t<ol class=list-inline><li>'Australia'</li><li>'Austria'</li><li>'Belgium'</li><li>'Bolivia'</li><li>'Brazil'</li><li>'Canada'</li><li>'China'</li><li>'Finland'</li><li>'France'</li><li>'Germany'</li><li>'Hungary'</li><li>'India'</li><li>'Indonesia'</li><li>'Ireland'</li><li>'Japan'</li><li>'Latvia'</li><li>'Lithuania'</li><li>'Netherlands'</li><li>'New Zealand'</li><li>'Norway'</li><li>'Poland'</li><li>'Romania'</li><li>'Russian Federation'</li><li>'Seychelles'</li><li>'Singapore'</li><li>'South Africa'</li><li>'South Korea'</li><li>'Spain'</li><li>'Sweden'</li><li>'Switzerland'</li><li>'Taiwan'</li><li>'Thailand'</li><li>'United Arab Emirates'</li><li>'United Kingdom'</li><li>'United States'</li></ol>\n",
       "</details>"
      ],
      "text/latex": [
       "\n",
       "\\emph{Levels}: \\begin{enumerate*}\n",
       "\\item 'Australia'\n",
       "\\item 'Austria'\n",
       "\\item 'Belgium'\n",
       "\\item 'Bolivia'\n",
       "\\item 'Brazil'\n",
       "\\item 'Canada'\n",
       "\\item 'China'\n",
       "\\item 'Finland'\n",
       "\\item 'France'\n",
       "\\item 'Germany'\n",
       "\\item 'Hungary'\n",
       "\\item 'India'\n",
       "\\item 'Indonesia'\n",
       "\\item 'Ireland'\n",
       "\\item 'Japan'\n",
       "\\item 'Latvia'\n",
       "\\item 'Lithuania'\n",
       "\\item 'Netherlands'\n",
       "\\item 'New Zealand'\n",
       "\\item 'Norway'\n",
       "\\item 'Poland'\n",
       "\\item 'Romania'\n",
       "\\item 'Russian Federation'\n",
       "\\item 'Seychelles'\n",
       "\\item 'Singapore'\n",
       "\\item 'South Africa'\n",
       "\\item 'South Korea'\n",
       "\\item 'Spain'\n",
       "\\item 'Sweden'\n",
       "\\item 'Switzerland'\n",
       "\\item 'Taiwan'\n",
       "\\item 'Thailand'\n",
       "\\item 'United Arab Emirates'\n",
       "\\item 'United Kingdom'\n",
       "\\item 'United States'\n",
       "\\end{enumerate*}\n"
      ],
      "text/markdown": [
       "\n",
       "**Levels**: 1. 'Australia'\n",
       "2. 'Austria'\n",
       "3. 'Belgium'\n",
       "4. 'Bolivia'\n",
       "5. 'Brazil'\n",
       "6. 'Canada'\n",
       "7. 'China'\n",
       "8. 'Finland'\n",
       "9. 'France'\n",
       "10. 'Germany'\n",
       "11. 'Hungary'\n",
       "12. 'India'\n",
       "13. 'Indonesia'\n",
       "14. 'Ireland'\n",
       "15. 'Japan'\n",
       "16. 'Latvia'\n",
       "17. 'Lithuania'\n",
       "18. 'Netherlands'\n",
       "19. 'New Zealand'\n",
       "20. 'Norway'\n",
       "21. 'Poland'\n",
       "22. 'Romania'\n",
       "23. 'Russian Federation'\n",
       "24. 'Seychelles'\n",
       "25. 'Singapore'\n",
       "26. 'South Africa'\n",
       "27. 'South Korea'\n",
       "28. 'Spain'\n",
       "29. 'Sweden'\n",
       "30. 'Switzerland'\n",
       "31. 'Taiwan'\n",
       "32. 'Thailand'\n",
       "33. 'United Arab Emirates'\n",
       "34. 'United Kingdom'\n",
       "35. 'United States'\n",
       "\n",
       "\n"
      ],
      "text/plain": [
       "factor(0)\n",
       "35 Levels: Australia Austria Belgium Bolivia Brazil Canada China ... United States"
      ]
     },
     "metadata": {},
     "output_type": "display_data"
    }
   ],
   "source": [
    "poolCountries[!(`country` %in% ptNodes$`country`), unique(`country`)]"
   ]
  },
  {
   "cell_type": "markdown",
   "id": "866b6263-ce21-453c-92e1-a2d8ad6c99d7",
   "metadata": {},
   "source": [
    "Twenty-one of the node countries do not appear in the list of pool countries."
   ]
  },
  {
   "cell_type": "code",
   "execution_count": 7,
   "id": "be12a026-9317-44e7-a942-f2a5c3d7b45d",
   "metadata": {
    "tags": []
   },
   "outputs": [
    {
     "data": {
      "text/html": [
       "<style>\n",
       ".list-inline {list-style: none; margin:0; padding: 0}\n",
       ".list-inline>li {display: inline-block}\n",
       ".list-inline>li:not(:last-child)::after {content: \"\\00b7\"; padding: 0 .5ex}\n",
       "</style>\n",
       "<ol class=list-inline><li></li><li>Estonia</li><li>Argentina</li><li>Viet Nam</li><li>Czechia</li><li>Italy</li><li>Portugal</li><li>Slovenia</li><li>Greece</li><li>Denmark</li><li>Chile</li><li>Cayman Islands</li><li>Israel</li><li>Malaysia</li><li>Luxembourg</li><li>New Caledonia</li><li>Iran</li><li>Malta</li><li>Bulgaria</li><li>Mexico</li><li>Peru</li></ol>\n",
       "\n",
       "<details>\n",
       "\t<summary style=display:list-item;cursor:pointer>\n",
       "\t\t<strong>Levels</strong>:\n",
       "\t</summary>\n",
       "\t<style>\n",
       "\t.list-inline {list-style: none; margin:0; padding: 0}\n",
       "\t.list-inline>li {display: inline-block}\n",
       "\t.list-inline>li:not(:last-child)::after {content: \"\\00b7\"; padding: 0 .5ex}\n",
       "\t</style>\n",
       "\t<ol class=list-inline><li>''</li><li>'Argentina'</li><li>'Australia'</li><li>'Austria'</li><li>'Belgium'</li><li>'Bolivia'</li><li>'Brazil'</li><li>'Bulgaria'</li><li>'Canada'</li><li>'Cayman Islands'</li><li>'Chile'</li><li>'China'</li><li>'Czechia'</li><li>'Denmark'</li><li>'Estonia'</li><li>'Finland'</li><li>'France'</li><li>'Germany'</li><li>'Greece'</li><li>'Hungary'</li><li>'India'</li><li>'Indonesia'</li><li>'Iran'</li><li>'Ireland'</li><li>'Israel'</li><li>'Italy'</li><li>'Japan'</li><li>'Latvia'</li><li>'Lithuania'</li><li>'Luxembourg'</li><li>'Malaysia'</li><li>'Malta'</li><li>'Mexico'</li><li>'Netherlands'</li><li>'New Caledonia'</li><li>'New Zealand'</li><li>'Norway'</li><li>'Peru'</li><li>'Poland'</li><li>'Portugal'</li><li>'Romania'</li><li>'Russian Federation'</li><li>'Seychelles'</li><li>'Singapore'</li><li>'Slovenia'</li><li>'South Africa'</li><li>'South Korea'</li><li>'Spain'</li><li>'Sweden'</li><li>'Switzerland'</li><li>'Taiwan'</li><li>'Thailand'</li><li>'United Arab Emirates'</li><li>'United Kingdom'</li><li>'United States'</li><li>'Viet Nam'</li></ol>\n",
       "</details>"
      ],
      "text/latex": [
       "\\begin{enumerate*}\n",
       "\\item \n",
       "\\item Estonia\n",
       "\\item Argentina\n",
       "\\item Viet Nam\n",
       "\\item Czechia\n",
       "\\item Italy\n",
       "\\item Portugal\n",
       "\\item Slovenia\n",
       "\\item Greece\n",
       "\\item Denmark\n",
       "\\item Chile\n",
       "\\item Cayman Islands\n",
       "\\item Israel\n",
       "\\item Malaysia\n",
       "\\item Luxembourg\n",
       "\\item New Caledonia\n",
       "\\item Iran\n",
       "\\item Malta\n",
       "\\item Bulgaria\n",
       "\\item Mexico\n",
       "\\item Peru\n",
       "\\end{enumerate*}\n",
       "\n",
       "\\emph{Levels}: \\begin{enumerate*}\n",
       "\\item ''\n",
       "\\item 'Argentina'\n",
       "\\item 'Australia'\n",
       "\\item 'Austria'\n",
       "\\item 'Belgium'\n",
       "\\item 'Bolivia'\n",
       "\\item 'Brazil'\n",
       "\\item 'Bulgaria'\n",
       "\\item 'Canada'\n",
       "\\item 'Cayman Islands'\n",
       "\\item 'Chile'\n",
       "\\item 'China'\n",
       "\\item 'Czechia'\n",
       "\\item 'Denmark'\n",
       "\\item 'Estonia'\n",
       "\\item 'Finland'\n",
       "\\item 'France'\n",
       "\\item 'Germany'\n",
       "\\item 'Greece'\n",
       "\\item 'Hungary'\n",
       "\\item 'India'\n",
       "\\item 'Indonesia'\n",
       "\\item 'Iran'\n",
       "\\item 'Ireland'\n",
       "\\item 'Israel'\n",
       "\\item 'Italy'\n",
       "\\item 'Japan'\n",
       "\\item 'Latvia'\n",
       "\\item 'Lithuania'\n",
       "\\item 'Luxembourg'\n",
       "\\item 'Malaysia'\n",
       "\\item 'Malta'\n",
       "\\item 'Mexico'\n",
       "\\item 'Netherlands'\n",
       "\\item 'New Caledonia'\n",
       "\\item 'New Zealand'\n",
       "\\item 'Norway'\n",
       "\\item 'Peru'\n",
       "\\item 'Poland'\n",
       "\\item 'Portugal'\n",
       "\\item 'Romania'\n",
       "\\item 'Russian Federation'\n",
       "\\item 'Seychelles'\n",
       "\\item 'Singapore'\n",
       "\\item 'Slovenia'\n",
       "\\item 'South Africa'\n",
       "\\item 'South Korea'\n",
       "\\item 'Spain'\n",
       "\\item 'Sweden'\n",
       "\\item 'Switzerland'\n",
       "\\item 'Taiwan'\n",
       "\\item 'Thailand'\n",
       "\\item 'United Arab Emirates'\n",
       "\\item 'United Kingdom'\n",
       "\\item 'United States'\n",
       "\\item 'Viet Nam'\n",
       "\\end{enumerate*}\n"
      ],
      "text/markdown": [
       "1. \n",
       "2. Estonia\n",
       "3. Argentina\n",
       "4. Viet Nam\n",
       "5. Czechia\n",
       "6. Italy\n",
       "7. Portugal\n",
       "8. Slovenia\n",
       "9. Greece\n",
       "10. Denmark\n",
       "11. Chile\n",
       "12. Cayman Islands\n",
       "13. Israel\n",
       "14. Malaysia\n",
       "15. Luxembourg\n",
       "16. New Caledonia\n",
       "17. Iran\n",
       "18. Malta\n",
       "19. Bulgaria\n",
       "20. Mexico\n",
       "21. Peru\n",
       "\n",
       "\n",
       "\n",
       "**Levels**: 1. ''\n",
       "2. 'Argentina'\n",
       "3. 'Australia'\n",
       "4. 'Austria'\n",
       "5. 'Belgium'\n",
       "6. 'Bolivia'\n",
       "7. 'Brazil'\n",
       "8. 'Bulgaria'\n",
       "9. 'Canada'\n",
       "10. 'Cayman Islands'\n",
       "11. 'Chile'\n",
       "12. 'China'\n",
       "13. 'Czechia'\n",
       "14. 'Denmark'\n",
       "15. 'Estonia'\n",
       "16. 'Finland'\n",
       "17. 'France'\n",
       "18. 'Germany'\n",
       "19. 'Greece'\n",
       "20. 'Hungary'\n",
       "21. 'India'\n",
       "22. 'Indonesia'\n",
       "23. 'Iran'\n",
       "24. 'Ireland'\n",
       "25. 'Israel'\n",
       "26. 'Italy'\n",
       "27. 'Japan'\n",
       "28. 'Latvia'\n",
       "29. 'Lithuania'\n",
       "30. 'Luxembourg'\n",
       "31. 'Malaysia'\n",
       "32. 'Malta'\n",
       "33. 'Mexico'\n",
       "34. 'Netherlands'\n",
       "35. 'New Caledonia'\n",
       "36. 'New Zealand'\n",
       "37. 'Norway'\n",
       "38. 'Peru'\n",
       "39. 'Poland'\n",
       "40. 'Portugal'\n",
       "41. 'Romania'\n",
       "42. 'Russian Federation'\n",
       "43. 'Seychelles'\n",
       "44. 'Singapore'\n",
       "45. 'Slovenia'\n",
       "46. 'South Africa'\n",
       "47. 'South Korea'\n",
       "48. 'Spain'\n",
       "49. 'Sweden'\n",
       "50. 'Switzerland'\n",
       "51. 'Taiwan'\n",
       "52. 'Thailand'\n",
       "53. 'United Arab Emirates'\n",
       "54. 'United Kingdom'\n",
       "55. 'United States'\n",
       "56. 'Viet Nam'\n",
       "\n",
       "\n"
      ],
      "text/plain": [
       " [1]                Estonia        Argentina      Viet Nam       Czechia       \n",
       " [6] Italy          Portugal       Slovenia       Greece         Denmark       \n",
       "[11] Chile          Cayman Islands Israel         Malaysia       Luxembourg    \n",
       "[16] New Caledonia  Iran           Malta          Bulgaria       Mexico        \n",
       "[21] Peru          \n",
       "56 Levels:  Argentina Australia Austria Belgium Bolivia Brazil ... Viet Nam"
      ]
     },
     "metadata": {},
     "output_type": "display_data"
    }
   ],
   "source": [
    "ptNodes[!(`country` %in% poolCountries$`country`), unique(`country`)]"
   ]
  },
  {
   "cell_type": "markdown",
   "id": "bcee352d-5297-40d4-9423-629a12be822d",
   "metadata": {},
   "source": [
    "### Use hot-deck imputation to assign missing nodes to countries and ASNs"
   ]
  },
  {
   "cell_type": "markdown",
   "id": "461053bf-81fe-4733-a900-4c8aab39b061",
   "metadata": {},
   "source": [
    "If the country is missing, then the ASN is also missing."
   ]
  },
  {
   "cell_type": "code",
   "execution_count": 8,
   "id": "6b50a019-6832-425f-b9b5-f5cc1eb0942d",
   "metadata": {
    "tags": []
   },
   "outputs": [
    {
     "data": {
      "text/html": [
       "<table class=\"dataframe\">\n",
       "<caption>A data.table: 2 x 3</caption>\n",
       "<thead>\n",
       "\t<tr><th scope=col>Has Country</th><th scope=col>Has ASN</th><th scope=col>N</th></tr>\n",
       "\t<tr><th scope=col>&lt;lgl&gt;</th><th scope=col>&lt;lgl&gt;</th><th scope=col>&lt;int&gt;</th></tr>\n",
       "</thead>\n",
       "<tbody>\n",
       "\t<tr><td>FALSE</td><td>FALSE</td><td>  64</td></tr>\n",
       "\t<tr><td> TRUE</td><td> TRUE</td><td>2137</td></tr>\n",
       "</tbody>\n",
       "</table>\n"
      ],
      "text/latex": [
       "A data.table: 2 x 3\n",
       "\\begin{tabular}{lll}\n",
       " Has Country & Has ASN & N\\\\\n",
       " <lgl> & <lgl> & <int>\\\\\n",
       "\\hline\n",
       "\t FALSE & FALSE &   64\\\\\n",
       "\t  TRUE &  TRUE & 2137\\\\\n",
       "\\end{tabular}\n"
      ],
      "text/markdown": [
       "\n",
       "A data.table: 2 x 3\n",
       "\n",
       "| Has Country &lt;lgl&gt; | Has ASN &lt;lgl&gt; | N &lt;int&gt; |\n",
       "|---|---|---|\n",
       "| FALSE | FALSE |   64 |\n",
       "|  TRUE |  TRUE | 2137 |\n",
       "\n"
      ],
      "text/plain": [
       "  Has Country Has ASN N   \n",
       "1 FALSE       FALSE     64\n",
       "2  TRUE        TRUE   2137"
      ]
     },
     "metadata": {},
     "output_type": "display_data"
    }
   ],
   "source": [
    "ptNodes[, .N, .(`Has Country`=`country`!=\"\", `Has ASN`=!is.na(`asn`))]"
   ]
  },
  {
   "cell_type": "code",
   "execution_count": 9,
   "id": "7e270cd8-5093-46e5-a417-02eb75cb883f",
   "metadata": {
    "tags": []
   },
   "outputs": [
    {
     "data": {
      "text/html": [
       "<style>\n",
       ".list-inline {list-style: none; margin:0; padding: 0}\n",
       ".list-inline>li {display: inline-block}\n",
       ".list-inline>li:not(:last-child)::after {content: \"\\00b7\"; padding: 0 .5ex}\n",
       "</style>\n",
       "<ol class=list-inline><li>2137</li><li>2</li></ol>\n"
      ],
      "text/latex": [
       "\\begin{enumerate*}\n",
       "\\item 2137\n",
       "\\item 2\n",
       "\\end{enumerate*}\n"
      ],
      "text/markdown": [
       "1. 2137\n",
       "2. 2\n",
       "\n",
       "\n"
      ],
      "text/plain": [
       "[1] 2137    2"
      ]
     },
     "metadata": {},
     "output_type": "display_data"
    }
   ],
   "source": [
    "nonMissing <- ptNodes[`country` != \"\", .(`country`, `asn`)]\n",
    "nonMissing %>% dim"
   ]
  },
  {
   "cell_type": "code",
   "execution_count": 10,
   "id": "1e5163a1-b85a-4f29-938b-77208b6cd7fa",
   "metadata": {
    "tags": []
   },
   "outputs": [
    {
     "data": {
      "text/html": [
       "2137"
      ],
      "text/latex": [
       "2137"
      ],
      "text/markdown": [
       "2137"
      ],
      "text/plain": [
       "[1] 2137"
      ]
     },
     "metadata": {},
     "output_type": "display_data"
    }
   ],
   "source": [
    "nrow(nonMissing)"
   ]
  },
  {
   "cell_type": "code",
   "execution_count": 11,
   "id": "a5447ea7-a7a1-4c41-89fa-96d5e87c01d8",
   "metadata": {
    "tags": []
   },
   "outputs": [],
   "source": [
    "assignments <- sample(1:nrow(nonMissing), ptNodes[`country`==\"\", .N])"
   ]
  },
  {
   "cell_type": "code",
   "execution_count": 12,
   "id": "a8020c95-28f4-418d-a863-bb41f437e913",
   "metadata": {
    "tags": []
   },
   "outputs": [],
   "source": [
    "ptNodes[`country` ==\"\", `:=`(`country`=nonMissing[assignments, `country`], `asn`=nonMissing[assignments, `asn`])]"
   ]
  },
  {
   "cell_type": "markdown",
   "id": "8fa01f60-ecde-4c3f-8297-bf5eeb12465a",
   "metadata": {},
   "source": [
    "### Distribute the stake among the ASNs"
   ]
  },
  {
   "cell_type": "code",
   "execution_count": 13,
   "id": "48a846c5-e010-4523-9cd6-cf3b232fc0d4",
   "metadata": {
    "tags": []
   },
   "outputs": [
    {
     "data": {
      "text/html": [
       "<table class=\"dataframe\">\n",
       "<caption>A data.table: 6 x 4</caption>\n",
       "<thead>\n",
       "\t<tr><th scope=col>country</th><th scope=col>asn</th><th scope=col>no_of_nodes</th><th scope=col>fraction</th></tr>\n",
       "\t<tr><th scope=col>&lt;fct&gt;</th><th scope=col>&lt;int&gt;</th><th scope=col>&lt;int&gt;</th><th scope=col>&lt;dbl&gt;</th></tr>\n",
       "</thead>\n",
       "<tbody>\n",
       "\t<tr><td>United States</td><td> 40021</td><td>85</td><td>0.16601562</td></tr>\n",
       "\t<tr><td>United States</td><td> 14618</td><td>30</td><td>0.05859375</td></tr>\n",
       "\t<tr><td>United States</td><td>396982</td><td>33</td><td>0.06445312</td></tr>\n",
       "\t<tr><td>United States</td><td>  5650</td><td> 8</td><td>0.01562500</td></tr>\n",
       "\t<tr><td>United States</td><td> 16509</td><td>28</td><td>0.05468750</td></tr>\n",
       "\t<tr><td>United States</td><td> 16591</td><td> 8</td><td>0.01562500</td></tr>\n",
       "</tbody>\n",
       "</table>\n"
      ],
      "text/latex": [
       "A data.table: 6 x 4\n",
       "\\begin{tabular}{llll}\n",
       " country & asn & no\\_of\\_nodes & fraction\\\\\n",
       " <fct> & <int> & <int> & <dbl>\\\\\n",
       "\\hline\n",
       "\t United States &  40021 & 85 & 0.16601562\\\\\n",
       "\t United States &  14618 & 30 & 0.05859375\\\\\n",
       "\t United States & 396982 & 33 & 0.06445312\\\\\n",
       "\t United States &   5650 &  8 & 0.01562500\\\\\n",
       "\t United States &  16509 & 28 & 0.05468750\\\\\n",
       "\t United States &  16591 &  8 & 0.01562500\\\\\n",
       "\\end{tabular}\n"
      ],
      "text/markdown": [
       "\n",
       "A data.table: 6 x 4\n",
       "\n",
       "| country &lt;fct&gt; | asn &lt;int&gt; | no_of_nodes &lt;int&gt; | fraction &lt;dbl&gt; |\n",
       "|---|---|---|---|\n",
       "| United States |  40021 | 85 | 0.16601562 |\n",
       "| United States |  14618 | 30 | 0.05859375 |\n",
       "| United States | 396982 | 33 | 0.06445312 |\n",
       "| United States |   5650 |  8 | 0.01562500 |\n",
       "| United States |  16509 | 28 | 0.05468750 |\n",
       "| United States |  16591 |  8 | 0.01562500 |\n",
       "\n"
      ],
      "text/plain": [
       "  country       asn    no_of_nodes fraction  \n",
       "1 United States  40021 85          0.16601562\n",
       "2 United States  14618 30          0.05859375\n",
       "3 United States 396982 33          0.06445312\n",
       "4 United States   5650  8          0.01562500\n",
       "5 United States  16509 28          0.05468750\n",
       "6 United States  16591  8          0.01562500"
      ]
     },
     "metadata": {},
     "output_type": "display_data"
    }
   ],
   "source": [
    "nodeFractions <- ptNodes[, .(`no_of_nodes`=.N), .(`country`, `asn`)][, .(`asn`, `no_of_nodes`, `fraction`=`no_of_nodes`/sum(`no_of_nodes`)), .(`country`)]\n",
    "nodeFractions %>% head"
   ]
  },
  {
   "cell_type": "markdown",
   "id": "223f59ea-5818-4f12-b648-b85b112bb529",
   "metadata": {},
   "source": [
    "Randomly distribute the pools to ASNs according to a multinomial distribution weighted by the number of nodes in the ASN."
   ]
  },
  {
   "cell_type": "code",
   "execution_count": 14,
   "id": "de271d8d-b0e9-44d2-ab60-89f0d55df8fd",
   "metadata": {
    "tags": []
   },
   "outputs": [],
   "source": [
    "rpools <- function(no_of_pools, fractions) {\n",
    "    if (sum(no_of_pools) == 0)\n",
    "        0\n",
    "    else\n",
    "        as.numeric(rmultinom(1, no_of_pools, fractions))\n",
    "}"
   ]
  },
  {
   "cell_type": "markdown",
   "id": "3aaec209-a66b-49bd-9833-e56cee86899d",
   "metadata": {},
   "source": [
    "Distribute the country's stake in proportion to the distribution of pools within the ASN."
   ]
  },
  {
   "cell_type": "code",
   "execution_count": 15,
   "id": "b08b5692-a84d-413b-80e3-a44851502793",
   "metadata": {
    "tags": []
   },
   "outputs": [
    {
     "data": {
      "text/html": [
       "<table class=\"dataframe\">\n",
       "<caption>A data.table: 6 x 5</caption>\n",
       "<thead>\n",
       "\t<tr><th scope=col>country</th><th scope=col>asn</th><th scope=col>no_of_nodes</th><th scope=col>no_of_pools</th><th scope=col>stake</th></tr>\n",
       "\t<tr><th scope=col>&lt;fct&gt;</th><th scope=col>&lt;int&gt;</th><th scope=col>&lt;int&gt;</th><th scope=col>&lt;dbl&gt;</th><th scope=col>&lt;dbl&gt;</th></tr>\n",
       "</thead>\n",
       "<tbody>\n",
       "\t<tr><td>United States</td><td> 40021</td><td>85</td><td>58</td><td>860113288</td></tr>\n",
       "\t<tr><td>United States</td><td> 14618</td><td>30</td><td>20</td><td>296590789</td></tr>\n",
       "\t<tr><td>United States</td><td>396982</td><td>33</td><td>19</td><td>281761250</td></tr>\n",
       "\t<tr><td>United States</td><td>  5650</td><td> 8</td><td> 4</td><td> 59318158</td></tr>\n",
       "\t<tr><td>United States</td><td> 16509</td><td>28</td><td>12</td><td>177954473</td></tr>\n",
       "\t<tr><td>United States</td><td> 16591</td><td> 8</td><td> 7</td><td>103806776</td></tr>\n",
       "</tbody>\n",
       "</table>\n"
      ],
      "text/latex": [
       "A data.table: 6 x 5\n",
       "\\begin{tabular}{lllll}\n",
       " country & asn & no\\_of\\_nodes & no\\_of\\_pools & stake\\\\\n",
       " <fct> & <int> & <int> & <dbl> & <dbl>\\\\\n",
       "\\hline\n",
       "\t United States &  40021 & 85 & 58 & 860113288\\\\\n",
       "\t United States &  14618 & 30 & 20 & 296590789\\\\\n",
       "\t United States & 396982 & 33 & 19 & 281761250\\\\\n",
       "\t United States &   5650 &  8 &  4 &  59318158\\\\\n",
       "\t United States &  16509 & 28 & 12 & 177954473\\\\\n",
       "\t United States &  16591 &  8 &  7 & 103806776\\\\\n",
       "\\end{tabular}\n"
      ],
      "text/markdown": [
       "\n",
       "A data.table: 6 x 5\n",
       "\n",
       "| country &lt;fct&gt; | asn &lt;int&gt; | no_of_nodes &lt;int&gt; | no_of_pools &lt;dbl&gt; | stake &lt;dbl&gt; |\n",
       "|---|---|---|---|---|\n",
       "| United States |  40021 | 85 | 58 | 860113288 |\n",
       "| United States |  14618 | 30 | 20 | 296590789 |\n",
       "| United States | 396982 | 33 | 19 | 281761250 |\n",
       "| United States |   5650 |  8 |  4 |  59318158 |\n",
       "| United States |  16509 | 28 | 12 | 177954473 |\n",
       "| United States |  16591 |  8 |  7 | 103806776 |\n",
       "\n"
      ],
      "text/plain": [
       "  country       asn    no_of_nodes no_of_pools stake    \n",
       "1 United States  40021 85          58          860113288\n",
       "2 United States  14618 30          20          296590789\n",
       "3 United States 396982 33          19          281761250\n",
       "4 United States   5650  8           4           59318158\n",
       "5 United States  16509 28          12          177954473\n",
       "6 United States  16591  8           7          103806776"
      ]
     },
     "metadata": {},
     "output_type": "display_data"
    }
   ],
   "source": [
    "asnPools <- poolCountries[\n",
    "    nodeFractions,\n",
    "    on=\"country\"\n",
    "][\n",
    "    `no_of_pools`>0,\n",
    "    .(`asn`, `no_of_nodes`, `no_of_pools`=rpools(`no_of_pools`, `fraction`), `stake`), \n",
    "    .(`country`)\n",
    "][,\n",
    "  .(`asn`, `no_of_nodes`, `no_of_pools`, `stake`=`stake`*`no_of_pools`/sum(`no_of_pools`)),\n",
    "  .(`country`)\n",
    "]\n",
    "asnPools %>% head"
   ]
  },
  {
   "cell_type": "markdown",
   "id": "e31f29cd-734b-4079-85db-a5311cebec22",
   "metadata": {},
   "source": [
    "Check that the resulting disaggregation matches the original marginal distribution."
   ]
  },
  {
   "cell_type": "code",
   "execution_count": 16,
   "id": "4ac2954d-216b-4a44-a785-cbc0c189603f",
   "metadata": {
    "tags": []
   },
   "outputs": [
    {
     "data": {
      "text/html": [
       "TRUE"
      ],
      "text/latex": [
       "TRUE"
      ],
      "text/markdown": [
       "TRUE"
      ],
      "text/plain": [
       "[1] TRUE"
      ]
     },
     "metadata": {},
     "output_type": "display_data"
    }
   ],
   "source": [
    "(\n",
    "    asnPools[, .(`no_of_pools`=sum(`no_of_pools`), `stake`=round(sum(`stake`))), .(`country`=as.character(`country`))][order(`country`)] == \n",
    "    poolCountries[, .(`no_of_pools`, `stake`), .(`country`=as.character(`country`))][order(`country`)]\n",
    ") %>% all"
   ]
  },
  {
   "cell_type": "markdown",
   "id": "980c7f20-b4b6-4866-bd82-d2ddeb2ff072",
   "metadata": {},
   "source": [
    "## Create nodes"
   ]
  },
  {
   "cell_type": "markdown",
   "id": "5bb5a1f4-90dd-4806-9c4e-551e7a60feff",
   "metadata": {},
   "source": [
    "We want 10,000 nodes."
   ]
  },
  {
   "cell_type": "code",
   "execution_count": 17,
   "id": "3c86606b-f958-4a9f-9bce-d56d1f3379e9",
   "metadata": {
    "tags": []
   },
   "outputs": [],
   "source": [
    "nodeCount <- 10000"
   ]
  },
  {
   "cell_type": "markdown",
   "id": "722cab79-9916-48c1-a3c6-a3bcd13be58c",
   "metadata": {},
   "source": [
    "### Resample to increase the number of nodes"
   ]
  },
  {
   "cell_type": "code",
   "execution_count": 18,
   "id": "de84d4de-7dd1-439c-b1fa-63e305d8fc38",
   "metadata": {
    "tags": []
   },
   "outputs": [],
   "source": [
    "extraNodes <- sample(nrow(ptNodes), nodeCount - nrow(ptNodes), replace=TRUE)"
   ]
  },
  {
   "cell_type": "code",
   "execution_count": 19,
   "id": "d2abea3f-001b-4a45-ab7f-23370385b80f",
   "metadata": {
    "tags": []
   },
   "outputs": [
    {
     "data": {
      "text/html": [
       "<style>\n",
       ".list-inline {list-style: none; margin:0; padding: 0}\n",
       ".list-inline>li {display: inline-block}\n",
       ".list-inline>li:not(:last-child)::after {content: \"\\00b7\"; padding: 0 .5ex}\n",
       "</style>\n",
       "<ol class=list-inline><li>10000</li><li>3</li></ol>\n"
      ],
      "text/latex": [
       "\\begin{enumerate*}\n",
       "\\item 10000\n",
       "\\item 3\n",
       "\\end{enumerate*}\n"
      ],
      "text/markdown": [
       "1. 10000\n",
       "2. 3\n",
       "\n",
       "\n"
      ],
      "text/plain": [
       "[1] 10000     3"
      ]
     },
     "metadata": {},
     "output_type": "display_data"
    }
   ],
   "source": [
    "expandedNodes <- rbind(\n",
    "    ptNodes[, .(`country`, `asn`, `id`)],\n",
    "    ptNodes[extraNodes, .(`country`, `asn`, `id`)]\n",
    ")\n",
    "expandedNodes %>% dim"
   ]
  },
  {
   "cell_type": "markdown",
   "id": "69fd5ac0-c573-4780-a3d3-870138af04e2",
   "metadata": {},
   "source": [
    "### Assign stakepools"
   ]
  },
  {
   "cell_type": "code",
   "execution_count": 20,
   "id": "ef99e3f8-287e-4bb9-9ae3-04938ba0f918",
   "metadata": {
    "tags": []
   },
   "outputs": [
    {
     "data": {
      "text/html": [
       "<table class=\"dataframe\">\n",
       "<caption>A data.table: 6 x 4</caption>\n",
       "<thead>\n",
       "\t<tr><th scope=col>country</th><th scope=col>asn</th><th scope=col>id</th><th scope=col>stake</th></tr>\n",
       "\t<tr><th scope=col>&lt;fct&gt;</th><th scope=col>&lt;int&gt;</th><th scope=col>&lt;fct&gt;</th><th scope=col>&lt;dbl&gt;</th></tr>\n",
       "</thead>\n",
       "<tbody>\n",
       "\t<tr><td>United States</td><td>40021</td><td>21d9843c58f843995ae35cd54c3e7c877ee3c4ee482c1db0f48c292ce53b7d64</td><td>       0</td></tr>\n",
       "\t<tr><td>United States</td><td>40021</td><td>9123433a15e1b1e54898d914ff35be4d2229849744f0af7c7489b97fa86df60c</td><td>14829539</td></tr>\n",
       "\t<tr><td>United States</td><td>40021</td><td>779dca413a0face45a4c9ba1c9d7fe710cbfae2f0eb1dcba8f0a1753488ea12b</td><td>14829539</td></tr>\n",
       "\t<tr><td>United States</td><td>40021</td><td>0636c4ac354bb6337862ba700bbda0230c435ffda8fe4531a9f8f9bb6e19f914</td><td>14829539</td></tr>\n",
       "\t<tr><td>United States</td><td>40021</td><td>681cd3028e5ac87d7ad3e10560057d3bb5266c5533c0f3001e7281e6a6fd7ccd</td><td>       0</td></tr>\n",
       "\t<tr><td>United States</td><td>40021</td><td>3b9f41c6d0a209f6b874d6b2b32f674d83b4a232138c9a134682224a0650b907</td><td>       0</td></tr>\n",
       "</tbody>\n",
       "</table>\n"
      ],
      "text/latex": [
       "A data.table: 6 x 4\n",
       "\\begin{tabular}{llll}\n",
       " country & asn & id & stake\\\\\n",
       " <fct> & <int> & <fct> & <dbl>\\\\\n",
       "\\hline\n",
       "\t United States & 40021 & 21d9843c58f843995ae35cd54c3e7c877ee3c4ee482c1db0f48c292ce53b7d64 &        0\\\\\n",
       "\t United States & 40021 & 9123433a15e1b1e54898d914ff35be4d2229849744f0af7c7489b97fa86df60c & 14829539\\\\\n",
       "\t United States & 40021 & 779dca413a0face45a4c9ba1c9d7fe710cbfae2f0eb1dcba8f0a1753488ea12b & 14829539\\\\\n",
       "\t United States & 40021 & 0636c4ac354bb6337862ba700bbda0230c435ffda8fe4531a9f8f9bb6e19f914 & 14829539\\\\\n",
       "\t United States & 40021 & 681cd3028e5ac87d7ad3e10560057d3bb5266c5533c0f3001e7281e6a6fd7ccd &        0\\\\\n",
       "\t United States & 40021 & 3b9f41c6d0a209f6b874d6b2b32f674d83b4a232138c9a134682224a0650b907 &        0\\\\\n",
       "\\end{tabular}\n"
      ],
      "text/markdown": [
       "\n",
       "A data.table: 6 x 4\n",
       "\n",
       "| country &lt;fct&gt; | asn &lt;int&gt; | id &lt;fct&gt; | stake &lt;dbl&gt; |\n",
       "|---|---|---|---|\n",
       "| United States | 40021 | 21d9843c58f843995ae35cd54c3e7c877ee3c4ee482c1db0f48c292ce53b7d64 |        0 |\n",
       "| United States | 40021 | 9123433a15e1b1e54898d914ff35be4d2229849744f0af7c7489b97fa86df60c | 14829539 |\n",
       "| United States | 40021 | 779dca413a0face45a4c9ba1c9d7fe710cbfae2f0eb1dcba8f0a1753488ea12b | 14829539 |\n",
       "| United States | 40021 | 0636c4ac354bb6337862ba700bbda0230c435ffda8fe4531a9f8f9bb6e19f914 | 14829539 |\n",
       "| United States | 40021 | 681cd3028e5ac87d7ad3e10560057d3bb5266c5533c0f3001e7281e6a6fd7ccd |        0 |\n",
       "| United States | 40021 | 3b9f41c6d0a209f6b874d6b2b32f674d83b4a232138c9a134682224a0650b907 |        0 |\n",
       "\n"
      ],
      "text/plain": [
       "  country       asn  \n",
       "1 United States 40021\n",
       "2 United States 40021\n",
       "3 United States 40021\n",
       "4 United States 40021\n",
       "5 United States 40021\n",
       "6 United States 40021\n",
       "  id                                                               stake   \n",
       "1 21d9843c58f843995ae35cd54c3e7c877ee3c4ee482c1db0f48c292ce53b7d64        0\n",
       "2 9123433a15e1b1e54898d914ff35be4d2229849744f0af7c7489b97fa86df60c 14829539\n",
       "3 779dca413a0face45a4c9ba1c9d7fe710cbfae2f0eb1dcba8f0a1753488ea12b 14829539\n",
       "4 0636c4ac354bb6337862ba700bbda0230c435ffda8fe4531a9f8f9bb6e19f914 14829539\n",
       "5 681cd3028e5ac87d7ad3e10560057d3bb5266c5533c0f3001e7281e6a6fd7ccd        0\n",
       "6 3b9f41c6d0a209f6b874d6b2b32f674d83b4a232138c9a134682224a0650b907        0"
      ]
     },
     "metadata": {},
     "output_type": "display_data"
    }
   ],
   "source": [
    "nodeStakes <- asnPools[\n",
    "    expandedNodes, on=c(\"country\", \"asn\")\n",
    "][, \n",
    "  .(`id`, `no_of_pools`=rpools(fcoalesce(`no_of_pools`, 0), rep(1, .N)), `stake`), \n",
    "  .(`country`, `asn`)\n",
    "][,\n",
    "  .(`id`, `stake`=`stake`*`no_of_pools`/sum(`no_of_pools`)),\n",
    "  .(`country`, `asn`)\n",
    "]\n",
    "nodeStakes %>% head"
   ]
  },
  {
   "cell_type": "markdown",
   "id": "5e100a84-1c7e-4d3f-94dc-897fe9067f7c",
   "metadata": {},
   "source": [
    "Check that no stake is missing."
   ]
  },
  {
   "cell_type": "code",
   "execution_count": 21,
   "id": "e8dde73e-d47e-4273-8b7b-0d109e912d24",
   "metadata": {
    "tags": []
   },
   "outputs": [
    {
     "data": {
      "text/html": [
       "TRUE"
      ],
      "text/latex": [
       "TRUE"
      ],
      "text/markdown": [
       "TRUE"
      ],
      "text/plain": [
       "[1] TRUE"
      ]
     },
     "metadata": {},
     "output_type": "display_data"
    }
   ],
   "source": [
    "asnPools[, sum(`stake`)] == nodeStakes[, sum(`stake`, na.rm=TRUE)]"
   ]
  },
  {
   "cell_type": "markdown",
   "id": "b58dce25-eea7-4ab4-ab2e-d6a8bff90ae3",
   "metadata": {},
   "source": [
    "### Add geographic locations"
   ]
  },
  {
   "cell_type": "markdown",
   "id": "29a7f4b3-7c74-4c75-a020-ad2460a36180",
   "metadata": {},
   "source": [
    "First make sure that the names align."
   ]
  },
  {
   "cell_type": "code",
   "execution_count": 22,
   "id": "fc49c9f6-c253-4b1c-9005-c36893822ab5",
   "metadata": {
    "tags": []
   },
   "outputs": [
    {
     "data": {
      "text/html": [
       "<table class=\"dataframe\">\n",
       "<caption>A data.table: 0 x 4</caption>\n",
       "<thead>\n",
       "\t<tr><th scope=col>country</th><th scope=col>asn</th><th scope=col>id</th><th scope=col>stake</th></tr>\n",
       "\t<tr><th scope=col>&lt;fct&gt;</th><th scope=col>&lt;int&gt;</th><th scope=col>&lt;fct&gt;</th><th scope=col>&lt;dbl&gt;</th></tr>\n",
       "</thead>\n",
       "<tbody>\n",
       "</tbody>\n",
       "</table>\n"
      ],
      "text/latex": [
       "A data.table: 0 x 4\n",
       "\\begin{tabular}{llll}\n",
       " country & asn & id & stake\\\\\n",
       " <fct> & <int> & <fct> & <dbl>\\\\\n",
       "\\hline\n",
       "\\end{tabular}\n"
      ],
      "text/markdown": [
       "\n",
       "A data.table: 0 x 4\n",
       "\n",
       "| country &lt;fct&gt; | asn &lt;int&gt; | id &lt;fct&gt; | stake &lt;dbl&gt; |\n",
       "|---|---|---|---|\n",
       "\n"
      ],
      "text/plain": [
       "     country asn id stake"
      ]
     },
     "metadata": {},
     "output_type": "display_data"
    }
   ],
   "source": [
    "nodeStakes[!(`country` %in% countryBoundingBoxes$`country`)]"
   ]
  },
  {
   "cell_type": "code",
   "execution_count": 23,
   "id": "50901349-f49e-4577-82fb-6a7e8a9fec34",
   "metadata": {
    "tags": []
   },
   "outputs": [],
   "source": [
    "rlong <- function(longmin, longmax, wrapped) {\n",
    "    if (wrapped)\n",
    "        (runif(1, longmax, 360 + longmin) + 180) %% 360 - 180\n",
    "    else\n",
    "        runif(1, longmin, longmax)\n",
    "}"
   ]
  },
  {
   "cell_type": "code",
   "execution_count": 24,
   "id": "184e1b00-2df5-40f0-9039-3865d6ab0b09",
   "metadata": {
    "tags": []
   },
   "outputs": [],
   "source": [
    "rlat <- function(latmin, latmax) {\n",
    "    runif(1, latmin, latmax)\n",
    "}"
   ]
  },
  {
   "cell_type": "code",
   "execution_count": 41,
   "id": "bc40f4d1-75eb-48f8-a7d1-9256a95b25b5",
   "metadata": {
    "tags": []
   },
   "outputs": [
    {
     "data": {
      "text/html": [
       "<table class=\"dataframe\">\n",
       "<caption>A data.table: 6 x 8</caption>\n",
       "<thead>\n",
       "\t<tr><th scope=col>country</th><th scope=col>asn</th><th scope=col>id</th><th scope=col>index</th><th scope=col>subindex</th><th scope=col>stake</th><th scope=col>long</th><th scope=col>lat</th></tr>\n",
       "\t<tr><th scope=col>&lt;fct&gt;</th><th scope=col>&lt;int&gt;</th><th scope=col>&lt;fct&gt;</th><th scope=col>&lt;dbl&gt;</th><th scope=col>&lt;int&gt;</th><th scope=col>&lt;dbl&gt;</th><th scope=col>&lt;dbl&gt;</th><th scope=col>&lt;dbl&gt;</th></tr>\n",
       "</thead>\n",
       "<tbody>\n",
       "\t<tr><td>Germany             </td><td>8075</td><td>48cc3a4c53f694e0552755e105a3e50174fe9c08b5d3f112c3a85a73b3f29e33</td><td>   0</td><td>1</td><td>65899534</td><td>13.266759</td><td>53.97530</td></tr>\n",
       "\t<tr><td>Germany             </td><td>8075</td><td>48cc3a4c53f694e0552755e105a3e50174fe9c08b5d3f112c3a85a73b3f29e33</td><td>4882</td><td>2</td><td>       0</td><td>14.264436</td><td>47.39808</td></tr>\n",
       "\t<tr><td>Germany             </td><td>8075</td><td>48cc3a4c53f694e0552755e105a3e50174fe9c08b5d3f112c3a85a73b3f29e33</td><td>4884</td><td>3</td><td>       0</td><td>13.607772</td><td>54.19890</td></tr>\n",
       "\t<tr><td>Germany             </td><td>8075</td><td>48cc3a4c53f694e0552755e105a3e50174fe9c08b5d3f112c3a85a73b3f29e33</td><td>4885</td><td>4</td><td>       0</td><td> 6.148825</td><td>52.92820</td></tr>\n",
       "\t<tr><td>United Arab Emirates</td><td>5384</td><td>2d1e3da946a3bce69f2851bfec4dbea55a00986185badcae4b037f877071bf25</td><td>   1</td><td>1</td><td>64328994</td><td>48.361125</td><td>23.29085</td></tr>\n",
       "\t<tr><td>United Arab Emirates</td><td>5384</td><td>2d1e3da946a3bce69f2851bfec4dbea55a00986185badcae4b037f877071bf25</td><td>1207</td><td>2</td><td>       0</td><td>45.004244</td><td>25.06193</td></tr>\n",
       "</tbody>\n",
       "</table>\n"
      ],
      "text/latex": [
       "A data.table: 6 x 8\n",
       "\\begin{tabular}{llllllll}\n",
       " country & asn & id & index & subindex & stake & long & lat\\\\\n",
       " <fct> & <int> & <fct> & <dbl> & <int> & <dbl> & <dbl> & <dbl>\\\\\n",
       "\\hline\n",
       "\t Germany              & 8075 & 48cc3a4c53f694e0552755e105a3e50174fe9c08b5d3f112c3a85a73b3f29e33 &    0 & 1 & 65899534 & 13.266759 & 53.97530\\\\\n",
       "\t Germany              & 8075 & 48cc3a4c53f694e0552755e105a3e50174fe9c08b5d3f112c3a85a73b3f29e33 & 4882 & 2 &        0 & 14.264436 & 47.39808\\\\\n",
       "\t Germany              & 8075 & 48cc3a4c53f694e0552755e105a3e50174fe9c08b5d3f112c3a85a73b3f29e33 & 4884 & 3 &        0 & 13.607772 & 54.19890\\\\\n",
       "\t Germany              & 8075 & 48cc3a4c53f694e0552755e105a3e50174fe9c08b5d3f112c3a85a73b3f29e33 & 4885 & 4 &        0 &  6.148825 & 52.92820\\\\\n",
       "\t United Arab Emirates & 5384 & 2d1e3da946a3bce69f2851bfec4dbea55a00986185badcae4b037f877071bf25 &    1 & 1 & 64328994 & 48.361125 & 23.29085\\\\\n",
       "\t United Arab Emirates & 5384 & 2d1e3da946a3bce69f2851bfec4dbea55a00986185badcae4b037f877071bf25 & 1207 & 2 &        0 & 45.004244 & 25.06193\\\\\n",
       "\\end{tabular}\n"
      ],
      "text/markdown": [
       "\n",
       "A data.table: 6 x 8\n",
       "\n",
       "| country &lt;fct&gt; | asn &lt;int&gt; | id &lt;fct&gt; | index &lt;dbl&gt; | subindex &lt;int&gt; | stake &lt;dbl&gt; | long &lt;dbl&gt; | lat &lt;dbl&gt; |\n",
       "|---|---|---|---|---|---|---|---|\n",
       "| Germany              | 8075 | 48cc3a4c53f694e0552755e105a3e50174fe9c08b5d3f112c3a85a73b3f29e33 |    0 | 1 | 65899534 | 13.266759 | 53.97530 |\n",
       "| Germany              | 8075 | 48cc3a4c53f694e0552755e105a3e50174fe9c08b5d3f112c3a85a73b3f29e33 | 4882 | 2 |        0 | 14.264436 | 47.39808 |\n",
       "| Germany              | 8075 | 48cc3a4c53f694e0552755e105a3e50174fe9c08b5d3f112c3a85a73b3f29e33 | 4884 | 3 |        0 | 13.607772 | 54.19890 |\n",
       "| Germany              | 8075 | 48cc3a4c53f694e0552755e105a3e50174fe9c08b5d3f112c3a85a73b3f29e33 | 4885 | 4 |        0 |  6.148825 | 52.92820 |\n",
       "| United Arab Emirates | 5384 | 2d1e3da946a3bce69f2851bfec4dbea55a00986185badcae4b037f877071bf25 |    1 | 1 | 64328994 | 48.361125 | 23.29085 |\n",
       "| United Arab Emirates | 5384 | 2d1e3da946a3bce69f2851bfec4dbea55a00986185badcae4b037f877071bf25 | 1207 | 2 |        0 | 45.004244 | 25.06193 |\n",
       "\n"
      ],
      "text/plain": [
       "  country              asn \n",
       "1 Germany              8075\n",
       "2 Germany              8075\n",
       "3 Germany              8075\n",
       "4 Germany              8075\n",
       "5 United Arab Emirates 5384\n",
       "6 United Arab Emirates 5384\n",
       "  id                                                               index\n",
       "1 48cc3a4c53f694e0552755e105a3e50174fe9c08b5d3f112c3a85a73b3f29e33    0 \n",
       "2 48cc3a4c53f694e0552755e105a3e50174fe9c08b5d3f112c3a85a73b3f29e33 4882 \n",
       "3 48cc3a4c53f694e0552755e105a3e50174fe9c08b5d3f112c3a85a73b3f29e33 4884 \n",
       "4 48cc3a4c53f694e0552755e105a3e50174fe9c08b5d3f112c3a85a73b3f29e33 4885 \n",
       "5 2d1e3da946a3bce69f2851bfec4dbea55a00986185badcae4b037f877071bf25    1 \n",
       "6 2d1e3da946a3bce69f2851bfec4dbea55a00986185badcae4b037f877071bf25 1207 \n",
       "  subindex stake    long      lat     \n",
       "1 1        65899534 13.266759 53.97530\n",
       "2 2               0 14.264436 47.39808\n",
       "3 3               0 13.607772 54.19890\n",
       "4 4               0  6.148825 52.92820\n",
       "5 1        64328994 48.361125 23.29085\n",
       "6 2               0 45.004244 25.06193"
      ]
     },
     "metadata": {},
     "output_type": "display_data"
    }
   ],
   "source": [
    "nodes <- nodeStakes[\n",
    "    countryBoundingBoxes[, .(`country`, `longmin`, `longmax`, `latmin`, `latmax`, `wrapped`=`Wrapped`==\"WRAPPED\")], \n",
    "    on=\"country\",\n",
    "    nomatch=0\n",
    "][\n",
    "    order(-`stake`)\n",
    "][,\n",
    "  .(`index`=.I-1, `country`, `asn`, `id`, `stake`=fcoalesce(`stake`, 0), `long`=mapply(rlong, `longmin`, `longmax`, `wrapped`), `lat`=mapply(rlat, `latmin`, `latmax`))\n",
    "][,\n",
    "  .(`index`, `subindex`=1:.N, `stake`, `long`, `lat`),\n",
    "  .(`country`, `asn`, `id`)\n",
    "]\n",
    "nodes %>% head"
   ]
  },
  {
   "cell_type": "markdown",
   "id": "06c8b1db-5b01-4cb5-b99e-270e1c441666",
   "metadata": {},
   "source": [
    "## Create edges"
   ]
  },
  {
   "cell_type": "markdown",
   "id": "96f4da0d-484c-49ca-a650-131ea2cf21b3",
   "metadata": {},
   "source": [
    "### Examine summary statistics for edge connectivity"
   ]
  },
  {
   "cell_type": "code",
   "execution_count": 31,
   "id": "126dd6ed-bd69-4991-a2ca-e3d88bb361ad",
   "metadata": {
    "tags": []
   },
   "outputs": [
    {
     "data": {
      "text/plain": [
       "   Min. 1st Qu.  Median    Mean 3rd Qu.    Max. \n",
       "   1.00   31.00   36.00   34.46   40.00   67.00 "
      ]
     },
     "metadata": {},
     "output_type": "display_data"
    }
   ],
   "source": [
    "ptEdges[, .(`degree`=.N), .(`source`)][, `degree`] %>% summary"
   ]
  },
  {
   "cell_type": "code",
   "execution_count": 28,
   "id": "a54deb46-dc08-4d3f-85b3-73856321704d",
   "metadata": {
    "tags": []
   },
   "outputs": [
    {
     "data": {
      "image/png": "[encoded data removed]",
      "text/plain": [
       "plot without title"
      ]
     },
     "metadata": {
      "image/png": {
       "height": 420,
       "width": 420
      }
     },
     "output_type": "display_data"
    }
   ],
   "source": [
    "ggplot(\n",
    "    ptEdges[, .(`degree`=.N), .(`source`)],\n",
    "    aes(x=`degree`)\n",
    ") +\n",
    "    geom_histogram(binwidth=1)"
   ]
  },
  {
   "cell_type": "markdown",
   "id": "d54b63ea-099e-48e1-ba44-e785798ad350",
   "metadata": {},
   "source": [
    "### Connect the empirically observed edges"
   ]
  },
  {
   "cell_type": "code",
   "execution_count": null,
   "id": "fcbf5a61-f1ac-4fd6-8163-4370a6012ed0",
   "metadata": {},
   "outputs": [],
   "source": []
  }
 ],
 "metadata": {
  "kernelspec": {
   "display_name": "r-minimal kernel",
   "language": "r",
   "name": "r-minimal"
  },
  "language_info": {
   "codemirror_mode": "r",
   "file_extension": ".r",
   "mimetype": "text/x-r-source",
   "name": "R",
   "pygments_lexer": "r",
   "version": "4.2.2"
  }
 },
 "nbformat": 4,
 "nbformat_minor": 5
}
