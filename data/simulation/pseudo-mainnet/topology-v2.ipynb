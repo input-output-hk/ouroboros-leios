{
 "cells": [
  {
   "cell_type": "markdown",
   "id": "c7d1d4b8-32d6-4899-8fdf-f8f45d306411",
   "metadata": {},
   "source": [
    "# Synthesis of a mini-mainnet"
   ]
  },
  {
   "cell_type": "markdown",
   "id": "4f3cfe5b-618d-4780-ad4b-8a2247a2975f",
   "metadata": {},
   "source": [
    "## Set up packages"
   ]
  },
  {
   "cell_type": "code",
   "execution_count": 1,
   "id": "62630a48-074a-449e-9d25-e84a285c4f88",
   "metadata": {
    "tags": []
   },
   "outputs": [],
   "source": [
    "suppressMessages({\n",
    "    require(data.table, quietly=TRUE)\n",
    "    require(ggplot2, quietly=TRUE)\n",
    "    require(igraph, quietly=TRUE)\n",
    "    require(jsonlite, quietly=TRUE)\n",
    "    require(magrittr, quietly=TRUE)\n",
    "})"
   ]
  },
  {
   "cell_type": "markdown",
   "id": "c105ce0b-8a77-4c8e-afb6-16f893127850",
   "metadata": {},
   "source": [
    "## Read data files"
   ]
  },
  {
   "cell_type": "markdown",
   "id": "c3faccca-6dc2-4007-b430-e8997ab88490",
   "metadata": {},
   "source": [
    "### Probes of mainnet nodes"
   ]
  },
  {
   "cell_type": "code",
   "execution_count": 2,
   "id": "106fc8ed-b781-4ebc-b90c-8ff265433748",
   "metadata": {
    "tags": []
   },
   "outputs": [
    {
     "data": {
      "text/plain": [
       "                                                                id      \n",
       " 0049eca4703be755cef74ed20e1815b50b5fa0ceb07c6b822c78355dd12fdaa6:   1  \n",
       " 0078d0f5d825d8946e0809e85fe0f21589294cae912104b3ca9f0e4bb93552c3:   1  \n",
       " 008c441677a37d339c96a2bf2c9aa377e2411a00eb9d4588e3362043f0d7b744:   1  \n",
       " 012200f2a61b1d302998036a06091f074f95125848e9caff9f0d23e392538936:   1  \n",
       " 012c09d9b08f7c26d9076a0aea43ead69de74de251de49c6ba67e40d0613053b:   1  \n",
       " 01567bed7019b7452a243cb66b3e8cc433c2eafe4d7569e49227d61bcfd6d33f:   1  \n",
       " (Other)                                                         :2195  \n",
       "               n2n_version   peer_sharing      asn                   country   \n",
       " NodeToNodeVersionV10:   1   f: 745       Min.   :   209   Germany       :528  \n",
       " NodeToNodeVersionV11:   1   t:1456       1st Qu.: 14061   United States :502  \n",
       " NodeToNodeVersionV13: 869                Median : 20860   Canada        :154  \n",
       " NodeToNodeVersionV14:1330                Mean   : 61266   Japan         :123  \n",
       "                                          3rd Qu.: 51167   United Kingdom:108  \n",
       "                                          Max.   :401116   Finland       : 90  \n",
       "                                          NA's   :64       (Other)       :696  "
      ]
     },
     "metadata": {},
     "output_type": "display_data"
    }
   ],
   "source": [
    "ptNodes <- fread(\"pt_nodes.csv\", stringsAsFactors=TRUE)\n",
    "ptNodes %>% summary"
   ]
  },
  {
   "cell_type": "markdown",
   "id": "533787ae-0954-473a-9d81-9f1aa50b6f6a",
   "metadata": {},
   "source": [
    "### Probes of mainnet edges"
   ]
  },
  {
   "cell_type": "code",
   "execution_count": 3,
   "id": "58e6a7e7-95e4-401b-80a7-5893139cf393",
   "metadata": {
    "tags": []
   },
   "outputs": [
    {
     "data": {
      "text/plain": [
       "                                                              source     \n",
       " 99f4b029b0864e19334824015c8d05b34c34353ab7fe36e9da91689ceb512b66:   67  \n",
       " 7e0520b4ebf8159bd1e219d49fc847efc9fe54332cc36aa5ac2350020c2a4939:   64  \n",
       " 624d8747537834fe5aa3da126f5647904f2425fb002c72be6fe811fbd671412b:   61  \n",
       " 73a4c479d08b254dab522708a611981c48e8323ae39ab6ad838c30ba3c8c8811:   59  \n",
       " 1b80ab54864c57bf4f1e9646d30edf48e4d98e8d70ecaacac89adb3a48be5726:   57  \n",
       " 4a5c7640e2e4f40870dfe3df1fe942e90f718394bd68de31e5ec9730c5ece414:   57  \n",
       " (Other)                                                         :49569  \n",
       "                                                              target     \n",
       " 99f4b029b0864e19334824015c8d05b34c34353ab7fe36e9da91689ceb512b66:  194  \n",
       " 2d8b0cb5e44c3e746e7e29fb025dcb258aaf4df658f41c11bdc6824a9059fb84:  185  \n",
       " 9b88f53637710f0b577b5cc060e67ceb1fddbee24c18f600b4497829d2e2323f:  181  \n",
       " d651218f17c10c040eb944416864971abd396ff8142bda7e2d97e26a7fc3a987:  177  \n",
       " d0cca0575254a0c01423d9532b4223e4dc467405ca40bd530e4d1befb3c5c222:  168  \n",
       " 450bb4474418bd71728346d338824776690e9a3a1971e0df5885e938ee2d0c1c:  162  \n",
       " (Other)                                                         :48867  "
      ]
     },
     "metadata": {},
     "output_type": "display_data"
    }
   ],
   "source": [
    "ptEdges <- fread(\"pt_edges.csv\", stringsAsFactors=TRUE)\n",
    "ptEdges %>% summary"
   ]
  },
  {
   "cell_type": "markdown",
   "id": "7d4aed06-2a77-4a96-828b-8532a4cea7aa",
   "metadata": {},
   "source": [
    "### Snapshot of mainnet stakepools"
   ]
  },
  {
   "cell_type": "code",
   "execution_count": 4,
   "id": "65d2bd28-97dc-429b-984e-1bcbcafa7cf0",
   "metadata": {
    "tags": []
   },
   "outputs": [
    {
     "data": {
      "text/plain": [
       "    epoch_no        country    no_of_pools         stake           \n",
       " Min.   :524   Australia: 1   Min.   :  1.00   Min.   :    120272  \n",
       " 1st Qu.:524   Austria  : 1   1st Qu.:  1.00   1st Qu.:  32641441  \n",
       " Median :524   Belgium  : 1   Median :  5.00   Median :  94785845  \n",
       " Mean   :524   Bolivia  : 1   Mean   : 37.09   Mean   : 616847011  \n",
       " 3rd Qu.:524   Brazil   : 1   3rd Qu.: 23.50   3rd Qu.: 517550850  \n",
       " Max.   :524   Canada   : 1   Max.   :537.00   Max.   :7077609940  \n",
       "               (Other)  :29                                        "
      ]
     },
     "metadata": {},
     "output_type": "display_data"
    }
   ],
   "source": [
    "poolCountries <- fread(\"pool_country.csv\", stringsAsFactors=TRUE)\n",
    "poolCountries %>% summary"
   ]
  },
  {
   "cell_type": "markdown",
   "id": "487f5b4c-541d-4406-b97b-4cef4c0115eb",
   "metadata": {},
   "source": [
    "### Boundary boxes for countries"
   ]
  },
  {
   "cell_type": "code",
   "execution_count": 5,
   "id": "644ea425-7144-4d27-b647-b5c238322a98",
   "metadata": {
    "tags": []
   },
   "outputs": [
    {
     "data": {
      "text/plain": [
       "        country    ISO3166 country code    longmin              latmin       \n",
       " AT         :  1      :248              Min.   :-179.9850   Min.   :-78.000  \n",
       " AV         :  1   ABW:  1              1st Qu.: -59.9168   1st Qu.: -7.080  \n",
       " Afghanistan:  1   AE :  1              Median :  10.0000   Median : 10.000  \n",
       " Albania    :  1   AT :  1              Mean   :  -0.1206   Mean   :  9.275  \n",
       " Algeria    :  1   ATG:  1              3rd Qu.:  39.6500   3rd Qu.: 32.858  \n",
       " Andorra    :  1   AV :  1              Max.   : 176.1000   Max.   : 62.000  \n",
       " (Other)    :248   BD :  1                                                   \n",
       "    longmax              latmax           Wrapped   \n",
       " Min.   :-174.4170   Min.   :-54.386          :242  \n",
       " 1st Qu.:   0.4457   1st Qu.:  9.544   WRAPPED: 12  \n",
       " Median :  32.5915   Median : 21.000                \n",
       " Mean   :  35.9674   Mean   : 23.508                \n",
       " 3rd Qu.:  75.0000   3rd Qu.: 42.918                \n",
       " Max.   : 180.0000   Max.   : 89.000                \n",
       "                                                    "
      ]
     },
     "metadata": {},
     "output_type": "display_data"
    }
   ],
   "source": [
    "countryBoundingBoxes <- fread(\"country-boundingboxes.csv.gz\", stringsAsFactors=TRUE)\n",
    "countryBoundingBoxes %>% summary"
   ]
  },
  {
   "cell_type": "markdown",
   "id": "bcc58c31-9d01-43f5-95b6-fb8534f51886",
   "metadata": {},
   "source": [
    "### ASN to ASN round-trip pings"
   ]
  },
  {
   "cell_type": "code",
   "execution_count": 6,
   "id": "f276086d-9ae6-4d05-a18e-e02b0fe35e4d",
   "metadata": {
    "tags": []
   },
   "outputs": [
    {
     "data": {
      "text/plain": [
       "      asn1             asn2           rtt_cnt            rtt_avg         \n",
       " Min.   :     0   Min.   :     0   Min.   :       1   Min.   :     0.03  \n",
       " 1st Qu.:  4493   1st Qu.: 34347   1st Qu.:       6   1st Qu.:    30.22  \n",
       " Median : 12276   Median : 57073   Median :    2169   Median :    95.40  \n",
       " Mean   : 26245   Mean   :115727   Mean   :    6231   Mean   :   114.11  \n",
       " 3rd Qu.: 32167   3rd Qu.:203296   3rd Qu.:    4326   3rd Qu.:   173.23  \n",
       " Max.   :401332   Max.   :401612   Max.   :44991955   Max.   :301077.44  \n",
       "                                                                         \n",
       "    rtt_std             rtt_min             rtt_max       \n",
       " Min.   :     0.00   Min.   :     0.00   Min.   :      0  \n",
       " 1st Qu.:     0.82   1st Qu.:    22.19   1st Qu.:     56  \n",
       " Median :     3.64   Median :    75.87   Median :    154  \n",
       " Mean   :    17.62   Mean   :   101.80   Mean   :    424  \n",
       " 3rd Qu.:    13.39   3rd Qu.:   161.65   3rd Qu.:    287  \n",
       " Max.   :173798.40   Max.   :301077.44   Max.   :3592381  \n",
       " NA's   :58552                                            "
      ]
     },
     "metadata": {},
     "output_type": "display_data"
    }
   ],
   "source": [
    "asn_rtt_stat <- fread(\"asn_rtt_stat.csv.gz\")\n",
    "asn_rtt_stat %>% summary"
   ]
  },
  {
   "cell_type": "markdown",
   "id": "4343e7b0-501b-4739-a079-1195d8b429a1",
   "metadata": {},
   "source": [
    "### Intra ASN round-trip pings"
   ]
  },
  {
   "cell_type": "code",
   "execution_count": 7,
   "id": "60f7b435-5508-4a75-8ea1-45301ff2dfd1",
   "metadata": {
    "tags": []
   },
   "outputs": [
    {
     "data": {
      "text/plain": [
       "    rtt_cnt             rtt_avg         rtt_std         rtt_min \n",
       " Min.   :145057189   Min.   :80.41   Min.   :103.5   Min.   :0  \n",
       " 1st Qu.:145057189   1st Qu.:80.41   1st Qu.:103.5   1st Qu.:0  \n",
       " Median :145057189   Median :80.41   Median :103.5   Median :0  \n",
       " Mean   :145057189   Mean   :80.41   Mean   :103.5   Mean   :0  \n",
       " 3rd Qu.:145057189   3rd Qu.:80.41   3rd Qu.:103.5   3rd Qu.:0  \n",
       " Max.   :145057189   Max.   :80.41   Max.   :103.5   Max.   :0  \n",
       "    rtt_max      \n",
       " Min.   :249626  \n",
       " 1st Qu.:249626  \n",
       " Median :249626  \n",
       " Mean   :249626  \n",
       " 3rd Qu.:249626  \n",
       " Max.   :249626  "
      ]
     },
     "metadata": {},
     "output_type": "display_data"
    }
   ],
   "source": [
    "intra_rtt_stat <- fread(\"intra_rtt_stat.csv.gz\")\n",
    "intra_rtt_stat %>% summary"
   ]
  },
  {
   "cell_type": "markdown",
   "id": "676b297c-c5ee-4450-a5a5-b3e212df5074",
   "metadata": {},
   "source": [
    "### Mainnet stake"
   ]
  },
  {
   "cell_type": "code",
   "execution_count": 8,
   "id": "13361019-3c46-4784-87ac-54488164aada",
   "metadata": {
    "tags": []
   },
   "outputs": [
    {
     "data": {
      "text/plain": [
       "     Epoch         Pool           Stake [Lovelace]         Stake [Fraction]   \n",
       " Min.   :500   Length:2884        Min.   :         11118   Min.   :0.000e+00  \n",
       " 1st Qu.:500   Class :character   1st Qu.:    1442483670   1st Qu.:6.300e-08  \n",
       " Median :500   Mode  :character   Median :  127668335529   Median :5.596e-06  \n",
       " Mean   :500                      Mean   : 7923945372784   Mean   :3.467e-04  \n",
       " 3rd Qu.:500                      3rd Qu.: 4675668176601   3rd Qu.:2.048e-04  \n",
       " Max.   :500                      Max.   :78570314564092   Max.   :3.438e-03  "
      ]
     },
     "metadata": {},
     "output_type": "display_data"
    }
   ],
   "source": [
    "mainnetStake <- fread(\"mainnet-stake.csv.gz\")[order(`Epoch`, `Stake [Lovelace]`)][`Stake [Lovelace]` > 0]\n",
    "mainnetStake %>% summary"
   ]
  },
  {
   "cell_type": "markdown",
   "id": "096e2327-1c5b-46b4-b692-0f2b43a4e101",
   "metadata": {},
   "source": [
    "## Create ASN-level totals"
   ]
  },
  {
   "cell_type": "markdown",
   "id": "9afe2d8c-05fc-4bd0-b585-dcc11f8284d9",
   "metadata": {
    "tags": []
   },
   "source": [
    "### Compare node countries to pool countries"
   ]
  },
  {
   "cell_type": "markdown",
   "id": "746600ab-be30-4579-9928-fac33db8c32f",
   "metadata": {},
   "source": [
    "All of the pool countries appear in the list of node countries."
   ]
  },
  {
   "cell_type": "code",
   "execution_count": 9,
   "id": "994e1b0e-e429-4685-a8c1-aa8efda5da05",
   "metadata": {
    "tags": []
   },
   "outputs": [
    {
     "data": {
      "text/html": [
       "\n",
       "<details>\n",
       "\t<summary style=display:list-item;cursor:pointer>\n",
       "\t\t<strong>Levels</strong>:\n",
       "\t</summary>\n",
       "\t<style>\n",
       "\t.list-inline {list-style: none; margin:0; padding: 0}\n",
       "\t.list-inline>li {display: inline-block}\n",
       "\t.list-inline>li:not(:last-child)::after {content: \"\\00b7\"; padding: 0 .5ex}\n",
       "\t</style>\n",
       "\t<ol class=list-inline><li>'Australia'</li><li>'Austria'</li><li>'Belgium'</li><li>'Bolivia'</li><li>'Brazil'</li><li>'Canada'</li><li>'China'</li><li>'Finland'</li><li>'France'</li><li>'Germany'</li><li>'Hungary'</li><li>'India'</li><li>'Indonesia'</li><li>'Ireland'</li><li>'Japan'</li><li>'Latvia'</li><li>'Lithuania'</li><li>'Netherlands'</li><li>'New Zealand'</li><li>'Norway'</li><li>'Poland'</li><li>'Romania'</li><li>'Russian Federation'</li><li>'Seychelles'</li><li>'Singapore'</li><li>'South Africa'</li><li>'South Korea'</li><li>'Spain'</li><li>'Sweden'</li><li>'Switzerland'</li><li>'Taiwan'</li><li>'Thailand'</li><li>'United Arab Emirates'</li><li>'United Kingdom'</li><li>'United States'</li></ol>\n",
       "</details>"
      ],
      "text/latex": [
       "\n",
       "\\emph{Levels}: \\begin{enumerate*}\n",
       "\\item 'Australia'\n",
       "\\item 'Austria'\n",
       "\\item 'Belgium'\n",
       "\\item 'Bolivia'\n",
       "\\item 'Brazil'\n",
       "\\item 'Canada'\n",
       "\\item 'China'\n",
       "\\item 'Finland'\n",
       "\\item 'France'\n",
       "\\item 'Germany'\n",
       "\\item 'Hungary'\n",
       "\\item 'India'\n",
       "\\item 'Indonesia'\n",
       "\\item 'Ireland'\n",
       "\\item 'Japan'\n",
       "\\item 'Latvia'\n",
       "\\item 'Lithuania'\n",
       "\\item 'Netherlands'\n",
       "\\item 'New Zealand'\n",
       "\\item 'Norway'\n",
       "\\item 'Poland'\n",
       "\\item 'Romania'\n",
       "\\item 'Russian Federation'\n",
       "\\item 'Seychelles'\n",
       "\\item 'Singapore'\n",
       "\\item 'South Africa'\n",
       "\\item 'South Korea'\n",
       "\\item 'Spain'\n",
       "\\item 'Sweden'\n",
       "\\item 'Switzerland'\n",
       "\\item 'Taiwan'\n",
       "\\item 'Thailand'\n",
       "\\item 'United Arab Emirates'\n",
       "\\item 'United Kingdom'\n",
       "\\item 'United States'\n",
       "\\end{enumerate*}\n"
      ],
      "text/markdown": [
       "\n",
       "**Levels**: 1. 'Australia'\n",
       "2. 'Austria'\n",
       "3. 'Belgium'\n",
       "4. 'Bolivia'\n",
       "5. 'Brazil'\n",
       "6. 'Canada'\n",
       "7. 'China'\n",
       "8. 'Finland'\n",
       "9. 'France'\n",
       "10. 'Germany'\n",
       "11. 'Hungary'\n",
       "12. 'India'\n",
       "13. 'Indonesia'\n",
       "14. 'Ireland'\n",
       "15. 'Japan'\n",
       "16. 'Latvia'\n",
       "17. 'Lithuania'\n",
       "18. 'Netherlands'\n",
       "19. 'New Zealand'\n",
       "20. 'Norway'\n",
       "21. 'Poland'\n",
       "22. 'Romania'\n",
       "23. 'Russian Federation'\n",
       "24. 'Seychelles'\n",
       "25. 'Singapore'\n",
       "26. 'South Africa'\n",
       "27. 'South Korea'\n",
       "28. 'Spain'\n",
       "29. 'Sweden'\n",
       "30. 'Switzerland'\n",
       "31. 'Taiwan'\n",
       "32. 'Thailand'\n",
       "33. 'United Arab Emirates'\n",
       "34. 'United Kingdom'\n",
       "35. 'United States'\n",
       "\n",
       "\n"
      ],
      "text/plain": [
       "factor(0)\n",
       "35 Levels: Australia Austria Belgium Bolivia Brazil Canada China ... United States"
      ]
     },
     "metadata": {},
     "output_type": "display_data"
    }
   ],
   "source": [
    "poolCountries[!(`country` %in% ptNodes$`country`), unique(`country`)]"
   ]
  },
  {
   "cell_type": "markdown",
   "id": "866b6263-ce21-453c-92e1-a2d8ad6c99d7",
   "metadata": {},
   "source": [
    "Twenty-one of the node countries do not appear in the list of pool countries."
   ]
  },
  {
   "cell_type": "code",
   "execution_count": 10,
   "id": "be12a026-9317-44e7-a942-f2a5c3d7b45d",
   "metadata": {
    "tags": []
   },
   "outputs": [
    {
     "data": {
      "text/html": [
       "<style>\n",
       ".list-inline {list-style: none; margin:0; padding: 0}\n",
       ".list-inline>li {display: inline-block}\n",
       ".list-inline>li:not(:last-child)::after {content: \"\\00b7\"; padding: 0 .5ex}\n",
       "</style>\n",
       "<ol class=list-inline><li></li><li>Estonia</li><li>Argentina</li><li>Viet Nam</li><li>Czechia</li><li>Italy</li><li>Portugal</li><li>Slovenia</li><li>Greece</li><li>Denmark</li><li>Chile</li><li>Cayman Islands</li><li>Israel</li><li>Malaysia</li><li>Luxembourg</li><li>New Caledonia</li><li>Iran</li><li>Malta</li><li>Bulgaria</li><li>Mexico</li><li>Peru</li></ol>\n",
       "\n",
       "<details>\n",
       "\t<summary style=display:list-item;cursor:pointer>\n",
       "\t\t<strong>Levels</strong>:\n",
       "\t</summary>\n",
       "\t<style>\n",
       "\t.list-inline {list-style: none; margin:0; padding: 0}\n",
       "\t.list-inline>li {display: inline-block}\n",
       "\t.list-inline>li:not(:last-child)::after {content: \"\\00b7\"; padding: 0 .5ex}\n",
       "\t</style>\n",
       "\t<ol class=list-inline><li>''</li><li>'Argentina'</li><li>'Australia'</li><li>'Austria'</li><li>'Belgium'</li><li>'Bolivia'</li><li>'Brazil'</li><li>'Bulgaria'</li><li>'Canada'</li><li>'Cayman Islands'</li><li>'Chile'</li><li>'China'</li><li>'Czechia'</li><li>'Denmark'</li><li>'Estonia'</li><li>'Finland'</li><li>'France'</li><li>'Germany'</li><li>'Greece'</li><li>'Hungary'</li><li>'India'</li><li>'Indonesia'</li><li>'Iran'</li><li>'Ireland'</li><li>'Israel'</li><li>'Italy'</li><li>'Japan'</li><li>'Latvia'</li><li>'Lithuania'</li><li>'Luxembourg'</li><li>'Malaysia'</li><li>'Malta'</li><li>'Mexico'</li><li>'Netherlands'</li><li>'New Caledonia'</li><li>'New Zealand'</li><li>'Norway'</li><li>'Peru'</li><li>'Poland'</li><li>'Portugal'</li><li>'Romania'</li><li>'Russian Federation'</li><li>'Seychelles'</li><li>'Singapore'</li><li>'Slovenia'</li><li>'South Africa'</li><li>'South Korea'</li><li>'Spain'</li><li>'Sweden'</li><li>'Switzerland'</li><li>'Taiwan'</li><li>'Thailand'</li><li>'United Arab Emirates'</li><li>'United Kingdom'</li><li>'United States'</li><li>'Viet Nam'</li></ol>\n",
       "</details>"
      ],
      "text/latex": [
       "\\begin{enumerate*}\n",
       "\\item \n",
       "\\item Estonia\n",
       "\\item Argentina\n",
       "\\item Viet Nam\n",
       "\\item Czechia\n",
       "\\item Italy\n",
       "\\item Portugal\n",
       "\\item Slovenia\n",
       "\\item Greece\n",
       "\\item Denmark\n",
       "\\item Chile\n",
       "\\item Cayman Islands\n",
       "\\item Israel\n",
       "\\item Malaysia\n",
       "\\item Luxembourg\n",
       "\\item New Caledonia\n",
       "\\item Iran\n",
       "\\item Malta\n",
       "\\item Bulgaria\n",
       "\\item Mexico\n",
       "\\item Peru\n",
       "\\end{enumerate*}\n",
       "\n",
       "\\emph{Levels}: \\begin{enumerate*}\n",
       "\\item ''\n",
       "\\item 'Argentina'\n",
       "\\item 'Australia'\n",
       "\\item 'Austria'\n",
       "\\item 'Belgium'\n",
       "\\item 'Bolivia'\n",
       "\\item 'Brazil'\n",
       "\\item 'Bulgaria'\n",
       "\\item 'Canada'\n",
       "\\item 'Cayman Islands'\n",
       "\\item 'Chile'\n",
       "\\item 'China'\n",
       "\\item 'Czechia'\n",
       "\\item 'Denmark'\n",
       "\\item 'Estonia'\n",
       "\\item 'Finland'\n",
       "\\item 'France'\n",
       "\\item 'Germany'\n",
       "\\item 'Greece'\n",
       "\\item 'Hungary'\n",
       "\\item 'India'\n",
       "\\item 'Indonesia'\n",
       "\\item 'Iran'\n",
       "\\item 'Ireland'\n",
       "\\item 'Israel'\n",
       "\\item 'Italy'\n",
       "\\item 'Japan'\n",
       "\\item 'Latvia'\n",
       "\\item 'Lithuania'\n",
       "\\item 'Luxembourg'\n",
       "\\item 'Malaysia'\n",
       "\\item 'Malta'\n",
       "\\item 'Mexico'\n",
       "\\item 'Netherlands'\n",
       "\\item 'New Caledonia'\n",
       "\\item 'New Zealand'\n",
       "\\item 'Norway'\n",
       "\\item 'Peru'\n",
       "\\item 'Poland'\n",
       "\\item 'Portugal'\n",
       "\\item 'Romania'\n",
       "\\item 'Russian Federation'\n",
       "\\item 'Seychelles'\n",
       "\\item 'Singapore'\n",
       "\\item 'Slovenia'\n",
       "\\item 'South Africa'\n",
       "\\item 'South Korea'\n",
       "\\item 'Spain'\n",
       "\\item 'Sweden'\n",
       "\\item 'Switzerland'\n",
       "\\item 'Taiwan'\n",
       "\\item 'Thailand'\n",
       "\\item 'United Arab Emirates'\n",
       "\\item 'United Kingdom'\n",
       "\\item 'United States'\n",
       "\\item 'Viet Nam'\n",
       "\\end{enumerate*}\n"
      ],
      "text/markdown": [
       "1. \n",
       "2. Estonia\n",
       "3. Argentina\n",
       "4. Viet Nam\n",
       "5. Czechia\n",
       "6. Italy\n",
       "7. Portugal\n",
       "8. Slovenia\n",
       "9. Greece\n",
       "10. Denmark\n",
       "11. Chile\n",
       "12. Cayman Islands\n",
       "13. Israel\n",
       "14. Malaysia\n",
       "15. Luxembourg\n",
       "16. New Caledonia\n",
       "17. Iran\n",
       "18. Malta\n",
       "19. Bulgaria\n",
       "20. Mexico\n",
       "21. Peru\n",
       "\n",
       "\n",
       "\n",
       "**Levels**: 1. ''\n",
       "2. 'Argentina'\n",
       "3. 'Australia'\n",
       "4. 'Austria'\n",
       "5. 'Belgium'\n",
       "6. 'Bolivia'\n",
       "7. 'Brazil'\n",
       "8. 'Bulgaria'\n",
       "9. 'Canada'\n",
       "10. 'Cayman Islands'\n",
       "11. 'Chile'\n",
       "12. 'China'\n",
       "13. 'Czechia'\n",
       "14. 'Denmark'\n",
       "15. 'Estonia'\n",
       "16. 'Finland'\n",
       "17. 'France'\n",
       "18. 'Germany'\n",
       "19. 'Greece'\n",
       "20. 'Hungary'\n",
       "21. 'India'\n",
       "22. 'Indonesia'\n",
       "23. 'Iran'\n",
       "24. 'Ireland'\n",
       "25. 'Israel'\n",
       "26. 'Italy'\n",
       "27. 'Japan'\n",
       "28. 'Latvia'\n",
       "29. 'Lithuania'\n",
       "30. 'Luxembourg'\n",
       "31. 'Malaysia'\n",
       "32. 'Malta'\n",
       "33. 'Mexico'\n",
       "34. 'Netherlands'\n",
       "35. 'New Caledonia'\n",
       "36. 'New Zealand'\n",
       "37. 'Norway'\n",
       "38. 'Peru'\n",
       "39. 'Poland'\n",
       "40. 'Portugal'\n",
       "41. 'Romania'\n",
       "42. 'Russian Federation'\n",
       "43. 'Seychelles'\n",
       "44. 'Singapore'\n",
       "45. 'Slovenia'\n",
       "46. 'South Africa'\n",
       "47. 'South Korea'\n",
       "48. 'Spain'\n",
       "49. 'Sweden'\n",
       "50. 'Switzerland'\n",
       "51. 'Taiwan'\n",
       "52. 'Thailand'\n",
       "53. 'United Arab Emirates'\n",
       "54. 'United Kingdom'\n",
       "55. 'United States'\n",
       "56. 'Viet Nam'\n",
       "\n",
       "\n"
      ],
      "text/plain": [
       " [1]                Estonia        Argentina      Viet Nam       Czechia       \n",
       " [6] Italy          Portugal       Slovenia       Greece         Denmark       \n",
       "[11] Chile          Cayman Islands Israel         Malaysia       Luxembourg    \n",
       "[16] New Caledonia  Iran           Malta          Bulgaria       Mexico        \n",
       "[21] Peru          \n",
       "56 Levels:  Argentina Australia Austria Belgium Bolivia Brazil ... Viet Nam"
      ]
     },
     "metadata": {},
     "output_type": "display_data"
    }
   ],
   "source": [
    "ptNodes[!(`country` %in% poolCountries$`country`), unique(`country`)]"
   ]
  },
  {
   "cell_type": "markdown",
   "id": "bcee352d-5297-40d4-9423-629a12be822d",
   "metadata": {},
   "source": [
    "### Use hot-deck imputation to assign missing nodes to countries and ASNs"
   ]
  },
  {
   "cell_type": "markdown",
   "id": "461053bf-81fe-4733-a900-4c8aab39b061",
   "metadata": {},
   "source": [
    "If the country is missing, then the ASN is also missing."
   ]
  },
  {
   "cell_type": "code",
   "execution_count": 11,
   "id": "6b50a019-6832-425f-b9b5-f5cc1eb0942d",
   "metadata": {
    "tags": []
   },
   "outputs": [
    {
     "data": {
      "text/html": [
       "<table class=\"dataframe\">\n",
       "<caption>A data.table: 2 x 3</caption>\n",
       "<thead>\n",
       "\t<tr><th scope=col>Has Country</th><th scope=col>Has ASN</th><th scope=col>N</th></tr>\n",
       "\t<tr><th scope=col>&lt;lgl&gt;</th><th scope=col>&lt;lgl&gt;</th><th scope=col>&lt;int&gt;</th></tr>\n",
       "</thead>\n",
       "<tbody>\n",
       "\t<tr><td>FALSE</td><td>FALSE</td><td>  64</td></tr>\n",
       "\t<tr><td> TRUE</td><td> TRUE</td><td>2137</td></tr>\n",
       "</tbody>\n",
       "</table>\n"
      ],
      "text/latex": [
       "A data.table: 2 x 3\n",
       "\\begin{tabular}{lll}\n",
       " Has Country & Has ASN & N\\\\\n",
       " <lgl> & <lgl> & <int>\\\\\n",
       "\\hline\n",
       "\t FALSE & FALSE &   64\\\\\n",
       "\t  TRUE &  TRUE & 2137\\\\\n",
       "\\end{tabular}\n"
      ],
      "text/markdown": [
       "\n",
       "A data.table: 2 x 3\n",
       "\n",
       "| Has Country &lt;lgl&gt; | Has ASN &lt;lgl&gt; | N &lt;int&gt; |\n",
       "|---|---|---|\n",
       "| FALSE | FALSE |   64 |\n",
       "|  TRUE |  TRUE | 2137 |\n",
       "\n"
      ],
      "text/plain": [
       "  Has Country Has ASN N   \n",
       "1 FALSE       FALSE     64\n",
       "2  TRUE        TRUE   2137"
      ]
     },
     "metadata": {},
     "output_type": "display_data"
    }
   ],
   "source": [
    "ptNodes[, .N, .(`Has Country`=`country`!=\"\", `Has ASN`=!is.na(`asn`))]"
   ]
  },
  {
   "cell_type": "code",
   "execution_count": 12,
   "id": "7e270cd8-5093-46e5-a417-02eb75cb883f",
   "metadata": {
    "tags": []
   },
   "outputs": [
    {
     "data": {
      "text/html": [
       "<style>\n",
       ".list-inline {list-style: none; margin:0; padding: 0}\n",
       ".list-inline>li {display: inline-block}\n",
       ".list-inline>li:not(:last-child)::after {content: \"\\00b7\"; padding: 0 .5ex}\n",
       "</style>\n",
       "<ol class=list-inline><li>2137</li><li>2</li></ol>\n"
      ],
      "text/latex": [
       "\\begin{enumerate*}\n",
       "\\item 2137\n",
       "\\item 2\n",
       "\\end{enumerate*}\n"
      ],
      "text/markdown": [
       "1. 2137\n",
       "2. 2\n",
       "\n",
       "\n"
      ],
      "text/plain": [
       "[1] 2137    2"
      ]
     },
     "metadata": {},
     "output_type": "display_data"
    }
   ],
   "source": [
    "nonMissing <- ptNodes[`country` != \"\", .(`country`, `asn`)]\n",
    "nonMissing %>% dim"
   ]
  },
  {
   "cell_type": "code",
   "execution_count": 13,
   "id": "1e5163a1-b85a-4f29-938b-77208b6cd7fa",
   "metadata": {
    "tags": []
   },
   "outputs": [
    {
     "data": {
      "text/html": [
       "2137"
      ],
      "text/latex": [
       "2137"
      ],
      "text/markdown": [
       "2137"
      ],
      "text/plain": [
       "[1] 2137"
      ]
     },
     "metadata": {},
     "output_type": "display_data"
    }
   ],
   "source": [
    "nrow(nonMissing)"
   ]
  },
  {
   "cell_type": "code",
   "execution_count": 14,
   "id": "a5447ea7-a7a1-4c41-89fa-96d5e87c01d8",
   "metadata": {
    "tags": []
   },
   "outputs": [],
   "source": [
    "assignments <- sample(1:nrow(nonMissing), ptNodes[`country`==\"\", .N])"
   ]
  },
  {
   "cell_type": "code",
   "execution_count": 15,
   "id": "a8020c95-28f4-418d-a863-bb41f437e913",
   "metadata": {
    "tags": []
   },
   "outputs": [],
   "source": [
    "ptNodes[`country` ==\"\", `:=`(`country`=nonMissing[assignments, `country`], `asn`=nonMissing[assignments, `asn`])]"
   ]
  },
  {
   "cell_type": "markdown",
   "id": "8fa01f60-ecde-4c3f-8297-bf5eeb12465a",
   "metadata": {},
   "source": [
    "### Distribute the stake among the ASNs"
   ]
  },
  {
   "cell_type": "code",
   "execution_count": 16,
   "id": "48a846c5-e010-4523-9cd6-cf3b232fc0d4",
   "metadata": {
    "tags": []
   },
   "outputs": [
    {
     "data": {
      "text/html": [
       "<table class=\"dataframe\">\n",
       "<caption>A data.table: 6 x 4</caption>\n",
       "<thead>\n",
       "\t<tr><th scope=col>country</th><th scope=col>asn</th><th scope=col>no_of_nodes</th><th scope=col>fraction</th></tr>\n",
       "\t<tr><th scope=col>&lt;fct&gt;</th><th scope=col>&lt;int&gt;</th><th scope=col>&lt;int&gt;</th><th scope=col>&lt;dbl&gt;</th></tr>\n",
       "</thead>\n",
       "<tbody>\n",
       "\t<tr><td>United States</td><td> 29802</td><td>13</td><td>0.02495202</td></tr>\n",
       "\t<tr><td>United States</td><td> 14618</td><td>32</td><td>0.06142035</td></tr>\n",
       "\t<tr><td>United States</td><td>396982</td><td>34</td><td>0.06525912</td></tr>\n",
       "\t<tr><td>United States</td><td>  5650</td><td> 8</td><td>0.01535509</td></tr>\n",
       "\t<tr><td>United States</td><td> 16509</td><td>30</td><td>0.05758157</td></tr>\n",
       "\t<tr><td>United States</td><td> 16591</td><td> 9</td><td>0.01727447</td></tr>\n",
       "</tbody>\n",
       "</table>\n"
      ],
      "text/latex": [
       "A data.table: 6 x 4\n",
       "\\begin{tabular}{llll}\n",
       " country & asn & no\\_of\\_nodes & fraction\\\\\n",
       " <fct> & <int> & <int> & <dbl>\\\\\n",
       "\\hline\n",
       "\t United States &  29802 & 13 & 0.02495202\\\\\n",
       "\t United States &  14618 & 32 & 0.06142035\\\\\n",
       "\t United States & 396982 & 34 & 0.06525912\\\\\n",
       "\t United States &   5650 &  8 & 0.01535509\\\\\n",
       "\t United States &  16509 & 30 & 0.05758157\\\\\n",
       "\t United States &  16591 &  9 & 0.01727447\\\\\n",
       "\\end{tabular}\n"
      ],
      "text/markdown": [
       "\n",
       "A data.table: 6 x 4\n",
       "\n",
       "| country &lt;fct&gt; | asn &lt;int&gt; | no_of_nodes &lt;int&gt; | fraction &lt;dbl&gt; |\n",
       "|---|---|---|---|\n",
       "| United States |  29802 | 13 | 0.02495202 |\n",
       "| United States |  14618 | 32 | 0.06142035 |\n",
       "| United States | 396982 | 34 | 0.06525912 |\n",
       "| United States |   5650 |  8 | 0.01535509 |\n",
       "| United States |  16509 | 30 | 0.05758157 |\n",
       "| United States |  16591 |  9 | 0.01727447 |\n",
       "\n"
      ],
      "text/plain": [
       "  country       asn    no_of_nodes fraction  \n",
       "1 United States  29802 13          0.02495202\n",
       "2 United States  14618 32          0.06142035\n",
       "3 United States 396982 34          0.06525912\n",
       "4 United States   5650  8          0.01535509\n",
       "5 United States  16509 30          0.05758157\n",
       "6 United States  16591  9          0.01727447"
      ]
     },
     "metadata": {},
     "output_type": "display_data"
    }
   ],
   "source": [
    "nodeFractions <- ptNodes[, .(`no_of_nodes`=.N), .(`country`, `asn`)][, .(`asn`, `no_of_nodes`, `fraction`=`no_of_nodes`/sum(`no_of_nodes`)), .(`country`)]\n",
    "nodeFractions %>% head"
   ]
  },
  {
   "cell_type": "markdown",
   "id": "223f59ea-5818-4f12-b648-b85b112bb529",
   "metadata": {},
   "source": [
    "Randomly distribute the pools to ASNs according to a multinomial distribution weighted by the number of nodes in the ASN."
   ]
  },
  {
   "cell_type": "code",
   "execution_count": 17,
   "id": "de271d8d-b0e9-44d2-ab60-89f0d55df8fd",
   "metadata": {
    "tags": []
   },
   "outputs": [],
   "source": [
    "rpools <- function(no_of_pools, fractions) {\n",
    "    if (sum(no_of_pools) == 0)\n",
    "        0\n",
    "    else\n",
    "        as.numeric(rmultinom(1, no_of_pools, fractions))\n",
    "}"
   ]
  },
  {
   "cell_type": "markdown",
   "id": "3aaec209-a66b-49bd-9833-e56cee86899d",
   "metadata": {},
   "source": [
    "Distribute the country's stake in proportion to the distribution of pools within the ASN."
   ]
  },
  {
   "cell_type": "code",
   "execution_count": 18,
   "id": "b08b5692-a84d-413b-80e3-a44851502793",
   "metadata": {
    "tags": []
   },
   "outputs": [
    {
     "data": {
      "text/html": [
       "<table class=\"dataframe\">\n",
       "<caption>A data.table: 6 x 5</caption>\n",
       "<thead>\n",
       "\t<tr><th scope=col>country</th><th scope=col>asn</th><th scope=col>no_of_nodes</th><th scope=col>no_of_pools</th><th scope=col>stake</th></tr>\n",
       "\t<tr><th scope=col>&lt;fct&gt;</th><th scope=col>&lt;int&gt;</th><th scope=col>&lt;int&gt;</th><th scope=col>&lt;dbl&gt;</th><th scope=col>&lt;dbl&gt;</th></tr>\n",
       "</thead>\n",
       "<tbody>\n",
       "\t<tr><td>United States</td><td> 29802</td><td>13</td><td> 6</td><td> 88977237</td></tr>\n",
       "\t<tr><td>United States</td><td> 14618</td><td>32</td><td>22</td><td>326249868</td></tr>\n",
       "\t<tr><td>United States</td><td>396982</td><td>34</td><td>26</td><td>385568026</td></tr>\n",
       "\t<tr><td>United States</td><td>  5650</td><td> 8</td><td> 3</td><td> 44488618</td></tr>\n",
       "\t<tr><td>United States</td><td> 16509</td><td>30</td><td>19</td><td>281761250</td></tr>\n",
       "\t<tr><td>United States</td><td> 16591</td><td> 9</td><td> 3</td><td> 44488618</td></tr>\n",
       "</tbody>\n",
       "</table>\n"
      ],
      "text/latex": [
       "A data.table: 6 x 5\n",
       "\\begin{tabular}{lllll}\n",
       " country & asn & no\\_of\\_nodes & no\\_of\\_pools & stake\\\\\n",
       " <fct> & <int> & <int> & <dbl> & <dbl>\\\\\n",
       "\\hline\n",
       "\t United States &  29802 & 13 &  6 &  88977237\\\\\n",
       "\t United States &  14618 & 32 & 22 & 326249868\\\\\n",
       "\t United States & 396982 & 34 & 26 & 385568026\\\\\n",
       "\t United States &   5650 &  8 &  3 &  44488618\\\\\n",
       "\t United States &  16509 & 30 & 19 & 281761250\\\\\n",
       "\t United States &  16591 &  9 &  3 &  44488618\\\\\n",
       "\\end{tabular}\n"
      ],
      "text/markdown": [
       "\n",
       "A data.table: 6 x 5\n",
       "\n",
       "| country &lt;fct&gt; | asn &lt;int&gt; | no_of_nodes &lt;int&gt; | no_of_pools &lt;dbl&gt; | stake &lt;dbl&gt; |\n",
       "|---|---|---|---|---|\n",
       "| United States |  29802 | 13 |  6 |  88977237 |\n",
       "| United States |  14618 | 32 | 22 | 326249868 |\n",
       "| United States | 396982 | 34 | 26 | 385568026 |\n",
       "| United States |   5650 |  8 |  3 |  44488618 |\n",
       "| United States |  16509 | 30 | 19 | 281761250 |\n",
       "| United States |  16591 |  9 |  3 |  44488618 |\n",
       "\n"
      ],
      "text/plain": [
       "  country       asn    no_of_nodes no_of_pools stake    \n",
       "1 United States  29802 13           6           88977237\n",
       "2 United States  14618 32          22          326249868\n",
       "3 United States 396982 34          26          385568026\n",
       "4 United States   5650  8           3           44488618\n",
       "5 United States  16509 30          19          281761250\n",
       "6 United States  16591  9           3           44488618"
      ]
     },
     "metadata": {},
     "output_type": "display_data"
    }
   ],
   "source": [
    "asnPools <- poolCountries[\n",
    "    nodeFractions,\n",
    "    on=\"country\"\n",
    "][\n",
    "    `no_of_pools`>0,\n",
    "    .(`asn`, `no_of_nodes`, `no_of_pools`=rpools(`no_of_pools`, `fraction`), `stake`), \n",
    "    .(`country`)\n",
    "][,\n",
    "  .(`asn`, `no_of_nodes`, `no_of_pools`, `stake`=`stake`*`no_of_pools`/sum(`no_of_pools`)),\n",
    "  .(`country`)\n",
    "]\n",
    "asnPools %>% head"
   ]
  },
  {
   "cell_type": "markdown",
   "id": "e31f29cd-734b-4079-85db-a5311cebec22",
   "metadata": {},
   "source": [
    "Check that the resulting disaggregation matches the original marginal distribution."
   ]
  },
  {
   "cell_type": "code",
   "execution_count": 19,
   "id": "4ac2954d-216b-4a44-a785-cbc0c189603f",
   "metadata": {
    "tags": []
   },
   "outputs": [
    {
     "data": {
      "text/html": [
       "TRUE"
      ],
      "text/latex": [
       "TRUE"
      ],
      "text/markdown": [
       "TRUE"
      ],
      "text/plain": [
       "[1] TRUE"
      ]
     },
     "metadata": {},
     "output_type": "display_data"
    }
   ],
   "source": [
    "(\n",
    "    asnPools[, .(`no_of_pools`=sum(`no_of_pools`), `stake`=round(sum(`stake`))), .(`country`=as.character(`country`))][order(`country`)] == \n",
    "    poolCountries[, .(`no_of_pools`, `stake`), .(`country`=as.character(`country`))][order(`country`)]\n",
    ") %>% all"
   ]
  },
  {
   "cell_type": "markdown",
   "id": "e309e84e-262a-4b21-bbcc-4fe222f3768f",
   "metadata": {},
   "source": [
    "#### Adjust the number of pools to aproximately match the mainnet registration"
   ]
  },
  {
   "cell_type": "markdown",
   "id": "85541a37-5cf8-4598-8343-5572760b737e",
   "metadata": {},
   "source": [
    "Count to total number of pools"
   ]
  },
  {
   "cell_type": "code",
   "execution_count": 20,
   "id": "0144e2b5-cf15-4349-8fe5-8a93a7cdb1cb",
   "metadata": {
    "tags": []
   },
   "outputs": [
    {
     "data": {
      "text/html": [
       "1298"
      ],
      "text/latex": [
       "1298"
      ],
      "text/markdown": [
       "1298"
      ],
      "text/plain": [
       "[1] 1298"
      ]
     },
     "metadata": {},
     "output_type": "display_data"
    }
   ],
   "source": [
    "asnPools[, sum(no_of_pools)]"
   ]
  },
  {
   "cell_type": "markdown",
   "id": "d3c4393d-52e9-4da6-ad81-d14f4d83c253",
   "metadata": {},
   "source": [
    "We want only 20% for this smaller network."
   ]
  },
  {
   "cell_type": "code",
   "execution_count": 21,
   "id": "6b72efbd-161e-4547-a59e-3beadb92c4e1",
   "metadata": {
    "tags": []
   },
   "outputs": [],
   "source": [
    "asnPools <- asnPools[, .(`country`, `asn`, `no_nodes`=round(`no_of_nodes`/5), `no_of_pools`=round(`no_of_pools`/5), `stake`)]"
   ]
  },
  {
   "cell_type": "code",
   "execution_count": 22,
   "id": "e8c6cfca-37a3-45e1-891a-6da553539d74",
   "metadata": {
    "tags": []
   },
   "outputs": [
    {
     "data": {
      "text/html": [
       "241"
      ],
      "text/latex": [
       "241"
      ],
      "text/markdown": [
       "241"
      ],
      "text/plain": [
       "[1] 241"
      ]
     },
     "metadata": {},
     "output_type": "display_data"
    }
   ],
   "source": [
    "poolCount <- asnPools[, sum(no_of_pools)]\n",
    "poolCount"
   ]
  },
  {
   "cell_type": "markdown",
   "id": "980c7f20-b4b6-4866-bd82-d2ddeb2ff072",
   "metadata": {},
   "source": [
    "## Create nodes"
   ]
  },
  {
   "cell_type": "markdown",
   "id": "5bb5a1f4-90dd-4806-9c4e-551e7a60feff",
   "metadata": {},
   "source": [
    "We want 750 nodes."
   ]
  },
  {
   "cell_type": "code",
   "execution_count": 23,
   "id": "3c86606b-f958-4a9f-9bce-d56d1f3379e9",
   "metadata": {
    "tags": []
   },
   "outputs": [],
   "source": [
    "nodeCount <- 750"
   ]
  },
  {
   "cell_type": "markdown",
   "id": "d470bcd4-d3b5-4f10-b9ad-33fa2fd1a72c",
   "metadata": {},
   "source": [
    "However, the data set should not contain any block producers, so we need to reserve `poolCount` indices for those block producers. We'll also reserve `poolCount` for the second relay."
   ]
  },
  {
   "cell_type": "markdown",
   "id": "722cab79-9916-48c1-a3c6-a3bcd13be58c",
   "metadata": {},
   "source": [
    "### Sample to decrease the number of nodes"
   ]
  },
  {
   "cell_type": "code",
   "execution_count": 24,
   "id": "d2abea3f-001b-4a45-ab7f-23370385b80f",
   "metadata": {
    "tags": []
   },
   "outputs": [
    {
     "data": {
      "text/html": [
       "509"
      ],
      "text/latex": [
       "509"
      ],
      "text/markdown": [
       "509"
      ],
      "text/plain": [
       "[1] 509"
      ]
     },
     "metadata": {},
     "output_type": "display_data"
    }
   ],
   "source": [
    "expandedNodes <- ptNodes[sample(nodeCount - poolCount), .(`country`, `asn`, `id`)]\n",
    "expandedNodes %>% nrow"
   ]
  },
  {
   "cell_type": "markdown",
   "id": "69fd5ac0-c573-4780-a3d3-870138af04e2",
   "metadata": {},
   "source": [
    "### Assign stakepools"
   ]
  },
  {
   "cell_type": "code",
   "execution_count": 25,
   "id": "e0772fd2-89f9-4326-bb98-21853d504203",
   "metadata": {
    "tags": []
   },
   "outputs": [],
   "source": [
    "rpools <- function(no_of_pools, no_of_nodes) {\n",
    "    if (no_of_pools[1] == 0)\n",
    "        0\n",
    "    else if (no_of_pools[1] > no_of_nodes)\n",
    "        rep(1, no_of_nodes)\n",
    "    else {\n",
    "        selection <- rep(0, no_of_nodes)\n",
    "        pools <- sample(1:no_of_nodes, no_of_pools[1])\n",
    "        selection[pools] <- 1\n",
    "        selection\n",
    "    }\n",
    "}"
   ]
  },
  {
   "cell_type": "code",
   "execution_count": 26,
   "id": "c7d6523e-4d51-4b60-8a39-5d5675526bec",
   "metadata": {
    "tags": []
   },
   "outputs": [
    {
     "data": {
      "text/html": [
       "216"
      ],
      "text/latex": [
       "216"
      ],
      "text/markdown": [
       "216"
      ],
      "text/plain": [
       "[1] 216"
      ]
     },
     "metadata": {},
     "output_type": "display_data"
    }
   ],
   "source": [
    "nodeStakes <- asnPools[\n",
    "    expandedNodes, on=c(\"country\", \"asn\")\n",
    "][,\n",
    "    .(`id`, `country`, `asn`, `no_of_pools`=fcoalesce(`no_of_pools`,0), `stake`=fcoalesce(`stake`,0))\n",
    "][, \n",
    "  .(`id`, `stake`=rpools(`no_of_pools`, .N) * `stake`/ `no_of_pools`), \n",
    "  .(`country`, `asn`)\n",
    "]\n",
    "nodeStakes[`stake` > 0, .N]"
   ]
  },
  {
   "cell_type": "markdown",
   "id": "4afa3b68-86f0-4239-81e7-ee1b928798d9",
   "metadata": {},
   "source": [
    "Some of the pools were lost in this process, but they were tiny pools."
   ]
  },
  {
   "cell_type": "markdown",
   "id": "3d7f927c-4f52-4dff-a581-f9cd47abbdb8",
   "metadata": {},
   "source": [
    "### Assign block producers, relays, and other nodes"
   ]
  },
  {
   "cell_type": "code",
   "execution_count": 27,
   "id": "d0ad47c7-db4e-4275-966d-e972019399e3",
   "metadata": {
    "tags": []
   },
   "outputs": [
    {
     "data": {
      "text/html": [
       "750"
      ],
      "text/latex": [
       "750"
      ],
      "text/markdown": [
       "750"
      ],
      "text/plain": [
       "[1] 750"
      ]
     },
     "metadata": {},
     "output_type": "display_data"
    }
   ],
   "source": [
    "nodeStakes <- rbind(\n",
    "    nodeStakes[`stake` > 0, .(`country`, `asn`, `id`, `stake`, `kind`=factor(\"BPROD\"), `kindex`=.I)],\n",
    "    nodeStakes[`stake` > 0, .(`country`, `asn`, `id`, `stake`=0, `kind`=\"RELAY1\", `kindex`=.I)],\n",
    "    nodeStakes[`stake` > 0, .(`country`, `asn`, `id`, `stake`=0, `kind`=\"RELAY2\", `kindex`=.I)],\n",
    "    nodeStakes[`stake` == 0, .(`country`, `asn`, `id`, `stake`=0, `kind`=\"OTHER\", `kindex`=NA)]\n",
    ")[1:nodeCount]\n",
    "nodeStakes %>% nrow"
   ]
  },
  {
   "cell_type": "code",
   "execution_count": 28,
   "id": "36d7c854-0514-4c2a-a9dc-eddfbdc783bd",
   "metadata": {
    "tags": []
   },
   "outputs": [
    {
     "data": {
      "text/html": [
       "<table class=\"dataframe\">\n",
       "<caption>A data.table: 4 x 2</caption>\n",
       "<thead>\n",
       "\t<tr><th scope=col>kind</th><th scope=col>N</th></tr>\n",
       "\t<tr><th scope=col>&lt;fct&gt;</th><th scope=col>&lt;int&gt;</th></tr>\n",
       "</thead>\n",
       "<tbody>\n",
       "\t<tr><td>BPROD </td><td>216</td></tr>\n",
       "\t<tr><td>RELAY1</td><td>216</td></tr>\n",
       "\t<tr><td>RELAY2</td><td>216</td></tr>\n",
       "\t<tr><td>OTHER </td><td>102</td></tr>\n",
       "</tbody>\n",
       "</table>\n"
      ],
      "text/latex": [
       "A data.table: 4 x 2\n",
       "\\begin{tabular}{ll}\n",
       " kind & N\\\\\n",
       " <fct> & <int>\\\\\n",
       "\\hline\n",
       "\t BPROD  & 216\\\\\n",
       "\t RELAY1 & 216\\\\\n",
       "\t RELAY2 & 216\\\\\n",
       "\t OTHER  & 102\\\\\n",
       "\\end{tabular}\n"
      ],
      "text/markdown": [
       "\n",
       "A data.table: 4 x 2\n",
       "\n",
       "| kind &lt;fct&gt; | N &lt;int&gt; |\n",
       "|---|---|\n",
       "| BPROD  | 216 |\n",
       "| RELAY1 | 216 |\n",
       "| RELAY2 | 216 |\n",
       "| OTHER  | 102 |\n",
       "\n"
      ],
      "text/plain": [
       "  kind   N  \n",
       "1 BPROD  216\n",
       "2 RELAY1 216\n",
       "3 RELAY2 216\n",
       "4 OTHER  102"
      ]
     },
     "metadata": {},
     "output_type": "display_data"
    }
   ],
   "source": [
    "nodeStakes[, .N, .(`kind`)]"
   ]
  },
  {
   "cell_type": "markdown",
   "id": "b58dce25-eea7-4ab4-ab2e-d6a8bff90ae3",
   "metadata": {},
   "source": [
    "### Add geographic locations"
   ]
  },
  {
   "cell_type": "markdown",
   "id": "29a7f4b3-7c74-4c75-a020-ad2460a36180",
   "metadata": {},
   "source": [
    "First make sure that the names align."
   ]
  },
  {
   "cell_type": "code",
   "execution_count": 29,
   "id": "fc49c9f6-c253-4b1c-9005-c36893822ab5",
   "metadata": {
    "tags": []
   },
   "outputs": [
    {
     "data": {
      "text/html": [
       "<table class=\"dataframe\">\n",
       "<caption>A data.table: 0 x 6</caption>\n",
       "<thead>\n",
       "\t<tr><th scope=col>country</th><th scope=col>asn</th><th scope=col>id</th><th scope=col>stake</th><th scope=col>kind</th><th scope=col>kindex</th></tr>\n",
       "\t<tr><th scope=col>&lt;fct&gt;</th><th scope=col>&lt;int&gt;</th><th scope=col>&lt;fct&gt;</th><th scope=col>&lt;dbl&gt;</th><th scope=col>&lt;fct&gt;</th><th scope=col>&lt;int&gt;</th></tr>\n",
       "</thead>\n",
       "<tbody>\n",
       "</tbody>\n",
       "</table>\n"
      ],
      "text/latex": [
       "A data.table: 0 x 6\n",
       "\\begin{tabular}{llllll}\n",
       " country & asn & id & stake & kind & kindex\\\\\n",
       " <fct> & <int> & <fct> & <dbl> & <fct> & <int>\\\\\n",
       "\\hline\n",
       "\\end{tabular}\n"
      ],
      "text/markdown": [
       "\n",
       "A data.table: 0 x 6\n",
       "\n",
       "| country &lt;fct&gt; | asn &lt;int&gt; | id &lt;fct&gt; | stake &lt;dbl&gt; | kind &lt;fct&gt; | kindex &lt;int&gt; |\n",
       "|---|---|---|---|---|---|\n",
       "\n"
      ],
      "text/plain": [
       "     country asn id stake kind kindex"
      ]
     },
     "metadata": {},
     "output_type": "display_data"
    }
   ],
   "source": [
    "nodeStakes[!(`country` %in% countryBoundingBoxes$`country`)]"
   ]
  },
  {
   "cell_type": "code",
   "execution_count": 30,
   "id": "50901349-f49e-4577-82fb-6a7e8a9fec34",
   "metadata": {
    "tags": []
   },
   "outputs": [],
   "source": [
    "rlong <- function(longmin, longmax, wrapped) {\n",
    "    if (wrapped)\n",
    "        (runif(1, longmax, 360 + longmin) + 180) %% 360 - 180\n",
    "    else\n",
    "        runif(1, longmin, longmax)\n",
    "}"
   ]
  },
  {
   "cell_type": "code",
   "execution_count": 31,
   "id": "184e1b00-2df5-40f0-9039-3865d6ab0b09",
   "metadata": {
    "tags": []
   },
   "outputs": [],
   "source": [
    "rlat <- function(latmin, latmax) {\n",
    "    runif(1, latmin, latmax)\n",
    "}"
   ]
  },
  {
   "cell_type": "code",
   "execution_count": 32,
   "id": "bc40f4d1-75eb-48f8-a7d1-9256a95b25b5",
   "metadata": {
    "tags": []
   },
   "outputs": [
    {
     "data": {
      "text/html": [
       "750"
      ],
      "text/latex": [
       "750"
      ],
      "text/markdown": [
       "750"
      ],
      "text/plain": [
       "[1] 750"
      ]
     },
     "metadata": {},
     "output_type": "display_data"
    }
   ],
   "source": [
    "nodes <- nodeStakes[\n",
    "    countryBoundingBoxes[, .(`country`, `longmin`, `longmax`, `latmin`, `latmax`, `wrapped`=`Wrapped`==\"WRAPPED\")], \n",
    "    on=\"country\",\n",
    "    nomatch=0\n",
    "][,\n",
    "  .(`index`=.I-1, `country`, `asn`, `id`, `kind`, `kindex`, `stake`, `long`=mapply(rlong, `longmin`, `longmax`, `wrapped`), `lat`=mapply(rlat, `latmin`, `latmax`))\n",
    "][,\n",
    "  .(`index`=as.integer(`index`), `subindex`=1:.N, `kindex`, `kind`, `stake`, `long`, `lat`),\n",
    "  .(`country`, `asn`, `id`)\n",
    "][\n",
    "    order(-`stake`)\n",
    "]\n",
    "nodes %>% nrow"
   ]
  },
  {
   "cell_type": "code",
   "execution_count": 33,
   "id": "a2481de9-7852-4319-acc9-fd11d4422ea4",
   "metadata": {
    "tags": []
   },
   "outputs": [
    {
     "data": {
      "text/html": [
       "<table class=\"dataframe\">\n",
       "<caption>A data.table: 6 x 10</caption>\n",
       "<thead>\n",
       "\t<tr><th scope=col>country</th><th scope=col>asn</th><th scope=col>id</th><th scope=col>index</th><th scope=col>subindex</th><th scope=col>kindex</th><th scope=col>kind</th><th scope=col>stake</th><th scope=col>long</th><th scope=col>lat</th></tr>\n",
       "\t<tr><th scope=col>&lt;fct&gt;</th><th scope=col>&lt;int&gt;</th><th scope=col>&lt;fct&gt;</th><th scope=col>&lt;int&gt;</th><th scope=col>&lt;int&gt;</th><th scope=col>&lt;int&gt;</th><th scope=col>&lt;fct&gt;</th><th scope=col>&lt;dbl&gt;</th><th scope=col>&lt;dbl&gt;</th><th scope=col>&lt;dbl&gt;</th></tr>\n",
       "</thead>\n",
       "<tbody>\n",
       "\t<tr><td>Ireland       </td><td> 16509</td><td>0c7763e51d6be87ca1a7fdf0c93efbc44a6ef082949df9b2e03aa3c280aa6cc0</td><td> 48</td><td>1</td><td>173</td><td>BPROD</td><td>222440421</td><td> -5.034512</td><td>54.51108</td></tr>\n",
       "\t<tr><td>Ireland       </td><td> 16509</td><td>408162a824a82143713302f99c2a54efb7436e21df8e495ede2c7a2ec1d8847b</td><td> 49</td><td>1</td><td>174</td><td>BPROD</td><td>222440421</td><td> -6.526143</td><td>52.77917</td></tr>\n",
       "\t<tr><td>Ireland       </td><td> 16509</td><td>9e2aa52dfc08abb52eda0ad441999e74e59ebe05ff4be013f4430cbbbcbd540a</td><td> 50</td><td>1</td><td>175</td><td>BPROD</td><td>222440421</td><td>-10.418256</td><td>51.53355</td></tr>\n",
       "\t<tr><td>United Kingdom</td><td>  5089</td><td>925fb76bb8c81130dce446f6254ff5c9d97bdc76b2a4a311074aea6d11f3648f</td><td>531</td><td>1</td><td>214</td><td>BPROD</td><td>188761513</td><td> -2.649852</td><td>59.07276</td></tr>\n",
       "\t<tr><td>Netherlands   </td><td>  1136</td><td>1a7aeee2ea7bffdc3d7812c2d322c4ec2b9bd724b91b519cb5a4a9e0b32bc6ed</td><td>486</td><td>1</td><td>187</td><td>BPROD</td><td>172951107</td><td>  3.409625</td><td>53.51035</td></tr>\n",
       "\t<tr><td>United Kingdom</td><td>396982</td><td>045f0f855a7cd34732889f59fe6ca8bbfbd1a53baa9b6e6458d056cfa292c3bb</td><td>529</td><td>1</td><td>139</td><td>BPROD</td><td>161795582</td><td> -0.331284</td><td>49.91597</td></tr>\n",
       "</tbody>\n",
       "</table>\n"
      ],
      "text/latex": [
       "A data.table: 6 x 10\n",
       "\\begin{tabular}{llllllllll}\n",
       " country & asn & id & index & subindex & kindex & kind & stake & long & lat\\\\\n",
       " <fct> & <int> & <fct> & <int> & <int> & <int> & <fct> & <dbl> & <dbl> & <dbl>\\\\\n",
       "\\hline\n",
       "\t Ireland        &  16509 & 0c7763e51d6be87ca1a7fdf0c93efbc44a6ef082949df9b2e03aa3c280aa6cc0 &  48 & 1 & 173 & BPROD & 222440421 &  -5.034512 & 54.51108\\\\\n",
       "\t Ireland        &  16509 & 408162a824a82143713302f99c2a54efb7436e21df8e495ede2c7a2ec1d8847b &  49 & 1 & 174 & BPROD & 222440421 &  -6.526143 & 52.77917\\\\\n",
       "\t Ireland        &  16509 & 9e2aa52dfc08abb52eda0ad441999e74e59ebe05ff4be013f4430cbbbcbd540a &  50 & 1 & 175 & BPROD & 222440421 & -10.418256 & 51.53355\\\\\n",
       "\t United Kingdom &   5089 & 925fb76bb8c81130dce446f6254ff5c9d97bdc76b2a4a311074aea6d11f3648f & 531 & 1 & 214 & BPROD & 188761513 &  -2.649852 & 59.07276\\\\\n",
       "\t Netherlands    &   1136 & 1a7aeee2ea7bffdc3d7812c2d322c4ec2b9bd724b91b519cb5a4a9e0b32bc6ed & 486 & 1 & 187 & BPROD & 172951107 &   3.409625 & 53.51035\\\\\n",
       "\t United Kingdom & 396982 & 045f0f855a7cd34732889f59fe6ca8bbfbd1a53baa9b6e6458d056cfa292c3bb & 529 & 1 & 139 & BPROD & 161795582 &  -0.331284 & 49.91597\\\\\n",
       "\\end{tabular}\n"
      ],
      "text/markdown": [
       "\n",
       "A data.table: 6 x 10\n",
       "\n",
       "| country &lt;fct&gt; | asn &lt;int&gt; | id &lt;fct&gt; | index &lt;int&gt; | subindex &lt;int&gt; | kindex &lt;int&gt; | kind &lt;fct&gt; | stake &lt;dbl&gt; | long &lt;dbl&gt; | lat &lt;dbl&gt; |\n",
       "|---|---|---|---|---|---|---|---|---|---|\n",
       "| Ireland        |  16509 | 0c7763e51d6be87ca1a7fdf0c93efbc44a6ef082949df9b2e03aa3c280aa6cc0 |  48 | 1 | 173 | BPROD | 222440421 |  -5.034512 | 54.51108 |\n",
       "| Ireland        |  16509 | 408162a824a82143713302f99c2a54efb7436e21df8e495ede2c7a2ec1d8847b |  49 | 1 | 174 | BPROD | 222440421 |  -6.526143 | 52.77917 |\n",
       "| Ireland        |  16509 | 9e2aa52dfc08abb52eda0ad441999e74e59ebe05ff4be013f4430cbbbcbd540a |  50 | 1 | 175 | BPROD | 222440421 | -10.418256 | 51.53355 |\n",
       "| United Kingdom |   5089 | 925fb76bb8c81130dce446f6254ff5c9d97bdc76b2a4a311074aea6d11f3648f | 531 | 1 | 214 | BPROD | 188761513 |  -2.649852 | 59.07276 |\n",
       "| Netherlands    |   1136 | 1a7aeee2ea7bffdc3d7812c2d322c4ec2b9bd724b91b519cb5a4a9e0b32bc6ed | 486 | 1 | 187 | BPROD | 172951107 |   3.409625 | 53.51035 |\n",
       "| United Kingdom | 396982 | 045f0f855a7cd34732889f59fe6ca8bbfbd1a53baa9b6e6458d056cfa292c3bb | 529 | 1 | 139 | BPROD | 161795582 |  -0.331284 | 49.91597 |\n",
       "\n"
      ],
      "text/plain": [
       "  country        asn   \n",
       "1 Ireland         16509\n",
       "2 Ireland         16509\n",
       "3 Ireland         16509\n",
       "4 United Kingdom   5089\n",
       "5 Netherlands      1136\n",
       "6 United Kingdom 396982\n",
       "  id                                                               index\n",
       "1 0c7763e51d6be87ca1a7fdf0c93efbc44a6ef082949df9b2e03aa3c280aa6cc0  48  \n",
       "2 408162a824a82143713302f99c2a54efb7436e21df8e495ede2c7a2ec1d8847b  49  \n",
       "3 9e2aa52dfc08abb52eda0ad441999e74e59ebe05ff4be013f4430cbbbcbd540a  50  \n",
       "4 925fb76bb8c81130dce446f6254ff5c9d97bdc76b2a4a311074aea6d11f3648f 531  \n",
       "5 1a7aeee2ea7bffdc3d7812c2d322c4ec2b9bd724b91b519cb5a4a9e0b32bc6ed 486  \n",
       "6 045f0f855a7cd34732889f59fe6ca8bbfbd1a53baa9b6e6458d056cfa292c3bb 529  \n",
       "  subindex kindex kind  stake     long       lat     \n",
       "1 1        173    BPROD 222440421  -5.034512 54.51108\n",
       "2 1        174    BPROD 222440421  -6.526143 52.77917\n",
       "3 1        175    BPROD 222440421 -10.418256 51.53355\n",
       "4 1        214    BPROD 188761513  -2.649852 59.07276\n",
       "5 1        187    BPROD 172951107   3.409625 53.51035\n",
       "6 1        139    BPROD 161795582  -0.331284 49.91597"
      ]
     },
     "metadata": {},
     "output_type": "display_data"
    }
   ],
   "source": [
    "nodes %>% head"
   ]
  },
  {
   "cell_type": "markdown",
   "id": "d736c132-8685-467f-80d5-2559fdf7fc9f",
   "metadata": {},
   "source": [
    "Most of the stake is preserved."
   ]
  },
  {
   "cell_type": "code",
   "execution_count": 34,
   "id": "ec1da05d-10e0-4c93-8177-c60d3107cb70",
   "metadata": {
    "tags": []
   },
   "outputs": [
    {
     "data": {
      "text/html": [
       "0.758298239762986"
      ],
      "text/latex": [
       "0.758298239762986"
      ],
      "text/markdown": [
       "0.758298239762986"
      ],
      "text/plain": [
       "[1] 0.7582982"
      ]
     },
     "metadata": {},
     "output_type": "display_data"
    }
   ],
   "source": [
    "nodes[, sum(`stake`)] / poolCountries[, sum(as.numeric(`stake`))]"
   ]
  },
  {
   "cell_type": "markdown",
   "id": "72c1af98-2039-4344-af13-98c3c1ed97ff",
   "metadata": {},
   "source": [
    "## Adjust the stake distribution to match mainnet"
   ]
  },
  {
   "cell_type": "code",
   "execution_count": 35,
   "id": "cb8df28a-3a14-4faf-8e66-869d5811c45c",
   "metadata": {
    "tags": []
   },
   "outputs": [
    {
     "data": {
      "image/png": "[encoded data removed]",
      "text/plain": [
       "plot without title"
      ]
     },
     "metadata": {
      "image/png": {
       "height": 420,
       "width": 420
      }
     },
     "output_type": "display_data"
    }
   ],
   "source": [
    "ggplot(nodes[`stake` > 0][order(`stake`)][, .(.I, `stake`)], aes(x=`I`, y=`stake`)) + geom_line()"
   ]
  },
  {
   "cell_type": "code",
   "execution_count": 36,
   "id": "c2ce1ba9-af0a-47f0-9c71-4c3b8de44e6c",
   "metadata": {
    "tags": []
   },
   "outputs": [
    {
     "data": {
      "image/png": "[encoded data removed]",
      "text/plain": [
       "plot without title"
      ]
     },
     "metadata": {
      "image/png": {
       "height": 420,
       "width": 420
      }
     },
     "output_type": "display_data"
    }
   ],
   "source": [
    "ggplot(mainnetStake[`Epoch` == 500][order(`Stake [Lovelace]`)][, .(.I, `stake`=`Stake [Lovelace]`/1e6)], aes(x=`I`, y=`stake`)) + geom_line()"
   ]
  },
  {
   "cell_type": "code",
   "execution_count": 37,
   "id": "84410ccc-3c53-4555-9391-3b0e0a9c7d2e",
   "metadata": {
    "tags": []
   },
   "outputs": [
    {
     "data": {
      "text/html": [
       "750"
      ],
      "text/latex": [
       "750"
      ],
      "text/markdown": [
       "750"
      ],
      "text/plain": [
       "[1] 750"
      ]
     },
     "metadata": {},
     "output_type": "display_data"
    }
   ],
   "source": [
    "nodes <- rbind(\n",
    "    nodes[`stake` == 0],\n",
    "    nodes[order(-`stake`)][`stake` > 0, .(`country`, `asn`, `id`, `index`, `subindex`, `kindex`, `kind`, `long`, `lat`, `srank`=.I)][\n",
    "        mainnetStake[`Epoch` == 500][order(-`Stake [Lovelace]`)][, .(`srank`=.I, `stake`=`Stake [Lovelace]`/1e6)],\n",
    "        on=\"srank\",\n",
    "        nomatch=0\n",
    "    ][, .(`country`, `asn`, `id`, `index`, `subindex`, `kindex`, `kind`, `stake`, `long`, `lat`)]\n",
    ")\n",
    "nodes %>% nrow"
   ]
  },
  {
   "cell_type": "markdown",
   "id": "06c8b1db-5b01-4cb5-b99e-270e1c441666",
   "metadata": {},
   "source": [
    "## Create edges"
   ]
  },
  {
   "cell_type": "markdown",
   "id": "96f4da0d-484c-49ca-a650-131ea2cf21b3",
   "metadata": {},
   "source": [
    "### Examine summary statistics for edge connectivity"
   ]
  },
  {
   "cell_type": "code",
   "execution_count": 38,
   "id": "126dd6ed-bd69-4991-a2ca-e3d88bb361ad",
   "metadata": {
    "tags": []
   },
   "outputs": [
    {
     "data": {
      "text/plain": [
       "   Min. 1st Qu.  Median    Mean 3rd Qu.    Max. \n",
       "   1.00   31.00   36.00   34.46   40.00   67.00 "
      ]
     },
     "metadata": {},
     "output_type": "display_data"
    }
   ],
   "source": [
    "ptEdges[, .(`degree`=.N), .(`source`)][, `degree`] %>% summary"
   ]
  },
  {
   "cell_type": "code",
   "execution_count": 39,
   "id": "a54deb46-dc08-4d3f-85b3-73856321704d",
   "metadata": {
    "tags": []
   },
   "outputs": [
    {
     "data": {
      "image/png": "[encoded data removed]",
      "text/plain": [
       "plot without title"
      ]
     },
     "metadata": {
      "image/png": {
       "height": 420,
       "width": 420
      }
     },
     "output_type": "display_data"
    }
   ],
   "source": [
    "ggplot(\n",
    "    ptEdges[, .(`degree`=.N), .(`source`)],\n",
    "    aes(x=`degree`)\n",
    ") +\n",
    "    geom_histogram(binwidth=1)"
   ]
  },
  {
   "cell_type": "markdown",
   "id": "d54b63ea-099e-48e1-ba44-e785798ad350",
   "metadata": {},
   "source": [
    "### Connect the empirically observed edges, but not for the second relay because it needs more randomization"
   ]
  },
  {
   "cell_type": "code",
   "execution_count": 40,
   "id": "4ed72760-6749-43c0-ac61-6f51d2a605d3",
   "metadata": {
    "tags": []
   },
   "outputs": [
    {
     "data": {
      "text/html": [
       "622"
      ],
      "text/latex": [
       "622"
      ],
      "text/markdown": [
       "622"
      ],
      "text/plain": [
       "[1] 622"
      ]
     },
     "metadata": {},
     "output_type": "display_data"
    }
   ],
   "source": [
    "edges <- nodes[`kind` %in% c(\"RELAY1\", \"OTHER\"), .(`tindex`=`index`, `tasn`=`asn`, `subindex`, `target`=`id`)][\n",
    "    nodes[`kind` %in% c(\"RELAY1\", \"OTHER\"), .(`sindex`=`index`, `sasn`=`asn`, `subindex`, `source`=`id`)][\n",
    "        ptEdges, on=\"source\", allow.cartesian=TRUE\n",
    "    ], \n",
    "    on=c(\"target\", \"subindex\"),\n",
    "    nomatch=0\n",
    "][,\n",
    "  .(`source_index`=`sindex`, `source_asn`=`sasn`, `target_index`=`tindex`, `target_asn`=`tasn`)\n",
    "]\n",
    "edges %>% nrow"
   ]
  },
  {
   "cell_type": "markdown",
   "id": "965cbaaf-c21f-477c-80bb-4a92edc7d37c",
   "metadata": {},
   "source": [
    "### Connect the second relay randomly"
   ]
  },
  {
   "cell_type": "code",
   "execution_count": 41,
   "id": "3d5d4ae0-f7e7-4ce9-b682-d656fdec2d7f",
   "metadata": {
    "tags": []
   },
   "outputs": [
    {
     "data": {
      "text/html": [
       "4575"
      ],
      "text/latex": [
       "4575"
      ],
      "text/markdown": [
       "4575"
      ],
      "text/plain": [
       "[1] 4575"
      ]
     },
     "metadata": {},
     "output_type": "display_data"
    }
   ],
   "source": [
    "edges <- rbind(\n",
    "    edges,\n",
    "    nodes[`kind` == \"RELAY2\", .(`tindex`=`index`, `asn`)][\n",
    "        nodes[`kind` != \"BPROD\", .(`sindex`=`index`, `asn`)], \n",
    "        on=\"asn\", \n",
    "        allow.cartesian=TRUE\n",
    "    ][\n",
    "        `tindex` != `sindex`,\n",
    "        .(`tindex`, `asn`, `copy`=1:.N),\n",
    "        .(`sindex`)\n",
    "    ][\n",
    "        `copy` <= 10,\n",
    "        .(`source_index`=`sindex`, `source_asn`=`asn`, `target_index`=`tindex`, `target_asn`=`asn`)\n",
    "    ]\n",
    ")\n",
    "edges %>% nrow"
   ]
  },
  {
   "cell_type": "markdown",
   "id": "5f3f4934-7114-45ce-8a03-4dcbf4e55e7b",
   "metadata": {},
   "source": [
    "### Ensure that each node connects to at least one other node"
   ]
  },
  {
   "cell_type": "code",
   "execution_count": 42,
   "id": "dfdba9e6-6059-4d7f-b254-826d8913cf3d",
   "metadata": {
    "tags": []
   },
   "outputs": [
    {
     "data": {
      "text/html": [
       "27"
      ],
      "text/latex": [
       "27"
      ],
      "text/markdown": [
       "27"
      ],
      "text/plain": [
       "[1] 27"
      ]
     },
     "metadata": {},
     "output_type": "display_data"
    }
   ],
   "source": [
    "disconnected <- nodes[`kind` != \"BPROD\" & !(`index` %in% edges[, unique(`source_index`)]), .(`source_index`=`index`, `source_asn`=`asn`)]\n",
    "disconnected %>% nrow"
   ]
  },
  {
   "cell_type": "code",
   "execution_count": 43,
   "id": "fb67a5b2-8cca-4f88-b04e-92b6bcb02f5f",
   "metadata": {
    "tags": []
   },
   "outputs": [],
   "source": [
    "redges <- function(missings) {\n",
    "    nodes[\n",
    "        missings[, .(`source_index`, `source_asn`, `target_index`=sample(nodes[`kind` != \"BPROD\", `index`], .N, replace=TRUE))], \n",
    "        on=c(\"index\" = \"target_index\")\n",
    "    ][,\n",
    "        .(`source_index`, `source_asn`, `target_index`=`index`, `target_asn`=`asn`)\n",
    "    ]\n",
    "}"
   ]
  },
  {
   "cell_type": "code",
   "execution_count": 44,
   "id": "5c97908b-5f0e-423b-ab65-90d86035e9c6",
   "metadata": {
    "tags": []
   },
   "outputs": [],
   "source": [
    "edges <- rbind(edges, redges(disconnected))"
   ]
  },
  {
   "cell_type": "code",
   "execution_count": 45,
   "id": "156cefcd-2d32-43ec-8d89-6e342aaebc0a",
   "metadata": {
    "tags": []
   },
   "outputs": [],
   "source": [
    "poorlyConnected <- function()\n",
    "    edges[, .(`degree`=.N), .(`source_index`, `source_asn`)][`degree` < 20][, .(`source_index`, `source_asn`)]"
   ]
  },
  {
   "cell_type": "code",
   "execution_count": 46,
   "id": "050fa531-41a8-4a80-a15e-30bf17a768eb",
   "metadata": {
    "tags": []
   },
   "outputs": [
    {
     "data": {
      "text/html": [
       "0"
      ],
      "text/latex": [
       "0"
      ],
      "text/markdown": [
       "0"
      ],
      "text/plain": [
       "[1] 0"
      ]
     },
     "metadata": {},
     "output_type": "display_data"
    }
   ],
   "source": [
    "for (i in 1:20) {\n",
    "    deficient <- poorlyConnected()\n",
    "    edges <- rbind(edges, redges(deficient))\n",
    "}\n",
    "poorlyConnected() %>% nrow"
   ]
  },
  {
   "cell_type": "code",
   "execution_count": 47,
   "id": "5ce755a8-12b4-451d-b94a-eed525f3e1d6",
   "metadata": {
    "tags": []
   },
   "outputs": [
    {
     "data": {
      "image/png": "[encoded data removed]",
      "text/plain": [
       "plot without title"
      ]
     },
     "metadata": {
      "image/png": {
       "height": 420,
       "width": 420
      }
     },
     "output_type": "display_data"
    }
   ],
   "source": [
    "ggplot(\n",
    "    edges[, .(`degree`=.N), .(`source_index`)],\n",
    "    aes(x=`degree`)\n",
    ") +\n",
    "    geom_histogram(binwidth=1)"
   ]
  },
  {
   "cell_type": "markdown",
   "id": "d2739489-6f02-4806-9861-66e2e1605fb3",
   "metadata": {},
   "source": [
    "We could smear the spike out, but the recommended node configuration suggests 20 active peers."
   ]
  },
  {
   "cell_type": "markdown",
   "id": "2401b3cc-e207-4fc1-be80-f3224c792927",
   "metadata": {},
   "source": [
    "### Repeat in the reverse direction"
   ]
  },
  {
   "cell_type": "markdown",
   "id": "013ae30e-c4ce-4794-a049-ab927f468f3c",
   "metadata": {},
   "source": [
    "#### Ensure that each node connects to at least one other node"
   ]
  },
  {
   "cell_type": "code",
   "execution_count": 48,
   "id": "261a2780-e682-4b4a-baf2-b06422c06488",
   "metadata": {
    "tags": []
   },
   "outputs": [
    {
     "data": {
      "text/html": [
       "0"
      ],
      "text/latex": [
       "0"
      ],
      "text/markdown": [
       "0"
      ],
      "text/plain": [
       "[1] 0"
      ]
     },
     "metadata": {},
     "output_type": "display_data"
    }
   ],
   "source": [
    "disconnected <- nodes[`kind` != \"BPROD\" & !(`index` %in% edges[, unique(`target_index`)]), .(`target_index`=`index`, `target_asn`=`asn`)]\n",
    "disconnected %>% nrow"
   ]
  },
  {
   "cell_type": "code",
   "execution_count": 49,
   "id": "e524ec0b-02c0-4d99-ab88-8348c67c1872",
   "metadata": {
    "tags": []
   },
   "outputs": [],
   "source": [
    "redgesReverse <- function(missings) {\n",
    "    nodes[\n",
    "        missings[, .(`target_index`, `target_asn`, `source_index`=sample(nodes[`kind` != \"BPROD\", `index`], .N, replace=TRUE))], \n",
    "        on=c(\"index\" = \"source_index\")\n",
    "    ][,\n",
    "        .(`source_index`=`index`, `source_asn`=`asn`, `target_index`, `target_asn`)\n",
    "    ]\n",
    "}"
   ]
  },
  {
   "cell_type": "code",
   "execution_count": 50,
   "id": "a3fbccfe-5d59-4668-94dc-d38630391a64",
   "metadata": {
    "tags": []
   },
   "outputs": [],
   "source": [
    "edges <- rbind(edges, redgesReverse(disconnected))"
   ]
  },
  {
   "cell_type": "code",
   "execution_count": 51,
   "id": "ebd78e5a-4811-4fc7-8796-926d0bae90ec",
   "metadata": {
    "tags": []
   },
   "outputs": [],
   "source": [
    "poorlyConnectedReverse <- function()\n",
    "    edges[, .(`degree`=.N), .(`target_index`, `target_asn`)][`degree` < 20][, .(`target_index`, `target_asn`)]"
   ]
  },
  {
   "cell_type": "code",
   "execution_count": 52,
   "id": "ab219ee8-8a12-451c-b9f4-3bc9311e547d",
   "metadata": {
    "tags": []
   },
   "outputs": [
    {
     "data": {
      "text/html": [
       "0"
      ],
      "text/latex": [
       "0"
      ],
      "text/markdown": [
       "0"
      ],
      "text/plain": [
       "[1] 0"
      ]
     },
     "metadata": {},
     "output_type": "display_data"
    }
   ],
   "source": [
    "for (i in 1:20) {\n",
    "    deficient <- poorlyConnectedReverse()\n",
    "    edges <- rbind(edges, redgesReverse(deficient))\n",
    "}\n",
    "poorlyConnectedReverse() %>% nrow"
   ]
  },
  {
   "cell_type": "markdown",
   "id": "23e4e45b-78c7-494c-8fae-e10bad872136",
   "metadata": {},
   "source": [
    "### Give every node ten more random peers"
   ]
  },
  {
   "cell_type": "code",
   "execution_count": 53,
   "id": "226c430e-7dee-4a11-86a4-dd8555979d60",
   "metadata": {
    "tags": []
   },
   "outputs": [],
   "source": [
    "for (i in 1:10) {\n",
    "    nonBprods <- nodes[`kind` != \"BPROD\"]\n",
    "    edges <- rbind(\n",
    "        edges, \n",
    "        redges(\n",
    "            nonBprods[\n",
    "                sample(nrow(nonBprods), nrow(nonBprods), replace=TRUE),\n",
    "                .(`source_index`=`index`, `source_asn`=`asn`)\n",
    "            ]\n",
    "        )\n",
    "    )\n",
    "}"
   ]
  },
  {
   "cell_type": "code",
   "execution_count": 54,
   "id": "2911304b-2df1-46a0-8564-42b8afa88ad2",
   "metadata": {
    "tags": []
   },
   "outputs": [
    {
     "data": {
      "image/png": "[encoded data removed]",
      "text/plain": [
       "plot without title"
      ]
     },
     "metadata": {
      "image/png": {
       "height": 420,
       "width": 420
      }
     },
     "output_type": "display_data"
    }
   ],
   "source": [
    "ggplot(\n",
    "    edges[, .(`degree`=.N), .(`source_index`)],\n",
    "    aes(x=`degree`)\n",
    ") +\n",
    "    geom_histogram(binwidth=1)"
   ]
  },
  {
   "cell_type": "code",
   "execution_count": 55,
   "id": "9474f6c7-9b8f-454f-808c-df5b5d1d085e",
   "metadata": {
    "tags": []
   },
   "outputs": [
    {
     "data": {
      "text/plain": [
       "  source_index       degree     \n",
       " Min.   :  2.0   Min.   :26.00  \n",
       " 1st Qu.:256.2   1st Qu.:33.00  \n",
       " Median :389.5   Median :35.00  \n",
       " Mean   :399.0   Mean   :35.67  \n",
       " 3rd Qu.:615.8   3rd Qu.:38.00  \n",
       " Max.   :749.0   Max.   :47.00  "
      ]
     },
     "metadata": {},
     "output_type": "display_data"
    }
   ],
   "source": [
    "edges[, .(`degree`=.N), .(`source_index`)] %>% summary"
   ]
  },
  {
   "cell_type": "code",
   "execution_count": 56,
   "id": "903dd1d4-eef3-4b04-bf6e-56a2f837f4cc",
   "metadata": {
    "tags": []
   },
   "outputs": [
    {
     "data": {
      "text/html": [
       "19046"
      ],
      "text/latex": [
       "19046"
      ],
      "text/markdown": [
       "19046"
      ],
      "text/plain": [
       "[1] 19046"
      ]
     },
     "metadata": {},
     "output_type": "display_data"
    }
   ],
   "source": [
    "edges %>% nrow"
   ]
  },
  {
   "cell_type": "markdown",
   "id": "2f19539d-59bd-4900-a200-f5ece8340975",
   "metadata": {},
   "source": [
    "### Check that the graph is connected"
   ]
  },
  {
   "cell_type": "code",
   "execution_count": 57,
   "id": "0a846a78-d05b-475d-95ed-fac18410792f",
   "metadata": {
    "tags": []
   },
   "outputs": [],
   "source": [
    "g <- graph_from_data_frame(edges[, .(`source_index`, `target_index`)])"
   ]
  },
  {
   "cell_type": "code",
   "execution_count": 58,
   "id": "32f2bcfe-a238-4e6d-83a7-798eeb76e6ae",
   "metadata": {
    "tags": []
   },
   "outputs": [
    {
     "data": {
      "text/html": [
       "TRUE"
      ],
      "text/latex": [
       "TRUE"
      ],
      "text/markdown": [
       "TRUE"
      ],
      "text/plain": [
       "[1] TRUE"
      ]
     },
     "metadata": {},
     "output_type": "display_data"
    }
   ],
   "source": [
    "is.connected(g, mode=\"strong\")"
   ]
  },
  {
   "cell_type": "code",
   "execution_count": 59,
   "id": "195b6a3c-8ab3-4060-9911-d26898a02ba9",
   "metadata": {
    "tags": []
   },
   "outputs": [],
   "source": [
    "g <- graph_from_data_frame(edges[, .(`target_index`, `source_index`)])"
   ]
  },
  {
   "cell_type": "code",
   "execution_count": 60,
   "id": "5f53f737-1207-4a24-87b0-0c2b78c02da4",
   "metadata": {
    "tags": []
   },
   "outputs": [
    {
     "data": {
      "text/html": [
       "TRUE"
      ],
      "text/latex": [
       "TRUE"
      ],
      "text/markdown": [
       "TRUE"
      ],
      "text/plain": [
       "[1] TRUE"
      ]
     },
     "metadata": {},
     "output_type": "display_data"
    }
   ],
   "source": [
    "is.connected(g, mode=\"strong\")"
   ]
  },
  {
   "cell_type": "markdown",
   "id": "d2c21247-7ef7-475a-a1d6-09fb320f43e3",
   "metadata": {},
   "source": [
    "## Assign latencies"
   ]
  },
  {
   "cell_type": "markdown",
   "id": "72cd408e-4339-4413-93b9-ff2397933e53",
   "metadata": {},
   "source": [
    "### Assign as many latencies as possible at the ASN to ASN level"
   ]
  },
  {
   "cell_type": "code",
   "execution_count": 61,
   "id": "c62e7f58-4c8b-44ad-95e8-65852bdba3e8",
   "metadata": {
    "tags": []
   },
   "outputs": [],
   "source": [
    "rrtt <- function(rtt_min, rtt_max, rtt_avg, rtt_std) {\n",
    "    if (is.na(rtt_std))\n",
    "        rtt_avg / 2\n",
    "    else\n",
    "        max(rtt_min, min(rtt_max, rnorm(1, rtt_avg, rtt_std))) / 2\n",
    "}"
   ]
  },
  {
   "cell_type": "code",
   "execution_count": 62,
   "id": "27fff747-277e-4332-b27f-4a5fba352bfd",
   "metadata": {
    "tags": []
   },
   "outputs": [
    {
     "data": {
      "text/plain": [
       "  source_index    target_index      latency         \n",
       " Min.   :  2.0   Min.   :  2.0   Min.   :  0.01482  \n",
       " 1st Qu.:226.0   1st Qu.:118.0   1st Qu.:  2.49075  \n",
       " Median :319.0   Median :330.0   Median :  7.70030  \n",
       " Mean   :328.1   Mean   :312.8   Mean   : 26.62032  \n",
       " 3rd Qu.:420.8   3rd Qu.:389.0   3rd Qu.: 43.95750  \n",
       " Max.   :749.0   Max.   :749.0   Max.   :258.56249  "
      ]
     },
     "metadata": {},
     "output_type": "display_data"
    }
   ],
   "source": [
    "latencies <- rbind(\n",
    "    asn_rtt_stat[edges, on=c(\"asn1\" = \"source_asn\", \"asn2\" = \"target_asn\"), nomatch=0],\n",
    "    asn_rtt_stat[edges, on=c(\"asn2\" = \"source_asn\", \"asn1\" = \"target_asn\"), nomatch=0]\n",
    ")[,\n",
    "    .(\n",
    "        `latency`=mapply(rrtt, `rtt_min`, min(`rtt_max`, 1000), min(`rtt_avg`, 1000), `rtt_std`)\n",
    "    ),\n",
    "    .(\n",
    "        `source_index`,\n",
    "        `target_index`\n",
    "    )\n",
    "]\n",
    "latencies %>% summary"
   ]
  },
  {
   "cell_type": "markdown",
   "id": "e307efdf-f3ac-476a-9962-140a7e243c21",
   "metadata": {},
   "source": [
    "### Assign intra ASN latencies for edges that don't yet have latencies"
   ]
  },
  {
   "cell_type": "code",
   "execution_count": 63,
   "id": "c7d1448f-d7cf-49b3-9e36-fb54a52400cd",
   "metadata": {
    "tags": []
   },
   "outputs": [
    {
     "data": {
      "text/plain": [
       "  source_index  target_index      latency       \n",
       " Min.   :  2   Min.   :  2.0   Min.   :  0.000  \n",
       " 1st Qu.:231   1st Qu.:119.0   1st Qu.:  2.528  \n",
       " Median :333   Median :338.0   Median :  8.814  \n",
       " Mean   :347   Mean   :326.8   Mean   : 28.797  \n",
       " 3rd Qu.:501   3rd Qu.:413.0   3rd Qu.: 48.696  \n",
       " Max.   :749   Max.   :749.0   Max.   :258.562  "
      ]
     },
     "metadata": {},
     "output_type": "display_data"
    }
   ],
   "source": [
    "latencies <- rbind(\n",
    "    latencies,\n",
    "    latencies[edges, on=.NATURAL][\n",
    "        is.na(`latency`) & `source_asn` == `target_asn`,\n",
    "        .(`latency`=rrtt(intra_rtt_stat$rtt_min, intra_rtt_stat$rtt_max, intra_rtt_stat$rtt_avg, intra_rtt_stat$rtt_std)),\n",
    "        .(`source_index`, `target_index`)\n",
    "    ]\n",
    ")\n",
    "latencies %>% summary"
   ]
  },
  {
   "cell_type": "markdown",
   "id": "82bf3885-1dcd-44d6-9a9d-dff088bedff9",
   "metadata": {},
   "source": [
    "### Assign remaining latencies"
   ]
  },
  {
   "cell_type": "code",
   "execution_count": 64,
   "id": "020f0020-705b-49ca-8d90-0747c0cb3166",
   "metadata": {
    "tags": []
   },
   "outputs": [
    {
     "data": {
      "text/html": [
       "<table class=\"dataframe\">\n",
       "<caption>A data.table: 1 x 2</caption>\n",
       "<thead>\n",
       "\t<tr><th scope=col>rtt_avg</th><th scope=col>rtt_std</th></tr>\n",
       "\t<tr><th scope=col>&lt;dbl&gt;</th><th scope=col>&lt;dbl&gt;</th></tr>\n",
       "</thead>\n",
       "<tbody>\n",
       "\t<tr><td>114.1144</td><td>17.62252</td></tr>\n",
       "</tbody>\n",
       "</table>\n"
      ],
      "text/latex": [
       "A data.table: 1 x 2\n",
       "\\begin{tabular}{ll}\n",
       " rtt\\_avg & rtt\\_std\\\\\n",
       " <dbl> & <dbl>\\\\\n",
       "\\hline\n",
       "\t 114.1144 & 17.62252\\\\\n",
       "\\end{tabular}\n"
      ],
      "text/markdown": [
       "\n",
       "A data.table: 1 x 2\n",
       "\n",
       "| rtt_avg &lt;dbl&gt; | rtt_std &lt;dbl&gt; |\n",
       "|---|---|\n",
       "| 114.1144 | 17.62252 |\n",
       "\n"
      ],
      "text/plain": [
       "  rtt_avg  rtt_std \n",
       "1 114.1144 17.62252"
      ]
     },
     "metadata": {},
     "output_type": "display_data"
    }
   ],
   "source": [
    "generic_rtt <- asn_rtt_stat[, .(`rtt_avg`=mean(`rtt_avg`), `rtt_std`=mean(`rtt_std`, na.rm=TRUE))]\n",
    "generic_rtt"
   ]
  },
  {
   "cell_type": "code",
   "execution_count": 65,
   "id": "74a2ceba-c3f2-48ff-8136-e92c4e2ab8db",
   "metadata": {
    "tags": []
   },
   "outputs": [
    {
     "data": {
      "text/plain": [
       "  source_index    target_index      latency       \n",
       " Min.   :  2.0   Min.   :  2.0   Min.   :  0.000  \n",
       " 1st Qu.:256.0   1st Qu.:247.0   1st Qu.:  7.647  \n",
       " Median :390.0   Median :368.0   Median : 48.328  \n",
       " Mean   :399.5   Mean   :381.9   Mean   : 41.583  \n",
       " 3rd Qu.:616.0   3rd Qu.:545.0   3rd Qu.: 61.212  \n",
       " Max.   :749.0   Max.   :749.0   Max.   :258.562  "
      ]
     },
     "metadata": {},
     "output_type": "display_data"
    }
   ],
   "source": [
    "latencies <- rbind(\n",
    "    latencies,\n",
    "    latencies[edges, on=.NATURAL][is.na(`latency`)][, .(`latency`=rrtt(50, 1000, generic_rtt$`rtt_avg`, generic_rtt$`rtt_std`)), .(`source_index`, `target_index`)]\n",
    ")[, .(`latency`=mean(`latency`)), .(`source_index`, `target_index`)]\n",
    "latencies %>% summary"
   ]
  },
  {
   "cell_type": "markdown",
   "id": "f6d94383-d04e-48bd-88b4-35999bb83f84",
   "metadata": {},
   "source": [
    "### Ensure that latencies between different ASNs are at least 5 milliseconds"
   ]
  },
  {
   "cell_type": "code",
   "execution_count": 66,
   "id": "d975e67c-5c1f-4789-b0b3-9f4c29e35887",
   "metadata": {
    "tags": []
   },
   "outputs": [],
   "source": [
    "latencies <- latencies[edges, on=.NATURAL, nomatch=0]"
   ]
  },
  {
   "cell_type": "code",
   "execution_count": 67,
   "id": "b11eee94-60c1-4331-b6ed-3d17a4165c26",
   "metadata": {
    "tags": []
   },
   "outputs": [],
   "source": [
    "latencies[`source_asn` == `target_asn` & `latency` < 5, `latency`:=5+`latency`]"
   ]
  },
  {
   "cell_type": "markdown",
   "id": "801b8017-a468-4f20-a218-637c3cdaad98",
   "metadata": {},
   "source": [
    "### Ensure that no latency is less than 0.05 ms"
   ]
  },
  {
   "cell_type": "code",
   "execution_count": 68,
   "id": "2fc2bb74-c5de-45eb-abfe-daddf1f684ea",
   "metadata": {
    "tags": []
   },
   "outputs": [],
   "source": [
    "latencies[`latency` < 0.1, `latency`:=0.05+`latency`]"
   ]
  },
  {
   "cell_type": "markdown",
   "id": "e7f4353b-ad94-497e-893b-32619c424aad",
   "metadata": {},
   "source": [
    "### Ensure that there are no duplicate edges"
   ]
  },
  {
   "cell_type": "code",
   "execution_count": 69,
   "id": "af38e103-4006-41e2-803c-49b66d48e9ab",
   "metadata": {
    "tags": []
   },
   "outputs": [
    {
     "data": {
      "text/html": [
       "19046"
      ],
      "text/latex": [
       "19046"
      ],
      "text/markdown": [
       "19046"
      ],
      "text/plain": [
       "[1] 19046"
      ]
     },
     "metadata": {},
     "output_type": "display_data"
    }
   ],
   "source": [
    "latencies %>% nrow"
   ]
  },
  {
   "cell_type": "code",
   "execution_count": 70,
   "id": "c4a9ba3e-58ce-4670-a3e9-56f8aed03867",
   "metadata": {
    "tags": []
   },
   "outputs": [],
   "source": [
    "latencies <- latencies[\n",
    "    `source_index` != `target_index`, \n",
    "    .(`latency`=mean(`latency`)), \n",
    "    .(`source`=`source_index`, `target`=`target_index`)\n",
    "]"
   ]
  },
  {
   "cell_type": "code",
   "execution_count": 71,
   "id": "c58c70b0-4730-44a2-b951-3e3e49eb8d94",
   "metadata": {
    "tags": []
   },
   "outputs": [
    {
     "data": {
      "text/html": [
       "18450"
      ],
      "text/latex": [
       "18450"
      ],
      "text/markdown": [
       "18450"
      ],
      "text/plain": [
       "[1] 18450"
      ]
     },
     "metadata": {},
     "output_type": "display_data"
    }
   ],
   "source": [
    "latencies %>% nrow"
   ]
  },
  {
   "cell_type": "markdown",
   "id": "67e0d200-7553-4323-8b2b-436928763ec5",
   "metadata": {},
   "source": [
    "### View the distribution of latencies"
   ]
  },
  {
   "cell_type": "code",
   "execution_count": 72,
   "id": "78958f45-66bd-48f9-aec0-6950a17984b0",
   "metadata": {
    "tags": []
   },
   "outputs": [
    {
     "data": {
      "image/png": "[encoded data removed]",
      "text/plain": [
       "plot without title"
      ]
     },
     "metadata": {
      "image/png": {
       "height": 420,
       "width": 420
      }
     },
     "output_type": "display_data"
    }
   ],
   "source": [
    "ggplot(latencies, aes(x=`latency`)) + geom_histogram(bins=50) + scale_x_log10()"
   ]
  },
  {
   "cell_type": "markdown",
   "id": "84e2f72e-5934-496c-81bc-ee8150942eb6",
   "metadata": {},
   "source": [
    "### Add the edges between block producers and their relays"
   ]
  },
  {
   "cell_type": "code",
   "execution_count": 73,
   "id": "84964dfb-bff0-4afe-b29f-1b4d1ae4ead3",
   "metadata": {
    "tags": []
   },
   "outputs": [
    {
     "data": {
      "text/html": [
       "19314"
      ],
      "text/latex": [
       "19314"
      ],
      "text/markdown": [
       "19314"
      ],
      "text/plain": [
       "[1] 19314"
      ]
     },
     "metadata": {},
     "output_type": "display_data"
    }
   ],
   "source": [
    "latencies <- rbind(\n",
    "    latencies,\n",
    "    nodes[`kind` == \"BPROD\", .(`source`=`index`, `kindex`)][\n",
    "        nodes[`kind` == \"RELAY1\", .(`target`=`index`, `kindex`)],\n",
    "        on=\"kindex\"\n",
    "    ][, .(`source`, `target`, `latency`=runif(.N, 0.05, 0.25)/8)],\n",
    "    nodes[`kind` == \"BPROD\", .(`target`=`index`, `kindex`)][\n",
    "        nodes[`kind` == \"RELAY1\", .(`source`=`index`, `kindex`)],\n",
    "        on=\"kindex\"\n",
    "    ][, .(`source`, `target`, `latency`=runif(.N, 0.05, 0.25)/8)],\n",
    "    nodes[`kind` == \"BPROD\", .(`source`=`index`, `kindex`)][\n",
    "        nodes[`kind` == \"RELAY2\", .(`target`=`index`, `kindex`)],\n",
    "        on=\"kindex\"\n",
    "    ][, .(`source`, `target`, `latency`=runif(.N, 0.05, 0.25)/8)],\n",
    "    nodes[`kind` == \"BPROD\", .(`target`=`index`, `kindex`)][\n",
    "        nodes[`kind` == \"RELAY2\", .(`source`=`index`, `kindex`)],\n",
    "        on=\"kindex\"\n",
    "    ][, .(`source`, `target`, `latency`=runif(.N, 0.05, 0.25)/8)]\n",
    ")\n",
    "latencies %>% nrow"
   ]
  },
  {
   "cell_type": "markdown",
   "id": "5c3db623-b355-4c1e-90a1-022bacf70488",
   "metadata": {},
   "source": [
    "### Symmetrize the latencies"
   ]
  },
  {
   "cell_type": "code",
   "execution_count": 74,
   "id": "ef1326a1-04cf-4c61-a51b-4b73ff037d9e",
   "metadata": {
    "tags": []
   },
   "outputs": [
    {
     "data": {
      "text/html": [
       "35702"
      ],
      "text/latex": [
       "35702"
      ],
      "text/markdown": [
       "35702"
      ],
      "text/plain": [
       "[1] 35702"
      ]
     },
     "metadata": {},
     "output_type": "display_data"
    }
   ],
   "source": [
    "bidirectional <- merge(latencies, latencies, by.x=c(\"source\", \"target\"), by.y=c(\"target\", \"source\"), all=TRUE)\n",
    "bidirectional %>% nrow"
   ]
  },
  {
   "cell_type": "code",
   "execution_count": 75,
   "id": "8007a8d3-b910-4a33-9ac9-3522255c1906",
   "metadata": {
    "tags": []
   },
   "outputs": [],
   "source": [
    "bidirectional[!is.na(`latency.x`) & !is.na(`latency.y`) & `latency.x` < `latency.y`, `latency.x`:=`latency.y`]"
   ]
  },
  {
   "cell_type": "code",
   "execution_count": 76,
   "id": "f503c311-b34a-47fb-af44-b33c455d7ce9",
   "metadata": {
    "tags": []
   },
   "outputs": [
    {
     "data": {
      "text/html": [
       "19314"
      ],
      "text/latex": [
       "19314"
      ],
      "text/markdown": [
       "19314"
      ],
      "text/plain": [
       "[1] 19314"
      ]
     },
     "metadata": {},
     "output_type": "display_data"
    }
   ],
   "source": [
    "latencies <- bidirectional[!is.na(`latency.x`), .(`source`, `target`, `latency`=`latency.x`)]\n",
    "latencies %>% nrow"
   ]
  },
  {
   "cell_type": "markdown",
   "id": "379bac2c-30fa-45d8-b015-eef43c1bde0c",
   "metadata": {},
   "source": [
    "### Patch up locations that violate the triangle inequality"
   ]
  },
  {
   "cell_type": "code",
   "execution_count": 77,
   "id": "a8c0a6d6-183c-4576-9077-328c55a42a0a",
   "metadata": {
    "tags": []
   },
   "outputs": [
    {
     "name": "stdout",
     "output_type": "stream",
     "text": [
      "IGRAPH fb34272 DNW- 750 19314 -- \n",
      "+ attr: name (v/c), weight (e/n)\n"
     ]
    }
   ],
   "source": [
    "g <- graph_from_data_frame(latencies[, .(`source`=as.character(`source`), `target`=as.character(`target`), `weight`=`latency`)])\n",
    "g %>% summary"
   ]
  },
  {
   "cell_type": "code",
   "execution_count": 78,
   "id": "1cd8ef7b-f51e-41c5-821d-be680e321d76",
   "metadata": {
    "tags": []
   },
   "outputs": [
    {
     "data": {
      "text/html": [
       "TRUE"
      ],
      "text/latex": [
       "TRUE"
      ],
      "text/markdown": [
       "TRUE"
      ],
      "text/plain": [
       "[1] TRUE"
      ]
     },
     "metadata": {},
     "output_type": "display_data"
    }
   ],
   "source": [
    "for (pass in 1:10) {\n",
    "    changed <- 0\n",
    "    for (src in latencies[, sort(unique(`source`))]) {\n",
    "        targets <- latencies[`source` == src, .(`target`=as.character(`target`), `latency`)]\n",
    "        shortestLatencies <- distances(g, as.character(src), targets$`target`, mode=\"all\") %>% as.numeric\n",
    "        replacements <- targets$`latency` > shortestLatencies\n",
    "        if (any(replacements)) {\n",
    "            latencies[`source` == src, `latency`:=ifelse(replacements, 0.99 * shortestLatencies, targets$`latency`)]\n",
    "            changed <- changed + 1\n",
    "        }\n",
    "    }\n",
    "    if (changed == 0)\n",
    "        break\n",
    "}\n",
    "changed == 0"
   ]
  },
  {
   "cell_type": "markdown",
   "id": "e3894995-3bb6-4c01-a5a2-6c4defd75f38",
   "metadata": {},
   "source": [
    "### Rescale the latencies because the triangle correction reduced them by too much"
   ]
  },
  {
   "cell_type": "code",
   "execution_count": 79,
   "id": "a1c993e8-377a-4ff9-8c0f-7c7c445a73cd",
   "metadata": {
    "tags": []
   },
   "outputs": [
    {
     "data": {
      "image/png": "[encoded data removed]",
      "text/plain": [
       "plot without title"
      ]
     },
     "metadata": {
      "image/png": {
       "height": 420,
       "width": 420
      }
     },
     "output_type": "display_data"
    }
   ],
   "source": [
    "ggplot(latencies, aes(x=`latency`)) + geom_histogram(bins=50) + scale_x_log10()"
   ]
  },
  {
   "cell_type": "code",
   "execution_count": 80,
   "id": "0389e93b-2a66-41f5-bcc6-4d70ef6dc4ab",
   "metadata": {
    "tags": []
   },
   "outputs": [
    {
     "data": {
      "image/png": "[encoded data removed]",
      "text/plain": [
       "plot without title"
      ]
     },
     "metadata": {
      "image/png": {
       "height": 420,
       "width": 420
      }
     },
     "output_type": "display_data"
    }
   ],
   "source": [
    "ggplot(latencies, aes(x=`latency`)) + geom_histogram(bins=50)"
   ]
  },
  {
   "cell_type": "code",
   "execution_count": 81,
   "id": "3ccb5401-b379-43c8-a76f-508d0dfd4075",
   "metadata": {
    "tags": []
   },
   "outputs": [
    {
     "data": {
      "text/plain": [
       "     source          target         latency        \n",
       " Min.   :  0.0   Min.   :  0.0   Min.   : 0.00686  \n",
       " 1st Qu.:253.0   1st Qu.:244.0   1st Qu.: 2.35189  \n",
       " Median :389.0   Median :368.0   Median : 3.76505  \n",
       " Mean   :397.6   Mean   :380.8   Mean   : 8.09581  \n",
       " 3rd Qu.:613.0   3rd Qu.:545.0   3rd Qu.: 8.66351  \n",
       " Max.   :749.0   Max.   :749.0   Max.   :72.29011  "
      ]
     },
     "metadata": {},
     "output_type": "display_data"
    }
   ],
   "source": [
    "latencies %>% summary"
   ]
  },
  {
   "cell_type": "code",
   "execution_count": 82,
   "id": "a2cc83ef-d110-439e-b669-fce3798e0ec0",
   "metadata": {
    "tags": []
   },
   "outputs": [],
   "source": [
    "latencies[, `latency`:=8*`latency`]"
   ]
  },
  {
   "cell_type": "code",
   "execution_count": 83,
   "id": "8ffbf190-a7a5-4906-8fe6-6ae3ed2f8767",
   "metadata": {
    "tags": []
   },
   "outputs": [
    {
     "data": {
      "text/plain": [
       "     source          target         latency        \n",
       " Min.   :  0.0   Min.   :  0.0   Min.   :  0.0549  \n",
       " 1st Qu.:253.0   1st Qu.:244.0   1st Qu.: 18.8151  \n",
       " Median :389.0   Median :368.0   Median : 30.1204  \n",
       " Mean   :397.6   Mean   :380.8   Mean   : 64.7664  \n",
       " 3rd Qu.:613.0   3rd Qu.:545.0   3rd Qu.: 69.3081  \n",
       " Max.   :749.0   Max.   :749.0   Max.   :578.3209  "
      ]
     },
     "metadata": {},
     "output_type": "display_data"
    }
   ],
   "source": [
    "latencies %>% summary"
   ]
  },
  {
   "cell_type": "markdown",
   "id": "93e04604-8d54-4412-a175-5b215e6b477f",
   "metadata": {},
   "source": [
    "## Export the results"
   ]
  },
  {
   "cell_type": "markdown",
   "id": "7ff0e8ee-4884-4fd3-9573-d87674d6caf2",
   "metadata": {},
   "source": [
    "### CSV files"
   ]
  },
  {
   "cell_type": "code",
   "execution_count": 84,
   "id": "dcd26a64-3cac-4dec-95dc-782f3e3cd5cc",
   "metadata": {
    "tags": []
   },
   "outputs": [],
   "source": [
    "fwrite(nodes[, .(`index`, `kind`, `stake`, `long`, `lat`)], \"nodes-v2.csv\")"
   ]
  },
  {
   "cell_type": "code",
   "execution_count": 85,
   "id": "ae985899-e3e4-4c7b-98e6-e61d6ec26a6a",
   "metadata": {
    "tags": []
   },
   "outputs": [],
   "source": [
    "fwrite(latencies, \"edges-v2.csv\")"
   ]
  },
  {
   "cell_type": "markdown",
   "id": "0963cd15-de37-43f5-a169-1cf29c11ae04",
   "metadata": {},
   "source": [
    "### Leios topology file"
   ]
  },
  {
   "cell_type": "markdown",
   "id": "e177b495-d757-4101-bc2d-65308a87d219",
   "metadata": {},
   "source": [
    "Assume to 1 Gps bandwidth for all connections"
   ]
  },
  {
   "cell_type": "code",
   "execution_count": 86,
   "id": "b975dd28-95bc-4bf1-8781-8200270d830c",
   "metadata": {
    "tags": []
   },
   "outputs": [
    {
     "data": {
      "text/html": [
       "1.25e+08"
      ],
      "text/latex": [
       "1.25e+08"
      ],
      "text/markdown": [
       "1.25e+08"
      ],
      "text/plain": [
       "[1] 1.25e+08"
      ]
     },
     "metadata": {},
     "output_type": "display_data"
    }
   ],
   "source": [
    "bandwidth <- 1 * 1e9 / 8\n",
    "bandwidth"
   ]
  },
  {
   "cell_type": "markdown",
   "id": "25beabae-f9df-4ed7-a89c-4fa2e590bc24",
   "metadata": {},
   "source": [
    "Assume 6 cpu cores"
   ]
  },
  {
   "cell_type": "code",
   "execution_count": 87,
   "id": "41099208-4913-4c93-91ac-30bc7893b4b0",
   "metadata": {
    "tags": []
   },
   "outputs": [],
   "source": [
    "cpus <- 6"
   ]
  },
  {
   "cell_type": "markdown",
   "id": "b8be3379-de9a-45e2-baac-4285eb8fc941",
   "metadata": {},
   "source": [
    "Create the JSON for the topology"
   ]
  },
  {
   "cell_type": "code",
   "execution_count": 88,
   "id": "7c9a11d4-796d-45a4-8133-1ed17fdc7af3",
   "metadata": {
    "tags": []
   },
   "outputs": [],
   "source": [
    "makeTopology <- function(nodes, latencies, bandwidth, cpus) {\n",
    "    nodeData <- list()\n",
    "    for (i in 1:nrow(nodes)) {\n",
    "        src <- nodes[i, `index`]\n",
    "        edgeData <- list()\n",
    "        edgeRows <- latencies[`source` == src, .(`target`=paste0(\"node-\",`target`), `latency`)]\n",
    "        for (j in 1:nrow(edgeRows))\n",
    "            edgeData[[edgeRows[j, `target`]]] <- as.list(edgeRows[j, list(`bandwidth-bytes-per-second`=unbox(bandwidth), `latency-ms`=unbox(`latency`))])\n",
    "        nodeData[[paste0(\"node-\", src)]] <-\n",
    "            list(\n",
    "                `location` = c(nodes[i, `long`], nodes[i, `lat`]),\n",
    "                `cpu-core-count` = unbox(cpus),\n",
    "                `stake` = unbox(nodes[i, round(`stake`)]),\n",
    "                `producers` = edgeData\n",
    "            )\n",
    "    }\n",
    "    list(`nodes` = nodeData)\n",
    "}"
   ]
  },
  {
   "cell_type": "code",
   "execution_count": 89,
   "id": "f3b53c8e-f6a3-4561-b21b-88d01b004cf7",
   "metadata": {
    "tags": []
   },
   "outputs": [],
   "source": [
    "topology <- makeTopology(nodes, latencies, bandwidth, cpus)"
   ]
  },
  {
   "cell_type": "code",
   "execution_count": 90,
   "id": "0097aad0-524e-446e-a041-206679de6b52",
   "metadata": {
    "tags": []
   },
   "outputs": [
    {
     "data": {
      "text/plain": [
       "{\"location\":[113.8055,-39.5428],\"cpu-core-count\":6,\"stake\":62853029,\"producers\":{\"node-2\":{\"bandwidth-bytes-per-second\":125000000,\"latency-ms\":0.1474},\"node-4\":{\"bandwidth-bytes-per-second\":125000000,\"latency-ms\":0.0853}}} "
      ]
     },
     "metadata": {},
     "output_type": "display_data"
    }
   ],
   "source": [
    "topology$`nodes`$`node-0` %>% toJSON"
   ]
  },
  {
   "cell_type": "code",
   "execution_count": 91,
   "id": "297ff754-53fe-4c4c-b44b-93984d4cc855",
   "metadata": {
    "tags": []
   },
   "outputs": [],
   "source": [
    "write_json(topology, \"topology-v2.yaml\")"
   ]
  }
 ],
 "metadata": {
  "kernelspec": {
   "display_name": "r-minimal kernel",
   "language": "r",
   "name": "r-minimal"
  },
  "language_info": {
   "codemirror_mode": "r",
   "file_extension": ".r",
   "mimetype": "text/x-r-source",
   "name": "R",
   "pygments_lexer": "r",
   "version": "4.2.2"
  }
 },
 "nbformat": 4,
 "nbformat_minor": 5
}
