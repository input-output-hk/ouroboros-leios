{
 "cells": [
  {
   "cell_type": "markdown",
   "id": "8c258a89-0c04-4dae-beda-8be213e97593",
   "metadata": {},
   "source": [
    "# Plots of round-trip times"
   ]
  },
  {
   "cell_type": "markdown",
   "id": "710503af-0f2e-4e4c-86e3-136c53dcbf14",
   "metadata": {},
   "source": [
    "## Load libraries"
   ]
  },
  {
   "cell_type": "code",
   "execution_count": 1,
   "id": "331840c7-c4d7-419e-99d0-553f0d346f53",
   "metadata": {
    "tags": []
   },
   "outputs": [],
   "source": [
    "suppressMessages({\n",
    "    require(data.table, quietly=TRUE)\n",
    "    require(ggplot2, quietly=TRUE)\n",
    "    require(magrittr, quietly=TRUE)\n",
    "})"
   ]
  },
  {
   "cell_type": "markdown",
   "id": "0b660221-c3d3-4a4d-9269-a3ee40f48ec6",
   "metadata": {},
   "source": [
    "## ASN to ASN"
   ]
  },
  {
   "cell_type": "code",
   "execution_count": 2,
   "id": "436444ea-1dce-4268-ad86-df02b914ac2f",
   "metadata": {
    "tags": []
   },
   "outputs": [
    {
     "data": {
      "text/plain": [
       "     ASN 1            ASN 2            Count               Mean          \n",
       " 0      :  3151   397207 :  1860   Min.   :       1   Min.   :     0.03  \n",
       " 3333   :  2233   394353 :  1842   1st Qu.:       6   1st Qu.:    30.22  \n",
       " 1221   :  2141   396654 :  1840   Median :    2169   Median :    95.40  \n",
       " 10886  :  1993   139341 :  1379   Mean   :    6231   Mean   :   114.11  \n",
       " 1508   :  1827   209242 :  1229   3rd Qu.:    4326   3rd Qu.:   173.23  \n",
       " 2149   :  1806   54113  :  1217   Max.   :44991955   Max.   :301077.44  \n",
       " (Other):409221   (Other):413005                                         \n",
       " Standard Deviation     Minimum             Maximum       \n",
       " Min.   :     0.00   Min.   :     0.00   Min.   :      0  \n",
       " 1st Qu.:     0.82   1st Qu.:    22.19   1st Qu.:     56  \n",
       " Median :     3.64   Median :    75.87   Median :    154  \n",
       " Mean   :    17.62   Mean   :   101.80   Mean   :    424  \n",
       " 3rd Qu.:    13.39   3rd Qu.:   161.65   3rd Qu.:    287  \n",
       " Max.   :173798.40   Max.   :301077.44   Max.   :3592381  \n",
       " NA's   :58552                                            "
      ]
     },
     "metadata": {},
     "output_type": "display_data"
    }
   ],
   "source": [
    "asnMatrix <- fread(\"asn_rtt_stat.csv.gz\")\n",
    "asns <- asnMatrix[, factor(unique(c(`asn1`,`asn2`)))]\n",
    "asnMatrix[, `asn1`:=factor(`asn1`,levels=asns)]\n",
    "asnMatrix[, `asn2`:=factor(`asn2`,levels=asns)]\n",
    "colnames(asnMatrix) <- c(\"ASN 1\", \"ASN 2\", \"Count\", \"Mean\", \"Standard Deviation\", \"Minimum\", \"Maximum\")\n",
    "asnMatrix %>% summary"
   ]
  },
  {
   "cell_type": "code",
   "execution_count": 3,
   "id": "445d077e-d88b-4b54-9959-d8d783b4365b",
   "metadata": {
    "tags": []
   },
   "outputs": [],
   "source": [
    "asn <- melt(asnMatrix, id.vars=c(\"ASN 1\", \"ASN 2\"), variable.name=\"Statistic\", value.name=\"Value\", measure.vars=c(\"Mean\",\"Standard Deviation\",\"Minimum\", \"Maximum\"))"
   ]
  },
  {
   "cell_type": "code",
   "execution_count": 4,
   "id": "2ed88b10-6eec-43fd-9583-75878fc3f110",
   "metadata": {
    "tags": []
   },
   "outputs": [
    {
     "data": {
      "image/png": "[encoded data removed]",
      "text/plain": [
       "plot without title"
      ]
     },
     "metadata": {
      "image/png": {
       "height": 420,
       "width": 420
      }
     },
     "output_type": "display_data"
    }
   ],
   "source": [
    "ggplot(asn[\n",
    "    `Statistic` == \"Mean\" & `Value` < asn[`Statistic`==\"Mean\",quantile(`Value`, 0.99, na.rm=TRUE)] |\n",
    "    `Statistic` == \"Standard Deviation\" & `Value` < asn[`Statistic`==\"Standard Deviation\",quantile(`Value`, 0.99, na.rm=TRUE)] |\n",
    "    `Statistic` == \"Minimum\" & `Value` < asn[`Statistic`==\"Minimum\",quantile(`Value`, 0.99, na.rm=TRUE)] |\n",
    "    `Statistic` == \"Maximum\" & `Value` < asn[`Statistic`==\"Maximum\",quantile(`Value`, 0.99, na.rm=TRUE)]\n",
    "], aes(x=`Value`)) +\n",
    "    geom_histogram(bins=50, na.rm=TRUE) +\n",
    "    xlab(\"Round-trip time for ping [ms]\") +\n",
    "    facet_wrap(. ~ `Statistic`, scales=\"free\") +\n",
    "    ggtitle(\"ASN-to-ASN latencies from RIPE Atlas dataset\")"
   ]
  },
  {
   "cell_type": "code",
   "execution_count": 5,
   "id": "71ac8bcf-f5ad-4fd6-ba27-a74d5df128f6",
   "metadata": {},
   "outputs": [],
   "source": [
    "ggsave(\"asn-to-asn.svg\", units=\"in\", dpi=150, width=8, height=6)"
   ]
  },
  {
   "cell_type": "code",
   "execution_count": 6,
   "id": "e64184b3-c1a6-4f78-aa34-e4a599de3baf",
   "metadata": {},
   "outputs": [],
   "source": [
    "ggsave(\"asn-to-asn.png\", units=\"in\", dpi=150, width=8, height=6)"
   ]
  },
  {
   "cell_type": "markdown",
   "id": "bda53062-0ad2-48a4-9f87-6671c9ffed09",
   "metadata": {},
   "source": [
    "## Country to country"
   ]
  },
  {
   "cell_type": "code",
   "execution_count": 7,
   "id": "bae7c8a1-32f1-4008-a2a0-909275892040",
   "metadata": {
    "tags": []
   },
   "outputs": [
    {
     "data": {
      "text/plain": [
       "   Country 1      Country 2        Count                Mean          \n",
       " AT     : 134   US     : 145   Min.   :        1   Min.   :   0.1315  \n",
       " AU     : 130   VN     : 120   1st Qu.:     4258   1st Qu.:  98.0432  \n",
       " BR     : 119   ZA     : 118   Median :    18759   Median : 176.9048  \n",
       " BG     : 115   UY     : 115   Mean   :   385491   Mean   : 179.1625  \n",
       " CA     : 114   UA     : 113   3rd Qu.:    89268   3rd Qu.: 248.2103  \n",
       " (Other):6206   (Other):6204   Max.   :442308114   Max.   :1531.4980  \n",
       " NA's   :   9   NA's   :  12                                          \n",
       " Standard Deviation    Minimum           Maximum       \n",
       " Min.   :   0.028   Min.   :   0.00   Min.   :      0  \n",
       " 1st Qu.:   9.609   1st Qu.:  25.17   1st Qu.:    285  \n",
       " Median :  26.345   Median : 109.86   Median :    603  \n",
       " Mean   :  43.461   Mean   : 122.27   Mean   :   5333  \n",
       " 3rd Qu.:  56.788   3rd Qu.: 192.67   3rd Qu.:   1392  \n",
       " Max.   :4392.409   Max.   :1384.45   Max.   :3592381  \n",
       " NA's   :187                                           "
      ]
     },
     "metadata": {},
     "output_type": "display_data"
    }
   ],
   "source": [
    "countryMatrix <- fread(\"country_rtt_stat.csv.gz\")\n",
    "countries <- countryMatrix[, factor(unique(c(`cty1`,`cty2`)))]\n",
    "countryMatrix[, `cty1`:=factor(`cty1`,levels=countries)]\n",
    "countryMatrix[, `cty2`:=factor(`cty2`,levels=countries)]\n",
    "colnames(countryMatrix) <- c(\"Country 1\", \"Country 2\", \"Count\", \"Mean\", \"Standard Deviation\", \"Minimum\", \"Maximum\")\n",
    "countryMatrix %>% summary"
   ]
  },
  {
   "cell_type": "code",
   "execution_count": 8,
   "id": "9c433036-bd9c-4109-a636-ef2c9c61f232",
   "metadata": {
    "tags": []
   },
   "outputs": [],
   "source": [
    "country <- melt(countryMatrix, id.vars=c(\"Country 1\", \"Country 2\"), variable.name=\"Statistic\", value.name=\"Value\", measure.vars=c(\"Mean\",\"Standard Deviation\",\"Minimum\", \"Maximum\"))"
   ]
  },
  {
   "cell_type": "code",
   "execution_count": 9,
   "id": "471311f8-31d7-49bd-8c1e-6b062c3ca276",
   "metadata": {
    "tags": []
   },
   "outputs": [
    {
     "data": {
      "image/png": "[encoded data removed]",
      "text/plain": [
       "plot without title"
      ]
     },
     "metadata": {
      "image/png": {
       "height": 420,
       "width": 420
      }
     },
     "output_type": "display_data"
    }
   ],
   "source": [
    "ggplot(country[\n",
    "    `Statistic` == \"Mean\" & `Value` < country[`Statistic`==\"Mean\",quantile(`Value`, 0.99, na.rm=TRUE)] |\n",
    "    `Statistic` == \"Standard Deviation\" & `Value` < country[`Statistic`==\"Standard Deviation\",quantile(`Value`, 0.99, na.rm=TRUE)] |\n",
    "    `Statistic` == \"Minimum\" & `Value` < country[`Statistic`==\"Minimum\",quantile(`Value`, 0.99, na.rm=TRUE)] |\n",
    "    `Statistic` == \"Maximum\" & `Value` < country[`Statistic`==\"Maximum\",quantile(`Value`, 0.99, na.rm=TRUE)]\n",
    "], aes(x=`Value`)) +\n",
    "    geom_histogram(bins=50, na.rm=TRUE) +\n",
    "    xlab(\"Round-trip time for ping [ms]\") +\n",
    "    facet_wrap(. ~ `Statistic`, scales=\"free\") +\n",
    "    ggtitle(\"Country-to-country latencies from RIPE Atlas dataset\")"
   ]
  },
  {
   "cell_type": "code",
   "execution_count": 10,
   "id": "0da9ff26-e093-4963-9fbf-1fe010eca8bc",
   "metadata": {},
   "outputs": [],
   "source": [
    "ggsave(\"cty-to-cty.svg\", units=\"in\", dpi=150, width=8, height=6)"
   ]
  },
  {
   "cell_type": "code",
   "execution_count": 11,
   "id": "01cbc74b-e116-45b9-9465-5724aa3e3d6d",
   "metadata": {},
   "outputs": [],
   "source": [
    "ggsave(\"cty-to-cty.png\", units=\"in\", dpi=150, width=8, height=6)"
   ]
  },
  {
   "cell_type": "markdown",
   "id": "ef7a1887-e83e-4841-b858-dc84f5e38110",
   "metadata": {},
   "source": [
    "## Intra-ASN"
   ]
  },
  {
   "cell_type": "code",
   "execution_count": 12,
   "id": "a49d5be9-6ac1-4314-9433-9596778e113a",
   "metadata": {
    "tags": []
   },
   "outputs": [
    {
     "data": {
      "text/html": [
       "<table class=\"dataframe\">\n",
       "<caption>A data.table: 1 x 5</caption>\n",
       "<thead>\n",
       "\t<tr><th scope=col>rtt_cnt</th><th scope=col>rtt_avg</th><th scope=col>rtt_std</th><th scope=col>rtt_min</th><th scope=col>rtt_max</th></tr>\n",
       "\t<tr><th scope=col>&lt;int&gt;</th><th scope=col>&lt;dbl&gt;</th><th scope=col>&lt;dbl&gt;</th><th scope=col>&lt;int&gt;</th><th scope=col>&lt;dbl&gt;</th></tr>\n",
       "</thead>\n",
       "<tbody>\n",
       "\t<tr><td>145057189</td><td>80.41246</td><td>103.5428</td><td>0</td><td>249625.7</td></tr>\n",
       "</tbody>\n",
       "</table>\n"
      ],
      "text/latex": [
       "A data.table: 1 x 5\n",
       "\\begin{tabular}{lllll}\n",
       " rtt\\_cnt & rtt\\_avg & rtt\\_std & rtt\\_min & rtt\\_max\\\\\n",
       " <int> & <dbl> & <dbl> & <int> & <dbl>\\\\\n",
       "\\hline\n",
       "\t 145057189 & 80.41246 & 103.5428 & 0 & 249625.7\\\\\n",
       "\\end{tabular}\n"
      ],
      "text/markdown": [
       "\n",
       "A data.table: 1 x 5\n",
       "\n",
       "| rtt_cnt &lt;int&gt; | rtt_avg &lt;dbl&gt; | rtt_std &lt;dbl&gt; | rtt_min &lt;int&gt; | rtt_max &lt;dbl&gt; |\n",
       "|---|---|---|---|---|\n",
       "| 145057189 | 80.41246 | 103.5428 | 0 | 249625.7 |\n",
       "\n"
      ],
      "text/plain": [
       "  rtt_cnt   rtt_avg  rtt_std  rtt_min rtt_max \n",
       "1 145057189 80.41246 103.5428 0       249625.7"
      ]
     },
     "metadata": {},
     "output_type": "display_data"
    }
   ],
   "source": [
    "intra <- fread(\"intra_rtt_stat.csv.gz\")\n",
    "intra"
   ]
  }
 ],
 "metadata": {
  "kernelspec": {
   "display_name": "r-minimal kernel",
   "language": "r",
   "name": "r-minimal"
  },
  "language_info": {
   "codemirror_mode": "r",
   "file_extension": ".r",
   "mimetype": "text/x-r-source",
   "name": "R",
   "pygments_lexer": "r",
   "version": "4.2.2"
  }
 },
 "nbformat": 4,
 "nbformat_minor": 5
}
