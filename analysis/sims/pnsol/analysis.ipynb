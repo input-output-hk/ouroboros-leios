{
 "cells": [
  {
   "cell_type": "markdown",
   "id": "11c10d93-fe1b-4019-8b44-3bdf1cc851e2",
   "metadata": {},
   "source": [
    "# Leios simulation analysis for CIP"
   ]
  },
  {
   "cell_type": "markdown",
   "id": "8b605859-ed4f-4e03-9f40-8891c3122a01",
   "metadata": {},
   "source": [
    "## Set up"
   ]
  },
  {
   "cell_type": "markdown",
   "id": "45599565-dbe9-415e-b356-0db87b421c63",
   "metadata": {},
   "source": [
    "### Load packages"
   ]
  },
  {
   "cell_type": "code",
   "execution_count": 1,
   "id": "26fe5452-fe6b-4383-b383-1de25d28bd0b",
   "metadata": {
    "tags": []
   },
   "outputs": [],
   "source": [
    "suppressMessages({\n",
    "    require(RColorBrewer, quietly=TRUE)\n",
    "    require(data.table, quietly=TRUE)\n",
    "    require(ggplot2, quietly=TRUE)\n",
    "    require(magrittr, quietly=TRUE)\n",
    "})"
   ]
  },
  {
   "cell_type": "markdown",
   "id": "f4313649-8871-435c-a405-42e99d7f7145",
   "metadata": {},
   "source": [
    "## Experiment: Varying throughput and transaction validation"
   ]
  },
  {
   "cell_type": "code",
   "execution_count": 2,
   "id": "73cc37a3-f119-4252-8d14-47c4fd504e6a",
   "metadata": {
    "tags": []
   },
   "outputs": [],
   "source": [
    "simVersion <- readLines(\"sim-cli.hash\")"
   ]
  },
  {
   "cell_type": "markdown",
   "id": "065dffd1-932a-4fa3-afd4-046a81e0866b",
   "metadata": {},
   "source": [
    "### Analysis of lifecycles and efficiencies"
   ]
  },
  {
   "cell_type": "markdown",
   "id": "3a101227-6be8-46e8-b20c-b73d82475bd5",
   "metadata": {},
   "source": [
    "#### Read the lifecycle results"
   ]
  },
  {
   "cell_type": "code",
   "execution_count": 184,
   "id": "b492fce1-9267-4379-ad0d-9b775e0a424a",
   "metadata": {
    "tags": []
   },
   "outputs": [
    {
     "name": "stdout",
     "output_type": "stream",
     "text": [
      "Loaded Rdata file: sampleSize = 1 \n"
     ]
    },
    {
     "data": {
      "text/plain": [
       "        Network          Bandwidth                CPU         \n",
       " topology-v2:2225651   10 Mb/s:2225651   4 vCPU/node:2225651  \n",
       "                                                              \n",
       "                                                              \n",
       "                                                              \n",
       "                                                              \n",
       "                                                              \n",
       "                                                              \n",
       "        Diffusion duration          Voting duration      Max EB size     \n",
       " L_diff = 7 slots:2225651   L_vote = 4 slots:2225651   12 MB/EB:2225651  \n",
       "                                                                         \n",
       "                                                                         \n",
       "                                                                         \n",
       "                                                                         \n",
       "                                                                         \n",
       "                                                                         \n",
       "      Tx size               Throughput       Plutus         Tx start [s]\n",
       " 1500 B/Tx:2225651   0.220 TxMB/s: 200120   Mode:logical   Min.   :0    \n",
       "                     0.230 TxMB/s: 200108   NA's:2225651   1st Qu.:0    \n",
       "                     0.190 TxMB/s: 171545                  Median :0    \n",
       "                     0.210 TxMB/s: 171545                  Mean   :0    \n",
       "                     0.200 TxMB/s: 171539                  3rd Qu.:0    \n",
       "                     0.170 TxMB/s: 150120                  Max.   :0    \n",
       "                     (Other)     :1160674                               \n",
       "  Tx stop [s]    Sim stop [s]  Message                Item        \n",
       " Min.   :1200   Min.   :1200   EB:   1572   144-node-14 :     58  \n",
       " 1st Qu.:1200   1st Qu.:1200   RB:   1761   20-node-220 :     58  \n",
       " Median :1200   Median :1200   TX:2222318   206-node-151:     58  \n",
       " Mean   :1200   Mean   :1200                234-node-573:     58  \n",
       " 3rd Qu.:1200   3rd Qu.:1200                257-node-528:     58  \n",
       " Max.   :1200   Max.   :1200                273-node-531:     58  \n",
       "                                            (Other)     :2225303  \n",
       "    Size [B]        References     Created [s]     To IB [s]     \n",
       " Min.   :   272   Min.   :0.000   Min.   :   0.0   Mode:logical  \n",
       " 1st Qu.:  1500   1st Qu.:2.000   1st Qu.: 300.1   NA's:2225651  \n",
       " Median :  1500   Median :2.000   Median : 600.1                 \n",
       " Mean   :  1621   Mean   :2.777   Mean   : 600.1                 \n",
       " 3rd Qu.:  1500   3rd Qu.:4.000   3rd Qu.: 900.1                 \n",
       " Max.   :256240   Max.   :7.000   Max.   :1200.0                 \n",
       "                                                                 \n",
       "   To EB [s]         To RB [s]        In RB [s]      \n",
       " Min.   :  20.08   Min.   :  89.2   Min.   :  20.1   \n",
       " 1st Qu.: 362.34   1st Qu.: 401.3   1st Qu.: 308.3   \n",
       " Median : 692.34   Median : 685.3   Median : 617.1   \n",
       " Mean   : 654.13   Mean   : 678.3   Mean   : 625.5   \n",
       " 3rd Qu.: 930.34   3rd Qu.: 949.3   3rd Qu.: 959.1   \n",
       " Max.   :1198.16   Max.   :1198.2   Max.   :1196.1   \n",
       " NA's   :291179    NA's   :404648   NA's   :2174525  "
      ]
     },
     "metadata": {},
     "output_type": "display_data"
    }
   ],
   "source": [
    "if (file.exists(\"results/lifecycle.Rdata\")) {\n",
    "    load(file=\"results/lifecycle.Rdata\")\n",
    "    cat(paste(\"Loaded Rdata file: sampleSize =\", sampleSize, \"\\n\"))\n",
    "} else {\n",
    "    lifecycle <- fread(\"results/lifecycle.csv.gz\", stringsAsFactors=TRUE)\n",
    "    sampleSize <- 1\n",
    "    save(lifecycle, sampleSize, file=\"results/lifecycle.R\")\n",
    "    cat(paste(\"Saved Rdata file: sampleSize =\", sampleSize, \"\\n\"))\n",
    "}\n",
    "setnames(lifecycle, old=\"Kind\", new=\"Message\")\n",
    "lifecycle <- lifecycle[`Throughput` != \"0.300 TxMB/s\"]\n",
    "lifecycle %>% summary"
   ]
  },
  {
   "cell_type": "markdown",
   "id": "a4498793-b5a5-46eb-881f-e9d5466c7ab5",
   "metadata": {},
   "source": [
    "Fraction of EBs certified"
   ]
  },
  {
   "cell_type": "code",
   "execution_count": 188,
   "id": "78d7d2b3-e59f-4429-b127-735bc81b2ffc",
   "metadata": {
    "tags": []
   },
   "outputs": [
    {
     "data": {
      "text/html": [
       "<table class=\"dataframe\">\n",
       "<caption>A data.table: 30 x 4</caption>\n",
       "<thead>\n",
       "\t<tr><th scope=col>Throughput</th><th scope=col>EBs</th><th scope=col>Certified</th><th scope=col>Fraction</th></tr>\n",
       "\t<tr><th scope=col>&lt;fct&gt;</th><th scope=col>&lt;int&gt;</th><th scope=col>&lt;int&gt;</th><th scope=col>&lt;dbl&gt;</th></tr>\n",
       "</thead>\n",
       "<tbody>\n",
       "\t<tr><td>0.002 TxMB/s</td><td> 8</td><td> 5</td><td>0.6250000</td></tr>\n",
       "\t<tr><td>0.003 TxMB/s</td><td>29</td><td>19</td><td>0.6551724</td></tr>\n",
       "\t<tr><td>0.004 TxMB/s</td><td>33</td><td>24</td><td>0.7272727</td></tr>\n",
       "\t<tr><td>0.005 TxMB/s</td><td>49</td><td>24</td><td>0.4897959</td></tr>\n",
       "\t<tr><td>0.006 TxMB/s</td><td>50</td><td>21</td><td>0.4200000</td></tr>\n",
       "\t<tr><td>0.007 TxMB/s</td><td>53</td><td>24</td><td>0.4528302</td></tr>\n",
       "\t<tr><td>0.008 TxMB/s</td><td>54</td><td>22</td><td>0.4074074</td></tr>\n",
       "\t<tr><td>0.009 TxMB/s</td><td>50</td><td>21</td><td>0.4200000</td></tr>\n",
       "\t<tr><td>0.010 TxMB/s</td><td>55</td><td>26</td><td>0.4727273</td></tr>\n",
       "\t<tr><td>0.020 TxMB/s</td><td>55</td><td>27</td><td>0.4909091</td></tr>\n",
       "\t<tr><td>0.030 TxMB/s</td><td>54</td><td>26</td><td>0.4814815</td></tr>\n",
       "\t<tr><td>0.040 TxMB/s</td><td>58</td><td>26</td><td>0.4482759</td></tr>\n",
       "\t<tr><td>0.050 TxMB/s</td><td>55</td><td>26</td><td>0.4727273</td></tr>\n",
       "\t<tr><td>0.060 TxMB/s</td><td>55</td><td>27</td><td>0.4909091</td></tr>\n",
       "\t<tr><td>0.070 TxMB/s</td><td>54</td><td>26</td><td>0.4814815</td></tr>\n",
       "\t<tr><td>0.080 TxMB/s</td><td>55</td><td>26</td><td>0.4727273</td></tr>\n",
       "\t<tr><td>0.090 TxMB/s</td><td>55</td><td>27</td><td>0.4909091</td></tr>\n",
       "\t<tr><td>0.100 TxMB/s</td><td>60</td><td>27</td><td>0.4500000</td></tr>\n",
       "\t<tr><td>0.110 TxMB/s</td><td>60</td><td>27</td><td>0.4500000</td></tr>\n",
       "\t<tr><td>0.120 TxMB/s</td><td>55</td><td>26</td><td>0.4727273</td></tr>\n",
       "\t<tr><td>0.130 TxMB/s</td><td>60</td><td>27</td><td>0.4500000</td></tr>\n",
       "\t<tr><td>0.140 TxMB/s</td><td>60</td><td>25</td><td>0.4166667</td></tr>\n",
       "\t<tr><td>0.150 TxMB/s</td><td>55</td><td>25</td><td>0.4545455</td></tr>\n",
       "\t<tr><td>0.160 TxMB/s</td><td>55</td><td>26</td><td>0.4727273</td></tr>\n",
       "\t<tr><td>0.170 TxMB/s</td><td>60</td><td>25</td><td>0.4166667</td></tr>\n",
       "\t<tr><td>0.190 TxMB/s</td><td>58</td><td>26</td><td>0.4482759</td></tr>\n",
       "\t<tr><td>0.200 TxMB/s</td><td>55</td><td>26</td><td>0.4727273</td></tr>\n",
       "\t<tr><td>0.210 TxMB/s</td><td>58</td><td>26</td><td>0.4482759</td></tr>\n",
       "\t<tr><td>0.220 TxMB/s</td><td>60</td><td>25</td><td>0.4166667</td></tr>\n",
       "\t<tr><td>0.230 TxMB/s</td><td>54</td><td>25</td><td>0.4629630</td></tr>\n",
       "</tbody>\n",
       "</table>\n"
      ],
      "text/latex": [
       "A data.table: 30 x 4\n",
       "\\begin{tabular}{llll}\n",
       " Throughput & EBs & Certified & Fraction\\\\\n",
       " <fct> & <int> & <int> & <dbl>\\\\\n",
       "\\hline\n",
       "\t 0.002 TxMB/s &  8 &  5 & 0.6250000\\\\\n",
       "\t 0.003 TxMB/s & 29 & 19 & 0.6551724\\\\\n",
       "\t 0.004 TxMB/s & 33 & 24 & 0.7272727\\\\\n",
       "\t 0.005 TxMB/s & 49 & 24 & 0.4897959\\\\\n",
       "\t 0.006 TxMB/s & 50 & 21 & 0.4200000\\\\\n",
       "\t 0.007 TxMB/s & 53 & 24 & 0.4528302\\\\\n",
       "\t 0.008 TxMB/s & 54 & 22 & 0.4074074\\\\\n",
       "\t 0.009 TxMB/s & 50 & 21 & 0.4200000\\\\\n",
       "\t 0.010 TxMB/s & 55 & 26 & 0.4727273\\\\\n",
       "\t 0.020 TxMB/s & 55 & 27 & 0.4909091\\\\\n",
       "\t 0.030 TxMB/s & 54 & 26 & 0.4814815\\\\\n",
       "\t 0.040 TxMB/s & 58 & 26 & 0.4482759\\\\\n",
       "\t 0.050 TxMB/s & 55 & 26 & 0.4727273\\\\\n",
       "\t 0.060 TxMB/s & 55 & 27 & 0.4909091\\\\\n",
       "\t 0.070 TxMB/s & 54 & 26 & 0.4814815\\\\\n",
       "\t 0.080 TxMB/s & 55 & 26 & 0.4727273\\\\\n",
       "\t 0.090 TxMB/s & 55 & 27 & 0.4909091\\\\\n",
       "\t 0.100 TxMB/s & 60 & 27 & 0.4500000\\\\\n",
       "\t 0.110 TxMB/s & 60 & 27 & 0.4500000\\\\\n",
       "\t 0.120 TxMB/s & 55 & 26 & 0.4727273\\\\\n",
       "\t 0.130 TxMB/s & 60 & 27 & 0.4500000\\\\\n",
       "\t 0.140 TxMB/s & 60 & 25 & 0.4166667\\\\\n",
       "\t 0.150 TxMB/s & 55 & 25 & 0.4545455\\\\\n",
       "\t 0.160 TxMB/s & 55 & 26 & 0.4727273\\\\\n",
       "\t 0.170 TxMB/s & 60 & 25 & 0.4166667\\\\\n",
       "\t 0.190 TxMB/s & 58 & 26 & 0.4482759\\\\\n",
       "\t 0.200 TxMB/s & 55 & 26 & 0.4727273\\\\\n",
       "\t 0.210 TxMB/s & 58 & 26 & 0.4482759\\\\\n",
       "\t 0.220 TxMB/s & 60 & 25 & 0.4166667\\\\\n",
       "\t 0.230 TxMB/s & 54 & 25 & 0.4629630\\\\\n",
       "\\end{tabular}\n"
      ],
      "text/markdown": [
       "\n",
       "A data.table: 30 x 4\n",
       "\n",
       "| Throughput &lt;fct&gt; | EBs &lt;int&gt; | Certified &lt;int&gt; | Fraction &lt;dbl&gt; |\n",
       "|---|---|---|---|\n",
       "| 0.002 TxMB/s |  8 |  5 | 0.6250000 |\n",
       "| 0.003 TxMB/s | 29 | 19 | 0.6551724 |\n",
       "| 0.004 TxMB/s | 33 | 24 | 0.7272727 |\n",
       "| 0.005 TxMB/s | 49 | 24 | 0.4897959 |\n",
       "| 0.006 TxMB/s | 50 | 21 | 0.4200000 |\n",
       "| 0.007 TxMB/s | 53 | 24 | 0.4528302 |\n",
       "| 0.008 TxMB/s | 54 | 22 | 0.4074074 |\n",
       "| 0.009 TxMB/s | 50 | 21 | 0.4200000 |\n",
       "| 0.010 TxMB/s | 55 | 26 | 0.4727273 |\n",
       "| 0.020 TxMB/s | 55 | 27 | 0.4909091 |\n",
       "| 0.030 TxMB/s | 54 | 26 | 0.4814815 |\n",
       "| 0.040 TxMB/s | 58 | 26 | 0.4482759 |\n",
       "| 0.050 TxMB/s | 55 | 26 | 0.4727273 |\n",
       "| 0.060 TxMB/s | 55 | 27 | 0.4909091 |\n",
       "| 0.070 TxMB/s | 54 | 26 | 0.4814815 |\n",
       "| 0.080 TxMB/s | 55 | 26 | 0.4727273 |\n",
       "| 0.090 TxMB/s | 55 | 27 | 0.4909091 |\n",
       "| 0.100 TxMB/s | 60 | 27 | 0.4500000 |\n",
       "| 0.110 TxMB/s | 60 | 27 | 0.4500000 |\n",
       "| 0.120 TxMB/s | 55 | 26 | 0.4727273 |\n",
       "| 0.130 TxMB/s | 60 | 27 | 0.4500000 |\n",
       "| 0.140 TxMB/s | 60 | 25 | 0.4166667 |\n",
       "| 0.150 TxMB/s | 55 | 25 | 0.4545455 |\n",
       "| 0.160 TxMB/s | 55 | 26 | 0.4727273 |\n",
       "| 0.170 TxMB/s | 60 | 25 | 0.4166667 |\n",
       "| 0.190 TxMB/s | 58 | 26 | 0.4482759 |\n",
       "| 0.200 TxMB/s | 55 | 26 | 0.4727273 |\n",
       "| 0.210 TxMB/s | 58 | 26 | 0.4482759 |\n",
       "| 0.220 TxMB/s | 60 | 25 | 0.4166667 |\n",
       "| 0.230 TxMB/s | 54 | 25 | 0.4629630 |\n",
       "\n"
      ],
      "text/plain": [
       "   Throughput   EBs Certified Fraction \n",
       "1  0.002 TxMB/s  8   5        0.6250000\n",
       "2  0.003 TxMB/s 29  19        0.6551724\n",
       "3  0.004 TxMB/s 33  24        0.7272727\n",
       "4  0.005 TxMB/s 49  24        0.4897959\n",
       "5  0.006 TxMB/s 50  21        0.4200000\n",
       "6  0.007 TxMB/s 53  24        0.4528302\n",
       "7  0.008 TxMB/s 54  22        0.4074074\n",
       "8  0.009 TxMB/s 50  21        0.4200000\n",
       "9  0.010 TxMB/s 55  26        0.4727273\n",
       "10 0.020 TxMB/s 55  27        0.4909091\n",
       "11 0.030 TxMB/s 54  26        0.4814815\n",
       "12 0.040 TxMB/s 58  26        0.4482759\n",
       "13 0.050 TxMB/s 55  26        0.4727273\n",
       "14 0.060 TxMB/s 55  27        0.4909091\n",
       "15 0.070 TxMB/s 54  26        0.4814815\n",
       "16 0.080 TxMB/s 55  26        0.4727273\n",
       "17 0.090 TxMB/s 55  27        0.4909091\n",
       "18 0.100 TxMB/s 60  27        0.4500000\n",
       "19 0.110 TxMB/s 60  27        0.4500000\n",
       "20 0.120 TxMB/s 55  26        0.4727273\n",
       "21 0.130 TxMB/s 60  27        0.4500000\n",
       "22 0.140 TxMB/s 60  25        0.4166667\n",
       "23 0.150 TxMB/s 55  25        0.4545455\n",
       "24 0.160 TxMB/s 55  26        0.4727273\n",
       "25 0.170 TxMB/s 60  25        0.4166667\n",
       "26 0.190 TxMB/s 58  26        0.4482759\n",
       "27 0.200 TxMB/s 55  26        0.4727273\n",
       "28 0.210 TxMB/s 58  26        0.4482759\n",
       "29 0.220 TxMB/s 60  25        0.4166667\n",
       "30 0.230 TxMB/s 54  25        0.4629630"
      ]
     },
     "metadata": {},
     "output_type": "display_data"
    }
   ],
   "source": [
    "lifecycle[`Message` == \"EB\", .(`EBs`=.N, `Certified`=sum(!is.na(`To RB [s]`)), `Fraction`=sum(!is.na(`To RB [s]`))/.N), `Throughput`]"
   ]
  },
  {
   "cell_type": "markdown",
   "id": "d21f13d1-970e-439e-9683-b091a6631977",
   "metadata": {},
   "source": [
    "Fraction of TXs on ledger"
   ]
  },
  {
   "cell_type": "code",
   "execution_count": 191,
   "id": "810fbc45-19eb-440d-b734-71a56da9382b",
   "metadata": {
    "tags": []
   },
   "outputs": [
    {
     "data": {
      "text/html": [
       "<table class=\"dataframe\">\n",
       "<caption>A data.table: 31 x 4</caption>\n",
       "<thead>\n",
       "\t<tr><th scope=col>Throughput</th><th scope=col>TXs</th><th scope=col>Certified</th><th scope=col>Fraction</th></tr>\n",
       "\t<tr><th scope=col>&lt;fct&gt;</th><th scope=col>&lt;int&gt;</th><th scope=col>&lt;int&gt;</th><th scope=col>&lt;dbl&gt;</th></tr>\n",
       "</thead>\n",
       "<tbody>\n",
       "\t<tr><td>0.001 TxMB/s</td><td>   800</td><td>     0</td><td>0.0000000</td></tr>\n",
       "\t<tr><td>0.002 TxMB/s</td><td>  1600</td><td>   283</td><td>0.1768750</td></tr>\n",
       "\t<tr><td>0.003 TxMB/s</td><td>  2400</td><td>  1151</td><td>0.4795833</td></tr>\n",
       "\t<tr><td>0.004 TxMB/s</td><td>  3200</td><td>  1880</td><td>0.5875000</td></tr>\n",
       "\t<tr><td>0.005 TxMB/s</td><td>  4000</td><td>  2139</td><td>0.5347500</td></tr>\n",
       "\t<tr><td>0.006 TxMB/s</td><td>  4800</td><td>  2464</td><td>0.5133333</td></tr>\n",
       "\t<tr><td>0.007 TxMB/s</td><td>  5608</td><td>  3591</td><td>0.6403352</td></tr>\n",
       "\t<tr><td>0.008 TxMB/s</td><td>  6418</td><td>  4219</td><td>0.6573699</td></tr>\n",
       "\t<tr><td>0.009 TxMB/s</td><td>  7229</td><td>  4632</td><td>0.6407525</td></tr>\n",
       "\t<tr><td>0.010 TxMB/s</td><td>  8000</td><td>  6186</td><td>0.7732500</td></tr>\n",
       "\t<tr><td>0.020 TxMB/s</td><td> 16000</td><td> 14050</td><td>0.8781250</td></tr>\n",
       "\t<tr><td>0.030 TxMB/s</td><td> 24000</td><td> 21797</td><td>0.9082083</td></tr>\n",
       "\t<tr><td>0.040 TxMB/s</td><td> 32433</td><td> 29121</td><td>0.8978818</td></tr>\n",
       "\t<tr><td>0.050 TxMB/s</td><td> 40000</td><td> 37410</td><td>0.9352500</td></tr>\n",
       "\t<tr><td>0.060 TxMB/s</td><td> 48000</td><td> 45275</td><td>0.9432292</td></tr>\n",
       "\t<tr><td>0.070 TxMB/s</td><td> 57143</td><td> 54135</td><td>0.9473601</td></tr>\n",
       "\t<tr><td>0.080 TxMB/s</td><td> 66667</td><td> 63428</td><td>0.9514152</td></tr>\n",
       "\t<tr><td>0.090 TxMB/s</td><td> 75000</td><td> 71615</td><td>0.9548667</td></tr>\n",
       "\t<tr><td>0.100 TxMB/s</td><td> 80000</td><td> 74445</td><td>0.9305625</td></tr>\n",
       "\t<tr><td>0.110 TxMB/s</td><td> 92308</td><td> 86214</td><td>0.9339819</td></tr>\n",
       "\t<tr><td>0.120 TxMB/s</td><td>100000</td><td> 96012</td><td>0.9601200</td></tr>\n",
       "\t<tr><td>0.130 TxMB/s</td><td>109091</td><td>102181</td><td>0.9366584</td></tr>\n",
       "\t<tr><td>0.140 TxMB/s</td><td>120000</td><td>112442</td><td>0.9370167</td></tr>\n",
       "\t<tr><td>0.150 TxMB/s</td><td>120000</td><td>113958</td><td>0.9496500</td></tr>\n",
       "\t<tr><td>0.160 TxMB/s</td><td>133334</td><td>127642</td><td>0.9573102</td></tr>\n",
       "\t<tr><td>0.170 TxMB/s</td><td>150000</td><td>120000</td><td>0.8000000</td></tr>\n",
       "\t<tr><td>0.190 TxMB/s</td><td>171429</td><td>128000</td><td>0.7466648</td></tr>\n",
       "\t<tr><td>0.200 TxMB/s</td><td>171429</td><td>128000</td><td>0.7466648</td></tr>\n",
       "\t<tr><td>0.210 TxMB/s</td><td>171429</td><td>128000</td><td>0.7466648</td></tr>\n",
       "\t<tr><td>0.220 TxMB/s</td><td>200000</td><td>120000</td><td>0.6000000</td></tr>\n",
       "\t<tr><td>0.230 TxMB/s</td><td>200000</td><td>120000</td><td>0.6000000</td></tr>\n",
       "</tbody>\n",
       "</table>\n"
      ],
      "text/latex": [
       "A data.table: 31 x 4\n",
       "\\begin{tabular}{llll}\n",
       " Throughput & TXs & Certified & Fraction\\\\\n",
       " <fct> & <int> & <int> & <dbl>\\\\\n",
       "\\hline\n",
       "\t 0.001 TxMB/s &    800 &      0 & 0.0000000\\\\\n",
       "\t 0.002 TxMB/s &   1600 &    283 & 0.1768750\\\\\n",
       "\t 0.003 TxMB/s &   2400 &   1151 & 0.4795833\\\\\n",
       "\t 0.004 TxMB/s &   3200 &   1880 & 0.5875000\\\\\n",
       "\t 0.005 TxMB/s &   4000 &   2139 & 0.5347500\\\\\n",
       "\t 0.006 TxMB/s &   4800 &   2464 & 0.5133333\\\\\n",
       "\t 0.007 TxMB/s &   5608 &   3591 & 0.6403352\\\\\n",
       "\t 0.008 TxMB/s &   6418 &   4219 & 0.6573699\\\\\n",
       "\t 0.009 TxMB/s &   7229 &   4632 & 0.6407525\\\\\n",
       "\t 0.010 TxMB/s &   8000 &   6186 & 0.7732500\\\\\n",
       "\t 0.020 TxMB/s &  16000 &  14050 & 0.8781250\\\\\n",
       "\t 0.030 TxMB/s &  24000 &  21797 & 0.9082083\\\\\n",
       "\t 0.040 TxMB/s &  32433 &  29121 & 0.8978818\\\\\n",
       "\t 0.050 TxMB/s &  40000 &  37410 & 0.9352500\\\\\n",
       "\t 0.060 TxMB/s &  48000 &  45275 & 0.9432292\\\\\n",
       "\t 0.070 TxMB/s &  57143 &  54135 & 0.9473601\\\\\n",
       "\t 0.080 TxMB/s &  66667 &  63428 & 0.9514152\\\\\n",
       "\t 0.090 TxMB/s &  75000 &  71615 & 0.9548667\\\\\n",
       "\t 0.100 TxMB/s &  80000 &  74445 & 0.9305625\\\\\n",
       "\t 0.110 TxMB/s &  92308 &  86214 & 0.9339819\\\\\n",
       "\t 0.120 TxMB/s & 100000 &  96012 & 0.9601200\\\\\n",
       "\t 0.130 TxMB/s & 109091 & 102181 & 0.9366584\\\\\n",
       "\t 0.140 TxMB/s & 120000 & 112442 & 0.9370167\\\\\n",
       "\t 0.150 TxMB/s & 120000 & 113958 & 0.9496500\\\\\n",
       "\t 0.160 TxMB/s & 133334 & 127642 & 0.9573102\\\\\n",
       "\t 0.170 TxMB/s & 150000 & 120000 & 0.8000000\\\\\n",
       "\t 0.190 TxMB/s & 171429 & 128000 & 0.7466648\\\\\n",
       "\t 0.200 TxMB/s & 171429 & 128000 & 0.7466648\\\\\n",
       "\t 0.210 TxMB/s & 171429 & 128000 & 0.7466648\\\\\n",
       "\t 0.220 TxMB/s & 200000 & 120000 & 0.6000000\\\\\n",
       "\t 0.230 TxMB/s & 200000 & 120000 & 0.6000000\\\\\n",
       "\\end{tabular}\n"
      ],
      "text/markdown": [
       "\n",
       "A data.table: 31 x 4\n",
       "\n",
       "| Throughput &lt;fct&gt; | TXs &lt;int&gt; | Certified &lt;int&gt; | Fraction &lt;dbl&gt; |\n",
       "|---|---|---|---|\n",
       "| 0.001 TxMB/s |    800 |      0 | 0.0000000 |\n",
       "| 0.002 TxMB/s |   1600 |    283 | 0.1768750 |\n",
       "| 0.003 TxMB/s |   2400 |   1151 | 0.4795833 |\n",
       "| 0.004 TxMB/s |   3200 |   1880 | 0.5875000 |\n",
       "| 0.005 TxMB/s |   4000 |   2139 | 0.5347500 |\n",
       "| 0.006 TxMB/s |   4800 |   2464 | 0.5133333 |\n",
       "| 0.007 TxMB/s |   5608 |   3591 | 0.6403352 |\n",
       "| 0.008 TxMB/s |   6418 |   4219 | 0.6573699 |\n",
       "| 0.009 TxMB/s |   7229 |   4632 | 0.6407525 |\n",
       "| 0.010 TxMB/s |   8000 |   6186 | 0.7732500 |\n",
       "| 0.020 TxMB/s |  16000 |  14050 | 0.8781250 |\n",
       "| 0.030 TxMB/s |  24000 |  21797 | 0.9082083 |\n",
       "| 0.040 TxMB/s |  32433 |  29121 | 0.8978818 |\n",
       "| 0.050 TxMB/s |  40000 |  37410 | 0.9352500 |\n",
       "| 0.060 TxMB/s |  48000 |  45275 | 0.9432292 |\n",
       "| 0.070 TxMB/s |  57143 |  54135 | 0.9473601 |\n",
       "| 0.080 TxMB/s |  66667 |  63428 | 0.9514152 |\n",
       "| 0.090 TxMB/s |  75000 |  71615 | 0.9548667 |\n",
       "| 0.100 TxMB/s |  80000 |  74445 | 0.9305625 |\n",
       "| 0.110 TxMB/s |  92308 |  86214 | 0.9339819 |\n",
       "| 0.120 TxMB/s | 100000 |  96012 | 0.9601200 |\n",
       "| 0.130 TxMB/s | 109091 | 102181 | 0.9366584 |\n",
       "| 0.140 TxMB/s | 120000 | 112442 | 0.9370167 |\n",
       "| 0.150 TxMB/s | 120000 | 113958 | 0.9496500 |\n",
       "| 0.160 TxMB/s | 133334 | 127642 | 0.9573102 |\n",
       "| 0.170 TxMB/s | 150000 | 120000 | 0.8000000 |\n",
       "| 0.190 TxMB/s | 171429 | 128000 | 0.7466648 |\n",
       "| 0.200 TxMB/s | 171429 | 128000 | 0.7466648 |\n",
       "| 0.210 TxMB/s | 171429 | 128000 | 0.7466648 |\n",
       "| 0.220 TxMB/s | 200000 | 120000 | 0.6000000 |\n",
       "| 0.230 TxMB/s | 200000 | 120000 | 0.6000000 |\n",
       "\n"
      ],
      "text/plain": [
       "   Throughput   TXs    Certified Fraction \n",
       "1  0.001 TxMB/s    800      0    0.0000000\n",
       "2  0.002 TxMB/s   1600    283    0.1768750\n",
       "3  0.003 TxMB/s   2400   1151    0.4795833\n",
       "4  0.004 TxMB/s   3200   1880    0.5875000\n",
       "5  0.005 TxMB/s   4000   2139    0.5347500\n",
       "6  0.006 TxMB/s   4800   2464    0.5133333\n",
       "7  0.007 TxMB/s   5608   3591    0.6403352\n",
       "8  0.008 TxMB/s   6418   4219    0.6573699\n",
       "9  0.009 TxMB/s   7229   4632    0.6407525\n",
       "10 0.010 TxMB/s   8000   6186    0.7732500\n",
       "11 0.020 TxMB/s  16000  14050    0.8781250\n",
       "12 0.030 TxMB/s  24000  21797    0.9082083\n",
       "13 0.040 TxMB/s  32433  29121    0.8978818\n",
       "14 0.050 TxMB/s  40000  37410    0.9352500\n",
       "15 0.060 TxMB/s  48000  45275    0.9432292\n",
       "16 0.070 TxMB/s  57143  54135    0.9473601\n",
       "17 0.080 TxMB/s  66667  63428    0.9514152\n",
       "18 0.090 TxMB/s  75000  71615    0.9548667\n",
       "19 0.100 TxMB/s  80000  74445    0.9305625\n",
       "20 0.110 TxMB/s  92308  86214    0.9339819\n",
       "21 0.120 TxMB/s 100000  96012    0.9601200\n",
       "22 0.130 TxMB/s 109091 102181    0.9366584\n",
       "23 0.140 TxMB/s 120000 112442    0.9370167\n",
       "24 0.150 TxMB/s 120000 113958    0.9496500\n",
       "25 0.160 TxMB/s 133334 127642    0.9573102\n",
       "26 0.170 TxMB/s 150000 120000    0.8000000\n",
       "27 0.190 TxMB/s 171429 128000    0.7466648\n",
       "28 0.200 TxMB/s 171429 128000    0.7466648\n",
       "29 0.210 TxMB/s 171429 128000    0.7466648\n",
       "30 0.220 TxMB/s 200000 120000    0.6000000\n",
       "31 0.230 TxMB/s 200000 120000    0.6000000"
      ]
     },
     "metadata": {},
     "output_type": "display_data"
    }
   ],
   "source": [
    "lifecycle[\n",
    "    `Message` == \"TX\", \n",
    "    .(`TXs`=.N, `Certified`=sum(!is.na(`To RB [s]`)), `Fraction`=sum(!is.na(`To RB [s]`))/.N), \n",
    "    `Throughput`\n",
    "]"
   ]
  },
  {
   "cell_type": "code",
   "execution_count": 193,
   "id": "6edb8cff-b5c2-47ec-b378-18e7939264f9",
   "metadata": {
    "tags": []
   },
   "outputs": [
    {
     "data": {
      "text/html": [
       "<table class=\"dataframe\">\n",
       "<caption>A data.table: 81 x 6</caption>\n",
       "<thead>\n",
       "\t<tr><th scope=col>Throughput</th><th scope=col>Time [s]</th><th scope=col>Kind</th><th scope=col>Block</th><th scope=col>Count</th><th scope=col>Size [B]</th></tr>\n",
       "\t<tr><th scope=col>&lt;fct&gt;</th><th scope=col>&lt;dbl&gt;</th><th scope=col>&lt;fct&gt;</th><th scope=col>&lt;fct&gt;</th><th scope=col>&lt;int&gt;</th><th scope=col>&lt;dbl&gt;</th></tr>\n",
       "</thead>\n",
       "<tbody>\n",
       "\t<tr><td>0.230 TxMB/s</td><td> 20.1825</td><td>RB</td><td>20-node-220 </td><td>  2</td><td>   3000</td></tr>\n",
       "\t<tr><td>0.230 TxMB/s</td><td> 20.1825</td><td>EB</td><td>20-node-220 </td><td>315</td><td> 472500</td></tr>\n",
       "\t<tr><td>0.230 TxMB/s</td><td> 25.2029</td><td>RB</td><td>25-node-223 </td><td>  9</td><td>  13500</td></tr>\n",
       "\t<tr><td>0.230 TxMB/s</td><td> 25.2029</td><td>EB</td><td>25-node-223 </td><td>368</td><td> 552000</td></tr>\n",
       "\t<tr><td>0.230 TxMB/s</td><td>144.3394</td><td>RB</td><td>144-node-14 </td><td>  7</td><td>  10500</td></tr>\n",
       "\t<tr><td>0.230 TxMB/s</td><td>144.3394</td><td>EB</td><td>144-node-14 </td><td>787</td><td>1180500</td></tr>\n",
       "\t<tr><td>0.230 TxMB/s</td><td>206.3394</td><td>EB</td><td>206-node-151</td><td>803</td><td>1204500</td></tr>\n",
       "\t<tr><td>0.230 TxMB/s</td><td>234.3394</td><td>EB</td><td>234-node-573</td><td>796</td><td>1194000</td></tr>\n",
       "\t<tr><td>0.230 TxMB/s</td><td>257.3394</td><td>EB</td><td>257-node-528</td><td>794</td><td>1191000</td></tr>\n",
       "\t<tr><td>0.230 TxMB/s</td><td>273.3394</td><td>EB</td><td>273-node-531</td><td>786</td><td>1179000</td></tr>\n",
       "\t<tr><td>0.230 TxMB/s</td><td>275.3394</td><td>RB</td><td>275-node-558</td><td>  4</td><td>   6000</td></tr>\n",
       "\t<tr><td>0.230 TxMB/s</td><td>275.3394</td><td>EB</td><td>275-node-558</td><td>820</td><td>1230000</td></tr>\n",
       "\t<tr><td>0.230 TxMB/s</td><td>288.3394</td><td>RB</td><td>288-node-132</td><td>  4</td><td>   6000</td></tr>\n",
       "\t<tr><td>0.230 TxMB/s</td><td>288.3394</td><td>EB</td><td>288-node-132</td><td>836</td><td>1254000</td></tr>\n",
       "\t<tr><td>0.230 TxMB/s</td><td>289.3394</td><td>RB</td><td>289-node-91 </td><td>  4</td><td>   6000</td></tr>\n",
       "\t<tr><td>0.230 TxMB/s</td><td>289.3394</td><td>EB</td><td>289-node-91 </td><td>809</td><td>1213500</td></tr>\n",
       "\t<tr><td>0.230 TxMB/s</td><td>296.3394</td><td>RB</td><td>296-node-95 </td><td>  9</td><td>  13500</td></tr>\n",
       "\t<tr><td>0.230 TxMB/s</td><td>296.3394</td><td>EB</td><td>296-node-95 </td><td>741</td><td>1111500</td></tr>\n",
       "\t<tr><td>0.230 TxMB/s</td><td>308.3394</td><td>RB</td><td>308-node-159</td><td>  9</td><td>  13500</td></tr>\n",
       "\t<tr><td>0.230 TxMB/s</td><td>308.3394</td><td>EB</td><td>308-node-159</td><td>835</td><td>1252500</td></tr>\n",
       "\t<tr><td>0.230 TxMB/s</td><td>333.3394</td><td>EB</td><td>333-node-146</td><td>803</td><td>1204500</td></tr>\n",
       "\t<tr><td>0.230 TxMB/s</td><td>362.3394</td><td>EB</td><td>362-node-585</td><td>819</td><td>1228500</td></tr>\n",
       "\t<tr><td>0.230 TxMB/s</td><td>401.3394</td><td>EB</td><td>401-node-207</td><td>785</td><td>1177500</td></tr>\n",
       "\t<tr><td>0.230 TxMB/s</td><td>417.3394</td><td>EB</td><td>417-node-147</td><td>788</td><td>1182000</td></tr>\n",
       "\t<tr><td>0.230 TxMB/s</td><td>417.3394</td><td>EB</td><td>417-node-16 </td><td>790</td><td>1185000</td></tr>\n",
       "\t<tr><td>0.230 TxMB/s</td><td>428.3394</td><td>RB</td><td>428-node-100</td><td>  4</td><td>   6000</td></tr>\n",
       "\t<tr><td>0.230 TxMB/s</td><td>428.3394</td><td>EB</td><td>428-node-100</td><td>827</td><td>1240500</td></tr>\n",
       "\t<tr><td>0.230 TxMB/s</td><td>479.3394</td><td>EB</td><td>479-node-197</td><td>775</td><td>1162500</td></tr>\n",
       "\t<tr><td>0.230 TxMB/s</td><td>480.3394</td><td>EB</td><td>480-node-92 </td><td>799</td><td>1198500</td></tr>\n",
       "\t<tr><td>0.230 TxMB/s</td><td>501.3394</td><td>EB</td><td>501-node-414</td><td>822</td><td>1233000</td></tr>\n",
       "\t<tr><td>...</td><td>...</td><td>...</td><td>...</td><td>...</td><td>...</td></tr>\n",
       "\t<tr><td>0.230 TxMB/s</td><td> 712.3394</td><td>EB</td><td>712-node-485 </td><td>851</td><td>1276500</td></tr>\n",
       "\t<tr><td>0.230 TxMB/s</td><td> 718.3394</td><td>RB</td><td>718-node-580 </td><td>  3</td><td>   4500</td></tr>\n",
       "\t<tr><td>0.230 TxMB/s</td><td> 718.3394</td><td>EB</td><td>718-node-580 </td><td>825</td><td>1237500</td></tr>\n",
       "\t<tr><td>0.230 TxMB/s</td><td> 752.3394</td><td>EB</td><td>752-node-487 </td><td>856</td><td>1284000</td></tr>\n",
       "\t<tr><td>0.230 TxMB/s</td><td> 811.3394</td><td>EB</td><td>811-node-217 </td><td>790</td><td>1185000</td></tr>\n",
       "\t<tr><td>0.230 TxMB/s</td><td> 831.3394</td><td>EB</td><td>831-node-584 </td><td>796</td><td>1194000</td></tr>\n",
       "\t<tr><td>0.230 TxMB/s</td><td> 870.3394</td><td>EB</td><td>870-node-574 </td><td>795</td><td>1192500</td></tr>\n",
       "\t<tr><td>0.230 TxMB/s</td><td> 926.3394</td><td>EB</td><td>926-node-182 </td><td>832</td><td>1248000</td></tr>\n",
       "\t<tr><td>0.230 TxMB/s</td><td> 930.3394</td><td>RB</td><td>930-node-497 </td><td>  7</td><td>  10500</td></tr>\n",
       "\t<tr><td>0.230 TxMB/s</td><td> 930.3394</td><td>EB</td><td>930-node-497 </td><td>790</td><td>1185000</td></tr>\n",
       "\t<tr><td>0.230 TxMB/s</td><td> 949.3394</td><td>EB</td><td>949-node-487 </td><td>818</td><td>1227000</td></tr>\n",
       "\t<tr><td>0.230 TxMB/s</td><td> 959.3394</td><td>RB</td><td>959-node-9   </td><td>  6</td><td>   9000</td></tr>\n",
       "\t<tr><td>0.230 TxMB/s</td><td> 959.3394</td><td>EB</td><td>959-node-9   </td><td>812</td><td>1218000</td></tr>\n",
       "\t<tr><td>0.230 TxMB/s</td><td> 965.3394</td><td>RB</td><td>965-node-154 </td><td> 13</td><td>  19500</td></tr>\n",
       "\t<tr><td>0.230 TxMB/s</td><td> 965.3394</td><td>EB</td><td>965-node-154 </td><td>778</td><td>1167000</td></tr>\n",
       "\t<tr><td>0.230 TxMB/s</td><td> 993.3394</td><td>EB</td><td>993-node-424 </td><td>826</td><td>1239000</td></tr>\n",
       "\t<tr><td>0.230 TxMB/s</td><td>1051.3394</td><td>EB</td><td>1051-node-135</td><td>866</td><td>1299000</td></tr>\n",
       "\t<tr><td>0.230 TxMB/s</td><td>1058.3394</td><td>RB</td><td>1058-node-94 </td><td>  7</td><td>  10500</td></tr>\n",
       "\t<tr><td>0.230 TxMB/s</td><td>1058.3394</td><td>EB</td><td>1058-node-94 </td><td>804</td><td>1206000</td></tr>\n",
       "\t<tr><td>0.230 TxMB/s</td><td>1071.3394</td><td>RB</td><td>1071-node-438</td><td>  5</td><td>   7500</td></tr>\n",
       "\t<tr><td>0.230 TxMB/s</td><td>1071.3394</td><td>EB</td><td>1071-node-438</td><td>825</td><td>1237500</td></tr>\n",
       "\t<tr><td>0.230 TxMB/s</td><td>1083.3394</td><td>RB</td><td>1083-node-568</td><td>  6</td><td>   9000</td></tr>\n",
       "\t<tr><td>0.230 TxMB/s</td><td>1083.3394</td><td>EB</td><td>1083-node-568</td><td>805</td><td>1207500</td></tr>\n",
       "\t<tr><td>0.230 TxMB/s</td><td>1088.3394</td><td>RB</td><td>1088-node-217</td><td> 10</td><td>  15000</td></tr>\n",
       "\t<tr><td>0.230 TxMB/s</td><td>1088.3394</td><td>EB</td><td>1088-node-217</td><td>802</td><td>1203000</td></tr>\n",
       "\t<tr><td>0.230 TxMB/s</td><td>1107.3394</td><td>EB</td><td>1107-node-143</td><td>787</td><td>1180500</td></tr>\n",
       "\t<tr><td>0.230 TxMB/s</td><td>1118.3394</td><td>RB</td><td>1118-node-216</td><td>  8</td><td>  12000</td></tr>\n",
       "\t<tr><td>0.230 TxMB/s</td><td>1118.3394</td><td>EB</td><td>1118-node-216</td><td>777</td><td>1165500</td></tr>\n",
       "\t<tr><td>0.230 TxMB/s</td><td>1171.3394</td><td>EB</td><td>1171-node-197</td><td>736</td><td>1104000</td></tr>\n",
       "\t<tr><td>0.230 TxMB/s</td><td>1188.3394</td><td>EB</td><td>1188-node-161</td><td>828</td><td>1242000</td></tr>\n",
       "</tbody>\n",
       "</table>\n"
      ],
      "text/latex": [
       "A data.table: 81 x 6\n",
       "\\begin{tabular}{llllll}\n",
       " Throughput & Time {[}s{]} & Kind & Block & Count & Size {[}B{]}\\\\\n",
       " <fct> & <dbl> & <fct> & <fct> & <int> & <dbl>\\\\\n",
       "\\hline\n",
       "\t 0.230 TxMB/s &  20.1825 & RB & 20-node-220  &   2 &    3000\\\\\n",
       "\t 0.230 TxMB/s &  20.1825 & EB & 20-node-220  & 315 &  472500\\\\\n",
       "\t 0.230 TxMB/s &  25.2029 & RB & 25-node-223  &   9 &   13500\\\\\n",
       "\t 0.230 TxMB/s &  25.2029 & EB & 25-node-223  & 368 &  552000\\\\\n",
       "\t 0.230 TxMB/s & 144.3394 & RB & 144-node-14  &   7 &   10500\\\\\n",
       "\t 0.230 TxMB/s & 144.3394 & EB & 144-node-14  & 787 & 1180500\\\\\n",
       "\t 0.230 TxMB/s & 206.3394 & EB & 206-node-151 & 803 & 1204500\\\\\n",
       "\t 0.230 TxMB/s & 234.3394 & EB & 234-node-573 & 796 & 1194000\\\\\n",
       "\t 0.230 TxMB/s & 257.3394 & EB & 257-node-528 & 794 & 1191000\\\\\n",
       "\t 0.230 TxMB/s & 273.3394 & EB & 273-node-531 & 786 & 1179000\\\\\n",
       "\t 0.230 TxMB/s & 275.3394 & RB & 275-node-558 &   4 &    6000\\\\\n",
       "\t 0.230 TxMB/s & 275.3394 & EB & 275-node-558 & 820 & 1230000\\\\\n",
       "\t 0.230 TxMB/s & 288.3394 & RB & 288-node-132 &   4 &    6000\\\\\n",
       "\t 0.230 TxMB/s & 288.3394 & EB & 288-node-132 & 836 & 1254000\\\\\n",
       "\t 0.230 TxMB/s & 289.3394 & RB & 289-node-91  &   4 &    6000\\\\\n",
       "\t 0.230 TxMB/s & 289.3394 & EB & 289-node-91  & 809 & 1213500\\\\\n",
       "\t 0.230 TxMB/s & 296.3394 & RB & 296-node-95  &   9 &   13500\\\\\n",
       "\t 0.230 TxMB/s & 296.3394 & EB & 296-node-95  & 741 & 1111500\\\\\n",
       "\t 0.230 TxMB/s & 308.3394 & RB & 308-node-159 &   9 &   13500\\\\\n",
       "\t 0.230 TxMB/s & 308.3394 & EB & 308-node-159 & 835 & 1252500\\\\\n",
       "\t 0.230 TxMB/s & 333.3394 & EB & 333-node-146 & 803 & 1204500\\\\\n",
       "\t 0.230 TxMB/s & 362.3394 & EB & 362-node-585 & 819 & 1228500\\\\\n",
       "\t 0.230 TxMB/s & 401.3394 & EB & 401-node-207 & 785 & 1177500\\\\\n",
       "\t 0.230 TxMB/s & 417.3394 & EB & 417-node-147 & 788 & 1182000\\\\\n",
       "\t 0.230 TxMB/s & 417.3394 & EB & 417-node-16  & 790 & 1185000\\\\\n",
       "\t 0.230 TxMB/s & 428.3394 & RB & 428-node-100 &   4 &    6000\\\\\n",
       "\t 0.230 TxMB/s & 428.3394 & EB & 428-node-100 & 827 & 1240500\\\\\n",
       "\t 0.230 TxMB/s & 479.3394 & EB & 479-node-197 & 775 & 1162500\\\\\n",
       "\t 0.230 TxMB/s & 480.3394 & EB & 480-node-92  & 799 & 1198500\\\\\n",
       "\t 0.230 TxMB/s & 501.3394 & EB & 501-node-414 & 822 & 1233000\\\\\n",
       "\t ... & ... & ... & ... & ... & ...\\\\\n",
       "\t 0.230 TxMB/s &  712.3394 & EB & 712-node-485  & 851 & 1276500\\\\\n",
       "\t 0.230 TxMB/s &  718.3394 & RB & 718-node-580  &   3 &    4500\\\\\n",
       "\t 0.230 TxMB/s &  718.3394 & EB & 718-node-580  & 825 & 1237500\\\\\n",
       "\t 0.230 TxMB/s &  752.3394 & EB & 752-node-487  & 856 & 1284000\\\\\n",
       "\t 0.230 TxMB/s &  811.3394 & EB & 811-node-217  & 790 & 1185000\\\\\n",
       "\t 0.230 TxMB/s &  831.3394 & EB & 831-node-584  & 796 & 1194000\\\\\n",
       "\t 0.230 TxMB/s &  870.3394 & EB & 870-node-574  & 795 & 1192500\\\\\n",
       "\t 0.230 TxMB/s &  926.3394 & EB & 926-node-182  & 832 & 1248000\\\\\n",
       "\t 0.230 TxMB/s &  930.3394 & RB & 930-node-497  &   7 &   10500\\\\\n",
       "\t 0.230 TxMB/s &  930.3394 & EB & 930-node-497  & 790 & 1185000\\\\\n",
       "\t 0.230 TxMB/s &  949.3394 & EB & 949-node-487  & 818 & 1227000\\\\\n",
       "\t 0.230 TxMB/s &  959.3394 & RB & 959-node-9    &   6 &    9000\\\\\n",
       "\t 0.230 TxMB/s &  959.3394 & EB & 959-node-9    & 812 & 1218000\\\\\n",
       "\t 0.230 TxMB/s &  965.3394 & RB & 965-node-154  &  13 &   19500\\\\\n",
       "\t 0.230 TxMB/s &  965.3394 & EB & 965-node-154  & 778 & 1167000\\\\\n",
       "\t 0.230 TxMB/s &  993.3394 & EB & 993-node-424  & 826 & 1239000\\\\\n",
       "\t 0.230 TxMB/s & 1051.3394 & EB & 1051-node-135 & 866 & 1299000\\\\\n",
       "\t 0.230 TxMB/s & 1058.3394 & RB & 1058-node-94  &   7 &   10500\\\\\n",
       "\t 0.230 TxMB/s & 1058.3394 & EB & 1058-node-94  & 804 & 1206000\\\\\n",
       "\t 0.230 TxMB/s & 1071.3394 & RB & 1071-node-438 &   5 &    7500\\\\\n",
       "\t 0.230 TxMB/s & 1071.3394 & EB & 1071-node-438 & 825 & 1237500\\\\\n",
       "\t 0.230 TxMB/s & 1083.3394 & RB & 1083-node-568 &   6 &    9000\\\\\n",
       "\t 0.230 TxMB/s & 1083.3394 & EB & 1083-node-568 & 805 & 1207500\\\\\n",
       "\t 0.230 TxMB/s & 1088.3394 & RB & 1088-node-217 &  10 &   15000\\\\\n",
       "\t 0.230 TxMB/s & 1088.3394 & EB & 1088-node-217 & 802 & 1203000\\\\\n",
       "\t 0.230 TxMB/s & 1107.3394 & EB & 1107-node-143 & 787 & 1180500\\\\\n",
       "\t 0.230 TxMB/s & 1118.3394 & RB & 1118-node-216 &   8 &   12000\\\\\n",
       "\t 0.230 TxMB/s & 1118.3394 & EB & 1118-node-216 & 777 & 1165500\\\\\n",
       "\t 0.230 TxMB/s & 1171.3394 & EB & 1171-node-197 & 736 & 1104000\\\\\n",
       "\t 0.230 TxMB/s & 1188.3394 & EB & 1188-node-161 & 828 & 1242000\\\\\n",
       "\\end{tabular}\n"
      ],
      "text/markdown": [
       "\n",
       "A data.table: 81 x 6\n",
       "\n",
       "| Throughput &lt;fct&gt; | Time [s] &lt;dbl&gt; | Kind &lt;fct&gt; | Block &lt;fct&gt; | Count &lt;int&gt; | Size [B] &lt;dbl&gt; |\n",
       "|---|---|---|---|---|---|\n",
       "| 0.230 TxMB/s |  20.1825 | RB | 20-node-220  |   2 |    3000 |\n",
       "| 0.230 TxMB/s |  20.1825 | EB | 20-node-220  | 315 |  472500 |\n",
       "| 0.230 TxMB/s |  25.2029 | RB | 25-node-223  |   9 |   13500 |\n",
       "| 0.230 TxMB/s |  25.2029 | EB | 25-node-223  | 368 |  552000 |\n",
       "| 0.230 TxMB/s | 144.3394 | RB | 144-node-14  |   7 |   10500 |\n",
       "| 0.230 TxMB/s | 144.3394 | EB | 144-node-14  | 787 | 1180500 |\n",
       "| 0.230 TxMB/s | 206.3394 | EB | 206-node-151 | 803 | 1204500 |\n",
       "| 0.230 TxMB/s | 234.3394 | EB | 234-node-573 | 796 | 1194000 |\n",
       "| 0.230 TxMB/s | 257.3394 | EB | 257-node-528 | 794 | 1191000 |\n",
       "| 0.230 TxMB/s | 273.3394 | EB | 273-node-531 | 786 | 1179000 |\n",
       "| 0.230 TxMB/s | 275.3394 | RB | 275-node-558 |   4 |    6000 |\n",
       "| 0.230 TxMB/s | 275.3394 | EB | 275-node-558 | 820 | 1230000 |\n",
       "| 0.230 TxMB/s | 288.3394 | RB | 288-node-132 |   4 |    6000 |\n",
       "| 0.230 TxMB/s | 288.3394 | EB | 288-node-132 | 836 | 1254000 |\n",
       "| 0.230 TxMB/s | 289.3394 | RB | 289-node-91  |   4 |    6000 |\n",
       "| 0.230 TxMB/s | 289.3394 | EB | 289-node-91  | 809 | 1213500 |\n",
       "| 0.230 TxMB/s | 296.3394 | RB | 296-node-95  |   9 |   13500 |\n",
       "| 0.230 TxMB/s | 296.3394 | EB | 296-node-95  | 741 | 1111500 |\n",
       "| 0.230 TxMB/s | 308.3394 | RB | 308-node-159 |   9 |   13500 |\n",
       "| 0.230 TxMB/s | 308.3394 | EB | 308-node-159 | 835 | 1252500 |\n",
       "| 0.230 TxMB/s | 333.3394 | EB | 333-node-146 | 803 | 1204500 |\n",
       "| 0.230 TxMB/s | 362.3394 | EB | 362-node-585 | 819 | 1228500 |\n",
       "| 0.230 TxMB/s | 401.3394 | EB | 401-node-207 | 785 | 1177500 |\n",
       "| 0.230 TxMB/s | 417.3394 | EB | 417-node-147 | 788 | 1182000 |\n",
       "| 0.230 TxMB/s | 417.3394 | EB | 417-node-16  | 790 | 1185000 |\n",
       "| 0.230 TxMB/s | 428.3394 | RB | 428-node-100 |   4 |    6000 |\n",
       "| 0.230 TxMB/s | 428.3394 | EB | 428-node-100 | 827 | 1240500 |\n",
       "| 0.230 TxMB/s | 479.3394 | EB | 479-node-197 | 775 | 1162500 |\n",
       "| 0.230 TxMB/s | 480.3394 | EB | 480-node-92  | 799 | 1198500 |\n",
       "| 0.230 TxMB/s | 501.3394 | EB | 501-node-414 | 822 | 1233000 |\n",
       "| ... | ... | ... | ... | ... | ... |\n",
       "| 0.230 TxMB/s |  712.3394 | EB | 712-node-485  | 851 | 1276500 |\n",
       "| 0.230 TxMB/s |  718.3394 | RB | 718-node-580  |   3 |    4500 |\n",
       "| 0.230 TxMB/s |  718.3394 | EB | 718-node-580  | 825 | 1237500 |\n",
       "| 0.230 TxMB/s |  752.3394 | EB | 752-node-487  | 856 | 1284000 |\n",
       "| 0.230 TxMB/s |  811.3394 | EB | 811-node-217  | 790 | 1185000 |\n",
       "| 0.230 TxMB/s |  831.3394 | EB | 831-node-584  | 796 | 1194000 |\n",
       "| 0.230 TxMB/s |  870.3394 | EB | 870-node-574  | 795 | 1192500 |\n",
       "| 0.230 TxMB/s |  926.3394 | EB | 926-node-182  | 832 | 1248000 |\n",
       "| 0.230 TxMB/s |  930.3394 | RB | 930-node-497  |   7 |   10500 |\n",
       "| 0.230 TxMB/s |  930.3394 | EB | 930-node-497  | 790 | 1185000 |\n",
       "| 0.230 TxMB/s |  949.3394 | EB | 949-node-487  | 818 | 1227000 |\n",
       "| 0.230 TxMB/s |  959.3394 | RB | 959-node-9    |   6 |    9000 |\n",
       "| 0.230 TxMB/s |  959.3394 | EB | 959-node-9    | 812 | 1218000 |\n",
       "| 0.230 TxMB/s |  965.3394 | RB | 965-node-154  |  13 |   19500 |\n",
       "| 0.230 TxMB/s |  965.3394 | EB | 965-node-154  | 778 | 1167000 |\n",
       "| 0.230 TxMB/s |  993.3394 | EB | 993-node-424  | 826 | 1239000 |\n",
       "| 0.230 TxMB/s | 1051.3394 | EB | 1051-node-135 | 866 | 1299000 |\n",
       "| 0.230 TxMB/s | 1058.3394 | RB | 1058-node-94  |   7 |   10500 |\n",
       "| 0.230 TxMB/s | 1058.3394 | EB | 1058-node-94  | 804 | 1206000 |\n",
       "| 0.230 TxMB/s | 1071.3394 | RB | 1071-node-438 |   5 |    7500 |\n",
       "| 0.230 TxMB/s | 1071.3394 | EB | 1071-node-438 | 825 | 1237500 |\n",
       "| 0.230 TxMB/s | 1083.3394 | RB | 1083-node-568 |   6 |    9000 |\n",
       "| 0.230 TxMB/s | 1083.3394 | EB | 1083-node-568 | 805 | 1207500 |\n",
       "| 0.230 TxMB/s | 1088.3394 | RB | 1088-node-217 |  10 |   15000 |\n",
       "| 0.230 TxMB/s | 1088.3394 | EB | 1088-node-217 | 802 | 1203000 |\n",
       "| 0.230 TxMB/s | 1107.3394 | EB | 1107-node-143 | 787 | 1180500 |\n",
       "| 0.230 TxMB/s | 1118.3394 | RB | 1118-node-216 |   8 |   12000 |\n",
       "| 0.230 TxMB/s | 1118.3394 | EB | 1118-node-216 | 777 | 1165500 |\n",
       "| 0.230 TxMB/s | 1171.3394 | EB | 1171-node-197 | 736 | 1104000 |\n",
       "| 0.230 TxMB/s | 1188.3394 | EB | 1188-node-161 | 828 | 1242000 |\n",
       "\n"
      ],
      "text/plain": [
       "    Throughput   Time [s]  Kind Block         Count Size [B]\n",
       "1   0.230 TxMB/s  20.1825  RB   20-node-220     2      3000 \n",
       "2   0.230 TxMB/s  20.1825  EB   20-node-220   315    472500 \n",
       "3   0.230 TxMB/s  25.2029  RB   25-node-223     9     13500 \n",
       "4   0.230 TxMB/s  25.2029  EB   25-node-223   368    552000 \n",
       "5   0.230 TxMB/s 144.3394  RB   144-node-14     7     10500 \n",
       "6   0.230 TxMB/s 144.3394  EB   144-node-14   787   1180500 \n",
       "7   0.230 TxMB/s 206.3394  EB   206-node-151  803   1204500 \n",
       "8   0.230 TxMB/s 234.3394  EB   234-node-573  796   1194000 \n",
       "9   0.230 TxMB/s 257.3394  EB   257-node-528  794   1191000 \n",
       "10  0.230 TxMB/s 273.3394  EB   273-node-531  786   1179000 \n",
       "11  0.230 TxMB/s 275.3394  RB   275-node-558    4      6000 \n",
       "12  0.230 TxMB/s 275.3394  EB   275-node-558  820   1230000 \n",
       "13  0.230 TxMB/s 288.3394  RB   288-node-132    4      6000 \n",
       "14  0.230 TxMB/s 288.3394  EB   288-node-132  836   1254000 \n",
       "15  0.230 TxMB/s 289.3394  RB   289-node-91     4      6000 \n",
       "16  0.230 TxMB/s 289.3394  EB   289-node-91   809   1213500 \n",
       "17  0.230 TxMB/s 296.3394  RB   296-node-95     9     13500 \n",
       "18  0.230 TxMB/s 296.3394  EB   296-node-95   741   1111500 \n",
       "19  0.230 TxMB/s 308.3394  RB   308-node-159    9     13500 \n",
       "20  0.230 TxMB/s 308.3394  EB   308-node-159  835   1252500 \n",
       "21  0.230 TxMB/s 333.3394  EB   333-node-146  803   1204500 \n",
       "22  0.230 TxMB/s 362.3394  EB   362-node-585  819   1228500 \n",
       "23  0.230 TxMB/s 401.3394  EB   401-node-207  785   1177500 \n",
       "24  0.230 TxMB/s 417.3394  EB   417-node-147  788   1182000 \n",
       "25  0.230 TxMB/s 417.3394  EB   417-node-16   790   1185000 \n",
       "26  0.230 TxMB/s 428.3394  RB   428-node-100    4      6000 \n",
       "27  0.230 TxMB/s 428.3394  EB   428-node-100  827   1240500 \n",
       "28  0.230 TxMB/s 479.3394  EB   479-node-197  775   1162500 \n",
       "29  0.230 TxMB/s 480.3394  EB   480-node-92   799   1198500 \n",
       "30  0.230 TxMB/s 501.3394  EB   501-node-414  822   1233000 \n",
       "... ...          ...       ...  ...           ...   ...     \n",
       "52  0.230 TxMB/s  712.3394 EB   712-node-485  851   1276500 \n",
       "53  0.230 TxMB/s  718.3394 RB   718-node-580    3      4500 \n",
       "54  0.230 TxMB/s  718.3394 EB   718-node-580  825   1237500 \n",
       "55  0.230 TxMB/s  752.3394 EB   752-node-487  856   1284000 \n",
       "56  0.230 TxMB/s  811.3394 EB   811-node-217  790   1185000 \n",
       "57  0.230 TxMB/s  831.3394 EB   831-node-584  796   1194000 \n",
       "58  0.230 TxMB/s  870.3394 EB   870-node-574  795   1192500 \n",
       "59  0.230 TxMB/s  926.3394 EB   926-node-182  832   1248000 \n",
       "60  0.230 TxMB/s  930.3394 RB   930-node-497    7     10500 \n",
       "61  0.230 TxMB/s  930.3394 EB   930-node-497  790   1185000 \n",
       "62  0.230 TxMB/s  949.3394 EB   949-node-487  818   1227000 \n",
       "63  0.230 TxMB/s  959.3394 RB   959-node-9      6      9000 \n",
       "64  0.230 TxMB/s  959.3394 EB   959-node-9    812   1218000 \n",
       "65  0.230 TxMB/s  965.3394 RB   965-node-154   13     19500 \n",
       "66  0.230 TxMB/s  965.3394 EB   965-node-154  778   1167000 \n",
       "67  0.230 TxMB/s  993.3394 EB   993-node-424  826   1239000 \n",
       "68  0.230 TxMB/s 1051.3394 EB   1051-node-135 866   1299000 \n",
       "69  0.230 TxMB/s 1058.3394 RB   1058-node-94    7     10500 \n",
       "70  0.230 TxMB/s 1058.3394 EB   1058-node-94  804   1206000 \n",
       "71  0.230 TxMB/s 1071.3394 RB   1071-node-438   5      7500 \n",
       "72  0.230 TxMB/s 1071.3394 EB   1071-node-438 825   1237500 \n",
       "73  0.230 TxMB/s 1083.3394 RB   1083-node-568   6      9000 \n",
       "74  0.230 TxMB/s 1083.3394 EB   1083-node-568 805   1207500 \n",
       "75  0.230 TxMB/s 1088.3394 RB   1088-node-217  10     15000 \n",
       "76  0.230 TxMB/s 1088.3394 EB   1088-node-217 802   1203000 \n",
       "77  0.230 TxMB/s 1107.3394 EB   1107-node-143 787   1180500 \n",
       "78  0.230 TxMB/s 1118.3394 RB   1118-node-216   8     12000 \n",
       "79  0.230 TxMB/s 1118.3394 EB   1118-node-216 777   1165500 \n",
       "80  0.230 TxMB/s 1171.3394 EB   1171-node-197 736   1104000 \n",
       "81  0.230 TxMB/s 1188.3394 EB   1188-node-161 828   1242000 "
      ]
     },
     "metadata": {},
     "output_type": "display_data"
    }
   ],
   "source": [
    "generated[`Throughput` == \"0.230 TxMB/s\", .(`Count`=.N, `Size [B]`=1500*.N), .(`Throughput`, `Time [s]`, `Kind`, `Block`)]"
   ]
  },
  {
   "cell_type": "code",
   "execution_count": 203,
   "id": "b8445b72-9758-4f4b-8dd1-c39e720a3bda",
   "metadata": {
    "tags": []
   },
   "outputs": [
    {
     "data": {
      "text/html": [
       "<table class=\"dataframe\">\n",
       "<caption>A data.table: 1 x 2</caption>\n",
       "<thead>\n",
       "\t<tr><th scope=col>Count</th><th scope=col>Unique</th></tr>\n",
       "\t<tr><th scope=col>&lt;int&gt;</th><th scope=col>&lt;int&gt;</th></tr>\n",
       "</thead>\n",
       "<tbody>\n",
       "\t<tr><td>8000</td><td>8000</td></tr>\n",
       "</tbody>\n",
       "</table>\n"
      ],
      "text/latex": [
       "A data.table: 1 x 2\n",
       "\\begin{tabular}{ll}\n",
       " Count & Unique\\\\\n",
       " <int> & <int>\\\\\n",
       "\\hline\n",
       "\t 8000 & 8000\\\\\n",
       "\\end{tabular}\n"
      ],
      "text/markdown": [
       "\n",
       "A data.table: 1 x 2\n",
       "\n",
       "| Count &lt;int&gt; | Unique &lt;int&gt; |\n",
       "|---|---|\n",
       "| 8000 | 8000 |\n",
       "\n"
      ],
      "text/plain": [
       "  Count Unique\n",
       "1 8000  8000  "
      ]
     },
     "metadata": {},
     "output_type": "display_data"
    }
   ],
   "source": [
    "generated[`Throughput` == \"0.230 TxMB/s\" & `Block` == \"1188-node-161\", .(`Count`=.N, `Unique`=length(unique(`Tx`)))]"
   ]
  },
  {
   "cell_type": "code",
   "execution_count": 199,
   "id": "81ce8fd7-d338-4e10-927b-e2daea9443dd",
   "metadata": {
    "tags": []
   },
   "outputs": [],
   "source": [
    "g2 <- fread(\"experiments/NA,0.230/generated.csv.gz\", stringsAsFactors=TRUE)"
   ]
  },
  {
   "cell_type": "code",
   "execution_count": 200,
   "id": "fcc560cc-c8bd-48f7-b28a-2a514c73918d",
   "metadata": {
    "tags": []
   },
   "outputs": [
    {
     "data": {
      "text/html": [
       "<table class=\"dataframe\">\n",
       "<caption>A data.table: 1 x 2</caption>\n",
       "<thead>\n",
       "\t<tr><th scope=col>Count</th><th scope=col>Unique</th></tr>\n",
       "\t<tr><th scope=col>&lt;int&gt;</th><th scope=col>&lt;int&gt;</th></tr>\n",
       "</thead>\n",
       "<tbody>\n",
       "\t<tr><td>8000</td><td>8000</td></tr>\n",
       "</tbody>\n",
       "</table>\n"
      ],
      "text/latex": [
       "A data.table: 1 x 2\n",
       "\\begin{tabular}{ll}\n",
       " Count & Unique\\\\\n",
       " <int> & <int>\\\\\n",
       "\\hline\n",
       "\t 8000 & 8000\\\\\n",
       "\\end{tabular}\n"
      ],
      "text/markdown": [
       "\n",
       "A data.table: 1 x 2\n",
       "\n",
       "| Count &lt;int&gt; | Unique &lt;int&gt; |\n",
       "|---|---|\n",
       "| 8000 | 8000 |\n",
       "\n"
      ],
      "text/plain": [
       "  Count Unique\n",
       "1 8000  8000  "
      ]
     },
     "metadata": {},
     "output_type": "display_data"
    }
   ],
   "source": [
    "g2[`Block` == \"1188-node-161\", .(`Count`=.N, `Unique`=length(unique(`Tx`)))]"
   ]
  },
  {
   "cell_type": "code",
   "execution_count": 170,
   "id": "b1e8e50c-8b79-40fa-9a1f-46f2a9b43120",
   "metadata": {
    "tags": []
   },
   "outputs": [
    {
     "data": {
      "text/html": [
       "<table class=\"dataframe\">\n",
       "<caption>A data.table: 22 x 5</caption>\n",
       "<thead>\n",
       "\t<tr><th scope=col>Throughput</th><th scope=col>Time [s]</th><th scope=col>EB</th><th scope=col>Kind</th><th scope=col>Size [B]</th></tr>\n",
       "\t<tr><th scope=col>&lt;fct&gt;</th><th scope=col>&lt;dbl&gt;</th><th scope=col>&lt;fct&gt;</th><th scope=col>&lt;fct&gt;</th><th scope=col>&lt;dbl&gt;</th></tr>\n",
       "</thead>\n",
       "<tbody>\n",
       "\t<tr><td>0.004 TxMB/s</td><td> 927.1639</td><td>906-node-96  </td><td>EB</td><td>  37500</td></tr>\n",
       "\t<tr><td>0.004 TxMB/s</td><td>1178.1639</td><td>1125-node-91 </td><td>EB</td><td>  13500</td></tr>\n",
       "\t<tr><td>0.006 TxMB/s</td><td>1133.1639</td><td>1057-node-180</td><td>EB</td><td>  49500</td></tr>\n",
       "\t<tr><td>0.007 TxMB/s</td><td> 856.1639</td><td>837-node-576 </td><td>RB</td><td>   6000</td></tr>\n",
       "\t<tr><td>0.007 TxMB/s</td><td> 856.1639</td><td>837-node-576 </td><td>EB</td><td>   7500</td></tr>\n",
       "\t<tr><td>0.007 TxMB/s</td><td>1133.1639</td><td>1057-node-180</td><td>EB</td><td>  69000</td></tr>\n",
       "\t<tr><td>0.008 TxMB/s</td><td>1176.1639</td><td>1135-node-428</td><td>EB</td><td>  24000</td></tr>\n",
       "\t<tr><td>0.009 TxMB/s</td><td> 919.1639</td><td>887-node-567 </td><td>RB</td><td>   9000</td></tr>\n",
       "\t<tr><td>0.009 TxMB/s</td><td> 919.1639</td><td>887-node-567 </td><td>EB</td><td>  15000</td></tr>\n",
       "\t<tr><td>0.010 TxMB/s</td><td>1188.1639</td><td>1171-node-197</td><td>EB</td><td>  76500</td></tr>\n",
       "\t<tr><td>0.020 TxMB/s</td><td>1188.1639</td><td>1171-node-197</td><td>EB</td><td> 160500</td></tr>\n",
       "\t<tr><td>0.030 TxMB/s</td><td>1188.1639</td><td>1171-node-197</td><td>EB</td><td> 231000</td></tr>\n",
       "\t<tr><td>0.050 TxMB/s</td><td>1188.1639</td><td>1171-node-197</td><td>EB</td><td> 372000</td></tr>\n",
       "\t<tr><td>0.060 TxMB/s</td><td>1188.1677</td><td>1171-node-197</td><td>EB</td><td> 474000</td></tr>\n",
       "\t<tr><td>0.070 TxMB/s</td><td>1188.1853</td><td>1171-node-197</td><td>EB</td><td> 565500</td></tr>\n",
       "\t<tr><td>0.080 TxMB/s</td><td>1188.2036</td><td>1171-node-197</td><td>EB</td><td> 714000</td></tr>\n",
       "\t<tr><td>0.090 TxMB/s</td><td>1188.2198</td><td>1171-node-197</td><td>EB</td><td> 714000</td></tr>\n",
       "\t<tr><td>0.120 TxMB/s</td><td>1188.2677</td><td>1171-node-197</td><td>EB</td><td>1003500</td></tr>\n",
       "\t<tr><td>0.150 TxMB/s</td><td>1188.3064</td><td>1171-node-197</td><td>EB</td><td>1230000</td></tr>\n",
       "\t<tr><td>0.160 TxMB/s</td><td>1188.3394</td><td>1171-node-197</td><td>EB</td><td>1114500</td></tr>\n",
       "\t<tr><td>0.200 TxMB/s</td><td>1188.3394</td><td>1171-node-197</td><td>EB</td><td>1065000</td></tr>\n",
       "\t<tr><td>0.230 TxMB/s</td><td>1188.3394</td><td>1171-node-197</td><td>EB</td><td>1104000</td></tr>\n",
       "</tbody>\n",
       "</table>\n"
      ],
      "text/latex": [
       "A data.table: 22 x 5\n",
       "\\begin{tabular}{lllll}\n",
       " Throughput & Time {[}s{]} & EB & Kind & Size {[}B{]}\\\\\n",
       " <fct> & <dbl> & <fct> & <fct> & <dbl>\\\\\n",
       "\\hline\n",
       "\t 0.004 TxMB/s &  927.1639 & 906-node-96   & EB &   37500\\\\\n",
       "\t 0.004 TxMB/s & 1178.1639 & 1125-node-91  & EB &   13500\\\\\n",
       "\t 0.006 TxMB/s & 1133.1639 & 1057-node-180 & EB &   49500\\\\\n",
       "\t 0.007 TxMB/s &  856.1639 & 837-node-576  & RB &    6000\\\\\n",
       "\t 0.007 TxMB/s &  856.1639 & 837-node-576  & EB &    7500\\\\\n",
       "\t 0.007 TxMB/s & 1133.1639 & 1057-node-180 & EB &   69000\\\\\n",
       "\t 0.008 TxMB/s & 1176.1639 & 1135-node-428 & EB &   24000\\\\\n",
       "\t 0.009 TxMB/s &  919.1639 & 887-node-567  & RB &    9000\\\\\n",
       "\t 0.009 TxMB/s &  919.1639 & 887-node-567  & EB &   15000\\\\\n",
       "\t 0.010 TxMB/s & 1188.1639 & 1171-node-197 & EB &   76500\\\\\n",
       "\t 0.020 TxMB/s & 1188.1639 & 1171-node-197 & EB &  160500\\\\\n",
       "\t 0.030 TxMB/s & 1188.1639 & 1171-node-197 & EB &  231000\\\\\n",
       "\t 0.050 TxMB/s & 1188.1639 & 1171-node-197 & EB &  372000\\\\\n",
       "\t 0.060 TxMB/s & 1188.1677 & 1171-node-197 & EB &  474000\\\\\n",
       "\t 0.070 TxMB/s & 1188.1853 & 1171-node-197 & EB &  565500\\\\\n",
       "\t 0.080 TxMB/s & 1188.2036 & 1171-node-197 & EB &  714000\\\\\n",
       "\t 0.090 TxMB/s & 1188.2198 & 1171-node-197 & EB &  714000\\\\\n",
       "\t 0.120 TxMB/s & 1188.2677 & 1171-node-197 & EB & 1003500\\\\\n",
       "\t 0.150 TxMB/s & 1188.3064 & 1171-node-197 & EB & 1230000\\\\\n",
       "\t 0.160 TxMB/s & 1188.3394 & 1171-node-197 & EB & 1114500\\\\\n",
       "\t 0.200 TxMB/s & 1188.3394 & 1171-node-197 & EB & 1065000\\\\\n",
       "\t 0.230 TxMB/s & 1188.3394 & 1171-node-197 & EB & 1104000\\\\\n",
       "\\end{tabular}\n"
      ],
      "text/markdown": [
       "\n",
       "A data.table: 22 x 5\n",
       "\n",
       "| Throughput &lt;fct&gt; | Time [s] &lt;dbl&gt; | EB &lt;fct&gt; | Kind &lt;fct&gt; | Size [B] &lt;dbl&gt; |\n",
       "|---|---|---|---|---|\n",
       "| 0.004 TxMB/s |  927.1639 | 906-node-96   | EB |   37500 |\n",
       "| 0.004 TxMB/s | 1178.1639 | 1125-node-91  | EB |   13500 |\n",
       "| 0.006 TxMB/s | 1133.1639 | 1057-node-180 | EB |   49500 |\n",
       "| 0.007 TxMB/s |  856.1639 | 837-node-576  | RB |    6000 |\n",
       "| 0.007 TxMB/s |  856.1639 | 837-node-576  | EB |    7500 |\n",
       "| 0.007 TxMB/s | 1133.1639 | 1057-node-180 | EB |   69000 |\n",
       "| 0.008 TxMB/s | 1176.1639 | 1135-node-428 | EB |   24000 |\n",
       "| 0.009 TxMB/s |  919.1639 | 887-node-567  | RB |    9000 |\n",
       "| 0.009 TxMB/s |  919.1639 | 887-node-567  | EB |   15000 |\n",
       "| 0.010 TxMB/s | 1188.1639 | 1171-node-197 | EB |   76500 |\n",
       "| 0.020 TxMB/s | 1188.1639 | 1171-node-197 | EB |  160500 |\n",
       "| 0.030 TxMB/s | 1188.1639 | 1171-node-197 | EB |  231000 |\n",
       "| 0.050 TxMB/s | 1188.1639 | 1171-node-197 | EB |  372000 |\n",
       "| 0.060 TxMB/s | 1188.1677 | 1171-node-197 | EB |  474000 |\n",
       "| 0.070 TxMB/s | 1188.1853 | 1171-node-197 | EB |  565500 |\n",
       "| 0.080 TxMB/s | 1188.2036 | 1171-node-197 | EB |  714000 |\n",
       "| 0.090 TxMB/s | 1188.2198 | 1171-node-197 | EB |  714000 |\n",
       "| 0.120 TxMB/s | 1188.2677 | 1171-node-197 | EB | 1003500 |\n",
       "| 0.150 TxMB/s | 1188.3064 | 1171-node-197 | EB | 1230000 |\n",
       "| 0.160 TxMB/s | 1188.3394 | 1171-node-197 | EB | 1114500 |\n",
       "| 0.200 TxMB/s | 1188.3394 | 1171-node-197 | EB | 1065000 |\n",
       "| 0.230 TxMB/s | 1188.3394 | 1171-node-197 | EB | 1104000 |\n",
       "\n"
      ],
      "text/plain": [
       "   Throughput   Time [s]  EB            Kind Size [B]\n",
       "1  0.004 TxMB/s  927.1639 906-node-96   EB     37500 \n",
       "2  0.004 TxMB/s 1178.1639 1125-node-91  EB     13500 \n",
       "3  0.006 TxMB/s 1133.1639 1057-node-180 EB     49500 \n",
       "4  0.007 TxMB/s  856.1639 837-node-576  RB      6000 \n",
       "5  0.007 TxMB/s  856.1639 837-node-576  EB      7500 \n",
       "6  0.007 TxMB/s 1133.1639 1057-node-180 EB     69000 \n",
       "7  0.008 TxMB/s 1176.1639 1135-node-428 EB     24000 \n",
       "8  0.009 TxMB/s  919.1639 887-node-567  RB      9000 \n",
       "9  0.009 TxMB/s  919.1639 887-node-567  EB     15000 \n",
       "10 0.010 TxMB/s 1188.1639 1171-node-197 EB     76500 \n",
       "11 0.020 TxMB/s 1188.1639 1171-node-197 EB    160500 \n",
       "12 0.030 TxMB/s 1188.1639 1171-node-197 EB    231000 \n",
       "13 0.050 TxMB/s 1188.1639 1171-node-197 EB    372000 \n",
       "14 0.060 TxMB/s 1188.1677 1171-node-197 EB    474000 \n",
       "15 0.070 TxMB/s 1188.1853 1171-node-197 EB    565500 \n",
       "16 0.080 TxMB/s 1188.2036 1171-node-197 EB    714000 \n",
       "17 0.090 TxMB/s 1188.2198 1171-node-197 EB    714000 \n",
       "18 0.120 TxMB/s 1188.2677 1171-node-197 EB   1003500 \n",
       "19 0.150 TxMB/s 1188.3064 1171-node-197 EB   1230000 \n",
       "20 0.160 TxMB/s 1188.3394 1171-node-197 EB   1114500 \n",
       "21 0.200 TxMB/s 1188.3394 1171-node-197 EB   1065000 \n",
       "22 0.230 TxMB/s 1188.3394 1171-node-197 EB   1104000 "
      ]
     },
     "metadata": {},
     "output_type": "display_data"
    }
   ],
   "source": [
    "certified[, .(`Throughput`, `Time [s]`, `EB`)][generated[, .(`Size [B]`=1500*.N), .(`Throughput`, `Kind`, `Block`)], on=c(\"Throughput\", \"EB\"=\"Block\"), nomatch=0]"
   ]
  },
  {
   "cell_type": "code",
   "execution_count": 206,
   "id": "d285aa84-cd82-4331-ba6b-8fbbe03bf84f",
   "metadata": {
    "tags": []
   },
   "outputs": [
    {
     "data": {
      "text/html": [
       "<table class=\"dataframe\">\n",
       "<caption>A data.table: 27 x 2</caption>\n",
       "<thead>\n",
       "\t<tr><th scope=col>Load [TxMB/s]</th><th scope=col>Throughput [TxMB/s]</th></tr>\n",
       "\t<tr><th scope=col>&lt;dbl&gt;</th><th scope=col>&lt;dbl&gt;</th></tr>\n",
       "</thead>\n",
       "<tbody>\n",
       "\t<tr><td>0.002</td><td>0.0008302632</td></tr>\n",
       "\t<tr><td>0.003</td><td>0.0028421053</td></tr>\n",
       "\t<tr><td>0.004</td><td>0.0046539474</td></tr>\n",
       "\t<tr><td>0.005</td><td>0.0054815789</td></tr>\n",
       "\t<tr><td>0.006</td><td>0.0062592105</td></tr>\n",
       "\t<tr><td>0.007</td><td>0.0087355263</td></tr>\n",
       "\t<tr><td>0.008</td><td>0.0089697368</td></tr>\n",
       "\t<tr><td>0.009</td><td>0.0104000000</td></tr>\n",
       "\t<tr><td>0.010</td><td>0.0143026316</td></tr>\n",
       "\t<tr><td>0.020</td><td>0.0305697368</td></tr>\n",
       "\t<tr><td>0.030</td><td>0.0490631579</td></tr>\n",
       "\t<tr><td>0.040</td><td>0.0644605263</td></tr>\n",
       "\t<tr><td>0.050</td><td>0.0838368421</td></tr>\n",
       "\t<tr><td>0.060</td><td>0.0983144737</td></tr>\n",
       "\t<tr><td>0.070</td><td>0.1155184211</td></tr>\n",
       "\t<tr><td>0.080</td><td>0.1352197368</td></tr>\n",
       "\t<tr><td>0.090</td><td>0.1551447368</td></tr>\n",
       "\t<tr><td>0.100</td><td>0.1646657895</td></tr>\n",
       "\t<tr><td>0.110</td><td>0.1986210526</td></tr>\n",
       "\t<tr><td>0.120</td><td>0.2180342105</td></tr>\n",
       "\t<tr><td>0.130</td><td>0.2535776316</td></tr>\n",
       "\t<tr><td>0.150</td><td>0.2661144737</td></tr>\n",
       "\t<tr><td>0.160</td><td>0.2952131579</td></tr>\n",
       "\t<tr><td>0.170</td><td>0.3062894737</td></tr>\n",
       "\t<tr><td>0.200</td><td>0.2956842105</td></tr>\n",
       "\t<tr><td>0.210</td><td>0.3168947368</td></tr>\n",
       "\t<tr><td>0.230</td><td>0.2851578947</td></tr>\n",
       "</tbody>\n",
       "</table>\n"
      ],
      "text/latex": [
       "A data.table: 27 x 2\n",
       "\\begin{tabular}{ll}\n",
       " Load {[}TxMB/s{]} & Throughput {[}TxMB/s{]}\\\\\n",
       " <dbl> & <dbl>\\\\\n",
       "\\hline\n",
       "\t 0.002 & 0.0008302632\\\\\n",
       "\t 0.003 & 0.0028421053\\\\\n",
       "\t 0.004 & 0.0046539474\\\\\n",
       "\t 0.005 & 0.0054815789\\\\\n",
       "\t 0.006 & 0.0062592105\\\\\n",
       "\t 0.007 & 0.0087355263\\\\\n",
       "\t 0.008 & 0.0089697368\\\\\n",
       "\t 0.009 & 0.0104000000\\\\\n",
       "\t 0.010 & 0.0143026316\\\\\n",
       "\t 0.020 & 0.0305697368\\\\\n",
       "\t 0.030 & 0.0490631579\\\\\n",
       "\t 0.040 & 0.0644605263\\\\\n",
       "\t 0.050 & 0.0838368421\\\\\n",
       "\t 0.060 & 0.0983144737\\\\\n",
       "\t 0.070 & 0.1155184211\\\\\n",
       "\t 0.080 & 0.1352197368\\\\\n",
       "\t 0.090 & 0.1551447368\\\\\n",
       "\t 0.100 & 0.1646657895\\\\\n",
       "\t 0.110 & 0.1986210526\\\\\n",
       "\t 0.120 & 0.2180342105\\\\\n",
       "\t 0.130 & 0.2535776316\\\\\n",
       "\t 0.150 & 0.2661144737\\\\\n",
       "\t 0.160 & 0.2952131579\\\\\n",
       "\t 0.170 & 0.3062894737\\\\\n",
       "\t 0.200 & 0.2956842105\\\\\n",
       "\t 0.210 & 0.3168947368\\\\\n",
       "\t 0.230 & 0.2851578947\\\\\n",
       "\\end{tabular}\n"
      ],
      "text/markdown": [
       "\n",
       "A data.table: 27 x 2\n",
       "\n",
       "| Load [TxMB/s] &lt;dbl&gt; | Throughput [TxMB/s] &lt;dbl&gt; |\n",
       "|---|---|\n",
       "| 0.002 | 0.0008302632 |\n",
       "| 0.003 | 0.0028421053 |\n",
       "| 0.004 | 0.0046539474 |\n",
       "| 0.005 | 0.0054815789 |\n",
       "| 0.006 | 0.0062592105 |\n",
       "| 0.007 | 0.0087355263 |\n",
       "| 0.008 | 0.0089697368 |\n",
       "| 0.009 | 0.0104000000 |\n",
       "| 0.010 | 0.0143026316 |\n",
       "| 0.020 | 0.0305697368 |\n",
       "| 0.030 | 0.0490631579 |\n",
       "| 0.040 | 0.0644605263 |\n",
       "| 0.050 | 0.0838368421 |\n",
       "| 0.060 | 0.0983144737 |\n",
       "| 0.070 | 0.1155184211 |\n",
       "| 0.080 | 0.1352197368 |\n",
       "| 0.090 | 0.1551447368 |\n",
       "| 0.100 | 0.1646657895 |\n",
       "| 0.110 | 0.1986210526 |\n",
       "| 0.120 | 0.2180342105 |\n",
       "| 0.130 | 0.2535776316 |\n",
       "| 0.150 | 0.2661144737 |\n",
       "| 0.160 | 0.2952131579 |\n",
       "| 0.170 | 0.3062894737 |\n",
       "| 0.200 | 0.2956842105 |\n",
       "| 0.210 | 0.3168947368 |\n",
       "| 0.230 | 0.2851578947 |\n",
       "\n"
      ],
      "text/plain": [
       "   Load [TxMB/s] Throughput [TxMB/s]\n",
       "1  0.002         0.0008302632       \n",
       "2  0.003         0.0028421053       \n",
       "3  0.004         0.0046539474       \n",
       "4  0.005         0.0054815789       \n",
       "5  0.006         0.0062592105       \n",
       "6  0.007         0.0087355263       \n",
       "7  0.008         0.0089697368       \n",
       "8  0.009         0.0104000000       \n",
       "9  0.010         0.0143026316       \n",
       "10 0.020         0.0305697368       \n",
       "11 0.030         0.0490631579       \n",
       "12 0.040         0.0644605263       \n",
       "13 0.050         0.0838368421       \n",
       "14 0.060         0.0983144737       \n",
       "15 0.070         0.1155184211       \n",
       "16 0.080         0.1352197368       \n",
       "17 0.090         0.1551447368       \n",
       "18 0.100         0.1646657895       \n",
       "19 0.110         0.1986210526       \n",
       "20 0.120         0.2180342105       \n",
       "21 0.130         0.2535776316       \n",
       "22 0.150         0.2661144737       \n",
       "23 0.160         0.2952131579       \n",
       "24 0.170         0.3062894737       \n",
       "25 0.200         0.2956842105       \n",
       "26 0.210         0.3168947368       \n",
       "27 0.230         0.2851578947       "
      ]
     },
     "metadata": {},
     "output_type": "display_data"
    }
   ],
   "source": [
    "certified[generated[, .(`Size [B]`=1500*.N), .(`Throughput`, `Time [s]`, `Kind`, `Block`)], on=c(\"Throughput\", \"EB\"=\"Block\"), nomatch=0][\n",
    "    `Time [s]` >= 60 & `Time [s]` <= 1200,\n",
    "    .(`Throughput [TxMB/s]`=sum(`Size [B]`)/(1200-60)/1000000),\n",
    "    .(`Load [TxMB/s]`=as.numeric(sub(\" .*$\",\"\",`Throughput`)))\n",
    "]"
   ]
  },
  {
   "cell_type": "code",
   "execution_count": 207,
   "id": "ef271951-ba9f-498c-aab0-c2f94e951e33",
   "metadata": {
    "tags": []
   },
   "outputs": [
    {
     "data": {
      "image/png": "[encoded data removed]",
      "text/plain": [
       "plot without title"
      ]
     },
     "metadata": {
      "image/png": {
       "height": 420,
       "width": 420
      }
     },
     "output_type": "display_data"
    }
   ],
   "source": [
    "ggplot(\n",
    "    lifecycle[\n",
    "        `Message` == \"TX\" &\n",
    "        (\n",
    "            !is.na(`To RB [s]`) & `To RB [s]` >= 60 & `To RB [s]` <= 1200 |\n",
    "            !is.na(`In RB [s]`) & `In RB [s]` >= 60 & `In RB [s]` <= 1200\n",
    "        ),\n",
    "        .(`Throughput [TxMB/s]`=sum(`Size [B]`)/(1200-60)/1000000),\n",
    "        .(\n",
    "            `Load [TxMB/s]`=as.numeric(sub(\" .*$\", \"\", `Throughput`))\n",
    "        )\n",
    "    ],\n",
    "    aes(x=`Load [TxMB/s]`, y=`Throughput [TxMB/s]`)\n",
    ") +\n",
    "    geom_abline(intercept=0, slope=1, color=\"gray\") +\n",
    "    geom_hline(yintercept=12/20*(1-0.05)^13, color=\"orange\") +\n",
    "    geom_point() +\n",
    "    geom_point(data=certified[generated[, .(`Size [B]`=1500*.N), .(`Throughput`, `Time [s]`, `Kind`, `Block`)], on=c(\"Throughput\", \"EB\"=\"Block\"), nomatch=0][\n",
    "        `Time [s]` >= 60 & `Time [s]` <= 1200,\n",
    "        .(`Throughput [TxMB/s]`=sum(`Size [B]`)/(1200-60)/1000000),\n",
    "        .(`Load [TxMB/s]`=as.numeric(sub(\" .*$\",\"\",`Throughput`)))\n",
    "        ], color=\"blue\"\n",
    "    ) +\n",
    "    xlim(0, 0.325) +\n",
    "    ylim(0, 0.325) +\n",
    "    ggtitle(\"\", \"black dots = Rust sim; gray line = expected; orange line = theory & markov model\")"
   ]
  },
  {
   "cell_type": "code",
   "execution_count": 208,
   "id": "eb28cb8c-1fb4-4baf-b30d-93ec3bca146e",
   "metadata": {
    "tags": []
   },
   "outputs": [],
   "source": [
    "ggsave(\"plot.png\", units=\"in\", dpi=150, width=10, height=6)"
   ]
  },
  {
   "cell_type": "code",
   "execution_count": 124,
   "id": "1834f1e1-4050-4da2-a102-02114336560a",
   "metadata": {
    "tags": []
   },
   "outputs": [
    {
     "data": {
      "text/html": [
       "<table class=\"dataframe\">\n",
       "<caption>A data.table: 24 x 2</caption>\n",
       "<thead>\n",
       "\t<tr><th scope=col>Load [TxMB/s]</th><th scope=col>Throughput [TxMB/s]</th></tr>\n",
       "\t<tr><th scope=col>&lt;dbl&gt;</th><th scope=col>&lt;dbl&gt;</th></tr>\n",
       "</thead>\n",
       "<tbody>\n",
       "\t<tr><td>0.001</td><td>0.0009986842</td></tr>\n",
       "\t<tr><td>0.002</td><td>0.0019894737</td></tr>\n",
       "\t<tr><td>0.003</td><td>0.0030026316</td></tr>\n",
       "\t<tr><td>0.004</td><td>0.0040447368</td></tr>\n",
       "\t<tr><td>0.005</td><td>0.0048697368</td></tr>\n",
       "\t<tr><td>0.006</td><td>0.0053578947</td></tr>\n",
       "\t<tr><td>0.007</td><td>0.0069118421</td></tr>\n",
       "\t<tr><td>0.008</td><td>0.0079078947</td></tr>\n",
       "\t<tr><td>0.009</td><td>0.0082210526</td></tr>\n",
       "\t<tr><td>0.010</td><td>0.0101921053</td></tr>\n",
       "\t<tr><td>0.020</td><td>0.0204605263</td></tr>\n",
       "\t<tr><td>0.030</td><td>0.0306539474</td></tr>\n",
       "\t<tr><td>0.040</td><td>0.0405276316</td></tr>\n",
       "\t<tr><td>0.050</td><td>0.0512763158</td></tr>\n",
       "\t<tr><td>0.070</td><td>0.0732039474</td></tr>\n",
       "\t<tr><td>0.080</td><td>0.0855105263</td></tr>\n",
       "\t<tr><td>0.100</td><td>0.1002434211</td></tr>\n",
       "\t<tr><td>0.110</td><td>0.1156500000</td></tr>\n",
       "\t<tr><td>0.130</td><td>0.1366592105</td></tr>\n",
       "\t<tr><td>0.150</td><td>0.1519973684</td></tr>\n",
       "\t<tr><td>0.160</td><td>0.1699236842</td></tr>\n",
       "\t<tr><td>0.170</td><td>0.1601842105</td></tr>\n",
       "\t<tr><td>0.200</td><td>0.1600263158</td></tr>\n",
       "\t<tr><td>0.230</td><td>0.1598684211</td></tr>\n",
       "</tbody>\n",
       "</table>\n"
      ],
      "text/latex": [
       "A data.table: 24 x 2\n",
       "\\begin{tabular}{ll}\n",
       " Load {[}TxMB/s{]} & Throughput {[}TxMB/s{]}\\\\\n",
       " <dbl> & <dbl>\\\\\n",
       "\\hline\n",
       "\t 0.001 & 0.0009986842\\\\\n",
       "\t 0.002 & 0.0019894737\\\\\n",
       "\t 0.003 & 0.0030026316\\\\\n",
       "\t 0.004 & 0.0040447368\\\\\n",
       "\t 0.005 & 0.0048697368\\\\\n",
       "\t 0.006 & 0.0053578947\\\\\n",
       "\t 0.007 & 0.0069118421\\\\\n",
       "\t 0.008 & 0.0079078947\\\\\n",
       "\t 0.009 & 0.0082210526\\\\\n",
       "\t 0.010 & 0.0101921053\\\\\n",
       "\t 0.020 & 0.0204605263\\\\\n",
       "\t 0.030 & 0.0306539474\\\\\n",
       "\t 0.040 & 0.0405276316\\\\\n",
       "\t 0.050 & 0.0512763158\\\\\n",
       "\t 0.070 & 0.0732039474\\\\\n",
       "\t 0.080 & 0.0855105263\\\\\n",
       "\t 0.100 & 0.1002434211\\\\\n",
       "\t 0.110 & 0.1156500000\\\\\n",
       "\t 0.130 & 0.1366592105\\\\\n",
       "\t 0.150 & 0.1519973684\\\\\n",
       "\t 0.160 & 0.1699236842\\\\\n",
       "\t 0.170 & 0.1601842105\\\\\n",
       "\t 0.200 & 0.1600263158\\\\\n",
       "\t 0.230 & 0.1598684211\\\\\n",
       "\\end{tabular}\n"
      ],
      "text/markdown": [
       "\n",
       "A data.table: 24 x 2\n",
       "\n",
       "| Load [TxMB/s] &lt;dbl&gt; | Throughput [TxMB/s] &lt;dbl&gt; |\n",
       "|---|---|\n",
       "| 0.001 | 0.0009986842 |\n",
       "| 0.002 | 0.0019894737 |\n",
       "| 0.003 | 0.0030026316 |\n",
       "| 0.004 | 0.0040447368 |\n",
       "| 0.005 | 0.0048697368 |\n",
       "| 0.006 | 0.0053578947 |\n",
       "| 0.007 | 0.0069118421 |\n",
       "| 0.008 | 0.0079078947 |\n",
       "| 0.009 | 0.0082210526 |\n",
       "| 0.010 | 0.0101921053 |\n",
       "| 0.020 | 0.0204605263 |\n",
       "| 0.030 | 0.0306539474 |\n",
       "| 0.040 | 0.0405276316 |\n",
       "| 0.050 | 0.0512763158 |\n",
       "| 0.070 | 0.0732039474 |\n",
       "| 0.080 | 0.0855105263 |\n",
       "| 0.100 | 0.1002434211 |\n",
       "| 0.110 | 0.1156500000 |\n",
       "| 0.130 | 0.1366592105 |\n",
       "| 0.150 | 0.1519973684 |\n",
       "| 0.160 | 0.1699236842 |\n",
       "| 0.170 | 0.1601842105 |\n",
       "| 0.200 | 0.1600263158 |\n",
       "| 0.230 | 0.1598684211 |\n",
       "\n"
      ],
      "text/plain": [
       "   Load [TxMB/s] Throughput [TxMB/s]\n",
       "1  0.001         0.0009986842       \n",
       "2  0.002         0.0019894737       \n",
       "3  0.003         0.0030026316       \n",
       "4  0.004         0.0040447368       \n",
       "5  0.005         0.0048697368       \n",
       "6  0.006         0.0053578947       \n",
       "7  0.007         0.0069118421       \n",
       "8  0.008         0.0079078947       \n",
       "9  0.009         0.0082210526       \n",
       "10 0.010         0.0101921053       \n",
       "11 0.020         0.0204605263       \n",
       "12 0.030         0.0306539474       \n",
       "13 0.040         0.0405276316       \n",
       "14 0.050         0.0512763158       \n",
       "15 0.070         0.0732039474       \n",
       "16 0.080         0.0855105263       \n",
       "17 0.100         0.1002434211       \n",
       "18 0.110         0.1156500000       \n",
       "19 0.130         0.1366592105       \n",
       "20 0.150         0.1519973684       \n",
       "21 0.160         0.1699236842       \n",
       "22 0.170         0.1601842105       \n",
       "23 0.200         0.1600263158       \n",
       "24 0.230         0.1598684211       "
      ]
     },
     "metadata": {},
     "output_type": "display_data"
    }
   ],
   "source": [
    "lifecycle[\n",
    "        `Message` == \"TX\" &\n",
    "        (\n",
    "            !is.na(`To RB [s]`) & `To RB [s]` >= 60 & `To RB [s]` <= 1200 |\n",
    "            !is.na(`In RB [s]`) & `In RB [s]` >= 60 & `In RB [s]` <= 1200\n",
    "        ),\n",
    "        .(`Throughput [TxMB/s]`=sum(`Size [B]`)/(1200-60)/1000000),\n",
    "        .(\n",
    "            `Load [TxMB/s]`=as.numeric(sub(\" .*$\", \"\", `Throughput`))\n",
    "        )\n",
    "    ]"
   ]
  },
  {
   "cell_type": "code",
   "execution_count": 201,
   "id": "be4435f6-4e1e-4b47-abc9-698b89c08220",
   "metadata": {
    "tags": []
   },
   "outputs": [
    {
     "data": {
      "text/plain": [
       "        Network       Bandwidth             CPU              Diffusion duration\n",
       " topology-v2:1583   10 Mb/s:1583   4 vCPU/node:1583   L_diff = 7 slots:1583    \n",
       "                                                                               \n",
       "                                                                               \n",
       "                                                                               \n",
       "                                                                               \n",
       "                                                                               \n",
       "                                                                               \n",
       "         Voting duration   Max EB size        Tx size            Throughput  \n",
       " L_vote = 4 slots:1583   12 MB/EB:1583   1500 B/Tx:1583   0.001 TxMB/s:  70  \n",
       "                                                          0.005 TxMB/s:  61  \n",
       "                                                          0.100 TxMB/s:  60  \n",
       "                                                          0.110 TxMB/s:  60  \n",
       "                                                          0.130 TxMB/s:  60  \n",
       "                                                          0.170 TxMB/s:  60  \n",
       "                                                          (Other)     :1212  \n",
       "  Plutus         Tx start [s]  Tx stop [s]    Sim stop [s]     Time [s]      \n",
       " Mode:logical   Min.   :0     Min.   :1200   Min.   :1200   Min.   :  20.07  \n",
       " NA's:1583      1st Qu.:0     1st Qu.:1200   1st Qu.:1200   1st Qu.: 362.34  \n",
       "                Median :0     Median :1200   Median :1200   Median : 617.34  \n",
       "                Mean   :0     Mean   :1200   Mean   :1200   Mean   : 638.75  \n",
       "                3rd Qu.:0     3rd Qu.:1200   3rd Qu.:1200   3rd Qu.: 930.19  \n",
       "                Max.   :0     Max.   :1200   Max.   :1200   Max.   :1198.16  \n",
       "                                                                             \n",
       "            RB                Parent                EB     \n",
       " 20-node-220 :  28   401-node-207:  38   401-node-207: 38  \n",
       " 144-node-14 :  26               :  28   428-node-100: 28  \n",
       " 206-node-151:  26   20-node-220 :  28   144-node-14 : 26  \n",
       " 234-node-573:  26   428-node-100:  28   206-node-151: 26  \n",
       " 257-node-528:  26   144-node-14 :  26   234-node-573: 26  \n",
       " 273-node-531:  26   206-node-151:  26   (Other)     :553  \n",
       " (Other)     :1425   (Other)     :1409   NA's        :886  "
      ]
     },
     "metadata": {},
     "output_type": "display_data"
    }
   ],
   "source": [
    "certified <- fread(\"results/certified.csv.gz\", stringsAsFactors=TRUE)\n",
    "certified %>% summary"
   ]
  },
  {
   "cell_type": "code",
   "execution_count": 135,
   "id": "08e236bf-f2e2-4d77-9144-420dd387f387",
   "metadata": {
    "tags": []
   },
   "outputs": [
    {
     "data": {
      "text/html": [
       "<table class=\"dataframe\">\n",
       "<caption>A data.table: 7 x 7</caption>\n",
       "<thead>\n",
       "\t<tr><th scope=col>Time [s]</th><th scope=col>RB</th><th scope=col>Parent</th><th scope=col>EB</th><th scope=col>i.Time [s]</th><th scope=col>Kind</th><th scope=col>Tx</th></tr>\n",
       "\t<tr><th scope=col>&lt;dbl&gt;</th><th scope=col>&lt;fct&gt;</th><th scope=col>&lt;fct&gt;</th><th scope=col>&lt;fct&gt;</th><th scope=col>&lt;dbl&gt;</th><th scope=col>&lt;fct&gt;</th><th scope=col>&lt;int&gt;</th></tr>\n",
       "</thead>\n",
       "<tbody>\n",
       "\t<tr><td>      NA</td><td>NA          </td><td>NA          </td><td>273-node-531</td><td>273.3394</td><td>EB</td><td>16480</td></tr>\n",
       "\t<tr><td>      NA</td><td>NA          </td><td>NA          </td><td>275-node-558</td><td>275.3394</td><td>EB</td><td>16480</td></tr>\n",
       "\t<tr><td>      NA</td><td>NA          </td><td>NA          </td><td>288-node-132</td><td>288.3394</td><td>EB</td><td>16480</td></tr>\n",
       "\t<tr><td>      NA</td><td>NA          </td><td>NA          </td><td>289-node-91 </td><td>289.3394</td><td>EB</td><td>16480</td></tr>\n",
       "\t<tr><td>      NA</td><td>NA          </td><td>NA          </td><td>296-node-95 </td><td>296.3394</td><td>EB</td><td>16480</td></tr>\n",
       "\t<tr><td>333.3394</td><td>333-node-146</td><td>308-node-159</td><td>308-node-159</td><td>308.3394</td><td>EB</td><td>16480</td></tr>\n",
       "\t<tr><td>362.3394</td><td>362-node-585</td><td>333-node-146</td><td>333-node-146</td><td>333.3394</td><td>EB</td><td>16480</td></tr>\n",
       "</tbody>\n",
       "</table>\n"
      ],
      "text/latex": [
       "A data.table: 7 x 7\n",
       "\\begin{tabular}{lllllll}\n",
       " Time {[}s{]} & RB & Parent & EB & i.Time {[}s{]} & Kind & Tx\\\\\n",
       " <dbl> & <fct> & <fct> & <fct> & <dbl> & <fct> & <int>\\\\\n",
       "\\hline\n",
       "\t       NA & NA           & NA           & 273-node-531 & 273.3394 & EB & 16480\\\\\n",
       "\t       NA & NA           & NA           & 275-node-558 & 275.3394 & EB & 16480\\\\\n",
       "\t       NA & NA           & NA           & 288-node-132 & 288.3394 & EB & 16480\\\\\n",
       "\t       NA & NA           & NA           & 289-node-91  & 289.3394 & EB & 16480\\\\\n",
       "\t       NA & NA           & NA           & 296-node-95  & 296.3394 & EB & 16480\\\\\n",
       "\t 333.3394 & 333-node-146 & 308-node-159 & 308-node-159 & 308.3394 & EB & 16480\\\\\n",
       "\t 362.3394 & 362-node-585 & 333-node-146 & 333-node-146 & 333.3394 & EB & 16480\\\\\n",
       "\\end{tabular}\n"
      ],
      "text/markdown": [
       "\n",
       "A data.table: 7 x 7\n",
       "\n",
       "| Time [s] &lt;dbl&gt; | RB &lt;fct&gt; | Parent &lt;fct&gt; | EB &lt;fct&gt; | i.Time [s] &lt;dbl&gt; | Kind &lt;fct&gt; | Tx &lt;int&gt; |\n",
       "|---|---|---|---|---|---|---|\n",
       "|       NA | NA           | NA           | 273-node-531 | 273.3394 | EB | 16480 |\n",
       "|       NA | NA           | NA           | 275-node-558 | 275.3394 | EB | 16480 |\n",
       "|       NA | NA           | NA           | 288-node-132 | 288.3394 | EB | 16480 |\n",
       "|       NA | NA           | NA           | 289-node-91  | 289.3394 | EB | 16480 |\n",
       "|       NA | NA           | NA           | 296-node-95  | 296.3394 | EB | 16480 |\n",
       "| 333.3394 | 333-node-146 | 308-node-159 | 308-node-159 | 308.3394 | EB | 16480 |\n",
       "| 362.3394 | 362-node-585 | 333-node-146 | 333-node-146 | 333.3394 | EB | 16480 |\n",
       "\n"
      ],
      "text/plain": [
       "  Time [s] RB           Parent       EB           i.Time [s] Kind Tx   \n",
       "1       NA NA           NA           273-node-531 273.3394   EB   16480\n",
       "2       NA NA           NA           275-node-558 275.3394   EB   16480\n",
       "3       NA NA           NA           288-node-132 288.3394   EB   16480\n",
       "4       NA NA           NA           289-node-91  289.3394   EB   16480\n",
       "5       NA NA           NA           296-node-95  296.3394   EB   16480\n",
       "6 333.3394 333-node-146 308-node-159 308-node-159 308.3394   EB   16480\n",
       "7 362.3394 362-node-585 333-node-146 333-node-146 333.3394   EB   16480"
      ]
     },
     "metadata": {},
     "output_type": "display_data"
    }
   ],
   "source": [
    "certified[generated[`Tx` == 16480], on=c(\"EB\"=\"Block\")]"
   ]
  },
  {
   "cell_type": "code",
   "execution_count": 136,
   "id": "b68534d3-d091-4f24-a8d1-12c937116469",
   "metadata": {
    "tags": []
   },
   "outputs": [
    {
     "data": {
      "text/html": [
       "<table class=\"dataframe\">\n",
       "<caption>A data.table: 54 x 4</caption>\n",
       "<thead>\n",
       "\t<tr><th scope=col>Time [s]</th><th scope=col>RB</th><th scope=col>Parent</th><th scope=col>EB</th></tr>\n",
       "\t<tr><th scope=col>&lt;dbl&gt;</th><th scope=col>&lt;fct&gt;</th><th scope=col>&lt;fct&gt;</th><th scope=col>&lt;fct&gt;</th></tr>\n",
       "</thead>\n",
       "<tbody>\n",
       "\t<tr><td>  20.1825</td><td>20-node-220  </td><td>             </td><td>NA           </td></tr>\n",
       "\t<tr><td>  25.2029</td><td>25-node-223  </td><td>20-node-220  </td><td>NA           </td></tr>\n",
       "\t<tr><td> 144.3394</td><td>144-node-14  </td><td>25-node-223  </td><td>NA           </td></tr>\n",
       "\t<tr><td> 206.3394</td><td>206-node-151 </td><td>144-node-14  </td><td>144-node-14  </td></tr>\n",
       "\t<tr><td> 234.3394</td><td>234-node-573 </td><td>206-node-151 </td><td>206-node-151 </td></tr>\n",
       "\t<tr><td> 257.3394</td><td>257-node-528 </td><td>234-node-573 </td><td>234-node-573 </td></tr>\n",
       "\t<tr><td> 273.3394</td><td>273-node-531 </td><td>257-node-528 </td><td>257-node-528 </td></tr>\n",
       "\t<tr><td> 275.3394</td><td>275-node-558 </td><td>273-node-531 </td><td>NA           </td></tr>\n",
       "\t<tr><td> 288.3394</td><td>288-node-132 </td><td>275-node-558 </td><td>NA           </td></tr>\n",
       "\t<tr><td> 289.3394</td><td>289-node-91  </td><td>288-node-132 </td><td>NA           </td></tr>\n",
       "\t<tr><td> 296.3394</td><td>296-node-95  </td><td>289-node-91  </td><td>NA           </td></tr>\n",
       "\t<tr><td> 308.3394</td><td>308-node-159 </td><td>296-node-95  </td><td>NA           </td></tr>\n",
       "\t<tr><td> 333.3394</td><td>333-node-146 </td><td>308-node-159 </td><td>308-node-159 </td></tr>\n",
       "\t<tr><td> 362.3394</td><td>362-node-585 </td><td>333-node-146 </td><td>333-node-146 </td></tr>\n",
       "\t<tr><td> 401.3394</td><td>401-node-207 </td><td>362-node-585 </td><td>362-node-585 </td></tr>\n",
       "\t<tr><td> 417.3394</td><td>417-node-147 </td><td>401-node-207 </td><td>401-node-207 </td></tr>\n",
       "\t<tr><td> 417.3394</td><td>417-node-16  </td><td>401-node-207 </td><td>401-node-207 </td></tr>\n",
       "\t<tr><td> 428.3394</td><td>428-node-100 </td><td>417-node-147 </td><td>NA           </td></tr>\n",
       "\t<tr><td> 479.3394</td><td>479-node-197 </td><td>428-node-100 </td><td>428-node-100 </td></tr>\n",
       "\t<tr><td> 480.3394</td><td>480-node-92  </td><td>428-node-100 </td><td>428-node-100 </td></tr>\n",
       "\t<tr><td> 501.3394</td><td>501-node-414 </td><td>480-node-92  </td><td>480-node-92  </td></tr>\n",
       "\t<tr><td> 509.3394</td><td>509-node-602 </td><td>501-node-414 </td><td>NA           </td></tr>\n",
       "\t<tr><td> 519.3394</td><td>519-node-150 </td><td>509-node-602 </td><td>NA           </td></tr>\n",
       "\t<tr><td> 529.3394</td><td>529-node-432 </td><td>519-node-150 </td><td>NA           </td></tr>\n",
       "\t<tr><td> 567.3394</td><td>567-node-161 </td><td>529-node-432 </td><td>529-node-432 </td></tr>\n",
       "\t<tr><td> 589.3394</td><td>589-node-139 </td><td>567-node-161 </td><td>567-node-161 </td></tr>\n",
       "\t<tr><td> 602.3394</td><td>602-node-136 </td><td>589-node-139 </td><td>NA           </td></tr>\n",
       "\t<tr><td> 609.3394</td><td>609-node-604 </td><td>602-node-136 </td><td>NA           </td></tr>\n",
       "\t<tr><td> 617.3394</td><td>617-node-143 </td><td>609-node-604 </td><td>NA           </td></tr>\n",
       "\t<tr><td> 623.3394</td><td>623-node-565 </td><td>617-node-143 </td><td>NA           </td></tr>\n",
       "\t<tr><td> 659.3394</td><td>659-node-50  </td><td>623-node-565 </td><td>NA           </td></tr>\n",
       "\t<tr><td> 685.3394</td><td>685-node-529 </td><td>659-node-50  </td><td>659-node-50  </td></tr>\n",
       "\t<tr><td> 692.3394</td><td>692-node-565 </td><td>685-node-529 </td><td>NA           </td></tr>\n",
       "\t<tr><td> 712.3394</td><td>712-node-485 </td><td>692-node-565 </td><td>692-node-565 </td></tr>\n",
       "\t<tr><td> 718.3394</td><td>718-node-580 </td><td>712-node-485 </td><td>NA           </td></tr>\n",
       "\t<tr><td> 752.3394</td><td>752-node-487 </td><td>718-node-580 </td><td>718-node-580 </td></tr>\n",
       "\t<tr><td> 811.3394</td><td>811-node-217 </td><td>752-node-487 </td><td>752-node-487 </td></tr>\n",
       "\t<tr><td> 831.3394</td><td>831-node-584 </td><td>811-node-217 </td><td>811-node-217 </td></tr>\n",
       "\t<tr><td> 870.3394</td><td>870-node-574 </td><td>831-node-584 </td><td>831-node-584 </td></tr>\n",
       "\t<tr><td> 926.3394</td><td>926-node-182 </td><td>870-node-574 </td><td>870-node-574 </td></tr>\n",
       "\t<tr><td> 930.3394</td><td>930-node-497 </td><td>926-node-182 </td><td>NA           </td></tr>\n",
       "\t<tr><td> 949.3394</td><td>949-node-487 </td><td>930-node-497 </td><td>930-node-497 </td></tr>\n",
       "\t<tr><td> 959.3394</td><td>959-node-9   </td><td>949-node-487 </td><td>NA           </td></tr>\n",
       "\t<tr><td> 965.3394</td><td>965-node-154 </td><td>959-node-9   </td><td>NA           </td></tr>\n",
       "\t<tr><td> 993.3394</td><td>993-node-424 </td><td>965-node-154 </td><td>965-node-154 </td></tr>\n",
       "\t<tr><td>1051.3394</td><td>1051-node-135</td><td>993-node-424 </td><td>993-node-424 </td></tr>\n",
       "\t<tr><td>1058.3394</td><td>1058-node-94 </td><td>1051-node-135</td><td>NA           </td></tr>\n",
       "\t<tr><td>1071.3394</td><td>1071-node-438</td><td>1058-node-94 </td><td>NA           </td></tr>\n",
       "\t<tr><td>1083.3394</td><td>1083-node-568</td><td>1071-node-438</td><td>NA           </td></tr>\n",
       "\t<tr><td>1088.3394</td><td>1088-node-217</td><td>1083-node-568</td><td>NA           </td></tr>\n",
       "\t<tr><td>1107.3394</td><td>1107-node-143</td><td>1088-node-217</td><td>1088-node-217</td></tr>\n",
       "\t<tr><td>1118.3394</td><td>1118-node-216</td><td>1107-node-143</td><td>NA           </td></tr>\n",
       "\t<tr><td>1171.3394</td><td>1171-node-197</td><td>1118-node-216</td><td>1118-node-216</td></tr>\n",
       "\t<tr><td>1188.3394</td><td>1188-node-161</td><td>1171-node-197</td><td>1171-node-197</td></tr>\n",
       "</tbody>\n",
       "</table>\n"
      ],
      "text/latex": [
       "A data.table: 54 x 4\n",
       "\\begin{tabular}{llll}\n",
       " Time {[}s{]} & RB & Parent & EB\\\\\n",
       " <dbl> & <fct> & <fct> & <fct>\\\\\n",
       "\\hline\n",
       "\t   20.1825 & 20-node-220   &               & NA           \\\\\n",
       "\t   25.2029 & 25-node-223   & 20-node-220   & NA           \\\\\n",
       "\t  144.3394 & 144-node-14   & 25-node-223   & NA           \\\\\n",
       "\t  206.3394 & 206-node-151  & 144-node-14   & 144-node-14  \\\\\n",
       "\t  234.3394 & 234-node-573  & 206-node-151  & 206-node-151 \\\\\n",
       "\t  257.3394 & 257-node-528  & 234-node-573  & 234-node-573 \\\\\n",
       "\t  273.3394 & 273-node-531  & 257-node-528  & 257-node-528 \\\\\n",
       "\t  275.3394 & 275-node-558  & 273-node-531  & NA           \\\\\n",
       "\t  288.3394 & 288-node-132  & 275-node-558  & NA           \\\\\n",
       "\t  289.3394 & 289-node-91   & 288-node-132  & NA           \\\\\n",
       "\t  296.3394 & 296-node-95   & 289-node-91   & NA           \\\\\n",
       "\t  308.3394 & 308-node-159  & 296-node-95   & NA           \\\\\n",
       "\t  333.3394 & 333-node-146  & 308-node-159  & 308-node-159 \\\\\n",
       "\t  362.3394 & 362-node-585  & 333-node-146  & 333-node-146 \\\\\n",
       "\t  401.3394 & 401-node-207  & 362-node-585  & 362-node-585 \\\\\n",
       "\t  417.3394 & 417-node-147  & 401-node-207  & 401-node-207 \\\\\n",
       "\t  417.3394 & 417-node-16   & 401-node-207  & 401-node-207 \\\\\n",
       "\t  428.3394 & 428-node-100  & 417-node-147  & NA           \\\\\n",
       "\t  479.3394 & 479-node-197  & 428-node-100  & 428-node-100 \\\\\n",
       "\t  480.3394 & 480-node-92   & 428-node-100  & 428-node-100 \\\\\n",
       "\t  501.3394 & 501-node-414  & 480-node-92   & 480-node-92  \\\\\n",
       "\t  509.3394 & 509-node-602  & 501-node-414  & NA           \\\\\n",
       "\t  519.3394 & 519-node-150  & 509-node-602  & NA           \\\\\n",
       "\t  529.3394 & 529-node-432  & 519-node-150  & NA           \\\\\n",
       "\t  567.3394 & 567-node-161  & 529-node-432  & 529-node-432 \\\\\n",
       "\t  589.3394 & 589-node-139  & 567-node-161  & 567-node-161 \\\\\n",
       "\t  602.3394 & 602-node-136  & 589-node-139  & NA           \\\\\n",
       "\t  609.3394 & 609-node-604  & 602-node-136  & NA           \\\\\n",
       "\t  617.3394 & 617-node-143  & 609-node-604  & NA           \\\\\n",
       "\t  623.3394 & 623-node-565  & 617-node-143  & NA           \\\\\n",
       "\t  659.3394 & 659-node-50   & 623-node-565  & NA           \\\\\n",
       "\t  685.3394 & 685-node-529  & 659-node-50   & 659-node-50  \\\\\n",
       "\t  692.3394 & 692-node-565  & 685-node-529  & NA           \\\\\n",
       "\t  712.3394 & 712-node-485  & 692-node-565  & 692-node-565 \\\\\n",
       "\t  718.3394 & 718-node-580  & 712-node-485  & NA           \\\\\n",
       "\t  752.3394 & 752-node-487  & 718-node-580  & 718-node-580 \\\\\n",
       "\t  811.3394 & 811-node-217  & 752-node-487  & 752-node-487 \\\\\n",
       "\t  831.3394 & 831-node-584  & 811-node-217  & 811-node-217 \\\\\n",
       "\t  870.3394 & 870-node-574  & 831-node-584  & 831-node-584 \\\\\n",
       "\t  926.3394 & 926-node-182  & 870-node-574  & 870-node-574 \\\\\n",
       "\t  930.3394 & 930-node-497  & 926-node-182  & NA           \\\\\n",
       "\t  949.3394 & 949-node-487  & 930-node-497  & 930-node-497 \\\\\n",
       "\t  959.3394 & 959-node-9    & 949-node-487  & NA           \\\\\n",
       "\t  965.3394 & 965-node-154  & 959-node-9    & NA           \\\\\n",
       "\t  993.3394 & 993-node-424  & 965-node-154  & 965-node-154 \\\\\n",
       "\t 1051.3394 & 1051-node-135 & 993-node-424  & 993-node-424 \\\\\n",
       "\t 1058.3394 & 1058-node-94  & 1051-node-135 & NA           \\\\\n",
       "\t 1071.3394 & 1071-node-438 & 1058-node-94  & NA           \\\\\n",
       "\t 1083.3394 & 1083-node-568 & 1071-node-438 & NA           \\\\\n",
       "\t 1088.3394 & 1088-node-217 & 1083-node-568 & NA           \\\\\n",
       "\t 1107.3394 & 1107-node-143 & 1088-node-217 & 1088-node-217\\\\\n",
       "\t 1118.3394 & 1118-node-216 & 1107-node-143 & NA           \\\\\n",
       "\t 1171.3394 & 1171-node-197 & 1118-node-216 & 1118-node-216\\\\\n",
       "\t 1188.3394 & 1188-node-161 & 1171-node-197 & 1171-node-197\\\\\n",
       "\\end{tabular}\n"
      ],
      "text/markdown": [
       "\n",
       "A data.table: 54 x 4\n",
       "\n",
       "| Time [s] &lt;dbl&gt; | RB &lt;fct&gt; | Parent &lt;fct&gt; | EB &lt;fct&gt; |\n",
       "|---|---|---|---|\n",
       "|   20.1825 | 20-node-220   | <!----> | NA            |\n",
       "|   25.2029 | 25-node-223   | 20-node-220   | NA            |\n",
       "|  144.3394 | 144-node-14   | 25-node-223   | NA            |\n",
       "|  206.3394 | 206-node-151  | 144-node-14   | 144-node-14   |\n",
       "|  234.3394 | 234-node-573  | 206-node-151  | 206-node-151  |\n",
       "|  257.3394 | 257-node-528  | 234-node-573  | 234-node-573  |\n",
       "|  273.3394 | 273-node-531  | 257-node-528  | 257-node-528  |\n",
       "|  275.3394 | 275-node-558  | 273-node-531  | NA            |\n",
       "|  288.3394 | 288-node-132  | 275-node-558  | NA            |\n",
       "|  289.3394 | 289-node-91   | 288-node-132  | NA            |\n",
       "|  296.3394 | 296-node-95   | 289-node-91   | NA            |\n",
       "|  308.3394 | 308-node-159  | 296-node-95   | NA            |\n",
       "|  333.3394 | 333-node-146  | 308-node-159  | 308-node-159  |\n",
       "|  362.3394 | 362-node-585  | 333-node-146  | 333-node-146  |\n",
       "|  401.3394 | 401-node-207  | 362-node-585  | 362-node-585  |\n",
       "|  417.3394 | 417-node-147  | 401-node-207  | 401-node-207  |\n",
       "|  417.3394 | 417-node-16   | 401-node-207  | 401-node-207  |\n",
       "|  428.3394 | 428-node-100  | 417-node-147  | NA            |\n",
       "|  479.3394 | 479-node-197  | 428-node-100  | 428-node-100  |\n",
       "|  480.3394 | 480-node-92   | 428-node-100  | 428-node-100  |\n",
       "|  501.3394 | 501-node-414  | 480-node-92   | 480-node-92   |\n",
       "|  509.3394 | 509-node-602  | 501-node-414  | NA            |\n",
       "|  519.3394 | 519-node-150  | 509-node-602  | NA            |\n",
       "|  529.3394 | 529-node-432  | 519-node-150  | NA            |\n",
       "|  567.3394 | 567-node-161  | 529-node-432  | 529-node-432  |\n",
       "|  589.3394 | 589-node-139  | 567-node-161  | 567-node-161  |\n",
       "|  602.3394 | 602-node-136  | 589-node-139  | NA            |\n",
       "|  609.3394 | 609-node-604  | 602-node-136  | NA            |\n",
       "|  617.3394 | 617-node-143  | 609-node-604  | NA            |\n",
       "|  623.3394 | 623-node-565  | 617-node-143  | NA            |\n",
       "|  659.3394 | 659-node-50   | 623-node-565  | NA            |\n",
       "|  685.3394 | 685-node-529  | 659-node-50   | 659-node-50   |\n",
       "|  692.3394 | 692-node-565  | 685-node-529  | NA            |\n",
       "|  712.3394 | 712-node-485  | 692-node-565  | 692-node-565  |\n",
       "|  718.3394 | 718-node-580  | 712-node-485  | NA            |\n",
       "|  752.3394 | 752-node-487  | 718-node-580  | 718-node-580  |\n",
       "|  811.3394 | 811-node-217  | 752-node-487  | 752-node-487  |\n",
       "|  831.3394 | 831-node-584  | 811-node-217  | 811-node-217  |\n",
       "|  870.3394 | 870-node-574  | 831-node-584  | 831-node-584  |\n",
       "|  926.3394 | 926-node-182  | 870-node-574  | 870-node-574  |\n",
       "|  930.3394 | 930-node-497  | 926-node-182  | NA            |\n",
       "|  949.3394 | 949-node-487  | 930-node-497  | 930-node-497  |\n",
       "|  959.3394 | 959-node-9    | 949-node-487  | NA            |\n",
       "|  965.3394 | 965-node-154  | 959-node-9    | NA            |\n",
       "|  993.3394 | 993-node-424  | 965-node-154  | 965-node-154  |\n",
       "| 1051.3394 | 1051-node-135 | 993-node-424  | 993-node-424  |\n",
       "| 1058.3394 | 1058-node-94  | 1051-node-135 | NA            |\n",
       "| 1071.3394 | 1071-node-438 | 1058-node-94  | NA            |\n",
       "| 1083.3394 | 1083-node-568 | 1071-node-438 | NA            |\n",
       "| 1088.3394 | 1088-node-217 | 1083-node-568 | NA            |\n",
       "| 1107.3394 | 1107-node-143 | 1088-node-217 | 1088-node-217 |\n",
       "| 1118.3394 | 1118-node-216 | 1107-node-143 | NA            |\n",
       "| 1171.3394 | 1171-node-197 | 1118-node-216 | 1118-node-216 |\n",
       "| 1188.3394 | 1188-node-161 | 1171-node-197 | 1171-node-197 |\n",
       "\n"
      ],
      "text/plain": [
       "   Time [s]  RB            Parent        EB           \n",
       "1    20.1825 20-node-220                 NA           \n",
       "2    25.2029 25-node-223   20-node-220   NA           \n",
       "3   144.3394 144-node-14   25-node-223   NA           \n",
       "4   206.3394 206-node-151  144-node-14   144-node-14  \n",
       "5   234.3394 234-node-573  206-node-151  206-node-151 \n",
       "6   257.3394 257-node-528  234-node-573  234-node-573 \n",
       "7   273.3394 273-node-531  257-node-528  257-node-528 \n",
       "8   275.3394 275-node-558  273-node-531  NA           \n",
       "9   288.3394 288-node-132  275-node-558  NA           \n",
       "10  289.3394 289-node-91   288-node-132  NA           \n",
       "11  296.3394 296-node-95   289-node-91   NA           \n",
       "12  308.3394 308-node-159  296-node-95   NA           \n",
       "13  333.3394 333-node-146  308-node-159  308-node-159 \n",
       "14  362.3394 362-node-585  333-node-146  333-node-146 \n",
       "15  401.3394 401-node-207  362-node-585  362-node-585 \n",
       "16  417.3394 417-node-147  401-node-207  401-node-207 \n",
       "17  417.3394 417-node-16   401-node-207  401-node-207 \n",
       "18  428.3394 428-node-100  417-node-147  NA           \n",
       "19  479.3394 479-node-197  428-node-100  428-node-100 \n",
       "20  480.3394 480-node-92   428-node-100  428-node-100 \n",
       "21  501.3394 501-node-414  480-node-92   480-node-92  \n",
       "22  509.3394 509-node-602  501-node-414  NA           \n",
       "23  519.3394 519-node-150  509-node-602  NA           \n",
       "24  529.3394 529-node-432  519-node-150  NA           \n",
       "25  567.3394 567-node-161  529-node-432  529-node-432 \n",
       "26  589.3394 589-node-139  567-node-161  567-node-161 \n",
       "27  602.3394 602-node-136  589-node-139  NA           \n",
       "28  609.3394 609-node-604  602-node-136  NA           \n",
       "29  617.3394 617-node-143  609-node-604  NA           \n",
       "30  623.3394 623-node-565  617-node-143  NA           \n",
       "31  659.3394 659-node-50   623-node-565  NA           \n",
       "32  685.3394 685-node-529  659-node-50   659-node-50  \n",
       "33  692.3394 692-node-565  685-node-529  NA           \n",
       "34  712.3394 712-node-485  692-node-565  692-node-565 \n",
       "35  718.3394 718-node-580  712-node-485  NA           \n",
       "36  752.3394 752-node-487  718-node-580  718-node-580 \n",
       "37  811.3394 811-node-217  752-node-487  752-node-487 \n",
       "38  831.3394 831-node-584  811-node-217  811-node-217 \n",
       "39  870.3394 870-node-574  831-node-584  831-node-584 \n",
       "40  926.3394 926-node-182  870-node-574  870-node-574 \n",
       "41  930.3394 930-node-497  926-node-182  NA           \n",
       "42  949.3394 949-node-487  930-node-497  930-node-497 \n",
       "43  959.3394 959-node-9    949-node-487  NA           \n",
       "44  965.3394 965-node-154  959-node-9    NA           \n",
       "45  993.3394 993-node-424  965-node-154  965-node-154 \n",
       "46 1051.3394 1051-node-135 993-node-424  993-node-424 \n",
       "47 1058.3394 1058-node-94  1051-node-135 NA           \n",
       "48 1071.3394 1071-node-438 1058-node-94  NA           \n",
       "49 1083.3394 1083-node-568 1071-node-438 NA           \n",
       "50 1088.3394 1088-node-217 1083-node-568 NA           \n",
       "51 1107.3394 1107-node-143 1088-node-217 1088-node-217\n",
       "52 1118.3394 1118-node-216 1107-node-143 NA           \n",
       "53 1171.3394 1171-node-197 1118-node-216 1118-node-216\n",
       "54 1188.3394 1188-node-161 1171-node-197 1171-node-197"
      ]
     },
     "metadata": {},
     "output_type": "display_data"
    }
   ],
   "source": [
    "certified"
   ]
  },
  {
   "cell_type": "code",
   "execution_count": 128,
   "id": "301a5af1-beef-4141-a831-7e1594a7c3e9",
   "metadata": {
    "tags": []
   },
   "outputs": [
    {
     "data": {
      "text/html": [
       "270000"
      ],
      "text/latex": [
       "270000"
      ],
      "text/markdown": [
       "270000"
      ],
      "text/plain": [
       "[1] 270000"
      ]
     },
     "metadata": {},
     "output_type": "display_data"
    }
   ],
   "source": [
    "certified[!is.na(`EB`), .N] * 12000000 / 1200"
   ]
  },
  {
   "cell_type": "code",
   "execution_count": 202,
   "id": "1cdabdfa-2756-42b3-aebe-6435f73578e0",
   "metadata": {
    "tags": []
   },
   "outputs": [
    {
     "data": {
      "text/plain": [
       "        Network          Bandwidth                CPU         \n",
       " topology-v2:4831114   10 Mb/s:4831114   4 vCPU/node:4831114  \n",
       "                                                              \n",
       "                                                              \n",
       "                                                              \n",
       "                                                              \n",
       "                                                              \n",
       "                                                              \n",
       "        Diffusion duration          Voting duration      Max EB size     \n",
       " L_diff = 7 slots:4831114   L_vote = 4 slots:4831114   12 MB/EB:4831114  \n",
       "                                                                         \n",
       "                                                                         \n",
       "                                                                         \n",
       "                                                                         \n",
       "                                                                         \n",
       "                                                                         \n",
       "      Tx size               Throughput       Plutus         Tx start [s]\n",
       " 1500 B/Tx:4831114   0.170 TxMB/s: 471155   Mode:logical   Min.   :0    \n",
       "                     0.210 TxMB/s: 455746   NA's:4831114   1st Qu.:0    \n",
       "                     0.200 TxMB/s: 431691                  Median :0    \n",
       "                     0.230 TxMB/s: 424730                  Mean   :0    \n",
       "                     0.160 TxMB/s: 423244                  3rd Qu.:0    \n",
       "                     0.150 TxMB/s: 402548                  Max.   :0    \n",
       "                     (Other)     :2222000                               \n",
       "  Tx stop [s]    Sim stop [s]     Time [s]       Kind        \n",
       " Min.   :1200   Min.   :1200   Min.   :  20.07   EB:4785260  \n",
       " 1st Qu.:1200   1st Qu.:1200   1st Qu.: 362.34   RB:  45854  \n",
       " Median :1200   Median :1200   Median : 617.11               \n",
       " Mean   :1200   Mean   :1200   Mean   : 650.16               \n",
       " 3rd Qu.:1200   3rd Qu.:1200   3rd Qu.: 949.33               \n",
       " Max.   :1200   Max.   :1200   Max.   :1198.16               \n",
       "                                                             \n",
       "          Block               Tx        \n",
       " 206-node-151: 136011   Min.   :     0  \n",
       " 144-node-14 : 125772   1st Qu.: 21041  \n",
       " 234-node-573: 110280   Median : 43374  \n",
       " 926-node-182: 106683   Mean   : 49689  \n",
       " 257-node-528: 106660   3rd Qu.: 72800  \n",
       " 811-node-217: 105701   Max.   :137679  \n",
       " (Other)     :4140007                   "
      ]
     },
     "metadata": {},
     "output_type": "display_data"
    }
   ],
   "source": [
    "generated <- fread(\"results/generated.csv.gz\", stringsAsFactors=TRUE)\n",
    "generated %>% summary"
   ]
  },
  {
   "cell_type": "code",
   "execution_count": 106,
   "id": "44a62040-20ca-418a-8abf-7593abd7c0d5",
   "metadata": {
    "tags": []
   },
   "outputs": [
    {
     "data": {
      "text/html": [
       "<table class=\"dataframe\">\n",
       "<caption>A data.table: 7 x 4</caption>\n",
       "<thead>\n",
       "\t<tr><th scope=col>Time [s]</th><th scope=col>Kind</th><th scope=col>Block</th><th scope=col>Tx</th></tr>\n",
       "\t<tr><th scope=col>&lt;dbl&gt;</th><th scope=col>&lt;fct&gt;</th><th scope=col>&lt;fct&gt;</th><th scope=col>&lt;int&gt;</th></tr>\n",
       "</thead>\n",
       "<tbody>\n",
       "\t<tr><td>273.3394</td><td>EB</td><td>273-node-531</td><td>16480</td></tr>\n",
       "\t<tr><td>275.3394</td><td>EB</td><td>275-node-558</td><td>16480</td></tr>\n",
       "\t<tr><td>288.3394</td><td>EB</td><td>288-node-132</td><td>16480</td></tr>\n",
       "\t<tr><td>289.3394</td><td>EB</td><td>289-node-91 </td><td>16480</td></tr>\n",
       "\t<tr><td>296.3394</td><td>EB</td><td>296-node-95 </td><td>16480</td></tr>\n",
       "\t<tr><td>308.3394</td><td>EB</td><td>308-node-159</td><td>16480</td></tr>\n",
       "\t<tr><td>333.3394</td><td>EB</td><td>333-node-146</td><td>16480</td></tr>\n",
       "</tbody>\n",
       "</table>\n"
      ],
      "text/latex": [
       "A data.table: 7 x 4\n",
       "\\begin{tabular}{llll}\n",
       " Time {[}s{]} & Kind & Block & Tx\\\\\n",
       " <dbl> & <fct> & <fct> & <int>\\\\\n",
       "\\hline\n",
       "\t 273.3394 & EB & 273-node-531 & 16480\\\\\n",
       "\t 275.3394 & EB & 275-node-558 & 16480\\\\\n",
       "\t 288.3394 & EB & 288-node-132 & 16480\\\\\n",
       "\t 289.3394 & EB & 289-node-91  & 16480\\\\\n",
       "\t 296.3394 & EB & 296-node-95  & 16480\\\\\n",
       "\t 308.3394 & EB & 308-node-159 & 16480\\\\\n",
       "\t 333.3394 & EB & 333-node-146 & 16480\\\\\n",
       "\\end{tabular}\n"
      ],
      "text/markdown": [
       "\n",
       "A data.table: 7 x 4\n",
       "\n",
       "| Time [s] &lt;dbl&gt; | Kind &lt;fct&gt; | Block &lt;fct&gt; | Tx &lt;int&gt; |\n",
       "|---|---|---|---|\n",
       "| 273.3394 | EB | 273-node-531 | 16480 |\n",
       "| 275.3394 | EB | 275-node-558 | 16480 |\n",
       "| 288.3394 | EB | 288-node-132 | 16480 |\n",
       "| 289.3394 | EB | 289-node-91  | 16480 |\n",
       "| 296.3394 | EB | 296-node-95  | 16480 |\n",
       "| 308.3394 | EB | 308-node-159 | 16480 |\n",
       "| 333.3394 | EB | 333-node-146 | 16480 |\n",
       "\n"
      ],
      "text/plain": [
       "  Time [s] Kind Block        Tx   \n",
       "1 273.3394 EB   273-node-531 16480\n",
       "2 275.3394 EB   275-node-558 16480\n",
       "3 288.3394 EB   288-node-132 16480\n",
       "4 289.3394 EB   289-node-91  16480\n",
       "5 296.3394 EB   296-node-95  16480\n",
       "6 308.3394 EB   308-node-159 16480\n",
       "7 333.3394 EB   333-node-146 16480"
      ]
     },
     "metadata": {},
     "output_type": "display_data"
    }
   ],
   "source": [
    "generated[`Tx` == 16480]"
   ]
  },
  {
   "cell_type": "code",
   "execution_count": 116,
   "id": "1d8c70f0-ab01-40fd-b2bb-74872e25bf58",
   "metadata": {
    "tags": []
   },
   "outputs": [
    {
     "data": {
      "text/html": [
       "<table class=\"dataframe\">\n",
       "<caption>A data.table: 121260 x 2</caption>\n",
       "<thead>\n",
       "\t<tr><th scope=col>Tx</th><th scope=col>Count</th></tr>\n",
       "\t<tr><th scope=col>&lt;int&gt;</th><th scope=col>&lt;int&gt;</th></tr>\n",
       "</thead>\n",
       "<tbody>\n",
       "\t<tr><td>60</td><td>2</td></tr>\n",
       "\t<tr><td>61</td><td>2</td></tr>\n",
       "\t<tr><td>62</td><td>2</td></tr>\n",
       "\t<tr><td>63</td><td>2</td></tr>\n",
       "\t<tr><td>64</td><td>2</td></tr>\n",
       "\t<tr><td>65</td><td>2</td></tr>\n",
       "\t<tr><td>66</td><td>2</td></tr>\n",
       "\t<tr><td>67</td><td>2</td></tr>\n",
       "\t<tr><td>68</td><td>2</td></tr>\n",
       "\t<tr><td>69</td><td>2</td></tr>\n",
       "\t<tr><td>70</td><td>2</td></tr>\n",
       "\t<tr><td>71</td><td>2</td></tr>\n",
       "\t<tr><td>72</td><td>2</td></tr>\n",
       "\t<tr><td>73</td><td>2</td></tr>\n",
       "\t<tr><td>74</td><td>2</td></tr>\n",
       "\t<tr><td>75</td><td>2</td></tr>\n",
       "\t<tr><td>76</td><td>2</td></tr>\n",
       "\t<tr><td>77</td><td>2</td></tr>\n",
       "\t<tr><td>78</td><td>2</td></tr>\n",
       "\t<tr><td>79</td><td>2</td></tr>\n",
       "\t<tr><td>80</td><td>2</td></tr>\n",
       "\t<tr><td>81</td><td>2</td></tr>\n",
       "\t<tr><td>82</td><td>2</td></tr>\n",
       "\t<tr><td>83</td><td>2</td></tr>\n",
       "\t<tr><td>84</td><td>2</td></tr>\n",
       "\t<tr><td>85</td><td>2</td></tr>\n",
       "\t<tr><td>86</td><td>2</td></tr>\n",
       "\t<tr><td>87</td><td>2</td></tr>\n",
       "\t<tr><td>88</td><td>2</td></tr>\n",
       "\t<tr><td>89</td><td>2</td></tr>\n",
       "\t<tr><td>...</td><td>...</td></tr>\n",
       "\t<tr><td>121590</td><td>2</td></tr>\n",
       "\t<tr><td>121591</td><td>2</td></tr>\n",
       "\t<tr><td>121592</td><td>2</td></tr>\n",
       "\t<tr><td>121593</td><td>2</td></tr>\n",
       "\t<tr><td>121594</td><td>2</td></tr>\n",
       "\t<tr><td>121595</td><td>2</td></tr>\n",
       "\t<tr><td>121596</td><td>2</td></tr>\n",
       "\t<tr><td>121597</td><td>2</td></tr>\n",
       "\t<tr><td>121598</td><td>2</td></tr>\n",
       "\t<tr><td>121599</td><td>2</td></tr>\n",
       "\t<tr><td>121600</td><td>2</td></tr>\n",
       "\t<tr><td>121601</td><td>2</td></tr>\n",
       "\t<tr><td>121602</td><td>2</td></tr>\n",
       "\t<tr><td>121603</td><td>2</td></tr>\n",
       "\t<tr><td>121604</td><td>2</td></tr>\n",
       "\t<tr><td>121605</td><td>2</td></tr>\n",
       "\t<tr><td>121606</td><td>2</td></tr>\n",
       "\t<tr><td>121607</td><td>2</td></tr>\n",
       "\t<tr><td>121608</td><td>2</td></tr>\n",
       "\t<tr><td>121609</td><td>2</td></tr>\n",
       "\t<tr><td>121610</td><td>2</td></tr>\n",
       "\t<tr><td>121611</td><td>2</td></tr>\n",
       "\t<tr><td>121612</td><td>2</td></tr>\n",
       "\t<tr><td>121613</td><td>2</td></tr>\n",
       "\t<tr><td>121614</td><td>2</td></tr>\n",
       "\t<tr><td>121615</td><td>2</td></tr>\n",
       "\t<tr><td>121616</td><td>2</td></tr>\n",
       "\t<tr><td>121617</td><td>2</td></tr>\n",
       "\t<tr><td>121618</td><td>2</td></tr>\n",
       "\t<tr><td>121619</td><td>2</td></tr>\n",
       "</tbody>\n",
       "</table>\n"
      ],
      "text/latex": [
       "A data.table: 121260 x 2\n",
       "\\begin{tabular}{ll}\n",
       " Tx & Count\\\\\n",
       " <int> & <int>\\\\\n",
       "\\hline\n",
       "\t 60 & 2\\\\\n",
       "\t 61 & 2\\\\\n",
       "\t 62 & 2\\\\\n",
       "\t 63 & 2\\\\\n",
       "\t 64 & 2\\\\\n",
       "\t 65 & 2\\\\\n",
       "\t 66 & 2\\\\\n",
       "\t 67 & 2\\\\\n",
       "\t 68 & 2\\\\\n",
       "\t 69 & 2\\\\\n",
       "\t 70 & 2\\\\\n",
       "\t 71 & 2\\\\\n",
       "\t 72 & 2\\\\\n",
       "\t 73 & 2\\\\\n",
       "\t 74 & 2\\\\\n",
       "\t 75 & 2\\\\\n",
       "\t 76 & 2\\\\\n",
       "\t 77 & 2\\\\\n",
       "\t 78 & 2\\\\\n",
       "\t 79 & 2\\\\\n",
       "\t 80 & 2\\\\\n",
       "\t 81 & 2\\\\\n",
       "\t 82 & 2\\\\\n",
       "\t 83 & 2\\\\\n",
       "\t 84 & 2\\\\\n",
       "\t 85 & 2\\\\\n",
       "\t 86 & 2\\\\\n",
       "\t 87 & 2\\\\\n",
       "\t 88 & 2\\\\\n",
       "\t 89 & 2\\\\\n",
       "\t ... & ...\\\\\n",
       "\t 121590 & 2\\\\\n",
       "\t 121591 & 2\\\\\n",
       "\t 121592 & 2\\\\\n",
       "\t 121593 & 2\\\\\n",
       "\t 121594 & 2\\\\\n",
       "\t 121595 & 2\\\\\n",
       "\t 121596 & 2\\\\\n",
       "\t 121597 & 2\\\\\n",
       "\t 121598 & 2\\\\\n",
       "\t 121599 & 2\\\\\n",
       "\t 121600 & 2\\\\\n",
       "\t 121601 & 2\\\\\n",
       "\t 121602 & 2\\\\\n",
       "\t 121603 & 2\\\\\n",
       "\t 121604 & 2\\\\\n",
       "\t 121605 & 2\\\\\n",
       "\t 121606 & 2\\\\\n",
       "\t 121607 & 2\\\\\n",
       "\t 121608 & 2\\\\\n",
       "\t 121609 & 2\\\\\n",
       "\t 121610 & 2\\\\\n",
       "\t 121611 & 2\\\\\n",
       "\t 121612 & 2\\\\\n",
       "\t 121613 & 2\\\\\n",
       "\t 121614 & 2\\\\\n",
       "\t 121615 & 2\\\\\n",
       "\t 121616 & 2\\\\\n",
       "\t 121617 & 2\\\\\n",
       "\t 121618 & 2\\\\\n",
       "\t 121619 & 2\\\\\n",
       "\\end{tabular}\n"
      ],
      "text/markdown": [
       "\n",
       "A data.table: 121260 x 2\n",
       "\n",
       "| Tx &lt;int&gt; | Count &lt;int&gt; |\n",
       "|---|---|\n",
       "| 60 | 2 |\n",
       "| 61 | 2 |\n",
       "| 62 | 2 |\n",
       "| 63 | 2 |\n",
       "| 64 | 2 |\n",
       "| 65 | 2 |\n",
       "| 66 | 2 |\n",
       "| 67 | 2 |\n",
       "| 68 | 2 |\n",
       "| 69 | 2 |\n",
       "| 70 | 2 |\n",
       "| 71 | 2 |\n",
       "| 72 | 2 |\n",
       "| 73 | 2 |\n",
       "| 74 | 2 |\n",
       "| 75 | 2 |\n",
       "| 76 | 2 |\n",
       "| 77 | 2 |\n",
       "| 78 | 2 |\n",
       "| 79 | 2 |\n",
       "| 80 | 2 |\n",
       "| 81 | 2 |\n",
       "| 82 | 2 |\n",
       "| 83 | 2 |\n",
       "| 84 | 2 |\n",
       "| 85 | 2 |\n",
       "| 86 | 2 |\n",
       "| 87 | 2 |\n",
       "| 88 | 2 |\n",
       "| 89 | 2 |\n",
       "| ... | ... |\n",
       "| 121590 | 2 |\n",
       "| 121591 | 2 |\n",
       "| 121592 | 2 |\n",
       "| 121593 | 2 |\n",
       "| 121594 | 2 |\n",
       "| 121595 | 2 |\n",
       "| 121596 | 2 |\n",
       "| 121597 | 2 |\n",
       "| 121598 | 2 |\n",
       "| 121599 | 2 |\n",
       "| 121600 | 2 |\n",
       "| 121601 | 2 |\n",
       "| 121602 | 2 |\n",
       "| 121603 | 2 |\n",
       "| 121604 | 2 |\n",
       "| 121605 | 2 |\n",
       "| 121606 | 2 |\n",
       "| 121607 | 2 |\n",
       "| 121608 | 2 |\n",
       "| 121609 | 2 |\n",
       "| 121610 | 2 |\n",
       "| 121611 | 2 |\n",
       "| 121612 | 2 |\n",
       "| 121613 | 2 |\n",
       "| 121614 | 2 |\n",
       "| 121615 | 2 |\n",
       "| 121616 | 2 |\n",
       "| 121617 | 2 |\n",
       "| 121618 | 2 |\n",
       "| 121619 | 2 |\n",
       "\n"
      ],
      "text/plain": [
       "       Tx     Count\n",
       "1      60     2    \n",
       "2      61     2    \n",
       "3      62     2    \n",
       "4      63     2    \n",
       "5      64     2    \n",
       "6      65     2    \n",
       "7      66     2    \n",
       "8      67     2    \n",
       "9      68     2    \n",
       "10     69     2    \n",
       "11     70     2    \n",
       "12     71     2    \n",
       "13     72     2    \n",
       "14     73     2    \n",
       "15     74     2    \n",
       "16     75     2    \n",
       "17     76     2    \n",
       "18     77     2    \n",
       "19     78     2    \n",
       "20     79     2    \n",
       "21     80     2    \n",
       "22     81     2    \n",
       "23     82     2    \n",
       "24     83     2    \n",
       "25     84     2    \n",
       "26     85     2    \n",
       "27     86     2    \n",
       "28     87     2    \n",
       "29     88     2    \n",
       "30     89     2    \n",
       "...    ...    ...  \n",
       "121231 121590 2    \n",
       "121232 121591 2    \n",
       "121233 121592 2    \n",
       "121234 121593 2    \n",
       "121235 121594 2    \n",
       "121236 121595 2    \n",
       "121237 121596 2    \n",
       "121238 121597 2    \n",
       "121239 121598 2    \n",
       "121240 121599 2    \n",
       "121241 121600 2    \n",
       "121242 121601 2    \n",
       "121243 121602 2    \n",
       "121244 121603 2    \n",
       "121245 121604 2    \n",
       "121246 121605 2    \n",
       "121247 121606 2    \n",
       "121248 121607 2    \n",
       "121249 121608 2    \n",
       "121250 121609 2    \n",
       "121251 121610 2    \n",
       "121252 121611 2    \n",
       "121253 121612 2    \n",
       "121254 121613 2    \n",
       "121255 121614 2    \n",
       "121256 121615 2    \n",
       "121257 121616 2    \n",
       "121258 121617 2    \n",
       "121259 121618 2    \n",
       "121260 121619 2    "
      ]
     },
     "metadata": {},
     "output_type": "display_data"
    }
   ],
   "source": [
    "generated[, .(`Count`=.N), .(`Tx`)][`Count` > 1]"
   ]
  },
  {
   "cell_type": "code",
   "execution_count": null,
   "id": "0bc94211-410f-4ba9-9146-91c305f689e0",
   "metadata": {},
   "outputs": [],
   "source": []
  },
  {
   "cell_type": "code",
   "execution_count": null,
   "id": "fc1ddea8-07f4-4a9b-bbd2-f7d12672d30e",
   "metadata": {},
   "outputs": [],
   "source": []
  },
  {
   "cell_type": "code",
   "execution_count": 12,
   "id": "2a0f19c1-b086-4405-9376-a72882eab318",
   "metadata": {
    "tags": []
   },
   "outputs": [
    {
     "data": {
      "text/html": [
       "<table class=\"dataframe\">\n",
       "<caption>A data.table: 6 x 21</caption>\n",
       "<thead>\n",
       "\t<tr><th scope=col>Network</th><th scope=col>Bandwidth</th><th scope=col>CPU</th><th scope=col>Diffusion duration</th><th scope=col>Voting duration</th><th scope=col>Max EB size</th><th scope=col>Tx size</th><th scope=col>Throughput</th><th scope=col>Plutus</th><th scope=col>Tx start [s]</th><th scope=col>...</th><th scope=col>Sim stop [s]</th><th scope=col>Message</th><th scope=col>Item</th><th scope=col>Size [B]</th><th scope=col>References</th><th scope=col>Created [s]</th><th scope=col>To IB [s]</th><th scope=col>To EB [s]</th><th scope=col>To RB [s]</th><th scope=col>In RB [s]</th></tr>\n",
       "\t<tr><th scope=col>&lt;fct&gt;</th><th scope=col>&lt;fct&gt;</th><th scope=col>&lt;fct&gt;</th><th scope=col>&lt;fct&gt;</th><th scope=col>&lt;fct&gt;</th><th scope=col>&lt;fct&gt;</th><th scope=col>&lt;fct&gt;</th><th scope=col>&lt;fct&gt;</th><th scope=col>&lt;lgl&gt;</th><th scope=col>&lt;int&gt;</th><th scope=col>...</th><th scope=col>&lt;int&gt;</th><th scope=col>&lt;fct&gt;</th><th scope=col>&lt;fct&gt;</th><th scope=col>&lt;int&gt;</th><th scope=col>&lt;int&gt;</th><th scope=col>&lt;dbl&gt;</th><th scope=col>&lt;lgl&gt;</th><th scope=col>&lt;dbl&gt;</th><th scope=col>&lt;dbl&gt;</th><th scope=col>&lt;dbl&gt;</th></tr>\n",
       "</thead>\n",
       "<tbody>\n",
       "\t<tr><td>topology-v2</td><td>10 Mb/s</td><td>4 vCPU/node</td><td>L_diff = 7 slots</td><td>L_vote = 4 slots</td><td>12 MB/EB</td><td>1500 B/Tx</td><td>0.130 TxMB/s</td><td>NA</td><td>0</td><td>...</td><td>1200</td><td>TX</td><td>0    </td><td>1500</td><td>1</td><td>  0.0000</td><td>NA</td><td>      NA</td><td>      NA</td><td>20.1329</td></tr>\n",
       "\t<tr><td>topology-v2</td><td>10 Mb/s</td><td>4 vCPU/node</td><td>L_diff = 7 slots</td><td>L_vote = 4 slots</td><td>12 MB/EB</td><td>1500 B/Tx</td><td>0.130 TxMB/s</td><td>NA</td><td>0</td><td>...</td><td>1200</td><td>TX</td><td>1    </td><td>1500</td><td>1</td><td>  0.0116</td><td>NA</td><td>      NA</td><td>      NA</td><td>20.1329</td></tr>\n",
       "\t<tr><td>topology-v2</td><td>10 Mb/s</td><td>4 vCPU/node</td><td>L_diff = 7 slots</td><td>L_vote = 4 slots</td><td>12 MB/EB</td><td>1500 B/Tx</td><td>0.130 TxMB/s</td><td>NA</td><td>0</td><td>...</td><td>1200</td><td>TX</td><td>10   </td><td>1500</td><td>1</td><td>  0.1101</td><td>NA</td><td>      NA</td><td>      NA</td><td>20.1329</td></tr>\n",
       "\t<tr><td>topology-v2</td><td>10 Mb/s</td><td>4 vCPU/node</td><td>L_diff = 7 slots</td><td>L_vote = 4 slots</td><td>12 MB/EB</td><td>1500 B/Tx</td><td>0.130 TxMB/s</td><td>NA</td><td>0</td><td>...</td><td>1200</td><td>TX</td><td>100  </td><td>1500</td><td>2</td><td>  1.1000</td><td>NA</td><td> 20.1329</td><td>      NA</td><td>25.1432</td></tr>\n",
       "\t<tr><td>topology-v2</td><td>10 Mb/s</td><td>4 vCPU/node</td><td>L_diff = 7 slots</td><td>L_vote = 4 slots</td><td>12 MB/EB</td><td>1500 B/Tx</td><td>0.130 TxMB/s</td><td>NA</td><td>0</td><td>...</td><td>1200</td><td>TX</td><td>1000 </td><td>1500</td><td>4</td><td> 11.0000</td><td>NA</td><td> 20.1329</td><td>206.3394</td><td>     NA</td></tr>\n",
       "\t<tr><td>topology-v2</td><td>10 Mb/s</td><td>4 vCPU/node</td><td>L_diff = 7 slots</td><td>L_vote = 4 slots</td><td>12 MB/EB</td><td>1500 B/Tx</td><td>0.130 TxMB/s</td><td>NA</td><td>0</td><td>...</td><td>1200</td><td>TX</td><td>10000</td><td>1500</td><td>2</td><td>110.0000</td><td>NA</td><td>234.3394</td><td>257.3394</td><td>     NA</td></tr>\n",
       "</tbody>\n",
       "</table>\n"
      ],
      "text/latex": [
       "A data.table: 6 x 21\n",
       "\\begin{tabular}{lllllllllllllllllllll}\n",
       " Network & Bandwidth & CPU & Diffusion duration & Voting duration & Max EB size & Tx size & Throughput & Plutus & Tx start {[}s{]} & ... & Sim stop {[}s{]} & Message & Item & Size {[}B{]} & References & Created {[}s{]} & To IB {[}s{]} & To EB {[}s{]} & To RB {[}s{]} & In RB {[}s{]}\\\\\n",
       " <fct> & <fct> & <fct> & <fct> & <fct> & <fct> & <fct> & <fct> & <lgl> & <int> & ... & <int> & <fct> & <fct> & <int> & <int> & <dbl> & <lgl> & <dbl> & <dbl> & <dbl>\\\\\n",
       "\\hline\n",
       "\t topology-v2 & 10 Mb/s & 4 vCPU/node & L\\_diff = 7 slots & L\\_vote = 4 slots & 12 MB/EB & 1500 B/Tx & 0.130 TxMB/s & NA & 0 & ... & 1200 & TX & 0     & 1500 & 1 &   0.0000 & NA &       NA &       NA & 20.1329\\\\\n",
       "\t topology-v2 & 10 Mb/s & 4 vCPU/node & L\\_diff = 7 slots & L\\_vote = 4 slots & 12 MB/EB & 1500 B/Tx & 0.130 TxMB/s & NA & 0 & ... & 1200 & TX & 1     & 1500 & 1 &   0.0116 & NA &       NA &       NA & 20.1329\\\\\n",
       "\t topology-v2 & 10 Mb/s & 4 vCPU/node & L\\_diff = 7 slots & L\\_vote = 4 slots & 12 MB/EB & 1500 B/Tx & 0.130 TxMB/s & NA & 0 & ... & 1200 & TX & 10    & 1500 & 1 &   0.1101 & NA &       NA &       NA & 20.1329\\\\\n",
       "\t topology-v2 & 10 Mb/s & 4 vCPU/node & L\\_diff = 7 slots & L\\_vote = 4 slots & 12 MB/EB & 1500 B/Tx & 0.130 TxMB/s & NA & 0 & ... & 1200 & TX & 100   & 1500 & 2 &   1.1000 & NA &  20.1329 &       NA & 25.1432\\\\\n",
       "\t topology-v2 & 10 Mb/s & 4 vCPU/node & L\\_diff = 7 slots & L\\_vote = 4 slots & 12 MB/EB & 1500 B/Tx & 0.130 TxMB/s & NA & 0 & ... & 1200 & TX & 1000  & 1500 & 4 &  11.0000 & NA &  20.1329 & 206.3394 &      NA\\\\\n",
       "\t topology-v2 & 10 Mb/s & 4 vCPU/node & L\\_diff = 7 slots & L\\_vote = 4 slots & 12 MB/EB & 1500 B/Tx & 0.130 TxMB/s & NA & 0 & ... & 1200 & TX & 10000 & 1500 & 2 & 110.0000 & NA & 234.3394 & 257.3394 &      NA\\\\\n",
       "\\end{tabular}\n"
      ],
      "text/markdown": [
       "\n",
       "A data.table: 6 x 21\n",
       "\n",
       "| Network &lt;fct&gt; | Bandwidth &lt;fct&gt; | CPU &lt;fct&gt; | Diffusion duration &lt;fct&gt; | Voting duration &lt;fct&gt; | Max EB size &lt;fct&gt; | Tx size &lt;fct&gt; | Throughput &lt;fct&gt; | Plutus &lt;lgl&gt; | Tx start [s] &lt;int&gt; | ... ... | Sim stop [s] &lt;int&gt; | Message &lt;fct&gt; | Item &lt;fct&gt; | Size [B] &lt;int&gt; | References &lt;int&gt; | Created [s] &lt;dbl&gt; | To IB [s] &lt;lgl&gt; | To EB [s] &lt;dbl&gt; | To RB [s] &lt;dbl&gt; | In RB [s] &lt;dbl&gt; |\n",
       "|---|---|---|---|---|---|---|---|---|---|---|---|---|---|---|---|---|---|---|---|---|\n",
       "| topology-v2 | 10 Mb/s | 4 vCPU/node | L_diff = 7 slots | L_vote = 4 slots | 12 MB/EB | 1500 B/Tx | 0.130 TxMB/s | NA | 0 | ... | 1200 | TX | 0     | 1500 | 1 |   0.0000 | NA |       NA |       NA | 20.1329 |\n",
       "| topology-v2 | 10 Mb/s | 4 vCPU/node | L_diff = 7 slots | L_vote = 4 slots | 12 MB/EB | 1500 B/Tx | 0.130 TxMB/s | NA | 0 | ... | 1200 | TX | 1     | 1500 | 1 |   0.0116 | NA |       NA |       NA | 20.1329 |\n",
       "| topology-v2 | 10 Mb/s | 4 vCPU/node | L_diff = 7 slots | L_vote = 4 slots | 12 MB/EB | 1500 B/Tx | 0.130 TxMB/s | NA | 0 | ... | 1200 | TX | 10    | 1500 | 1 |   0.1101 | NA |       NA |       NA | 20.1329 |\n",
       "| topology-v2 | 10 Mb/s | 4 vCPU/node | L_diff = 7 slots | L_vote = 4 slots | 12 MB/EB | 1500 B/Tx | 0.130 TxMB/s | NA | 0 | ... | 1200 | TX | 100   | 1500 | 2 |   1.1000 | NA |  20.1329 |       NA | 25.1432 |\n",
       "| topology-v2 | 10 Mb/s | 4 vCPU/node | L_diff = 7 slots | L_vote = 4 slots | 12 MB/EB | 1500 B/Tx | 0.130 TxMB/s | NA | 0 | ... | 1200 | TX | 1000  | 1500 | 4 |  11.0000 | NA |  20.1329 | 206.3394 |      NA |\n",
       "| topology-v2 | 10 Mb/s | 4 vCPU/node | L_diff = 7 slots | L_vote = 4 slots | 12 MB/EB | 1500 B/Tx | 0.130 TxMB/s | NA | 0 | ... | 1200 | TX | 10000 | 1500 | 2 | 110.0000 | NA | 234.3394 | 257.3394 |      NA |\n",
       "\n"
      ],
      "text/plain": [
       "  Network     Bandwidth CPU         Diffusion duration Voting duration \n",
       "1 topology-v2 10 Mb/s   4 vCPU/node L_diff = 7 slots   L_vote = 4 slots\n",
       "2 topology-v2 10 Mb/s   4 vCPU/node L_diff = 7 slots   L_vote = 4 slots\n",
       "3 topology-v2 10 Mb/s   4 vCPU/node L_diff = 7 slots   L_vote = 4 slots\n",
       "4 topology-v2 10 Mb/s   4 vCPU/node L_diff = 7 slots   L_vote = 4 slots\n",
       "5 topology-v2 10 Mb/s   4 vCPU/node L_diff = 7 slots   L_vote = 4 slots\n",
       "6 topology-v2 10 Mb/s   4 vCPU/node L_diff = 7 slots   L_vote = 4 slots\n",
       "  Max EB size Tx size   Throughput   Plutus Tx start [s] ... Sim stop [s]\n",
       "1 12 MB/EB    1500 B/Tx 0.130 TxMB/s NA     0            ... 1200        \n",
       "2 12 MB/EB    1500 B/Tx 0.130 TxMB/s NA     0            ... 1200        \n",
       "3 12 MB/EB    1500 B/Tx 0.130 TxMB/s NA     0            ... 1200        \n",
       "4 12 MB/EB    1500 B/Tx 0.130 TxMB/s NA     0            ... 1200        \n",
       "5 12 MB/EB    1500 B/Tx 0.130 TxMB/s NA     0            ... 1200        \n",
       "6 12 MB/EB    1500 B/Tx 0.130 TxMB/s NA     0            ... 1200        \n",
       "  Message Item  Size [B] References Created [s] To IB [s] To EB [s] To RB [s]\n",
       "1 TX      0     1500     1            0.0000    NA              NA        NA \n",
       "2 TX      1     1500     1            0.0116    NA              NA        NA \n",
       "3 TX      10    1500     1            0.1101    NA              NA        NA \n",
       "4 TX      100   1500     2            1.1000    NA         20.1329        NA \n",
       "5 TX      1000  1500     4           11.0000    NA         20.1329  206.3394 \n",
       "6 TX      10000 1500     2          110.0000    NA        234.3394  257.3394 \n",
       "  In RB [s]\n",
       "1 20.1329  \n",
       "2 20.1329  \n",
       "3 20.1329  \n",
       "4 25.1432  \n",
       "5      NA  \n",
       "6      NA  "
      ]
     },
     "metadata": {},
     "output_type": "display_data"
    }
   ],
   "source": [
    "lifecycle[\n",
    "    `Throughput` == \"0.130 TxMB/s\" & `Message` == \"TX\" & (`To RB [s]` | `In RB [s]`)\n",
    "] %>% head"
   ]
  },
  {
   "cell_type": "code",
   "execution_count": 4,
   "id": "dda2020e-790d-434f-9fdf-727cd925893d",
   "metadata": {
    "tags": []
   },
   "outputs": [
    {
     "data": {
      "text/html": [
       "<style>\n",
       ".list-inline {list-style: none; margin:0; padding: 0}\n",
       ".list-inline>li {display: inline-block}\n",
       ".list-inline>li:not(:last-child)::after {content: \"\\00b7\"; padding: 0 .5ex}\n",
       "</style>\n",
       "<ol class=list-inline><li>0.001 TxMB/s</li><li>0.002 TxMB/s</li><li>0.003 TxMB/s</li><li>0.004 TxMB/s</li><li>0.005 TxMB/s</li><li>0.006 TxMB/s</li><li>0.007 TxMB/s</li><li>0.008 TxMB/s</li><li>0.009 TxMB/s</li><li>0.010 TxMB/s</li><li>0.020 TxMB/s</li><li>0.030 TxMB/s</li><li>0.050 TxMB/s</li><li>0.070 TxMB/s</li><li>0.080 TxMB/s</li><li>0.100 TxMB/s</li><li>0.130 TxMB/s</li><li>0.150 TxMB/s</li><li>0.170 TxMB/s</li><li>0.200 TxMB/s</li></ol>\n",
       "\n",
       "<details>\n",
       "\t<summary style=display:list-item;cursor:pointer>\n",
       "\t\t<strong>Levels</strong>:\n",
       "\t</summary>\n",
       "\t<style>\n",
       "\t.list-inline {list-style: none; margin:0; padding: 0}\n",
       "\t.list-inline>li {display: inline-block}\n",
       "\t.list-inline>li:not(:last-child)::after {content: \"\\00b7\"; padding: 0 .5ex}\n",
       "\t</style>\n",
       "\t<ol class=list-inline><li>'0.001 TxMB/s'</li><li>'0.002 TxMB/s'</li><li>'0.003 TxMB/s'</li><li>'0.004 TxMB/s'</li><li>'0.005 TxMB/s'</li><li>'0.006 TxMB/s'</li><li>'0.007 TxMB/s'</li><li>'0.008 TxMB/s'</li><li>'0.009 TxMB/s'</li><li>'0.010 TxMB/s'</li><li>'0.020 TxMB/s'</li><li>'0.030 TxMB/s'</li><li>'0.050 TxMB/s'</li><li>'0.070 TxMB/s'</li><li>'0.080 TxMB/s'</li><li>'0.100 TxMB/s'</li><li>'0.130 TxMB/s'</li><li>'0.150 TxMB/s'</li><li>'0.170 TxMB/s'</li><li>'0.200 TxMB/s'</li></ol>\n",
       "</details>"
      ],
      "text/latex": [
       "\\begin{enumerate*}\n",
       "\\item 0.001 TxMB/s\n",
       "\\item 0.002 TxMB/s\n",
       "\\item 0.003 TxMB/s\n",
       "\\item 0.004 TxMB/s\n",
       "\\item 0.005 TxMB/s\n",
       "\\item 0.006 TxMB/s\n",
       "\\item 0.007 TxMB/s\n",
       "\\item 0.008 TxMB/s\n",
       "\\item 0.009 TxMB/s\n",
       "\\item 0.010 TxMB/s\n",
       "\\item 0.020 TxMB/s\n",
       "\\item 0.030 TxMB/s\n",
       "\\item 0.050 TxMB/s\n",
       "\\item 0.070 TxMB/s\n",
       "\\item 0.080 TxMB/s\n",
       "\\item 0.100 TxMB/s\n",
       "\\item 0.130 TxMB/s\n",
       "\\item 0.150 TxMB/s\n",
       "\\item 0.170 TxMB/s\n",
       "\\item 0.200 TxMB/s\n",
       "\\end{enumerate*}\n",
       "\n",
       "\\emph{Levels}: \\begin{enumerate*}\n",
       "\\item '0.001 TxMB/s'\n",
       "\\item '0.002 TxMB/s'\n",
       "\\item '0.003 TxMB/s'\n",
       "\\item '0.004 TxMB/s'\n",
       "\\item '0.005 TxMB/s'\n",
       "\\item '0.006 TxMB/s'\n",
       "\\item '0.007 TxMB/s'\n",
       "\\item '0.008 TxMB/s'\n",
       "\\item '0.009 TxMB/s'\n",
       "\\item '0.010 TxMB/s'\n",
       "\\item '0.020 TxMB/s'\n",
       "\\item '0.030 TxMB/s'\n",
       "\\item '0.050 TxMB/s'\n",
       "\\item '0.070 TxMB/s'\n",
       "\\item '0.080 TxMB/s'\n",
       "\\item '0.100 TxMB/s'\n",
       "\\item '0.130 TxMB/s'\n",
       "\\item '0.150 TxMB/s'\n",
       "\\item '0.170 TxMB/s'\n",
       "\\item '0.200 TxMB/s'\n",
       "\\end{enumerate*}\n"
      ],
      "text/markdown": [
       "1. 0.001 TxMB/s\n",
       "2. 0.002 TxMB/s\n",
       "3. 0.003 TxMB/s\n",
       "4. 0.004 TxMB/s\n",
       "5. 0.005 TxMB/s\n",
       "6. 0.006 TxMB/s\n",
       "7. 0.007 TxMB/s\n",
       "8. 0.008 TxMB/s\n",
       "9. 0.009 TxMB/s\n",
       "10. 0.010 TxMB/s\n",
       "11. 0.020 TxMB/s\n",
       "12. 0.030 TxMB/s\n",
       "13. 0.050 TxMB/s\n",
       "14. 0.070 TxMB/s\n",
       "15. 0.080 TxMB/s\n",
       "16. 0.100 TxMB/s\n",
       "17. 0.130 TxMB/s\n",
       "18. 0.150 TxMB/s\n",
       "19. 0.170 TxMB/s\n",
       "20. 0.200 TxMB/s\n",
       "\n",
       "\n",
       "\n",
       "**Levels**: 1. '0.001 TxMB/s'\n",
       "2. '0.002 TxMB/s'\n",
       "3. '0.003 TxMB/s'\n",
       "4. '0.004 TxMB/s'\n",
       "5. '0.005 TxMB/s'\n",
       "6. '0.006 TxMB/s'\n",
       "7. '0.007 TxMB/s'\n",
       "8. '0.008 TxMB/s'\n",
       "9. '0.009 TxMB/s'\n",
       "10. '0.010 TxMB/s'\n",
       "11. '0.020 TxMB/s'\n",
       "12. '0.030 TxMB/s'\n",
       "13. '0.050 TxMB/s'\n",
       "14. '0.070 TxMB/s'\n",
       "15. '0.080 TxMB/s'\n",
       "16. '0.100 TxMB/s'\n",
       "17. '0.130 TxMB/s'\n",
       "18. '0.150 TxMB/s'\n",
       "19. '0.170 TxMB/s'\n",
       "20. '0.200 TxMB/s'\n",
       "\n",
       "\n"
      ],
      "text/plain": [
       " [1] 0.001 TxMB/s 0.002 TxMB/s 0.003 TxMB/s 0.004 TxMB/s 0.005 TxMB/s\n",
       " [6] 0.006 TxMB/s 0.007 TxMB/s 0.008 TxMB/s 0.009 TxMB/s 0.010 TxMB/s\n",
       "[11] 0.020 TxMB/s 0.030 TxMB/s 0.050 TxMB/s 0.070 TxMB/s 0.080 TxMB/s\n",
       "[16] 0.100 TxMB/s 0.130 TxMB/s 0.150 TxMB/s 0.170 TxMB/s 0.200 TxMB/s\n",
       "20 Levels: 0.001 TxMB/s 0.002 TxMB/s 0.003 TxMB/s 0.004 TxMB/s ... 0.200 TxMB/s"
      ]
     },
     "metadata": {},
     "output_type": "display_data"
    }
   ],
   "source": [
    "lifecycle[, unique(`Throughput`)]"
   ]
  },
  {
   "cell_type": "code",
   "execution_count": 77,
   "id": "f5305e22-8b33-47c4-baaa-97f5c388e71b",
   "metadata": {
    "tags": []
   },
   "outputs": [
    {
     "data": {
      "text/html": [
       "'sim-cli 1.3.0-9aa77c54, topology-v2, 10 Mb/s, 4 vCPU/node, L_diff = 7 slots, L_vote = 4 slots, 12 MB/EB, 1500 B/Tx'"
      ],
      "text/latex": [
       "'sim-cli 1.3.0-9aa77c54, topology-v2, 10 Mb/s, 4 vCPU/node, L\\_diff = 7 slots, L\\_vote = 4 slots, 12 MB/EB, 1500 B/Tx'"
      ],
      "text/markdown": [
       "'sim-cli 1.3.0-9aa77c54, topology-v2, 10 Mb/s, 4 vCPU/node, L_diff = 7 slots, L_vote = 4 slots, 12 MB/EB, 1500 B/Tx'"
      ],
      "text/plain": [
       "[1] \"sim-cli 1.3.0-9aa77c54, topology-v2, 10 Mb/s, 4 vCPU/node, L_diff = 7 slots, L_vote = 4 slots, 12 MB/EB, 1500 B/Tx\""
      ]
     },
     "metadata": {},
     "output_type": "display_data"
    }
   ],
   "source": [
    "label <- lifecycle[, unique(paste(simVersion, `Network`, `Bandwidth`, `CPU`, `Diffusion duration`, `Voting duration`, `Max EB size`, `Tx size`, sep=\", \"))]\n",
    "label"
   ]
  },
  {
   "cell_type": "code",
   "execution_count": 78,
   "id": "a24ff377-42d3-433f-8bf8-2232d01d4ea6",
   "metadata": {
    "tags": []
   },
   "outputs": [],
   "source": [
    "fixed <- c(\"Network\", \"Bandwidth\", \"CPU\", \"Diffusion duration\", \"Voting duration\", \"Max EB size\", \"Tx size\")"
   ]
  },
  {
   "cell_type": "code",
   "execution_count": 79,
   "id": "0690d98a-084b-49bc-aa2d-e7426cf29c3d",
   "metadata": {
    "tags": []
   },
   "outputs": [],
   "source": [
    "variedX <- c(\"Throughput\")"
   ]
  },
  {
   "cell_type": "code",
   "execution_count": 80,
   "id": "16fff188-e2fd-44c6-afd0-d5c36cb9308d",
   "metadata": {
    "tags": []
   },
   "outputs": [],
   "source": [
    "variedY <- c(\"Plutus\")"
   ]
  },
  {
   "cell_type": "code",
   "execution_count": 81,
   "id": "1a99fa00-7bf6-4f26-adf5-878263220fed",
   "metadata": {
    "tags": []
   },
   "outputs": [],
   "source": [
    "varied <- c(variedX, variedY)"
   ]
  },
  {
   "cell_type": "code",
   "execution_count": 82,
   "id": "0661dbfd-b117-42bf-9a4e-13d5d914e5d2",
   "metadata": {
    "tags": []
   },
   "outputs": [],
   "source": [
    "lifecycle[, `:=`(\n",
    "    `VariedX`=`Throughput`,\n",
    "    `VariedY`=factor(`Plutus`, levels=c(\"\", \"1000 Gstep/EB\", \"2000 Gstep/EB\", \"5000 Gstep/EB\", \"10000 Gstep/EB\", \"20000 Gstep/EB\", \"50000 Gstep/EB\"))\n",
    ")]"
   ]
  },
  {
   "cell_type": "code",
   "execution_count": 83,
   "id": "0a2ca1db-3514-4b1f-a641-07e576b7d9d2",
   "metadata": {
    "tags": []
   },
   "outputs": [],
   "source": [
    "facet_varied_x <- function(scales=\"fixed\", wide=FALSE) {\n",
    "    if (wide)\n",
    "        facet_grid(`VariedX` ~ ., scales=scales)\n",
    "    else\n",
    "        facet_grid(. ~ `VariedX`, scales=scales)\n",
    "}"
   ]
  },
  {
   "cell_type": "code",
   "execution_count": 84,
   "id": "59bc00ba-5522-4d62-b071-7c822833d7ef",
   "metadata": {
    "tags": []
   },
   "outputs": [],
   "source": [
    "facet_varied <- function(scales=\"fixed\", wide=FALSE) {\n",
    "    if (wide)\n",
    "        facet_grid(`VariedX` ~ `VariedY`, scales=scales)\n",
    "    else\n",
    "        facet_grid(`VariedY` ~ `VariedX`, scales=scales)\n",
    "}"
   ]
  },
  {
   "cell_type": "code",
   "execution_count": 85,
   "id": "248e3297-16f1-40b4-9a9f-116f025a8b0a",
   "metadata": {
    "tags": []
   },
   "outputs": [],
   "source": [
    "yConstraint <- \"\""
   ]
  },
  {
   "cell_type": "markdown",
   "id": "59e0fd0a-aaf4-4d57-8867-d2ffe73f49b2",
   "metadata": {},
   "source": [
    "#### Range of transaction injection"
   ]
  },
  {
   "cell_type": "code",
   "execution_count": 86,
   "id": "fc066f9a-5a0c-474b-a07a-8814511179ef",
   "metadata": {
    "tags": []
   },
   "outputs": [],
   "source": [
    "txFirst <- lifecycle[, median(`Tx start [s]`)]\n",
    "txLast <- lifecycle[, median(`Tx stop [s]`)]\n",
    "txWindow <- txLast - txFirst\n",
    "simFinish <- lifecycle[, median(`Sim stop [s]`)]"
   ]
  },
  {
   "cell_type": "code",
   "execution_count": 87,
   "id": "9d3746a3-d2ac-44e0-8549-d13f6741ea9a",
   "metadata": {
    "tags": []
   },
   "outputs": [
    {
     "data": {
      "image/png": "[encoded data removed]",
      "text/plain": [
       "plot without title"
      ]
     },
     "metadata": {
      "image/png": {
       "height": 420,
       "width": 420
      }
     },
     "output_type": "display_data"
    }
   ],
   "source": [
    "ggplot(lifecycle, aes(x=`Created [s]`)) +\n",
    "    geom_histogram(binwidth=5, fill=\"lightgray\") +\n",
    "    geom_vline(xintercept=txFirst, color=\"blue\") +\n",
    "    geom_vline(xintercept=txLast, color=\"red\") +\n",
    "    ylab(\"Number of Transactions\") +\n",
    "    ggtitle(\"Time range of Transactions\", label)"
   ]
  },
  {
   "cell_type": "markdown",
   "id": "76469aa1-6fc7-4fee-9596-5edd49339927",
   "metadata": {},
   "source": [
    "#### Actual TPS"
   ]
  },
  {
   "cell_type": "code",
   "execution_count": 88,
   "id": "84519b57-0a07-48c6-91c3-bd54f25a26ec",
   "metadata": {
    "tags": []
   },
   "outputs": [
    {
     "data": {
      "text/html": [
       "<table class=\"dataframe\">\n",
       "<caption>A data.table: 14 x 10</caption>\n",
       "<thead>\n",
       "\t<tr><th scope=col>Network</th><th scope=col>Bandwidth</th><th scope=col>CPU</th><th scope=col>Diffusion duration</th><th scope=col>Voting duration</th><th scope=col>Max EB size</th><th scope=col>Tx size</th><th scope=col>Throughput</th><th scope=col>Plutus</th><th scope=col>Demand [tx/s]</th></tr>\n",
       "\t<tr><th scope=col>&lt;fct&gt;</th><th scope=col>&lt;fct&gt;</th><th scope=col>&lt;fct&gt;</th><th scope=col>&lt;fct&gt;</th><th scope=col>&lt;fct&gt;</th><th scope=col>&lt;fct&gt;</th><th scope=col>&lt;fct&gt;</th><th scope=col>&lt;fct&gt;</th><th scope=col>&lt;fct&gt;</th><th scope=col>&lt;dbl&gt;</th></tr>\n",
       "</thead>\n",
       "<tbody>\n",
       "\t<tr><td>topology-v2</td><td>10 Mb/s</td><td>4 vCPU/node</td><td>L_diff = 7 slots</td><td>L_vote = 4 slots</td><td>12 MB/EB</td><td>1500 B/Tx</td><td>0.001 TxMB/s</td><td>              </td><td>  0.6666667</td></tr>\n",
       "\t<tr><td>topology-v2</td><td>10 Mb/s</td><td>4 vCPU/node</td><td>L_diff = 7 slots</td><td>L_vote = 4 slots</td><td>12 MB/EB</td><td>1500 B/Tx</td><td>0.002 TxMB/s</td><td>              </td><td>  1.3344444</td></tr>\n",
       "\t<tr><td>topology-v2</td><td>10 Mb/s</td><td>4 vCPU/node</td><td>L_diff = 7 slots</td><td>L_vote = 4 slots</td><td>12 MB/EB</td><td>1500 B/Tx</td><td>0.004 TxMB/s</td><td>              </td><td>  2.6677778</td></tr>\n",
       "\t<tr><td>topology-v2</td><td>10 Mb/s</td><td>4 vCPU/node</td><td>L_diff = 7 slots</td><td>L_vote = 4 slots</td><td>12 MB/EB</td><td>1500 B/Tx</td><td>0.050 TxMB/s</td><td>              </td><td> 33.3344444</td></tr>\n",
       "\t<tr><td>topology-v2</td><td>10 Mb/s</td><td>4 vCPU/node</td><td>L_diff = 7 slots</td><td>L_vote = 4 slots</td><td>12 MB/EB</td><td>1500 B/Tx</td><td>0.100 TxMB/s</td><td>              </td><td> 66.6677778</td></tr>\n",
       "\t<tr><td>topology-v2</td><td>10 Mb/s</td><td>4 vCPU/node</td><td>L_diff = 7 slots</td><td>L_vote = 4 slots</td><td>12 MB/EB</td><td>1500 B/Tx</td><td>0.150 TxMB/s</td><td>              </td><td>100.0011111</td></tr>\n",
       "\t<tr><td>topology-v2</td><td>10 Mb/s</td><td>4 vCPU/node</td><td>L_diff = 7 slots</td><td>L_vote = 4 slots</td><td>12 MB/EB</td><td>1500 B/Tx</td><td>0.150 TxMB/s</td><td>1000 Gstep/EB </td><td>100.0011111</td></tr>\n",
       "\t<tr><td>topology-v2</td><td>10 Mb/s</td><td>4 vCPU/node</td><td>L_diff = 7 slots</td><td>L_vote = 4 slots</td><td>12 MB/EB</td><td>1500 B/Tx</td><td>0.150 TxMB/s</td><td>10000 Gstep/EB</td><td>100.0011111</td></tr>\n",
       "\t<tr><td>topology-v2</td><td>10 Mb/s</td><td>4 vCPU/node</td><td>L_diff = 7 slots</td><td>L_vote = 4 slots</td><td>12 MB/EB</td><td>1500 B/Tx</td><td>0.150 TxMB/s</td><td>2000 Gstep/EB </td><td>100.0011111</td></tr>\n",
       "\t<tr><td>topology-v2</td><td>10 Mb/s</td><td>4 vCPU/node</td><td>L_diff = 7 slots</td><td>L_vote = 4 slots</td><td>12 MB/EB</td><td>1500 B/Tx</td><td>0.150 TxMB/s</td><td>20000 Gstep/EB</td><td>100.0011111</td></tr>\n",
       "\t<tr><td>topology-v2</td><td>10 Mb/s</td><td>4 vCPU/node</td><td>L_diff = 7 slots</td><td>L_vote = 4 slots</td><td>12 MB/EB</td><td>1500 B/Tx</td><td>0.150 TxMB/s</td><td>5000 Gstep/EB </td><td>100.0011111</td></tr>\n",
       "\t<tr><td>topology-v2</td><td>10 Mb/s</td><td>4 vCPU/node</td><td>L_diff = 7 slots</td><td>L_vote = 4 slots</td><td>12 MB/EB</td><td>1500 B/Tx</td><td>0.150 TxMB/s</td><td>50000 Gstep/EB</td><td>100.0011111</td></tr>\n",
       "\t<tr><td>topology-v2</td><td>10 Mb/s</td><td>4 vCPU/node</td><td>L_diff = 7 slots</td><td>L_vote = 4 slots</td><td>12 MB/EB</td><td>1500 B/Tx</td><td>0.200 TxMB/s</td><td>              </td><td>142.8577778</td></tr>\n",
       "\t<tr><td>topology-v2</td><td>10 Mb/s</td><td>4 vCPU/node</td><td>L_diff = 7 slots</td><td>L_vote = 4 slots</td><td>12 MB/EB</td><td>1500 B/Tx</td><td>0.250 TxMB/s</td><td>              </td><td>166.6677778</td></tr>\n",
       "</tbody>\n",
       "</table>\n"
      ],
      "text/latex": [
       "A data.table: 14 x 10\n",
       "\\begin{tabular}{llllllllll}\n",
       " Network & Bandwidth & CPU & Diffusion duration & Voting duration & Max EB size & Tx size & Throughput & Plutus & Demand {[}tx/s{]}\\\\\n",
       " <fct> & <fct> & <fct> & <fct> & <fct> & <fct> & <fct> & <fct> & <fct> & <dbl>\\\\\n",
       "\\hline\n",
       "\t topology-v2 & 10 Mb/s & 4 vCPU/node & L\\_diff = 7 slots & L\\_vote = 4 slots & 12 MB/EB & 1500 B/Tx & 0.001 TxMB/s &                &   0.6666667\\\\\n",
       "\t topology-v2 & 10 Mb/s & 4 vCPU/node & L\\_diff = 7 slots & L\\_vote = 4 slots & 12 MB/EB & 1500 B/Tx & 0.002 TxMB/s &                &   1.3344444\\\\\n",
       "\t topology-v2 & 10 Mb/s & 4 vCPU/node & L\\_diff = 7 slots & L\\_vote = 4 slots & 12 MB/EB & 1500 B/Tx & 0.004 TxMB/s &                &   2.6677778\\\\\n",
       "\t topology-v2 & 10 Mb/s & 4 vCPU/node & L\\_diff = 7 slots & L\\_vote = 4 slots & 12 MB/EB & 1500 B/Tx & 0.050 TxMB/s &                &  33.3344444\\\\\n",
       "\t topology-v2 & 10 Mb/s & 4 vCPU/node & L\\_diff = 7 slots & L\\_vote = 4 slots & 12 MB/EB & 1500 B/Tx & 0.100 TxMB/s &                &  66.6677778\\\\\n",
       "\t topology-v2 & 10 Mb/s & 4 vCPU/node & L\\_diff = 7 slots & L\\_vote = 4 slots & 12 MB/EB & 1500 B/Tx & 0.150 TxMB/s &                & 100.0011111\\\\\n",
       "\t topology-v2 & 10 Mb/s & 4 vCPU/node & L\\_diff = 7 slots & L\\_vote = 4 slots & 12 MB/EB & 1500 B/Tx & 0.150 TxMB/s & 1000 Gstep/EB  & 100.0011111\\\\\n",
       "\t topology-v2 & 10 Mb/s & 4 vCPU/node & L\\_diff = 7 slots & L\\_vote = 4 slots & 12 MB/EB & 1500 B/Tx & 0.150 TxMB/s & 10000 Gstep/EB & 100.0011111\\\\\n",
       "\t topology-v2 & 10 Mb/s & 4 vCPU/node & L\\_diff = 7 slots & L\\_vote = 4 slots & 12 MB/EB & 1500 B/Tx & 0.150 TxMB/s & 2000 Gstep/EB  & 100.0011111\\\\\n",
       "\t topology-v2 & 10 Mb/s & 4 vCPU/node & L\\_diff = 7 slots & L\\_vote = 4 slots & 12 MB/EB & 1500 B/Tx & 0.150 TxMB/s & 20000 Gstep/EB & 100.0011111\\\\\n",
       "\t topology-v2 & 10 Mb/s & 4 vCPU/node & L\\_diff = 7 slots & L\\_vote = 4 slots & 12 MB/EB & 1500 B/Tx & 0.150 TxMB/s & 5000 Gstep/EB  & 100.0011111\\\\\n",
       "\t topology-v2 & 10 Mb/s & 4 vCPU/node & L\\_diff = 7 slots & L\\_vote = 4 slots & 12 MB/EB & 1500 B/Tx & 0.150 TxMB/s & 50000 Gstep/EB & 100.0011111\\\\\n",
       "\t topology-v2 & 10 Mb/s & 4 vCPU/node & L\\_diff = 7 slots & L\\_vote = 4 slots & 12 MB/EB & 1500 B/Tx & 0.200 TxMB/s &                & 142.8577778\\\\\n",
       "\t topology-v2 & 10 Mb/s & 4 vCPU/node & L\\_diff = 7 slots & L\\_vote = 4 slots & 12 MB/EB & 1500 B/Tx & 0.250 TxMB/s &                & 166.6677778\\\\\n",
       "\\end{tabular}\n"
      ],
      "text/markdown": [
       "\n",
       "A data.table: 14 x 10\n",
       "\n",
       "| Network &lt;fct&gt; | Bandwidth &lt;fct&gt; | CPU &lt;fct&gt; | Diffusion duration &lt;fct&gt; | Voting duration &lt;fct&gt; | Max EB size &lt;fct&gt; | Tx size &lt;fct&gt; | Throughput &lt;fct&gt; | Plutus &lt;fct&gt; | Demand [tx/s] &lt;dbl&gt; |\n",
       "|---|---|---|---|---|---|---|---|---|---|\n",
       "| topology-v2 | 10 Mb/s | 4 vCPU/node | L_diff = 7 slots | L_vote = 4 slots | 12 MB/EB | 1500 B/Tx | 0.001 TxMB/s | <!----> |   0.6666667 |\n",
       "| topology-v2 | 10 Mb/s | 4 vCPU/node | L_diff = 7 slots | L_vote = 4 slots | 12 MB/EB | 1500 B/Tx | 0.002 TxMB/s | <!----> |   1.3344444 |\n",
       "| topology-v2 | 10 Mb/s | 4 vCPU/node | L_diff = 7 slots | L_vote = 4 slots | 12 MB/EB | 1500 B/Tx | 0.004 TxMB/s | <!----> |   2.6677778 |\n",
       "| topology-v2 | 10 Mb/s | 4 vCPU/node | L_diff = 7 slots | L_vote = 4 slots | 12 MB/EB | 1500 B/Tx | 0.050 TxMB/s | <!----> |  33.3344444 |\n",
       "| topology-v2 | 10 Mb/s | 4 vCPU/node | L_diff = 7 slots | L_vote = 4 slots | 12 MB/EB | 1500 B/Tx | 0.100 TxMB/s | <!----> |  66.6677778 |\n",
       "| topology-v2 | 10 Mb/s | 4 vCPU/node | L_diff = 7 slots | L_vote = 4 slots | 12 MB/EB | 1500 B/Tx | 0.150 TxMB/s | <!----> | 100.0011111 |\n",
       "| topology-v2 | 10 Mb/s | 4 vCPU/node | L_diff = 7 slots | L_vote = 4 slots | 12 MB/EB | 1500 B/Tx | 0.150 TxMB/s | 1000 Gstep/EB  | 100.0011111 |\n",
       "| topology-v2 | 10 Mb/s | 4 vCPU/node | L_diff = 7 slots | L_vote = 4 slots | 12 MB/EB | 1500 B/Tx | 0.150 TxMB/s | 10000 Gstep/EB | 100.0011111 |\n",
       "| topology-v2 | 10 Mb/s | 4 vCPU/node | L_diff = 7 slots | L_vote = 4 slots | 12 MB/EB | 1500 B/Tx | 0.150 TxMB/s | 2000 Gstep/EB  | 100.0011111 |\n",
       "| topology-v2 | 10 Mb/s | 4 vCPU/node | L_diff = 7 slots | L_vote = 4 slots | 12 MB/EB | 1500 B/Tx | 0.150 TxMB/s | 20000 Gstep/EB | 100.0011111 |\n",
       "| topology-v2 | 10 Mb/s | 4 vCPU/node | L_diff = 7 slots | L_vote = 4 slots | 12 MB/EB | 1500 B/Tx | 0.150 TxMB/s | 5000 Gstep/EB  | 100.0011111 |\n",
       "| topology-v2 | 10 Mb/s | 4 vCPU/node | L_diff = 7 slots | L_vote = 4 slots | 12 MB/EB | 1500 B/Tx | 0.150 TxMB/s | 50000 Gstep/EB | 100.0011111 |\n",
       "| topology-v2 | 10 Mb/s | 4 vCPU/node | L_diff = 7 slots | L_vote = 4 slots | 12 MB/EB | 1500 B/Tx | 0.200 TxMB/s | <!----> | 142.8577778 |\n",
       "| topology-v2 | 10 Mb/s | 4 vCPU/node | L_diff = 7 slots | L_vote = 4 slots | 12 MB/EB | 1500 B/Tx | 0.250 TxMB/s | <!----> | 166.6677778 |\n",
       "\n"
      ],
      "text/plain": [
       "   Network     Bandwidth CPU         Diffusion duration Voting duration \n",
       "1  topology-v2 10 Mb/s   4 vCPU/node L_diff = 7 slots   L_vote = 4 slots\n",
       "2  topology-v2 10 Mb/s   4 vCPU/node L_diff = 7 slots   L_vote = 4 slots\n",
       "3  topology-v2 10 Mb/s   4 vCPU/node L_diff = 7 slots   L_vote = 4 slots\n",
       "4  topology-v2 10 Mb/s   4 vCPU/node L_diff = 7 slots   L_vote = 4 slots\n",
       "5  topology-v2 10 Mb/s   4 vCPU/node L_diff = 7 slots   L_vote = 4 slots\n",
       "6  topology-v2 10 Mb/s   4 vCPU/node L_diff = 7 slots   L_vote = 4 slots\n",
       "7  topology-v2 10 Mb/s   4 vCPU/node L_diff = 7 slots   L_vote = 4 slots\n",
       "8  topology-v2 10 Mb/s   4 vCPU/node L_diff = 7 slots   L_vote = 4 slots\n",
       "9  topology-v2 10 Mb/s   4 vCPU/node L_diff = 7 slots   L_vote = 4 slots\n",
       "10 topology-v2 10 Mb/s   4 vCPU/node L_diff = 7 slots   L_vote = 4 slots\n",
       "11 topology-v2 10 Mb/s   4 vCPU/node L_diff = 7 slots   L_vote = 4 slots\n",
       "12 topology-v2 10 Mb/s   4 vCPU/node L_diff = 7 slots   L_vote = 4 slots\n",
       "13 topology-v2 10 Mb/s   4 vCPU/node L_diff = 7 slots   L_vote = 4 slots\n",
       "14 topology-v2 10 Mb/s   4 vCPU/node L_diff = 7 slots   L_vote = 4 slots\n",
       "   Max EB size Tx size   Throughput   Plutus         Demand [tx/s]\n",
       "1  12 MB/EB    1500 B/Tx 0.001 TxMB/s                  0.6666667  \n",
       "2  12 MB/EB    1500 B/Tx 0.002 TxMB/s                  1.3344444  \n",
       "3  12 MB/EB    1500 B/Tx 0.004 TxMB/s                  2.6677778  \n",
       "4  12 MB/EB    1500 B/Tx 0.050 TxMB/s                 33.3344444  \n",
       "5  12 MB/EB    1500 B/Tx 0.100 TxMB/s                 66.6677778  \n",
       "6  12 MB/EB    1500 B/Tx 0.150 TxMB/s                100.0011111  \n",
       "7  12 MB/EB    1500 B/Tx 0.150 TxMB/s 1000 Gstep/EB  100.0011111  \n",
       "8  12 MB/EB    1500 B/Tx 0.150 TxMB/s 10000 Gstep/EB 100.0011111  \n",
       "9  12 MB/EB    1500 B/Tx 0.150 TxMB/s 2000 Gstep/EB  100.0011111  \n",
       "10 12 MB/EB    1500 B/Tx 0.150 TxMB/s 20000 Gstep/EB 100.0011111  \n",
       "11 12 MB/EB    1500 B/Tx 0.150 TxMB/s 5000 Gstep/EB  100.0011111  \n",
       "12 12 MB/EB    1500 B/Tx 0.150 TxMB/s 50000 Gstep/EB 100.0011111  \n",
       "13 12 MB/EB    1500 B/Tx 0.200 TxMB/s                142.8577778  \n",
       "14 12 MB/EB    1500 B/Tx 0.250 TxMB/s                166.6677778  "
      ]
     },
     "metadata": {},
     "output_type": "display_data"
    }
   ],
   "source": [
    "dtmp <- lifecycle[\n",
    "    `Message` == \"TX\" & `Created [s]` >= txFirst & `Created [s]` <= txLast, \n",
    "    .(\n",
    "        `Demand [tx/s]`=.N/txWindow\n",
    "    ),\n",
    "    c(fixed, varied)\n",
    "]\n",
    "setorderv(dtmp, varied)\n",
    "dtmp"
   ]
  },
  {
   "cell_type": "markdown",
   "id": "7747da73-31c5-4ff0-b842-ab4e762fd7f6",
   "metadata": {},
   "source": [
    "#### Size of persisted data"
   ]
  },
  {
   "cell_type": "code",
   "execution_count": 89,
   "id": "5b72b808-5ce0-47e3-be8f-8e7972d53b89",
   "metadata": {
    "tags": []
   },
   "outputs": [
    {
     "data": {
      "image/png": "[encoded data removed]",
      "text/plain": [
       "plot without title"
      ]
     },
     "metadata": {
      "image/png": {
       "height": 420,
       "width": 420
      }
     },
     "output_type": "display_data"
    }
   ],
   "source": [
    "ggplot(\n",
    "    lifecycle[\n",
    "        `VariedY` == yConstraint,\n",
    "        .(`Size [kB/s]`=sum(`Size [B]`)/1e3/600),\n",
    "        c(\"VariedX\", \"VariedY\", \"Message\")\n",
    "    ],\n",
    "    aes(x=\"\", y=`Size [kB/s]`, fill=`Message`)\n",
    ") + geom_bar(stat=\"identity\") +\n",
    "    facet_varied_x(scales=\"fixed\") +\n",
    "    xlab(variedX)"
   ]
  },
  {
   "cell_type": "markdown",
   "id": "048eba3e-f592-4d0b-9329-ca98aed18951",
   "metadata": {},
   "source": [
    "#### Spatial efficiency"
   ]
  },
  {
   "cell_type": "code",
   "execution_count": 90,
   "id": "4b9cf49e-e58a-4df6-aa3a-a58ba3a3f0b9",
   "metadata": {
    "tags": []
   },
   "outputs": [
    {
     "data": {
      "text/html": [
       "<table class=\"dataframe\">\n",
       "<caption>A data.table: 14 x 3</caption>\n",
       "<thead>\n",
       "\t<tr><th scope=col>Throughput</th><th scope=col>Plutus</th><th scope=col>Space efficiency [%]</th></tr>\n",
       "\t<tr><th scope=col>&lt;fct&gt;</th><th scope=col>&lt;fct&gt;</th><th scope=col>&lt;dbl&gt;</th></tr>\n",
       "</thead>\n",
       "<tbody>\n",
       "\t<tr><td>0.001 TxMB/s</td><td>              </td><td>47.826963</td></tr>\n",
       "\t<tr><td>0.002 TxMB/s</td><td>              </td><td>55.540113</td></tr>\n",
       "\t<tr><td>0.004 TxMB/s</td><td>              </td><td>58.333477</td></tr>\n",
       "\t<tr><td>0.050 TxMB/s</td><td>              </td><td>93.947231</td></tr>\n",
       "\t<tr><td>0.100 TxMB/s</td><td>              </td><td>95.803656</td></tr>\n",
       "\t<tr><td>0.150 TxMB/s</td><td>              </td><td>96.328967</td></tr>\n",
       "\t<tr><td>0.150 TxMB/s</td><td>1000 Gstep/EB </td><td>96.329513</td></tr>\n",
       "\t<tr><td>0.150 TxMB/s</td><td>10000 Gstep/EB</td><td>95.992149</td></tr>\n",
       "\t<tr><td>0.150 TxMB/s</td><td>2000 Gstep/EB </td><td>96.371628</td></tr>\n",
       "\t<tr><td>0.150 TxMB/s</td><td>20000 Gstep/EB</td><td>95.689153</td></tr>\n",
       "\t<tr><td>0.150 TxMB/s</td><td>5000 Gstep/EB </td><td>96.146896</td></tr>\n",
       "\t<tr><td>0.150 TxMB/s</td><td>50000 Gstep/EB</td><td> 3.839723</td></tr>\n",
       "\t<tr><td>0.200 TxMB/s</td><td>              </td><td>95.716405</td></tr>\n",
       "\t<tr><td>0.250 TxMB/s</td><td>              </td><td>94.325499</td></tr>\n",
       "</tbody>\n",
       "</table>\n"
      ],
      "text/latex": [
       "A data.table: 14 x 3\n",
       "\\begin{tabular}{lll}\n",
       " Throughput & Plutus & Space efficiency {[}\\%{]}\\\\\n",
       " <fct> & <fct> & <dbl>\\\\\n",
       "\\hline\n",
       "\t 0.001 TxMB/s &                & 47.826963\\\\\n",
       "\t 0.002 TxMB/s &                & 55.540113\\\\\n",
       "\t 0.004 TxMB/s &                & 58.333477\\\\\n",
       "\t 0.050 TxMB/s &                & 93.947231\\\\\n",
       "\t 0.100 TxMB/s &                & 95.803656\\\\\n",
       "\t 0.150 TxMB/s &                & 96.328967\\\\\n",
       "\t 0.150 TxMB/s & 1000 Gstep/EB  & 96.329513\\\\\n",
       "\t 0.150 TxMB/s & 10000 Gstep/EB & 95.992149\\\\\n",
       "\t 0.150 TxMB/s & 2000 Gstep/EB  & 96.371628\\\\\n",
       "\t 0.150 TxMB/s & 20000 Gstep/EB & 95.689153\\\\\n",
       "\t 0.150 TxMB/s & 5000 Gstep/EB  & 96.146896\\\\\n",
       "\t 0.150 TxMB/s & 50000 Gstep/EB &  3.839723\\\\\n",
       "\t 0.200 TxMB/s &                & 95.716405\\\\\n",
       "\t 0.250 TxMB/s &                & 94.325499\\\\\n",
       "\\end{tabular}\n"
      ],
      "text/markdown": [
       "\n",
       "A data.table: 14 x 3\n",
       "\n",
       "| Throughput &lt;fct&gt; | Plutus &lt;fct&gt; | Space efficiency [%] &lt;dbl&gt; |\n",
       "|---|---|---|\n",
       "| 0.001 TxMB/s | <!----> | 47.826963 |\n",
       "| 0.002 TxMB/s | <!----> | 55.540113 |\n",
       "| 0.004 TxMB/s | <!----> | 58.333477 |\n",
       "| 0.050 TxMB/s | <!----> | 93.947231 |\n",
       "| 0.100 TxMB/s | <!----> | 95.803656 |\n",
       "| 0.150 TxMB/s | <!----> | 96.328967 |\n",
       "| 0.150 TxMB/s | 1000 Gstep/EB  | 96.329513 |\n",
       "| 0.150 TxMB/s | 10000 Gstep/EB | 95.992149 |\n",
       "| 0.150 TxMB/s | 2000 Gstep/EB  | 96.371628 |\n",
       "| 0.150 TxMB/s | 20000 Gstep/EB | 95.689153 |\n",
       "| 0.150 TxMB/s | 5000 Gstep/EB  | 96.146896 |\n",
       "| 0.150 TxMB/s | 50000 Gstep/EB |  3.839723 |\n",
       "| 0.200 TxMB/s | <!----> | 95.716405 |\n",
       "| 0.250 TxMB/s | <!----> | 94.325499 |\n",
       "\n"
      ],
      "text/plain": [
       "   Throughput   Plutus         Space efficiency [%]\n",
       "1  0.001 TxMB/s                47.826963           \n",
       "2  0.002 TxMB/s                55.540113           \n",
       "3  0.004 TxMB/s                58.333477           \n",
       "4  0.050 TxMB/s                93.947231           \n",
       "5  0.100 TxMB/s                95.803656           \n",
       "6  0.150 TxMB/s                96.328967           \n",
       "7  0.150 TxMB/s 1000 Gstep/EB  96.329513           \n",
       "8  0.150 TxMB/s 10000 Gstep/EB 95.992149           \n",
       "9  0.150 TxMB/s 2000 Gstep/EB  96.371628           \n",
       "10 0.150 TxMB/s 20000 Gstep/EB 95.689153           \n",
       "11 0.150 TxMB/s 5000 Gstep/EB  96.146896           \n",
       "12 0.150 TxMB/s 50000 Gstep/EB  3.839723           \n",
       "13 0.200 TxMB/s                95.716405           \n",
       "14 0.250 TxMB/s                94.325499           "
      ]
     },
     "metadata": {},
     "output_type": "display_data"
    }
   ],
   "source": [
    "dtmp <- lifecycle[\n",
    "        , \n",
    "        .(`Tx size [B]`=sum(ifelse(is.na(`To RB [s]`) & is.na(`In RB [s]`), 0, 1.0 * `Size [B]`))),\n",
    "        varied\n",
    "    ][\n",
    "        lifecycle[\n",
    "            , \n",
    "            .(`Non-tx size [B]`=sum(as.numeric((`Message` == \"TX\" | `Message` == \"EB\" | `Message` == \"RB\") * `Size [B]`))), \n",
    "            varied\n",
    "        ],\n",
    "        on=varied\n",
    "    ][, .(`Space efficiency [%]`=100*`Tx size [B]`/`Non-tx size [B]`), varied]\n",
    "setorderv(dtmp, varied)\n",
    "dtmp"
   ]
  },
  {
   "cell_type": "code",
   "execution_count": 91,
   "id": "9250da59-54a6-4550-a91b-274ad6fcef3e",
   "metadata": {
    "tags": []
   },
   "outputs": [
    {
     "data": {
      "image/png": "[encoded data removed]",
      "text/plain": [
       "plot without title"
      ]
     },
     "metadata": {
      "image/png": {
       "height": 420,
       "width": 420
      }
     },
     "output_type": "display_data"
    }
   ],
   "source": [
    "ggplot(\n",
    "    lifecycle[\n",
    "        `VariedY` == yConstraint & `Message` == \"TX\", \n",
    "        .(`Tx size [B]`=sum(ifelse(is.na(`To RB [s]`) & is.na(`In RB [s]`), 0, 1.0 * `Size [B]`))),\n",
    "        .(`VariedX`, `VariedY`)\n",
    "    ][\n",
    "        lifecycle[\n",
    "            `VariedY` == yConstraint & `Message` != \"VT\", \n",
    "            .(`Non-tx size [B]`=sum(as.numeric((`Message` == \"TX\" | `Message` == \"EB\" | `Message` == \"RB\") * `Size [B]`))), \n",
    "            .(`VariedX`, `VariedY`)\n",
    "        ],\n",
    "        on=c(\"VariedX\", \"VariedY\")\n",
    "    ][, .(`Space efficiency [%]`=100*`Tx size [B]`/`Non-tx size [B]`), .(`VariedX`, `VariedY`)],\n",
    "    aes(x=\"\", y=`Space efficiency [%]`)\n",
    ") +\n",
    "    geom_bar(stat=\"identity\") +\n",
    "    facet_varied_x(scales=\"fixed\") +\n",
    "    ylim(0, 100) +\n",
    "    xlab(variedX)"
   ]
  },
  {
   "cell_type": "markdown",
   "id": "6b38a7ba-fc08-4129-90f8-049ff423cfba",
   "metadata": {},
   "source": [
    "#### Time to reach the EB"
   ]
  },
  {
   "cell_type": "code",
   "execution_count": 92,
   "id": "9159b85a-7e54-4d6e-a380-a587fce7ca27",
   "metadata": {
    "tags": []
   },
   "outputs": [
    {
     "data": {
      "text/html": [
       "<table class=\"dataframe\">\n",
       "<caption>A data.table: 13 x 3</caption>\n",
       "<thead>\n",
       "\t<tr><th scope=col>Throughput</th><th scope=col>Plutus</th><th scope=col>Time to reach EB [s]</th></tr>\n",
       "\t<tr><th scope=col>&lt;fct&gt;</th><th scope=col>&lt;fct&gt;</th><th scope=col>&lt;dbl&gt;</th></tr>\n",
       "</thead>\n",
       "<tbody>\n",
       "\t<tr><td>0.002 TxMB/s</td><td>              </td><td> 25.01419</td></tr>\n",
       "\t<tr><td>0.004 TxMB/s</td><td>              </td><td> 20.70636</td></tr>\n",
       "\t<tr><td>0.050 TxMB/s</td><td>              </td><td> 17.54759</td></tr>\n",
       "\t<tr><td>0.100 TxMB/s</td><td>              </td><td> 17.95712</td></tr>\n",
       "\t<tr><td>0.150 TxMB/s</td><td>              </td><td> 21.09719</td></tr>\n",
       "\t<tr><td>0.150 TxMB/s</td><td>1000 Gstep/EB </td><td> 21.10276</td></tr>\n",
       "\t<tr><td>0.150 TxMB/s</td><td>10000 Gstep/EB</td><td> 23.72237</td></tr>\n",
       "\t<tr><td>0.150 TxMB/s</td><td>2000 Gstep/EB </td><td> 20.42069</td></tr>\n",
       "\t<tr><td>0.150 TxMB/s</td><td>20000 Gstep/EB</td><td> 30.94065</td></tr>\n",
       "\t<tr><td>0.150 TxMB/s</td><td>5000 Gstep/EB </td><td> 20.76761</td></tr>\n",
       "\t<tr><td>0.150 TxMB/s</td><td>50000 Gstep/EB</td><td>244.69640</td></tr>\n",
       "\t<tr><td>0.200 TxMB/s</td><td>              </td><td>130.13812</td></tr>\n",
       "\t<tr><td>0.250 TxMB/s</td><td>              </td><td>238.81256</td></tr>\n",
       "</tbody>\n",
       "</table>\n"
      ],
      "text/latex": [
       "A data.table: 13 x 3\n",
       "\\begin{tabular}{lll}\n",
       " Throughput & Plutus & Time to reach EB {[}s{]}\\\\\n",
       " <fct> & <fct> & <dbl>\\\\\n",
       "\\hline\n",
       "\t 0.002 TxMB/s &                &  25.01419\\\\\n",
       "\t 0.004 TxMB/s &                &  20.70636\\\\\n",
       "\t 0.050 TxMB/s &                &  17.54759\\\\\n",
       "\t 0.100 TxMB/s &                &  17.95712\\\\\n",
       "\t 0.150 TxMB/s &                &  21.09719\\\\\n",
       "\t 0.150 TxMB/s & 1000 Gstep/EB  &  21.10276\\\\\n",
       "\t 0.150 TxMB/s & 10000 Gstep/EB &  23.72237\\\\\n",
       "\t 0.150 TxMB/s & 2000 Gstep/EB  &  20.42069\\\\\n",
       "\t 0.150 TxMB/s & 20000 Gstep/EB &  30.94065\\\\\n",
       "\t 0.150 TxMB/s & 5000 Gstep/EB  &  20.76761\\\\\n",
       "\t 0.150 TxMB/s & 50000 Gstep/EB & 244.69640\\\\\n",
       "\t 0.200 TxMB/s &                & 130.13812\\\\\n",
       "\t 0.250 TxMB/s &                & 238.81256\\\\\n",
       "\\end{tabular}\n"
      ],
      "text/markdown": [
       "\n",
       "A data.table: 13 x 3\n",
       "\n",
       "| Throughput &lt;fct&gt; | Plutus &lt;fct&gt; | Time to reach EB [s] &lt;dbl&gt; |\n",
       "|---|---|---|\n",
       "| 0.002 TxMB/s | <!----> |  25.01419 |\n",
       "| 0.004 TxMB/s | <!----> |  20.70636 |\n",
       "| 0.050 TxMB/s | <!----> |  17.54759 |\n",
       "| 0.100 TxMB/s | <!----> |  17.95712 |\n",
       "| 0.150 TxMB/s | <!----> |  21.09719 |\n",
       "| 0.150 TxMB/s | 1000 Gstep/EB  |  21.10276 |\n",
       "| 0.150 TxMB/s | 10000 Gstep/EB |  23.72237 |\n",
       "| 0.150 TxMB/s | 2000 Gstep/EB  |  20.42069 |\n",
       "| 0.150 TxMB/s | 20000 Gstep/EB |  30.94065 |\n",
       "| 0.150 TxMB/s | 5000 Gstep/EB  |  20.76761 |\n",
       "| 0.150 TxMB/s | 50000 Gstep/EB | 244.69640 |\n",
       "| 0.200 TxMB/s | <!----> | 130.13812 |\n",
       "| 0.250 TxMB/s | <!----> | 238.81256 |\n",
       "\n"
      ],
      "text/plain": [
       "   Throughput   Plutus         Time to reach EB [s]\n",
       "1  0.002 TxMB/s                 25.01419           \n",
       "2  0.004 TxMB/s                 20.70636           \n",
       "3  0.050 TxMB/s                 17.54759           \n",
       "4  0.100 TxMB/s                 17.95712           \n",
       "5  0.150 TxMB/s                 21.09719           \n",
       "6  0.150 TxMB/s 1000 Gstep/EB   21.10276           \n",
       "7  0.150 TxMB/s 10000 Gstep/EB  23.72237           \n",
       "8  0.150 TxMB/s 2000 Gstep/EB   20.42069           \n",
       "9  0.150 TxMB/s 20000 Gstep/EB  30.94065           \n",
       "10 0.150 TxMB/s 5000 Gstep/EB   20.76761           \n",
       "11 0.150 TxMB/s 50000 Gstep/EB 244.69640           \n",
       "12 0.200 TxMB/s                130.13812           \n",
       "13 0.250 TxMB/s                238.81256           "
      ]
     },
     "metadata": {},
     "output_type": "display_data"
    }
   ],
   "source": [
    "dtmp <- lifecycle[\n",
    "        `Message` == \"TX\" & \n",
    "        !is.na(`To EB [s]`) &\n",
    "        `Created [s]` >= txFirst & `Created [s]` <= txLast, \n",
    "        .(`Time to reach EB [s]`=mean(`To EB [s]`-`Created [s]`)), \n",
    "        varied\n",
    "    ]\n",
    "setorderv(dtmp, varied)\n",
    "dtmp"
   ]
  },
  {
   "cell_type": "code",
   "execution_count": 93,
   "id": "d451bc57-36d0-41ad-9cbd-8ebb3324267c",
   "metadata": {
    "tags": []
   },
   "outputs": [
    {
     "data": {
      "image/png": "[encoded data removed]",
      "text/plain": [
       "plot without title"
      ]
     },
     "metadata": {
      "image/png": {
       "height": 420,
       "width": 420
      }
     },
     "output_type": "display_data"
    }
   ],
   "source": [
    "ggplot(\n",
    "        lifecycle[\n",
    "            `VariedY` == yConstraint & `Message` == \"TX\" & \n",
    "            !is.na(`To EB [s]`) &\n",
    "            `Created [s]` >= txFirst & `Created [s]` < txLast, \n",
    "            .(`Time to reach EB [s]`=(`To EB [s]`-`Created [s]`)), \n",
    "            .(`VariedX`, `VariedY`, `Minute created`=factor(floor(`Created [s]`/60)))\n",
    "        ],\n",
    "    aes(x=`Time to reach EB [s]`, fill=`Minute created`)\n",
    ") + geom_histogram(bins=50, position=\"stack\") +\n",
    "    facet_varied_x(wide=TRUE) +\n",
    "    xlab(\"Time for transaction to reach EB [s]\") +\n",
    "    ylab(\"Number of transactions\") +\n",
    "    theme(axis.text.y = element_blank(), axis.ticks.y = element_blank())"
   ]
  },
  {
   "cell_type": "markdown",
   "id": "cc5aba94-7a59-44c3-98bf-5d5928ecb20a",
   "metadata": {},
   "source": [
    "#### Time to reach the ledger"
   ]
  },
  {
   "cell_type": "code",
   "execution_count": 94,
   "id": "06dc0e72-6337-4eca-9cbd-3b7576397c99",
   "metadata": {
    "tags": []
   },
   "outputs": [
    {
     "data": {
      "text/html": [
       "<table class=\"dataframe\">\n",
       "<caption>A data.table: 12 x 3</caption>\n",
       "<thead>\n",
       "\t<tr><th scope=col>Throughput</th><th scope=col>Plutus</th><th scope=col>Time to reach ledger [s]</th></tr>\n",
       "\t<tr><th scope=col>&lt;fct&gt;</th><th scope=col>&lt;fct&gt;</th><th scope=col>&lt;dbl&gt;</th></tr>\n",
       "</thead>\n",
       "<tbody>\n",
       "\t<tr><td>0.002 TxMB/s</td><td>              </td><td> 67.07436</td></tr>\n",
       "\t<tr><td>0.004 TxMB/s</td><td>              </td><td> 50.41382</td></tr>\n",
       "\t<tr><td>0.050 TxMB/s</td><td>              </td><td> 53.95071</td></tr>\n",
       "\t<tr><td>0.100 TxMB/s</td><td>              </td><td> 54.85304</td></tr>\n",
       "\t<tr><td>0.150 TxMB/s</td><td>              </td><td> 58.94226</td></tr>\n",
       "\t<tr><td>0.150 TxMB/s</td><td>1000 Gstep/EB </td><td> 58.94322</td></tr>\n",
       "\t<tr><td>0.150 TxMB/s</td><td>10000 Gstep/EB</td><td> 63.90746</td></tr>\n",
       "\t<tr><td>0.150 TxMB/s</td><td>2000 Gstep/EB </td><td> 57.93216</td></tr>\n",
       "\t<tr><td>0.150 TxMB/s</td><td>20000 Gstep/EB</td><td> 75.53513</td></tr>\n",
       "\t<tr><td>0.150 TxMB/s</td><td>5000 Gstep/EB </td><td> 59.65423</td></tr>\n",
       "\t<tr><td>0.200 TxMB/s</td><td>              </td><td>171.61229</td></tr>\n",
       "\t<tr><td>0.250 TxMB/s</td><td>              </td><td>282.44922</td></tr>\n",
       "</tbody>\n",
       "</table>\n"
      ],
      "text/latex": [
       "A data.table: 12 x 3\n",
       "\\begin{tabular}{lll}\n",
       " Throughput & Plutus & Time to reach ledger {[}s{]}\\\\\n",
       " <fct> & <fct> & <dbl>\\\\\n",
       "\\hline\n",
       "\t 0.002 TxMB/s &                &  67.07436\\\\\n",
       "\t 0.004 TxMB/s &                &  50.41382\\\\\n",
       "\t 0.050 TxMB/s &                &  53.95071\\\\\n",
       "\t 0.100 TxMB/s &                &  54.85304\\\\\n",
       "\t 0.150 TxMB/s &                &  58.94226\\\\\n",
       "\t 0.150 TxMB/s & 1000 Gstep/EB  &  58.94322\\\\\n",
       "\t 0.150 TxMB/s & 10000 Gstep/EB &  63.90746\\\\\n",
       "\t 0.150 TxMB/s & 2000 Gstep/EB  &  57.93216\\\\\n",
       "\t 0.150 TxMB/s & 20000 Gstep/EB &  75.53513\\\\\n",
       "\t 0.150 TxMB/s & 5000 Gstep/EB  &  59.65423\\\\\n",
       "\t 0.200 TxMB/s &                & 171.61229\\\\\n",
       "\t 0.250 TxMB/s &                & 282.44922\\\\\n",
       "\\end{tabular}\n"
      ],
      "text/markdown": [
       "\n",
       "A data.table: 12 x 3\n",
       "\n",
       "| Throughput &lt;fct&gt; | Plutus &lt;fct&gt; | Time to reach ledger [s] &lt;dbl&gt; |\n",
       "|---|---|---|\n",
       "| 0.002 TxMB/s | <!----> |  67.07436 |\n",
       "| 0.004 TxMB/s | <!----> |  50.41382 |\n",
       "| 0.050 TxMB/s | <!----> |  53.95071 |\n",
       "| 0.100 TxMB/s | <!----> |  54.85304 |\n",
       "| 0.150 TxMB/s | <!----> |  58.94226 |\n",
       "| 0.150 TxMB/s | 1000 Gstep/EB  |  58.94322 |\n",
       "| 0.150 TxMB/s | 10000 Gstep/EB |  63.90746 |\n",
       "| 0.150 TxMB/s | 2000 Gstep/EB  |  57.93216 |\n",
       "| 0.150 TxMB/s | 20000 Gstep/EB |  75.53513 |\n",
       "| 0.150 TxMB/s | 5000 Gstep/EB  |  59.65423 |\n",
       "| 0.200 TxMB/s | <!----> | 171.61229 |\n",
       "| 0.250 TxMB/s | <!----> | 282.44922 |\n",
       "\n"
      ],
      "text/plain": [
       "   Throughput   Plutus         Time to reach ledger [s]\n",
       "1  0.002 TxMB/s                 67.07436               \n",
       "2  0.004 TxMB/s                 50.41382               \n",
       "3  0.050 TxMB/s                 53.95071               \n",
       "4  0.100 TxMB/s                 54.85304               \n",
       "5  0.150 TxMB/s                 58.94226               \n",
       "6  0.150 TxMB/s 1000 Gstep/EB   58.94322               \n",
       "7  0.150 TxMB/s 10000 Gstep/EB  63.90746               \n",
       "8  0.150 TxMB/s 2000 Gstep/EB   57.93216               \n",
       "9  0.150 TxMB/s 20000 Gstep/EB  75.53513               \n",
       "10 0.150 TxMB/s 5000 Gstep/EB   59.65423               \n",
       "11 0.200 TxMB/s                171.61229               \n",
       "12 0.250 TxMB/s                282.44922               "
      ]
     },
     "metadata": {},
     "output_type": "display_data"
    }
   ],
   "source": [
    "dtmp <- lifecycle[\n",
    "        `Message` == \"TX\" & \n",
    "        !is.na(`To RB [s]`) &\n",
    "        `Created [s]` >= txFirst & `Created [s]` <= txLast, \n",
    "        .(`Time to reach ledger [s]`=mean(`To RB [s]`-`Created [s]`)), \n",
    "        varied\n",
    "    ]\n",
    "setorderv(dtmp, varied)\n",
    "dtmp"
   ]
  },
  {
   "cell_type": "code",
   "execution_count": 95,
   "id": "da2fc48b-51bb-4cef-bf80-dc199206b405",
   "metadata": {
    "tags": []
   },
   "outputs": [
    {
     "data": {
      "image/png": "[encoded data removed]",
      "text/plain": [
       "plot without title"
      ]
     },
     "metadata": {
      "image/png": {
       "height": 420,
       "width": 420
      }
     },
     "output_type": "display_data"
    }
   ],
   "source": [
    "ggplot(\n",
    "        lifecycle[\n",
    "            `VariedY` == yConstraint & `Message` == \"TX\" & \n",
    "            !is.na(`To RB [s]`) &\n",
    "            `Created [s]` >= txFirst & `Created [s]` < txLast, \n",
    "            .(`Time to reach ledger [s]`=`To RB [s]`-`Created [s]`), \n",
    "            .(`VariedX`, `VariedY`, `Minute created`=factor(floor(`Created [s]`/60)))\n",
    "        ],\n",
    "    aes(x=`Time to reach ledger [s]`, fill=`Minute created`)\n",
    ") + geom_histogram(bins=50) +\n",
    "    facet_varied_x(wide=TRUE, scales=\"free_y\") +\n",
    "    xlab(\"Time for transaction to reach ledger [s]\") +\n",
    "    ylab(\"Number of transactions\") +\n",
    "    theme(axis.text.y = element_blank(), axis.ticks.y = element_blank())"
   ]
  },
  {
   "cell_type": "code",
   "execution_count": 100,
   "id": "39a312b5-8670-402c-8c72-539432ad6d9a",
   "metadata": {
    "tags": []
   },
   "outputs": [
    {
     "data": {
      "image/png": "[encoded data removed]",
      "text/plain": [
       "plot without title"
      ]
     },
     "metadata": {
      "image/png": {
       "height": 420,
       "width": 420
      }
     },
     "output_type": "display_data"
    }
   ],
   "source": [
    "ggplot(\n",
    "        lifecycle[\n",
    "            `Throughput` == \"0.001 TxMB/s\" &\n",
    "            `VariedY` == yConstraint & `Message` == \"TX\" & \n",
    "            !is.na(`In RB [s]`) &\n",
    "            `Created [s]` >= txFirst & `Created [s]` < txLast, \n",
    "            .(`Time to reach ledger [s]`=`In RB [s]`-`Created [s]`), \n",
    "            .(`VariedX`, `VariedY`, `Minute created`=factor(floor(`Created [s]`/60)))\n",
    "        ],\n",
    "    aes(x=`Time to reach ledger [s]`, fill=`Minute created`)\n",
    ") + geom_histogram(bins=50) +\n",
    "    facet_varied_x(wide=TRUE, scales=\"free_y\") +\n",
    "    xlab(\"Time for transaction to reach ledger [s]\") +\n",
    "    ylab(\"Number of transactions\") +\n",
    "    theme(axis.text.y = element_blank(), axis.ticks.y = element_blank())"
   ]
  },
  {
   "cell_type": "code",
   "execution_count": 101,
   "id": "cdf2ab4e-3e2c-45ae-90f1-3f1f336dc897",
   "metadata": {
    "tags": []
   },
   "outputs": [],
   "source": [
    "ggsave(\"plots/reach-rb-tx.svg\", units=\"in\", dpi=150, width=16, height=8)"
   ]
  },
  {
   "cell_type": "code",
   "execution_count": 102,
   "id": "d241f820-b913-40bd-bd78-2b0ac025d1d2",
   "metadata": {
    "tags": []
   },
   "outputs": [],
   "source": [
    "ggsave(\"plots/reach-rb-tx.png\", units=\"in\", dpi=150, width=16, height=8)"
   ]
  },
  {
   "cell_type": "markdown",
   "id": "26e3bfa5-85eb-4bc1-9f97-a0379a1a5ac8",
   "metadata": {},
   "source": [
    "#### Number of references\n",
    "\n",
    "A *reference* is one of the following:\n",
    "\n",
    "- A transaction is included in an IB.\n",
    "- An IB is referenced by an EB.\n",
    "- An EB is referenced by another EB.\n",
    "\n",
    "In an efficient Leios, the number of references for each data item would be one.\n",
    "\n",
    "- *Zero references* indicates that the item was not used.\n",
    "- *Two or more references* indicates that duplication has occurred."
   ]
  },
  {
   "cell_type": "code",
   "execution_count": 25,
   "id": "e3963046-2ff4-4f56-af87-cb0d6fb18ea0",
   "metadata": {
    "tags": []
   },
   "outputs": [
    {
     "data": {
      "image/png": "[encoded data removed]",
      "text/plain": [
       "plot without title"
      ]
     },
     "metadata": {
      "image/png": {
       "height": 420,
       "width": 420
      }
     },
     "output_type": "display_data"
    }
   ],
   "source": [
    "ggplot(\n",
    "    lifecycle[\n",
    "        `VariedY` == yConstraint & `Message` == \"EB\",\n",
    "        .(`References`),\n",
    "        .(`VariedX`, `VariedY`)\n",
    "    ], \n",
    "    aes(x=`References`)\n",
    ") +\n",
    "    geom_histogram(binwidth=1) +\n",
    "    facet_varied_x(wide=TRUE) +\n",
    "    ylab(\"Number of EB\")"
   ]
  },
  {
   "cell_type": "code",
   "execution_count": 26,
   "id": "3ef7c12c-b295-4260-aa59-7959fb2ce5f3",
   "metadata": {
    "tags": []
   },
   "outputs": [
    {
     "data": {
      "image/png": "[encoded data removed]",
      "text/plain": [
       "plot without title"
      ]
     },
     "metadata": {
      "image/png": {
       "height": 420,
       "width": 420
      }
     },
     "output_type": "display_data"
    }
   ],
   "source": [
    "ggplot(\n",
    "    lifecycle[\n",
    "        `VariedY` == yConstraint & `Message` == \"TX\",\n",
    "        .(`References`),\n",
    "        .(`VariedX`, `VariedY`)\n",
    "    ], \n",
    "    aes(x=`References`)\n",
    ") +\n",
    "    geom_histogram(binwidth=1) +\n",
    "    facet_varied_x(wide=TRUE) +\n",
    "    ylab(\"Number of TX\")"
   ]
  },
  {
   "cell_type": "code",
   "execution_count": 27,
   "id": "d44b6a56-2399-4b22-9060-b74c093fc86e",
   "metadata": {
    "tags": []
   },
   "outputs": [],
   "source": [
    "ggsave(\"plots/references-tx.svg\", units=\"in\", dpi=150, width=16, height=8)"
   ]
  },
  {
   "cell_type": "code",
   "execution_count": 28,
   "id": "1e50e917-733f-4857-8c86-db5b0def85d2",
   "metadata": {
    "tags": []
   },
   "outputs": [],
   "source": [
    "ggsave(\"plots/references-tx.png\", units=\"in\", dpi=150, width=16, height=8)"
   ]
  },
  {
   "cell_type": "markdown",
   "id": "75593061-5257-4960-b50f-6f07dce58d8c",
   "metadata": {},
   "source": [
    "#### Temporal efficiency"
   ]
  },
  {
   "cell_type": "code",
   "execution_count": 29,
   "id": "a80c61d8-0c51-4c63-be1e-696923483fd9",
   "metadata": {
    "tags": []
   },
   "outputs": [],
   "source": [
    "toElapsed <- function(created, toRb, inRb) {\n",
    "    if (!is.na(toRb))\n",
    "        toRb - created\n",
    "    else if (!is.na(inRb))\n",
    "        inRb - created\n",
    "    else\n",
    "        as.numeric(NA)\n",
    "}"
   ]
  },
  {
   "cell_type": "code",
   "execution_count": 30,
   "id": "183a915d-c959-4117-bba0-340e9f06058e",
   "metadata": {
    "tags": []
   },
   "outputs": [],
   "source": [
    "outcomes <- lifecycle[\n",
    "    `Message` == \"TX\" & `Created [s]` < txLast,\n",
    "    .(\n",
    "        `Submitted [minute]`=factor(floor(`Created [s]`/60)), \n",
    "        `Time to reach ledger [s]`=mapply(toElapsed, `Created [s]`, `To RB [s]`, `In RB [s]`)\n",
    "    ),\n",
    "    .(`VariedX`, `VariedY`)\n",
    "]"
   ]
  },
  {
   "cell_type": "code",
   "execution_count": 31,
   "id": "3c5e829b-185d-42ed-a936-82b5c893aec2",
   "metadata": {
    "tags": []
   },
   "outputs": [],
   "source": [
    "totals <- \n",
    "    outcomes[\n",
    "        , \n",
    "        .(\n",
    "            `Total`=.N, \n",
    "            `Lost`=sum(is.na(`Time to reach ledger [s]`)),\n",
    "            `1st min`=sum(`Time to reach ledger [s]`<=60,na.rm=TRUE),\n",
    "            `2nd min`=sum(`Time to reach ledger [s]`>60&`Time to reach ledger [s]`<=120,na.rm=TRUE),\n",
    "            `3rd min`=sum(`Time to reach ledger [s]`>120&`Time to reach ledger [s]`<=180,na.rm=TRUE)\n",
    "        ), \n",
    "        .(`VariedX`, `VariedY`, `Submitted [minute]`)\n",
    "    ]"
   ]
  },
  {
   "cell_type": "markdown",
   "id": "bb43e073-4d4e-455a-b861-9fea5b848b25",
   "metadata": {},
   "source": [
    "#### Transactions reaching the ledger"
   ]
  },
  {
   "cell_type": "code",
   "execution_count": 32,
   "id": "f65eae2e-99b4-4fd3-9a56-7c78041bf66e",
   "metadata": {
    "tags": []
   },
   "outputs": [
    {
     "data": {
      "image/png": "[encoded data removed]",
      "text/plain": [
       "plot without title"
      ]
     },
     "metadata": {
      "image/png": {
       "height": 420,
       "width": 420
      }
     },
     "output_type": "display_data"
    }
   ],
   "source": [
    "ggplot(\n",
    "        melt(\n",
    "            totals[\n",
    "                `VariedY` == yConstraint, \n",
    "                .(\n",
    "                    `Ledger in 1st min`=`1st min`/`Total`, \n",
    "                    `Ledger in 2nd min`=`2nd min`/`Total`, \n",
    "                    `Ledger in 3rd min`=`3rd min`/`Total`, \n",
    "                    `Ledger later`=(`Total`-`Lost`-`1st min`-`2nd min`-`3rd min`)/`Total`,\n",
    "                    `Lost`=`Lost`/`Total`\n",
    "                ), \n",
    "                .(`VariedX`, `VariedY`, `Submitted [minute]`)\n",
    "            ],\n",
    "            id.vars=c(\"VariedX\", \"VariedY\", \"Submitted [minute]\"),\n",
    "            variable.name=\"Outcome\",\n",
    "            value.name=\"Fraction\"\n",
    "        )[, .(\n",
    "            `VariedX`, `VariedY`,\n",
    "            `Submitted [minute]`, \n",
    "            `Outcome`=factor(`Outcome`,levels=c(\"Ledger in 1st min\", \"Ledger in 2nd min\", \"Ledger in 3rd min\", \"Ledger later\",\"Lost\")), \n",
    "            `Fraction of transactions [%]`=100*`Fraction`\n",
    "        )],\n",
    "    aes(x=`Submitted [minute]`, y=`Fraction of transactions [%]`, fill=`Outcome`)\n",
    ") +\n",
    "    geom_bar(stat=\"identity\") +\n",
    "    facet_varied_x(wide=TRUE) +\n",
    "    scale_fill_manual(values=c(\n",
    "        \"Ledger in 1st min\"=brewer.pal(n=5, name=\"Set1\")[[2]], \n",
    "        \"Ledger in 2nd min\"=brewer.pal(n=5, name=\"Set1\")[[3]], \n",
    "        \"Ledger in 3rd min\"=brewer.pal(n=5, name=\"Set1\")[[4]], \n",
    "        \"Ledger later\"=brewer.pal(n=5, name=\"Set1\")[[5]],\n",
    "        \"Lost\"=brewer.pal(n=5, name=\"Set1\")[[1]]\n",
    "    )) +\n",
    "    theme(axis.text.x = element_text(angle = 90, vjust = 0.5, hjust=1))"
   ]
  },
  {
   "cell_type": "code",
   "execution_count": 33,
   "id": "e5f627be-7986-406a-8058-ef7fa742680f",
   "metadata": {
    "tags": []
   },
   "outputs": [],
   "source": [
    "ggsave(\"plots/temporal-efficiency-bar.svg\", units=\"in\", dpi=150, width=16, height=8)"
   ]
  },
  {
   "cell_type": "code",
   "execution_count": 34,
   "id": "80bc52bd-8e77-4dc5-a902-0e54705c8dbe",
   "metadata": {
    "tags": []
   },
   "outputs": [],
   "source": [
    "ggsave(\"plots/temporal-efficiency-bar.png\", units=\"in\", dpi=150, width=16, height=8)"
   ]
  },
  {
   "cell_type": "code",
   "execution_count": 35,
   "id": "90cbccec-3212-405b-8ae2-3b21946d2be4",
   "metadata": {
    "tags": []
   },
   "outputs": [
    {
     "data": {
      "image/png": "[encoded data removed]",
      "text/plain": [
       "plot without title"
      ]
     },
     "metadata": {
      "image/png": {
       "height": 420,
       "width": 420
      }
     },
     "output_type": "display_data"
    }
   ],
   "source": [
    "ggplot(\n",
    "        melt(\n",
    "            totals[\n",
    "               `VariedY` %in% c(\"10000 Gstep/EB\", \"20000 Gstep/EB\", \"50000 Gstep/EB\"), \n",
    "                .(\n",
    "                    `Ledger in 1st min`=`1st min`/`Total`, \n",
    "                    `Ledger in 2nd min`=`2nd min`/`Total`, \n",
    "                    `Ledger in 3rd min`=`3rd min`/`Total`, \n",
    "                    `Ledger later`=(`Total`-`Lost`-`1st min`-`2nd min`-`3rd min`)/`Total`,\n",
    "                    `Lost`=`Lost`/`Total`\n",
    "                ), \n",
    "                .(`VariedX`, `VariedY`, `Submitted [minute]`)\n",
    "            ],\n",
    "            id.vars=c(\"VariedX\", \"VariedY\", \"Submitted [minute]\"),\n",
    "            variable.name=\"Outcome\",\n",
    "            value.name=\"Fraction\"\n",
    "        )[, .(\n",
    "            `VariedX`, `VariedY`,\n",
    "            `Submitted [minute]`, \n",
    "            `Outcome`=factor(`Outcome`,levels=c(\"Ledger in 1st min\", \"Ledger in 2nd min\", \"Ledger in 3rd min\", \"Ledger later\",\"Lost\")), \n",
    "            `Fraction of transactions [%]`=100*`Fraction`\n",
    "        )],\n",
    "    aes(x=`Submitted [minute]`, y=`Fraction of transactions [%]`, fill=`Outcome`)\n",
    ") +\n",
    "    geom_bar(stat=\"identity\") +\n",
    "    facet_varied(wide=FALSE) +\n",
    "    scale_fill_manual(values=c(\n",
    "        \"Ledger in 1st min\"=brewer.pal(n=5, name=\"Set1\")[[2]], \n",
    "        \"Ledger in 2nd min\"=brewer.pal(n=5, name=\"Set1\")[[3]], \n",
    "        \"Ledger in 3rd min\"=brewer.pal(n=5, name=\"Set1\")[[4]], \n",
    "        \"Ledger later\"=brewer.pal(n=5, name=\"Set1\")[[5]],\n",
    "        \"Lost\"=brewer.pal(n=5, name=\"Set1\")[[1]]\n",
    "    )) +\n",
    "    theme(axis.text.x = element_text(angle = 90, vjust = 0.5, hjust=1))"
   ]
  },
  {
   "cell_type": "code",
   "execution_count": 36,
   "id": "f1bc21f8-c0bf-4780-b550-3bebb1930d97",
   "metadata": {
    "tags": []
   },
   "outputs": [],
   "source": [
    "ggsave(\"plots/plutus-temporal-efficiency-bar.svg\", units=\"in\", dpi=150, width=16, height=8)"
   ]
  },
  {
   "cell_type": "code",
   "execution_count": 37,
   "id": "0977c0f6-f863-4676-9cc3-42a4b417b5a5",
   "metadata": {
    "tags": []
   },
   "outputs": [],
   "source": [
    "ggsave(\"plots/plutus-temporal-efficiency-bar.png\", units=\"in\", dpi=150, width=16, height=8)"
   ]
  },
  {
   "cell_type": "markdown",
   "id": "cdcb0256-0369-4d8e-9154-842985b22760",
   "metadata": {},
   "source": [
    "#### Summary for cost estimations"
   ]
  },
  {
   "cell_type": "code",
   "execution_count": 38,
   "id": "9ba8c914-91a8-46c1-bd7f-d684c73fd6db",
   "metadata": {
    "tags": []
   },
   "outputs": [
    {
     "data": {
      "text/html": [
       "<table class=\"dataframe\">\n",
       "<caption>A data.table: 12 x 3</caption>\n",
       "<thead>\n",
       "\t<tr><th scope=col>VariedX</th><th scope=col>VariedY</th><th scope=col>Disk [MB/s/node]</th></tr>\n",
       "\t<tr><th scope=col>&lt;fct&gt;</th><th scope=col>&lt;fct&gt;</th><th scope=col>&lt;dbl&gt;</th></tr>\n",
       "</thead>\n",
       "<tbody>\n",
       "\t<tr><td>0.100 TxMB/s</td><td>              </td><td>0.103258248</td></tr>\n",
       "\t<tr><td>0.150 TxMB/s</td><td>              </td><td>0.155044571</td></tr>\n",
       "\t<tr><td>0.200 TxMB/s</td><td>              </td><td>0.220081619</td></tr>\n",
       "\t<tr><td>0.250 TxMB/s</td><td>              </td><td>0.255490857</td></tr>\n",
       "\t<tr><td>0.150 TxMB/s</td><td>2000 Gstep/EB </td><td>0.155006324</td></tr>\n",
       "\t<tr><td>0.150 TxMB/s</td><td>1000 Gstep/EB </td><td>0.155043962</td></tr>\n",
       "\t<tr><td>0.150 TxMB/s</td><td>5000 Gstep/EB </td><td>0.154781086</td></tr>\n",
       "\t<tr><td>0.150 TxMB/s</td><td>10000 Gstep/EB</td><td>0.154859048</td></tr>\n",
       "\t<tr><td>0.150 TxMB/s</td><td>20000 Gstep/EB</td><td>0.154626838</td></tr>\n",
       "\t<tr><td>0.150 TxMB/s</td><td>50000 Gstep/EB</td><td>0.002035714</td></tr>\n",
       "\t<tr><td>0.050 TxMB/s</td><td>              </td><td>0.051590324</td></tr>\n",
       "\t<tr><td>0.004 TxMB/s</td><td>              </td><td>0.004053238</td></tr>\n",
       "</tbody>\n",
       "</table>\n"
      ],
      "text/latex": [
       "A data.table: 12 x 3\n",
       "\\begin{tabular}{lll}\n",
       " VariedX & VariedY & Disk {[}MB/s/node{]}\\\\\n",
       " <fct> & <fct> & <dbl>\\\\\n",
       "\\hline\n",
       "\t 0.100 TxMB/s &                & 0.103258248\\\\\n",
       "\t 0.150 TxMB/s &                & 0.155044571\\\\\n",
       "\t 0.200 TxMB/s &                & 0.220081619\\\\\n",
       "\t 0.250 TxMB/s &                & 0.255490857\\\\\n",
       "\t 0.150 TxMB/s & 2000 Gstep/EB  & 0.155006324\\\\\n",
       "\t 0.150 TxMB/s & 1000 Gstep/EB  & 0.155043962\\\\\n",
       "\t 0.150 TxMB/s & 5000 Gstep/EB  & 0.154781086\\\\\n",
       "\t 0.150 TxMB/s & 10000 Gstep/EB & 0.154859048\\\\\n",
       "\t 0.150 TxMB/s & 20000 Gstep/EB & 0.154626838\\\\\n",
       "\t 0.150 TxMB/s & 50000 Gstep/EB & 0.002035714\\\\\n",
       "\t 0.050 TxMB/s &                & 0.051590324\\\\\n",
       "\t 0.004 TxMB/s &                & 0.004053238\\\\\n",
       "\\end{tabular}\n"
      ],
      "text/markdown": [
       "\n",
       "A data.table: 12 x 3\n",
       "\n",
       "| VariedX &lt;fct&gt; | VariedY &lt;fct&gt; | Disk [MB/s/node] &lt;dbl&gt; |\n",
       "|---|---|---|\n",
       "| 0.100 TxMB/s | <!----> | 0.103258248 |\n",
       "| 0.150 TxMB/s | <!----> | 0.155044571 |\n",
       "| 0.200 TxMB/s | <!----> | 0.220081619 |\n",
       "| 0.250 TxMB/s | <!----> | 0.255490857 |\n",
       "| 0.150 TxMB/s | 2000 Gstep/EB  | 0.155006324 |\n",
       "| 0.150 TxMB/s | 1000 Gstep/EB  | 0.155043962 |\n",
       "| 0.150 TxMB/s | 5000 Gstep/EB  | 0.154781086 |\n",
       "| 0.150 TxMB/s | 10000 Gstep/EB | 0.154859048 |\n",
       "| 0.150 TxMB/s | 20000 Gstep/EB | 0.154626838 |\n",
       "| 0.150 TxMB/s | 50000 Gstep/EB | 0.002035714 |\n",
       "| 0.050 TxMB/s | <!----> | 0.051590324 |\n",
       "| 0.004 TxMB/s | <!----> | 0.004053238 |\n",
       "\n"
      ],
      "text/plain": [
       "   VariedX      VariedY        Disk [MB/s/node]\n",
       "1  0.100 TxMB/s                0.103258248     \n",
       "2  0.150 TxMB/s                0.155044571     \n",
       "3  0.200 TxMB/s                0.220081619     \n",
       "4  0.250 TxMB/s                0.255490857     \n",
       "5  0.150 TxMB/s 2000 Gstep/EB  0.155006324     \n",
       "6  0.150 TxMB/s 1000 Gstep/EB  0.155043962     \n",
       "7  0.150 TxMB/s 5000 Gstep/EB  0.154781086     \n",
       "8  0.150 TxMB/s 10000 Gstep/EB 0.154859048     \n",
       "9  0.150 TxMB/s 20000 Gstep/EB 0.154626838     \n",
       "10 0.150 TxMB/s 50000 Gstep/EB 0.002035714     \n",
       "11 0.050 TxMB/s                0.051590324     \n",
       "12 0.004 TxMB/s                0.004053238     "
      ]
     },
     "metadata": {},
     "output_type": "display_data"
    }
   ],
   "source": [
    "diskSummary <- lifecycle[\n",
    "    `Created [s]` >= txFirst + 30 &\n",
    "    `Created [s]` < txLast - 30 &\n",
    "    (!is.na(`To RB [s]`) | !is.na(`In RB [s]`)),\n",
    "    .(\n",
    "        `Disk [MB/s/node]` = sum(`Size [B]`) / sampleSize / 1e6 / (txLast - txFirst - 2 * 30)\n",
    "    ),\n",
    "    .(`VariedX`, `VariedY`)\n",
    "]\n",
    "diskSummary"
   ]
  },
  {
   "cell_type": "markdown",
   "id": "773a3a51-42ab-484a-b2ff-189e02ce9f28",
   "metadata": {},
   "source": [
    "#### Release memory"
   ]
  },
  {
   "cell_type": "code",
   "execution_count": 39,
   "id": "47d9923b-7280-4634-9ba8-f32589bde5b8",
   "metadata": {
    "tags": []
   },
   "outputs": [],
   "source": [
    "rm(lifecycle, outcomes, totals)"
   ]
  },
  {
   "cell_type": "code",
   "execution_count": 40,
   "id": "00edc3c4-170b-4ec1-91cc-a43d9b170531",
   "metadata": {
    "tags": []
   },
   "outputs": [
    {
     "data": {
      "text/html": [
       "<table class=\"dataframe\">\n",
       "<caption>A matrix: 2 x 6 of type dbl</caption>\n",
       "<thead>\n",
       "\t<tr><th></th><th scope=col>used</th><th scope=col>(Mb)</th><th scope=col>gc trigger</th><th scope=col>(Mb)</th><th scope=col>max used</th><th scope=col>(Mb)</th></tr>\n",
       "</thead>\n",
       "<tbody>\n",
       "\t<tr><th scope=row>Ncells</th><td> 991255</td><td>53.0</td><td> 2292389</td><td>122.5</td><td> 2292389</td><td>122.5</td></tr>\n",
       "\t<tr><th scope=row>Vcells</th><td>1907228</td><td>14.6</td><td>30192572</td><td>230.4</td><td>37740714</td><td>288.0</td></tr>\n",
       "</tbody>\n",
       "</table>\n"
      ],
      "text/latex": [
       "A matrix: 2 x 6 of type dbl\n",
       "\\begin{tabular}{r|llllll}\n",
       "  & used & (Mb) & gc trigger & (Mb) & max used & (Mb)\\\\\n",
       "\\hline\n",
       "\tNcells &  991255 & 53.0 &  2292389 & 122.5 &  2292389 & 122.5\\\\\n",
       "\tVcells & 1907228 & 14.6 & 30192572 & 230.4 & 37740714 & 288.0\\\\\n",
       "\\end{tabular}\n"
      ],
      "text/markdown": [
       "\n",
       "A matrix: 2 x 6 of type dbl\n",
       "\n",
       "| <!--/--> | used | (Mb) | gc trigger | (Mb) | max used | (Mb) |\n",
       "|---|---|---|---|---|---|---|\n",
       "| Ncells |  991255 | 53.0 |  2292389 | 122.5 |  2292389 | 122.5 |\n",
       "| Vcells | 1907228 | 14.6 | 30192572 | 230.4 | 37740714 | 288.0 |\n",
       "\n"
      ],
      "text/plain": [
       "       used    (Mb) gc trigger (Mb)  max used (Mb) \n",
       "Ncells  991255 53.0  2292389   122.5  2292389 122.5\n",
       "Vcells 1907228 14.6 30192572   230.4 37740714 288.0"
      ]
     },
     "metadata": {},
     "output_type": "display_data"
    }
   ],
   "source": [
    "gc()"
   ]
  },
  {
   "cell_type": "markdown",
   "id": "407ce1ea-b984-4fc5-8440-6f02905c6cdf",
   "metadata": {},
   "source": [
    "### Resource usage"
   ]
  },
  {
   "cell_type": "code",
   "execution_count": 41,
   "id": "e83759ec-0ab5-4b7a-8bd0-9fb965a5c0c5",
   "metadata": {
    "tags": []
   },
   "outputs": [
    {
     "name": "stdout",
     "output_type": "stream",
     "text": [
      "Loaded Rdata file: sampleSize = 1 \n"
     ]
    },
    {
     "data": {
      "text/plain": [
       "        Network       Bandwidth             CPU              Diffusion duration\n",
       " topology-v2:9000   10 Mb/s:9000   4 vCPU/node:9000   L_diff = 7 slots:9000    \n",
       "                                                                               \n",
       "                                                                               \n",
       "                                                                               \n",
       "                                                                               \n",
       "                                                                               \n",
       "                                                                               \n",
       "         Voting duration   Max EB size        Tx size            Throughput  \n",
       " L_vote = 4 slots:9000   12 MB/EB:9000   1500 B/Tx:9000   0.004 TxMB/s: 750  \n",
       "                                                          0.050 TxMB/s: 750  \n",
       "                                                          0.100 TxMB/s: 750  \n",
       "                                                          0.150 TxMB/s:5250  \n",
       "                                                          0.200 TxMB/s: 750  \n",
       "                                                          0.250 TxMB/s: 750  \n",
       "                                                          0.300 TxMB/s:   0  \n",
       "            Plutus      Tx start [s]  Tx stop [s]   Sim stop [s] \n",
       "               :4500   Min.   :60    Min.   :960   Min.   :1500  \n",
       " 1000 Gstep/EB : 750   1st Qu.:60    1st Qu.:960   1st Qu.:1500  \n",
       " 10000 Gstep/EB: 750   Median :60    Median :960   Median :1500  \n",
       " 2000 Gstep/EB : 750   Mean   :60    Mean   :960   Mean   :1500  \n",
       " 20000 Gstep/EB: 750   3rd Qu.:60    3rd Qu.:960   3rd Qu.:1500  \n",
       " 5000 Gstep/EB : 750   Max.   :60    Max.   :960   Max.   :1500  \n",
       " 50000 Gstep/EB: 750                                             \n",
       "       Node        Egress [B]           Disk [B]      Total CPU [s]    \n",
       " node-0  :  12   Min.   :0.000e+00   Min.   :     0   Min.   :  19.11  \n",
       " node-1  :  12   1st Qu.:6.351e+06   1st Qu.:     0   1st Qu.:  86.22  \n",
       " node-10 :  12   Median :7.727e+07   Median :     0   Median : 136.55  \n",
       " node-100:  12   Mean   :1.290e+08   Mean   : 15464   Mean   : 391.11  \n",
       " node-101:  12   3rd Qu.:1.771e+08   3rd Qu.:     0   3rd Qu.: 331.75  \n",
       " node-102:  12   Max.   :1.484e+09   Max.   :694528   Max.   :2259.03  \n",
       " (Other) :8928                                                         \n",
       " Maximum CPU [s/s]\n",
       " Min.   :0.3644   \n",
       " 1st Qu.:0.6394   \n",
       " Median :0.7572   \n",
       " Mean   :1.2026   \n",
       " 3rd Qu.:1.1691   \n",
       " Max.   :5.0843   \n",
       "                  "
      ]
     },
     "metadata": {},
     "output_type": "display_data"
    }
   ],
   "source": [
    "if (file.exists(\"results/resources.Rdata\")) {\n",
    "    load(file=\"results/resources.Rdata\")\n",
    "    cat(paste(\"Loaded Rdata file: sampleSize =\", sampleSize, \"\\n\"))\n",
    "} else {\n",
    "    resources <- fread(\"results/resources.csv.gz\", stringsAsFactors=TRUE)\n",
    "    sampleSize <- 1\n",
    "    save(resources, file=\"results/resources.Rdata\")\n",
    "    cat(paste(\"Saved Rdata file: sampleSize =\", sampleSize, \"\\n\"))\n",
    "}\n",
    "resources <- resources[`Throughput` != \"0.300 TxMB/s\"]\n",
    "resources %>% summary\n",
    "resources[, `:=`(\n",
    "    `VariedX`=factor(`Throughput`),\n",
    "    `VariedY`=factor(`Plutus`, levels=c(\"\", \"1000 Gstep/EB\", \"2000 Gstep/EB\", \"5000 Gstep/EB\", \"10000 Gstep/EB\", \"20000 Gstep/EB\", \"50000 Gstep/EB\"))\n",
    ")]"
   ]
  },
  {
   "cell_type": "code",
   "execution_count": 42,
   "id": "cc0b6c67-8aa3-4b47-b583-e5194c735bc7",
   "metadata": {
    "tags": []
   },
   "outputs": [
    {
     "data": {
      "text/html": [
       "<table class=\"dataframe\">\n",
       "<caption>A data.table: 12 x 3</caption>\n",
       "<thead>\n",
       "\t<tr><th scope=col>VariedX</th><th scope=col>VariedY</th><th scope=col>Nodal egress [Mb/s]</th></tr>\n",
       "\t<tr><th scope=col>&lt;fct&gt;</th><th scope=col>&lt;fct&gt;</th><th scope=col>&lt;dbl&gt;</th></tr>\n",
       "</thead>\n",
       "<tbody>\n",
       "\t<tr><td>0.100 TxMB/s</td><td>              </td><td>0.49793320</td></tr>\n",
       "\t<tr><td>0.150 TxMB/s</td><td>              </td><td>0.73699334</td></tr>\n",
       "\t<tr><td>0.200 TxMB/s</td><td>              </td><td>1.04912771</td></tr>\n",
       "\t<tr><td>0.250 TxMB/s</td><td>              </td><td>1.22775769</td></tr>\n",
       "\t<tr><td>0.150 TxMB/s</td><td>2000 Gstep/EB </td><td>0.73698530</td></tr>\n",
       "\t<tr><td>0.150 TxMB/s</td><td>1000 Gstep/EB </td><td>0.73700375</td></tr>\n",
       "\t<tr><td>0.150 TxMB/s</td><td>5000 Gstep/EB </td><td>0.73741726</td></tr>\n",
       "\t<tr><td>0.150 TxMB/s</td><td>10000 Gstep/EB</td><td>0.73765307</td></tr>\n",
       "\t<tr><td>0.150 TxMB/s</td><td>20000 Gstep/EB</td><td>0.73668879</td></tr>\n",
       "\t<tr><td>0.150 TxMB/s</td><td>50000 Gstep/EB</td><td>0.75903494</td></tr>\n",
       "\t<tr><td>0.050 TxMB/s</td><td>              </td><td>0.25846399</td></tr>\n",
       "\t<tr><td>0.004 TxMB/s</td><td>              </td><td>0.03876313</td></tr>\n",
       "</tbody>\n",
       "</table>\n"
      ],
      "text/latex": [
       "A data.table: 12 x 3\n",
       "\\begin{tabular}{lll}\n",
       " VariedX & VariedY & Nodal egress {[}Mb/s{]}\\\\\n",
       " <fct> & <fct> & <dbl>\\\\\n",
       "\\hline\n",
       "\t 0.100 TxMB/s &                & 0.49793320\\\\\n",
       "\t 0.150 TxMB/s &                & 0.73699334\\\\\n",
       "\t 0.200 TxMB/s &                & 1.04912771\\\\\n",
       "\t 0.250 TxMB/s &                & 1.22775769\\\\\n",
       "\t 0.150 TxMB/s & 2000 Gstep/EB  & 0.73698530\\\\\n",
       "\t 0.150 TxMB/s & 1000 Gstep/EB  & 0.73700375\\\\\n",
       "\t 0.150 TxMB/s & 5000 Gstep/EB  & 0.73741726\\\\\n",
       "\t 0.150 TxMB/s & 10000 Gstep/EB & 0.73765307\\\\\n",
       "\t 0.150 TxMB/s & 20000 Gstep/EB & 0.73668879\\\\\n",
       "\t 0.150 TxMB/s & 50000 Gstep/EB & 0.75903494\\\\\n",
       "\t 0.050 TxMB/s &                & 0.25846399\\\\\n",
       "\t 0.004 TxMB/s &                & 0.03876313\\\\\n",
       "\\end{tabular}\n"
      ],
      "text/markdown": [
       "\n",
       "A data.table: 12 x 3\n",
       "\n",
       "| VariedX &lt;fct&gt; | VariedY &lt;fct&gt; | Nodal egress [Mb/s] &lt;dbl&gt; |\n",
       "|---|---|---|\n",
       "| 0.100 TxMB/s | <!----> | 0.49793320 |\n",
       "| 0.150 TxMB/s | <!----> | 0.73699334 |\n",
       "| 0.200 TxMB/s | <!----> | 1.04912771 |\n",
       "| 0.250 TxMB/s | <!----> | 1.22775769 |\n",
       "| 0.150 TxMB/s | 2000 Gstep/EB  | 0.73698530 |\n",
       "| 0.150 TxMB/s | 1000 Gstep/EB  | 0.73700375 |\n",
       "| 0.150 TxMB/s | 5000 Gstep/EB  | 0.73741726 |\n",
       "| 0.150 TxMB/s | 10000 Gstep/EB | 0.73765307 |\n",
       "| 0.150 TxMB/s | 20000 Gstep/EB | 0.73668879 |\n",
       "| 0.150 TxMB/s | 50000 Gstep/EB | 0.75903494 |\n",
       "| 0.050 TxMB/s | <!----> | 0.25846399 |\n",
       "| 0.004 TxMB/s | <!----> | 0.03876313 |\n",
       "\n"
      ],
      "text/plain": [
       "   VariedX      VariedY        Nodal egress [Mb/s]\n",
       "1  0.100 TxMB/s                0.49793320         \n",
       "2  0.150 TxMB/s                0.73699334         \n",
       "3  0.200 TxMB/s                1.04912771         \n",
       "4  0.250 TxMB/s                1.22775769         \n",
       "5  0.150 TxMB/s 2000 Gstep/EB  0.73698530         \n",
       "6  0.150 TxMB/s 1000 Gstep/EB  0.73700375         \n",
       "7  0.150 TxMB/s 5000 Gstep/EB  0.73741726         \n",
       "8  0.150 TxMB/s 10000 Gstep/EB 0.73765307         \n",
       "9  0.150 TxMB/s 20000 Gstep/EB 0.73668879         \n",
       "10 0.150 TxMB/s 50000 Gstep/EB 0.75903494         \n",
       "11 0.050 TxMB/s                0.25846399         \n",
       "12 0.004 TxMB/s                0.03876313         "
      ]
     },
     "metadata": {},
     "output_type": "display_data"
    }
   ],
   "source": [
    "resources[, .(`VariedX`, `VariedY`, `Node`, `Nodal egress [Mb/s]`=8*`Egress [B]`/simFinish/1e6)][\n",
    "    ,\n",
    "    .(\n",
    "        `Nodal egress [Mb/s]`=mean(`Nodal egress [Mb/s]`)\n",
    "    ),\n",
    "    .(`VariedX`, `VariedY`)\n",
    "]"
   ]
  },
  {
   "cell_type": "code",
   "execution_count": 43,
   "id": "bd364b0a-20ca-4e21-8182-bd3dad46ec41",
   "metadata": {
    "tags": []
   },
   "outputs": [
    {
     "data": {
      "image/png": "[encoded data removed]",
      "text/plain": [
       "plot without title"
      ]
     },
     "metadata": {
      "image/png": {
       "height": 420,
       "width": 420
      }
     },
     "output_type": "display_data"
    }
   ],
   "source": [
    "ggplot(\n",
    "        resources[`VariedY` == yConstraint, .(`VariedX`, `VariedY`, `Node`, `Nodal egress [Mb/s]`=8*`Egress [B]`/simFinish/1e6)], \n",
    "    aes(x=\"\", y=`Nodal egress [Mb/s]`)\n",
    ") +\n",
    "    geom_violin() +\n",
    "    facet_varied_x(wide=FALSE) +\n",
    "    xlab(\"\")"
   ]
  },
  {
   "cell_type": "code",
   "execution_count": 44,
   "id": "038ca997-993e-4031-ba62-25b80f53b349",
   "metadata": {
    "tags": []
   },
   "outputs": [
    {
     "data": {
      "text/html": [
       "<table class=\"dataframe\">\n",
       "<caption>A data.table: 12 x 3</caption>\n",
       "<thead>\n",
       "\t<tr><th scope=col>VariedX</th><th scope=col>VariedY</th><th scope=col>1-Second peak CPU [vCPU⋅s/s]</th></tr>\n",
       "\t<tr><th scope=col>&lt;fct&gt;</th><th scope=col>&lt;fct&gt;</th><th scope=col>&lt;dbl&gt;</th></tr>\n",
       "</thead>\n",
       "<tbody>\n",
       "\t<tr><td>0.100 TxMB/s</td><td>              </td><td>0.6336216</td></tr>\n",
       "\t<tr><td>0.150 TxMB/s</td><td>              </td><td>0.6894194</td></tr>\n",
       "\t<tr><td>0.200 TxMB/s</td><td>              </td><td>0.8404540</td></tr>\n",
       "\t<tr><td>0.250 TxMB/s</td><td>              </td><td>0.8734762</td></tr>\n",
       "\t<tr><td>0.150 TxMB/s</td><td>2000 Gstep/EB </td><td>0.7579537</td></tr>\n",
       "\t<tr><td>0.150 TxMB/s</td><td>1000 Gstep/EB </td><td>0.7061682</td></tr>\n",
       "\t<tr><td>0.150 TxMB/s</td><td>5000 Gstep/EB </td><td>0.9746213</td></tr>\n",
       "\t<tr><td>0.150 TxMB/s</td><td>10000 Gstep/EB</td><td>1.3512417</td></tr>\n",
       "\t<tr><td>0.150 TxMB/s</td><td>20000 Gstep/EB</td><td>2.1615632</td></tr>\n",
       "\t<tr><td>0.150 TxMB/s</td><td>50000 Gstep/EB</td><td>4.2675117</td></tr>\n",
       "\t<tr><td>0.050 TxMB/s</td><td>              </td><td>0.5937769</td></tr>\n",
       "\t<tr><td>0.004 TxMB/s</td><td>              </td><td>0.5817196</td></tr>\n",
       "</tbody>\n",
       "</table>\n"
      ],
      "text/latex": [
       "A data.table: 12 x 3\n",
       "\\begin{tabular}{lll}\n",
       " VariedX & VariedY & 1-Second peak CPU {[}vCPU⋅s/s{]}\\\\\n",
       " <fct> & <fct> & <dbl>\\\\\n",
       "\\hline\n",
       "\t 0.100 TxMB/s &                & 0.6336216\\\\\n",
       "\t 0.150 TxMB/s &                & 0.6894194\\\\\n",
       "\t 0.200 TxMB/s &                & 0.8404540\\\\\n",
       "\t 0.250 TxMB/s &                & 0.8734762\\\\\n",
       "\t 0.150 TxMB/s & 2000 Gstep/EB  & 0.7579537\\\\\n",
       "\t 0.150 TxMB/s & 1000 Gstep/EB  & 0.7061682\\\\\n",
       "\t 0.150 TxMB/s & 5000 Gstep/EB  & 0.9746213\\\\\n",
       "\t 0.150 TxMB/s & 10000 Gstep/EB & 1.3512417\\\\\n",
       "\t 0.150 TxMB/s & 20000 Gstep/EB & 2.1615632\\\\\n",
       "\t 0.150 TxMB/s & 50000 Gstep/EB & 4.2675117\\\\\n",
       "\t 0.050 TxMB/s &                & 0.5937769\\\\\n",
       "\t 0.004 TxMB/s &                & 0.5817196\\\\\n",
       "\\end{tabular}\n"
      ],
      "text/markdown": [
       "\n",
       "A data.table: 12 x 3\n",
       "\n",
       "| VariedX &lt;fct&gt; | VariedY &lt;fct&gt; | 1-Second peak CPU [vCPU⋅s/s] &lt;dbl&gt; |\n",
       "|---|---|---|\n",
       "| 0.100 TxMB/s | <!----> | 0.6336216 |\n",
       "| 0.150 TxMB/s | <!----> | 0.6894194 |\n",
       "| 0.200 TxMB/s | <!----> | 0.8404540 |\n",
       "| 0.250 TxMB/s | <!----> | 0.8734762 |\n",
       "| 0.150 TxMB/s | 2000 Gstep/EB  | 0.7579537 |\n",
       "| 0.150 TxMB/s | 1000 Gstep/EB  | 0.7061682 |\n",
       "| 0.150 TxMB/s | 5000 Gstep/EB  | 0.9746213 |\n",
       "| 0.150 TxMB/s | 10000 Gstep/EB | 1.3512417 |\n",
       "| 0.150 TxMB/s | 20000 Gstep/EB | 2.1615632 |\n",
       "| 0.150 TxMB/s | 50000 Gstep/EB | 4.2675117 |\n",
       "| 0.050 TxMB/s | <!----> | 0.5937769 |\n",
       "| 0.004 TxMB/s | <!----> | 0.5817196 |\n",
       "\n"
      ],
      "text/plain": [
       "   VariedX      VariedY        1-Second peak CPU [vCPU⋅s/s]\n",
       "1  0.100 TxMB/s                0.6336216                   \n",
       "2  0.150 TxMB/s                0.6894194                   \n",
       "3  0.200 TxMB/s                0.8404540                   \n",
       "4  0.250 TxMB/s                0.8734762                   \n",
       "5  0.150 TxMB/s 2000 Gstep/EB  0.7579537                   \n",
       "6  0.150 TxMB/s 1000 Gstep/EB  0.7061682                   \n",
       "7  0.150 TxMB/s 5000 Gstep/EB  0.9746213                   \n",
       "8  0.150 TxMB/s 10000 Gstep/EB 1.3512417                   \n",
       "9  0.150 TxMB/s 20000 Gstep/EB 2.1615632                   \n",
       "10 0.150 TxMB/s 50000 Gstep/EB 4.2675117                   \n",
       "11 0.050 TxMB/s                0.5937769                   \n",
       "12 0.004 TxMB/s                0.5817196                   "
      ]
     },
     "metadata": {},
     "output_type": "display_data"
    }
   ],
   "source": [
    "resources[, .(`VariedX`, `VariedY`, `Node`, `1-Second peak CPU [vCPU⋅s/s]`=`Maximum CPU [s/s]`)][\n",
    "    ,\n",
    "    .(\n",
    "        `1-Second peak CPU [vCPU⋅s/s]`=mean(`1-Second peak CPU [vCPU⋅s/s]`)\n",
    "    ),\n",
    "    .(`VariedX`, `VariedY`)\n",
    "]"
   ]
  },
  {
   "cell_type": "code",
   "execution_count": 45,
   "id": "af07b739-6a24-4794-8b81-be607edc13d2",
   "metadata": {
    "tags": []
   },
   "outputs": [
    {
     "data": {
      "image/png": "[encoded data removed]",
      "text/plain": [
       "plot without title"
      ]
     },
     "metadata": {
      "image/png": {
       "height": 420,
       "width": 420
      }
     },
     "output_type": "display_data"
    }
   ],
   "source": [
    "ggplot(\n",
    "        resources[`VariedY` == yConstraint, .(`VariedX`, `VariedY`, `Node`, `1-Second peak CPU [vCPU⋅s/s]`=`Maximum CPU [s/s]`)], \n",
    "    aes(x=\"\", y=`1-Second peak CPU [vCPU⋅s/s]`)\n",
    ") +\n",
    "    geom_boxplot() +\n",
    "    ylim(0, NA) +\n",
    "    facet_varied_x(wide=FALSE) +\n",
    "    xlab(\"\")"
   ]
  },
  {
   "cell_type": "code",
   "execution_count": 46,
   "id": "4e6bf086-3d52-40a1-a440-bfd7981caf7f",
   "metadata": {
    "tags": []
   },
   "outputs": [
    {
     "data": {
      "image/png": "[encoded data removed]",
      "text/plain": [
       "plot without title"
      ]
     },
     "metadata": {
      "image/png": {
       "height": 420,
       "width": 420
      }
     },
     "output_type": "display_data"
    }
   ],
   "source": [
    "ggplot(\n",
    "        resources[`VariedY` %in% c(\"10000 Gstep/EB\", \"20000 Gstep/EB\", \"50000 Gstep/EB\"), .(`VariedX`, `VariedY`, `Node`, `1-Second peak CPU [vCPU⋅s/s]`=`Maximum CPU [s/s]`)], \n",
    "    aes(x=\"\", y=`1-Second peak CPU [vCPU⋅s/s]`)\n",
    ") +\n",
    "    geom_boxplot() +\n",
    "    ylim(0, NA) +\n",
    "    facet_varied(wide=TRUE) +\n",
    "    xlab(\"\")"
   ]
  },
  {
   "cell_type": "code",
   "execution_count": 47,
   "id": "de6c017b-0969-4fc5-83db-829005493d0b",
   "metadata": {
    "tags": []
   },
   "outputs": [
    {
     "data": {
      "image/png": "[encoded data removed]",
      "text/plain": [
       "plot without title"
      ]
     },
     "metadata": {
      "image/png": {
       "height": 420,
       "width": 420
      }
     },
     "output_type": "display_data"
    }
   ],
   "source": [
    "ggplot(\n",
    "        resources[`VariedY` == yConstraint, .(`VariedX`, `VariedY`, `Node`, `Mean CPU [vCPU⋅s/s]`=`Total CPU [s]`/simFinish)], \n",
    "    aes(x=\"\", y=`Mean CPU [vCPU⋅s/s]`)\n",
    ") +\n",
    "    geom_boxplot() +\n",
    "    ylim(0, NA) +\n",
    "    facet_varied_x(wide=FALSE) +\n",
    "    xlab(\"\")"
   ]
  },
  {
   "cell_type": "markdown",
   "id": "47949581-0655-49a5-9f3b-6ef154e7d2db",
   "metadata": {},
   "source": [
    "#### Release memory"
   ]
  },
  {
   "cell_type": "code",
   "execution_count": 48,
   "id": "bca64570-d004-4ac6-bb29-91a865a4e957",
   "metadata": {
    "tags": []
   },
   "outputs": [],
   "source": [
    "rm(resources)"
   ]
  },
  {
   "cell_type": "code",
   "execution_count": 49,
   "id": "c45f56ad-a3ce-41f8-84e3-4dc18f45637b",
   "metadata": {
    "tags": []
   },
   "outputs": [
    {
     "data": {
      "text/html": [
       "<table class=\"dataframe\">\n",
       "<caption>A matrix: 2 x 6 of type dbl</caption>\n",
       "<thead>\n",
       "\t<tr><th></th><th scope=col>used</th><th scope=col>(Mb)</th><th scope=col>gc trigger</th><th scope=col>(Mb)</th><th scope=col>max used</th><th scope=col>(Mb)</th></tr>\n",
       "</thead>\n",
       "<tbody>\n",
       "\t<tr><th scope=row>Ncells</th><td>1020658</td><td>54.6</td><td> 2292389</td><td>122.5</td><td> 2292389</td><td>122.5</td></tr>\n",
       "\t<tr><th scope=row>Vcells</th><td>1947447</td><td>14.9</td><td>24154058</td><td>184.3</td><td>37740714</td><td>288.0</td></tr>\n",
       "</tbody>\n",
       "</table>\n"
      ],
      "text/latex": [
       "A matrix: 2 x 6 of type dbl\n",
       "\\begin{tabular}{r|llllll}\n",
       "  & used & (Mb) & gc trigger & (Mb) & max used & (Mb)\\\\\n",
       "\\hline\n",
       "\tNcells & 1020658 & 54.6 &  2292389 & 122.5 &  2292389 & 122.5\\\\\n",
       "\tVcells & 1947447 & 14.9 & 24154058 & 184.3 & 37740714 & 288.0\\\\\n",
       "\\end{tabular}\n"
      ],
      "text/markdown": [
       "\n",
       "A matrix: 2 x 6 of type dbl\n",
       "\n",
       "| <!--/--> | used | (Mb) | gc trigger | (Mb) | max used | (Mb) |\n",
       "|---|---|---|---|---|---|---|\n",
       "| Ncells | 1020658 | 54.6 |  2292389 | 122.5 |  2292389 | 122.5 |\n",
       "| Vcells | 1947447 | 14.9 | 24154058 | 184.3 | 37740714 | 288.0 |\n",
       "\n"
      ],
      "text/plain": [
       "       used    (Mb) gc trigger (Mb)  max used (Mb) \n",
       "Ncells 1020658 54.6  2292389   122.5  2292389 122.5\n",
       "Vcells 1947447 14.9 24154058   184.3 37740714 288.0"
      ]
     },
     "metadata": {},
     "output_type": "display_data"
    }
   ],
   "source": [
    "gc()"
   ]
  },
  {
   "cell_type": "markdown",
   "id": "150a80d3-3029-4a84-a215-002012d0d512",
   "metadata": {},
   "source": [
    "### Receipt of messages"
   ]
  },
  {
   "cell_type": "markdown",
   "id": "e4138490-c36f-4d16-adce-4554ca20e676",
   "metadata": {},
   "source": [
    "#### Read results"
   ]
  },
  {
   "cell_type": "code",
   "execution_count": 50,
   "id": "fb6267b0-7a8f-4ad7-bb10-357bb9dd3e03",
   "metadata": {
    "tags": []
   },
   "outputs": [
    {
     "name": "stdout",
     "output_type": "stream",
     "text": [
      "Loaded Rdata file: sampleSize = 0.25 \n"
     ]
    }
   ],
   "source": [
    "if (file.exists(\"results/receipts.Rdata\")) {\n",
    "    load(\"results/receipts.Rdata\")\n",
    "    cat(paste(\"Loaded Rdata file: sampleSize =\", sampleSize, \"\\n\"))\n",
    "} else {\n",
    "    receipts <- fread(\"results/receipts.csv.gz\", stringsAsFactors=TRUE)\n",
    "    sampleSize <- 1\n",
    "    save(receipts, file=\"results/receipts.Rdata\")\n",
    "    cat(paste(\"Saved Rdata file: sampleSize =\", sampleSize, \"\\n\"))\n",
    "}\n",
    "setnames(receipts, old=\"Kind\", new=\"Message\")\n",
    "receipts <- receipts[`Throughput` != \"0.300 TxMB/s\"]\n",
    "receipts %>% summary\n",
    "receipts[, `:=`(\n",
    "    `VariedX`=factor(`Throughput`),\n",
    "    `VariedY`=factor(`Plutus`, levels=c(\"\", \"100 Gstep/EB\", \"200 Gstep/EB\", \"500 Gstep/EB\", \"1000 Gstep/EB\", \"2000 Gstep/EB\"))\n",
    ")]"
   ]
  },
  {
   "cell_type": "code",
   "execution_count": null,
   "id": "f26dc9a0-828f-45ec-84f9-6443dc8f5aa8",
   "metadata": {
    "tags": []
   },
   "outputs": [],
   "source": [
    "kinds <- receipts[, unique(`Message`) %>% sort]\n",
    "kinds"
   ]
  },
  {
   "cell_type": "markdown",
   "id": "53dc780b-3a2b-4910-abba-8d84e2d01532",
   "metadata": {},
   "source": [
    "#### Arrival histograms"
   ]
  },
  {
   "cell_type": "markdown",
   "id": "c5c1b28c-9146-4940-89bb-27b6355b2c1f",
   "metadata": {},
   "source": [
    "##### Compare the distributions of elapsed times"
   ]
  },
  {
   "cell_type": "code",
   "execution_count": null,
   "id": "b4684b8f-6db0-4dad-895c-457e19c51c68",
   "metadata": {
    "tags": []
   },
   "outputs": [],
   "source": [
    "arrivalDelayHistogram <- function(rs, kind, title=\"\", scales=\"fixed\", outfiles=c(), width=16, height=8, dpi=150) {\n",
    "    g <- ggplot(\n",
    "            rs[, .(`VariedX`, `VariedY`, `Elapsed [s]`, `Minute created`=factor(floor(`Generated [s]`/60)))],\n",
    "        aes(x=`Elapsed [s]`, fill=`Minute created`)\n",
    "    ) +\n",
    "        geom_histogram(binwidth=0.1) +\n",
    "        facet_varied_x(wide=TRUE, scales=scales) +\n",
    "        xlab(\"Time from generation to receipt at node [s]\") +\n",
    "        ylab(paste(\"Number of\", kind, \" received\")) +\n",
    "        theme(axis.text.y = element_blank(), axis.ticks.y = element_blank())\n",
    "    for (outfile in outfiles)\n",
    "        ggsave(outfile, units=\"in\", width=width, height=height, dpi=dpi)\n",
    "    g\n",
    "}"
   ]
  },
  {
   "cell_type": "code",
   "execution_count": null,
   "id": "7457b10a-93d7-407f-9352-1f753cf54494",
   "metadata": {
    "tags": []
   },
   "outputs": [],
   "source": [
    "for (k in kinds)\n",
    "    arrivalDelayHistogram(\n",
    "        receipts[`VariedY` == yConstraint & `Message` == k],\n",
    "        paste0(k, \"s\"),\n",
    "        paste(\"Arrival delay for\", k),\n",
    "        scales=\"fixed\",\n",
    "        outfiles=c(paste0(\"plots/elapsed-\", k, \".svg\"), paste0(\"plots/elapsed-\", k, \".png\"))\n",
    "    ) %>% print"
   ]
  },
  {
   "cell_type": "markdown",
   "id": "4c20c8c5-bc7a-48e5-81cc-b552867469ff",
   "metadata": {},
   "source": [
    "#### Bandwidth usage"
   ]
  },
  {
   "cell_type": "markdown",
   "id": "c62b1ae5-aa58-40b0-91ff-640a586160c4",
   "metadata": {},
   "source": [
    "##### Total network bandwidth"
   ]
  },
  {
   "cell_type": "code",
   "execution_count": null,
   "id": "6a7ee9fa-d782-431d-a161-2f0767cc8e71",
   "metadata": {
    "tags": []
   },
   "outputs": [],
   "source": [
    "totalBandwidthPlot <- function(rs, title=\"\", scales=\"fixed\", outfiles=c(), width=16, height=8, dpi=150) {\n",
    "    g <- ggplot(\n",
    "            rs[,\n",
    "                .(`Size [Gb]`=8*sum(`Size [B]`, rm.na=TRUE)/1e9/sampleSize),\n",
    "                by=.(`VariedX`, `VariedY`, `Slot`=floor(`Received [s]`), `Message`)\n",
    "            ],\n",
    "        aes(x=`Slot`, y=`Size [Gb]`, fill=`Message`)\n",
    "    ) +\n",
    "        geom_area() +\n",
    "        facet_varied_x(wide=TRUE, scales=scales) +\n",
    "        xlab(\"Slot [s]\") +\n",
    "        ylab(\"Total network ingress [Gb/s]\")\n",
    "    for (outfile in outfiles)\n",
    "        ggsave(outfile, units=\"in\", width=width, height=height, dpi=dpi)\n",
    "    g\n",
    "}"
   ]
  },
  {
   "cell_type": "code",
   "execution_count": null,
   "id": "41cbb3b6-73cb-4b84-8685-b9eaa61992dc",
   "metadata": {
    "tags": []
   },
   "outputs": [],
   "source": [
    "totalBandwidthPlot(\n",
    "    receipts[`VariedY` == yConstraint],\n",
    "    \"Total bandwidth\",\n",
    "    scales=\"fixed\"\n",
    ")"
   ]
  },
  {
   "cell_type": "markdown",
   "id": "d9970168-bf24-4aba-bf7b-dae5bca2feb3",
   "metadata": {},
   "source": [
    "##### Bandwidth usage per node"
   ]
  },
  {
   "cell_type": "code",
   "execution_count": null,
   "id": "f56bfd5b-9008-4ef9-ac86-de5be8e1dcdc",
   "metadata": {
    "tags": []
   },
   "outputs": [],
   "source": [
    "nodeCount <- receipts[, length(unique(`Recipient`))]\n",
    "nodeCount"
   ]
  },
  {
   "cell_type": "code",
   "execution_count": null,
   "id": "217e3844-0f98-47f2-a259-1594157c209b",
   "metadata": {
    "tags": []
   },
   "outputs": [],
   "source": [
    "meanNodalIngressPlot <- function(rs, title=\"\", scales=\"fixed\", outfiles=c(), width=16, height=8, dpi=150) {\n",
    "    g <- ggplot(\n",
    "            rs[,\n",
    "                .(`Size [Mb/node]`=8*sum(`Size [B]`)/1e6/nodeCount/sampleSize),\n",
    "                by=.(`VariedX`, `VariedY`, `Slot`=floor(`Received [s]`), `Message`)\n",
    "            ],\n",
    "        aes(x=`Slot`, y=`Size [Mb/node]`, fill=`Message`)\n",
    "    ) +\n",
    "        geom_area() +\n",
    "        facet_varied_x(wide=TRUE, scales=scales) +\n",
    "        xlab(\"Slot [s]\") +\n",
    "        ylab(\"Mean network ingress among nodes [Mb/s]\")\n",
    "    for (outfile in outfiles)\n",
    "        ggsave(outfile, units=\"in\", width=width, height=height, dpi=dpi)\n",
    "    g\n",
    "}"
   ]
  },
  {
   "cell_type": "code",
   "execution_count": null,
   "id": "523cd963-0b7e-4557-ad1f-f323d4fb5f31",
   "metadata": {
    "tags": []
   },
   "outputs": [],
   "source": [
    "meanNodalIngressPlot(\n",
    "    receipts[`VariedY` == yConstraint], \n",
    "    \"Mean nodal ingress\",\n",
    "    scales=\"fixed\",\n",
    "    outfiles=c(paste0(\"plots/ingress-average-area.svg\"), paste0(\"plots/ingress-average-area.png\"))\n",
    ")"
   ]
  },
  {
   "cell_type": "code",
   "execution_count": null,
   "id": "2184aef9-4218-42d5-a768-9f5e6aa05654",
   "metadata": {
    "tags": []
   },
   "outputs": [],
   "source": [
    "peakNodalIngressPlot <- function(rs, title=\"\", scales=\"fixed\", outfiles=c(), width=16, height=8, dpi=150) {\n",
    "    g <- ggplot(\n",
    "            rs[,\n",
    "                .(`Size [Mb]`=8*sum(`Size [B]`, rm.na=TRUE)/1e6/sampleSize),\n",
    "                by=.(`VariedX`, `VariedY`, `Slot`=floor(`Received [s]`), `Message`, `Recipient`)\n",
    "            ][,\n",
    "                .(`Size [Mb]`=max(`Size [Mb]`)),\n",
    "                by=.(`VariedX`, `VariedY`, `Slot`, `Message`)\n",
    "            ],\n",
    "        aes(x=`Slot`, y=`Size [Mb]`, color=`Message`)\n",
    "    ) +\n",
    "        geom_point(size=0.5) +\n",
    "        facet_varied_x(scales=scales) +\n",
    "        xlab(\"Slot [s]\") +\n",
    "        ylab(\"Maximum network ingress among nodes [Mb/s]\")\n",
    "    for (outfile in outfiles)\n",
    "        ggsave(outfile, units=\"in\", width=width, height=height, dpi=dpi)\n",
    "    g\n",
    "}"
   ]
  },
  {
   "cell_type": "code",
   "execution_count": null,
   "id": "3d3b6b61-11bb-4bd5-bb9e-2d9e4fb0949c",
   "metadata": {
    "tags": []
   },
   "outputs": [],
   "source": [
    "peakNodalIngressPlot(\n",
    "    receipts[`VariedY` == yConstraint], \n",
    "    \"Peak nodal ingress\"\n",
    ")"
   ]
  },
  {
   "cell_type": "markdown",
   "id": "ded93dc0-87fe-4046-b9b0-6af8e5147788",
   "metadata": {},
   "source": [
    "#### Summary for cost estimates"
   ]
  },
  {
   "cell_type": "code",
   "execution_count": null,
   "id": "455ca0a7-8675-473f-b6db-5570d10fc073",
   "metadata": {
    "tags": []
   },
   "outputs": [],
   "source": [
    "egressSummary <- receipts[\n",
    "    `VariedY` == yConstraint &\n",
    "    `Generated [s]` >= txFirst + 30 &\n",
    "    `Generated [s]` < txLast - 30,\n",
    "    .(\n",
    "        `Egress [MB/s/node]` = sum(`Size [B]`, rm.na=TRUE) / sampleSize / 1e6 / (txLast - txFirst - 2 * 30) / nodeCount\n",
    "    ),\n",
    "    .(`VariedX`, `VariedY`)\n",
    "]\n",
    "egressSummary"
   ]
  },
  {
   "cell_type": "markdown",
   "id": "4ce920bc-a21a-44b8-b74f-29370edcd28b",
   "metadata": {},
   "source": [
    "#### Release memory"
   ]
  },
  {
   "cell_type": "code",
   "execution_count": null,
   "id": "a0cbb25a-88cf-43b5-a68b-e6ef1262dce1",
   "metadata": {
    "tags": []
   },
   "outputs": [],
   "source": [
    "rm(receipts)"
   ]
  },
  {
   "cell_type": "code",
   "execution_count": null,
   "id": "793b6e31-b429-46c3-8081-04f518190b4b",
   "metadata": {
    "tags": []
   },
   "outputs": [],
   "source": [
    "gc()"
   ]
  },
  {
   "cell_type": "markdown",
   "id": "11398578-b1c9-4e63-9d1a-fa3175ba090b",
   "metadata": {
    "tags": []
   },
   "source": [
    "### CPU usage"
   ]
  },
  {
   "cell_type": "markdown",
   "id": "7e2e0ea5-c590-410e-bc5f-02a612e81e33",
   "metadata": {},
   "source": [
    "#### Read results"
   ]
  },
  {
   "cell_type": "code",
   "execution_count": null,
   "id": "dbb4f0b4-cc41-4c05-9113-d9b052d531fd",
   "metadata": {
    "tags": []
   },
   "outputs": [],
   "source": [
    "if (file.exists(\"results/cpus.Rdata\")) {\n",
    "    load(file=\"results/cpus.Rdata\")\n",
    "    cat(paste(\"Loaded Rdata file: sampleSize =\", sampleSize, \"\\n\"))\n",
    "} else {\n",
    "    cpus <- fread(\"results/cpus.csv.gz\", stringsAsFactors=TRUE)\n",
    "    sampleSize <- 1\n",
    "    save(cpus, file=\"results/cpus.Rdata\")\n",
    "    cat(paste(\"Saved Rdata file: sampleSize =\", sampleSize, \"\\n\"))\n",
    "}\n",
    "cpus <- cpus[`Throughput` != \"0.300 TxMB/s\"]\n",
    "cpus %>% summary\n",
    "cpus[, `:=`(\n",
    "    `VariedX`=factor(`Throughput`),\n",
    "    `VariedY`=factor(`Plutus`, levels=c(\"\", \"1000 Gstep/EB\", \"2000 Gstep/EB\", \"5000 Gstep/EB\", \"10000 Gstep/EB\", \"20000 Gstep/EB\", \"50000 Gstep/EB\"))\n",
    ")]"
   ]
  },
  {
   "cell_type": "code",
   "execution_count": null,
   "id": "bd842a2d-028c-43e1-bcf9-973afe6f2eef",
   "metadata": {
    "tags": []
   },
   "outputs": [],
   "source": [
    "cpusNode <-\n",
    "        cpus[\n",
    "            ,\n",
    "            .(`Duration [s]`=sum(`Duration [s]`)),\n",
    "            by=.(`VariedX`, `VariedY`, `Node`, `Slot`)\n",
    "        ]"
   ]
  },
  {
   "cell_type": "code",
   "execution_count": null,
   "id": "d822b482-cae2-4367-95ad-38de7e2c44fa",
   "metadata": {
    "tags": []
   },
   "outputs": [],
   "source": [
    "nodeCount <- cpusNode[, length(unique(`Node`))]\n",
    "nodeCount"
   ]
  },
  {
   "cell_type": "markdown",
   "id": "2dfc94b5-c8ed-4b2b-87ea-6ebbf65ce3a3",
   "metadata": {},
   "source": [
    "#### Peak CPU usage"
   ]
  },
  {
   "cell_type": "markdown",
   "id": "a8d56f5e-b724-4afb-b14a-7b82a5743f85",
   "metadata": {
    "tags": []
   },
   "source": [
    "##### Histogram"
   ]
  },
  {
   "cell_type": "code",
   "execution_count": null,
   "id": "933ae82a-44e6-4a17-a160-f441455aaa11",
   "metadata": {
    "tags": []
   },
   "outputs": [],
   "source": [
    "peakCpuHistogram <- function(cs, title=\"\", wide=TRUE, scales=\"fixed\", outfiles=c(), width=16, height=8, dpi=150) {\n",
    "    g <- ggplot(\n",
    "            cs[,\n",
    "                .(`Duration [%]`=100*max(`Duration [s]`)),\n",
    "                by=.(`VariedX`, `VariedY`, `Slot`)\n",
    "            ], \n",
    "        aes(x=`Duration [%]`)\n",
    "    ) +\n",
    "        geom_histogram(binwidth=10) +\n",
    "        facet_varied(wide, scales=scales) +\n",
    "        xlab(\"Peak CPU load [%]\") +\n",
    "        ylab(\"Number of slots\")\n",
    "    for (outfile in outfiles)\n",
    "        ggsave(outfile, units=\"in\", width=width, height=height, dpi=dpi)\n",
    "    g\n",
    "}"
   ]
  },
  {
   "cell_type": "code",
   "execution_count": null,
   "id": "92b34cec-a998-40a7-9700-3d7497e98039",
   "metadata": {
    "tags": []
   },
   "outputs": [],
   "source": [
    "peakCpuHistogram(\n",
    "    cpusNode[`VariedY` == yConstraint], \n",
    "    \"Peak CPU load among all nodes\",\n",
    "    scales=\"fixed\"\n",
    ")"
   ]
  },
  {
   "cell_type": "code",
   "execution_count": null,
   "id": "65ccb96a-1922-44ed-b74b-5c2868657334",
   "metadata": {
    "tags": []
   },
   "outputs": [],
   "source": [
    "peakCpuHistogram(\n",
    "    cpusNode[`VariedY` %in% c(\"10000 Gstep/EB\", \"20000 Gstep/EB\", \"50000 Gstep/EB\")], \n",
    "    \"Peak CPU load among all nodes\",\n",
    "    wide=FALSE,\n",
    "    scales=\"fixed\",\n",
    "    c(\"plots/plutus-cpu-peak-histogram.svg\", \"plots/plutus-cpu-peak-histogram.png\")\n",
    ")"
   ]
  },
  {
   "cell_type": "markdown",
   "id": "536fc45f-54b5-4692-9c51-4ab385d99ab6",
   "metadata": {},
   "source": [
    "##### Time series"
   ]
  },
  {
   "cell_type": "code",
   "execution_count": null,
   "id": "0519518a-9e15-4f1e-bbd1-064eef6b3044",
   "metadata": {
    "tags": []
   },
   "outputs": [],
   "source": [
    "peakCpuTimeseries <- function(cs, title=\"\", scales=\"fixed\", outfiles=c(), width=16, height=8, dpi=150) {\n",
    "    g <- ggplot(\n",
    "            cs[,\n",
    "                .(`Duration [%]`=100*mean(`Duration [s]`)/sampleSize),\n",
    "                by=.(`VariedX`, `VariedY`, `Slot`)\n",
    "            ], \n",
    "        aes(x=`Slot`, y=`Duration [%]`)) +\n",
    "        geom_line() +\n",
    "        facet_varied_x(wide=TRUE, scale=scales) +\n",
    "        xlab(\"Slot\") +\n",
    "        ylab(\"Mean CPU load [%]\")\n",
    "    for (outfile in outfiles)\n",
    "        ggsave(outfile, units=\"in\", width=width, height=height, dpi=dpi)\n",
    "    g\n",
    "}"
   ]
  },
  {
   "cell_type": "code",
   "execution_count": null,
   "id": "143992f2-580b-4fab-89a7-d78771aea1ef",
   "metadata": {
    "tags": []
   },
   "outputs": [],
   "source": [
    "peakCpuTimeseries(\n",
    "    cpusNode[`VariedY` == yConstraint],\n",
    "    \"Mean CPU load among all nodes\",\n",
    "    outfiles=c(\"plots/cpu-mean-timeseries.svg\", \"plots/cpu-mean-timeseries.png\")\n",
    ")"
   ]
  },
  {
   "cell_type": "markdown",
   "id": "b9d35a8a-28f7-4e60-9f73-6ab7e4b186e4",
   "metadata": {},
   "source": [
    "#### Mean CPU usage"
   ]
  },
  {
   "cell_type": "markdown",
   "id": "7056cbb6-558c-441b-83ae-8f244188eb0b",
   "metadata": {},
   "source": [
    "##### Histogram"
   ]
  },
  {
   "cell_type": "code",
   "execution_count": null,
   "id": "bab18a7f-63b5-4d3e-98a8-34d1c5126d26",
   "metadata": {
    "tags": []
   },
   "outputs": [],
   "source": [
    "meanCpuHistogram <- function(cs, nodeSeconds, title=\"\", scales=\"fixed\", wide=FALSE, outfiles=c(), width=16, height=8, dpi=150) {\n",
    "    g <- ggplot(\n",
    "            cs[,\n",
    "                .(`Duration [%]`=100*sum(`Duration [s]`)/nodeSeconds/nodeCount),\n",
    "                by=.(`VariedX`, `VariedY`, `Task`)\n",
    "            ], \n",
    "        aes(x=\"\", fill=`Task`, y=`Duration [%]`)) +\n",
    "        geom_bar(stat = \"identity\") +\n",
    "        facet_varied(wide=wide, scales=scales) +\n",
    "        xlab(\"\") +\n",
    "        ylab(\"Mean CPU load [%]\")\n",
    "    for (outfile in outfiles)\n",
    "        ggsave(outfile, units=\"in\", width=width, height=height, dpi=dpi)\n",
    "    g\n",
    "}"
   ]
  },
  {
   "cell_type": "code",
   "execution_count": null,
   "id": "39e888f7-5105-4776-962b-2559477f00c2",
   "metadata": {
    "tags": []
   },
   "outputs": [],
   "source": [
    "meanCpuHistogram(\n",
    "    cpus[`VariedY` == yConstraint & `Slot` >= txFirst & `Slot` < txLast],\n",
    "    txWindow * sampleSize, \n",
    "    \"Mean CPU load among all nodes\", \n",
    "    scales=\"fixed\",\n",
    "    outfiles=c(paste0(\"plots/cpu-mean-histogram.svg\"), paste0(\"plots/cpu-mean-histogram.png\"))\n",
    ")"
   ]
  },
  {
   "cell_type": "code",
   "execution_count": null,
   "id": "424d7d04-7e52-4fa1-b079-fa59740228cf",
   "metadata": {
    "tags": []
   },
   "outputs": [],
   "source": [
    "meanCpuHistogram(\n",
    "    cpus[\n",
    "        `VariedY` %in% c(\"10000 Gstep/EB\", \"20000 Gstep/EB\", \"50000 Gstep/EB\") & `Slot` >= txFirst & `Slot` < txLast,\n",
    "        .(\n",
    "            `VariedX`,\n",
    "            `VariedY`,\n",
    "            `Task`,\n",
    "            `Duration [s]`\n",
    "        )\n",
    "    ],\n",
    "    txWindow * sampleSize, \n",
    "    \"Mean CPU load among all nodes\", \n",
    "    scales=\"fixed\",\n",
    "    wide=TRUE,\n",
    "    outfiles=c(paste0(\"plots/plutus-cpu-mean-histogram.svg\"), paste0(\"plots/plutus-cpu-mean-histogram.png\"))\n",
    ") "
   ]
  },
  {
   "cell_type": "markdown",
   "id": "8d65f9b6-3552-4fff-a479-5a8d0718d0a5",
   "metadata": {},
   "source": [
    "##### Time series"
   ]
  },
  {
   "cell_type": "code",
   "execution_count": null,
   "id": "aece6abc-dfe0-4009-8345-51544a89fc8b",
   "metadata": {
    "tags": []
   },
   "outputs": [],
   "source": [
    "meanCpuTimeseries <- function(cs, nodeSeconds, title=\"\", scales=\"fixed\", outfiles=c(), width=16, height=8, dpi=150) {\n",
    "    g <- ggplot(\n",
    "            cs[,\n",
    "                .(`Duration [%]`=100*sum(`Duration [s]`)/nodeSeconds/nodeCount/sampleSize),\n",
    "                by=.(`VariedX`, `VariedY`, `Slot`, `Task`)\n",
    "            ], \n",
    "        aes(x=`Slot`, y=`Duration [%]`, color=`Task`)\n",
    "    ) +\n",
    "        geom_point(size=0.25, alpha=0.75) +\n",
    "        facet_varied_x(wide=TRUE, scales=scales) +\n",
    "        scale_y_sqrt() +\n",
    "        xlab(\"Slot\") +\n",
    "        ylab(\"Mean CPU load [%]\")\n",
    "    for (outfile in outfiles)\n",
    "        ggsave(outfile, units=\"in\", width=width, height=height, dpi=dpi)\n",
    "    g\n",
    "}"
   ]
  },
  {
   "cell_type": "code",
   "execution_count": null,
   "id": "e2a5b736-fcb2-49b6-9b17-29be5f20f5ac",
   "metadata": {
    "tags": []
   },
   "outputs": [],
   "source": [
    "meanCpuTimeseries(\n",
    "    cpus[`VariedY` == yConstraint], \n",
    "    sampleSize, \n",
    "    \"Mean CPU load among all nodes\"\n",
    ")"
   ]
  },
  {
   "cell_type": "markdown",
   "id": "7730f64a-9229-4aa5-9121-a6e44d98f6d6",
   "metadata": {},
   "source": [
    "#### Summary for cost estimates"
   ]
  },
  {
   "cell_type": "code",
   "execution_count": null,
   "id": "c7b55413-c3fc-4c1b-9684-59170c52f560",
   "metadata": {
    "tags": []
   },
   "outputs": [],
   "source": [
    "cpusSummary <- cpus[\n",
    "    `VariedY` == yConstraint &\n",
    "    `Slot` >= txFirst + 30 &\n",
    "    `Slot` < txLast - 30,\n",
    "    .(\n",
    "        `Mean cores [vCPU/node]`=sum(`Duration [s]`) / sampleSize / nodeCount / (txLast - txFirst - 2 * 30),\n",
    "        `Peak cores [vCPU/node]`=max(`Duration [s]`)\n",
    "    ),\n",
    "    .(`VariedX`, `VariedY`)\n",
    "]\n",
    "cpusSummary"
   ]
  },
  {
   "cell_type": "markdown",
   "id": "160674d3-500d-4ba9-a0cc-8bb05213d62e",
   "metadata": {},
   "source": [
    "#### Release memory"
   ]
  },
  {
   "cell_type": "code",
   "execution_count": null,
   "id": "df3178d7-68ce-431b-a69b-3f033e75a790",
   "metadata": {
    "tags": []
   },
   "outputs": [],
   "source": [
    "rm(cpus, cpusNode)"
   ]
  },
  {
   "cell_type": "code",
   "execution_count": null,
   "id": "b01b72e4-cdf9-4357-a263-71d994d5b62f",
   "metadata": {
    "tags": []
   },
   "outputs": [],
   "source": [
    "gc()"
   ]
  },
  {
   "cell_type": "markdown",
   "id": "6bcfeba8-b66e-42da-a0c5-ea6c1fbd575c",
   "metadata": {},
   "source": [
    "### Block contents"
   ]
  },
  {
   "cell_type": "markdown",
   "id": "a35433d7-2006-486e-8032-c9e582d4fa5d",
   "metadata": {},
   "source": [
    "### Read data"
   ]
  },
  {
   "cell_type": "code",
   "execution_count": null,
   "id": "63a4eac4-d691-4cb4-9077-95ca488109ae",
   "metadata": {
    "tags": []
   },
   "outputs": [],
   "source": [
    "if (file.exists(\"results/sizes.Rdata\")) {\n",
    "    load(file=\"results/sizes.Rdata\")\n",
    "    cat(paste(\"Loaded Rdata file: sampleSize =\", sampleSize, \"\\n\"))\n",
    "} else {\n",
    "    sizes <- fread(\"results/sizes.csv.gz\", stringsAsFactors=TRUE)\n",
    "    sampleSize <- 1\n",
    "    save(sizes, file=\"results/sizes.Rdata\")\n",
    "    cat(paste(\"Saved Rdata file: sampleSize =\", sampleSize, \"\\n\"))\n",
    "}\n",
    "setnames(sizes, old=\"Kind\", new=\"Message\")\n",
    "sizes <- sizes[`Throughput` != \"0.300 TxMB/s\"]\n",
    "sizes %>% summary\n",
    "sizes[, `:=`(\n",
    "    `VariedX`=factor(`Throughput`),\n",
    "    `VariedY`=factor(`Plutus`, levels=c(\"\", \"1000 Gstep/EB\", \"2000 Gstep/EB\", \"5000 Gstep/EB\", \"10000 Gstep/EB\", \"20000 Gstep/EB\", \"50000 Gstep/EB\"))\n",
    ")]"
   ]
  },
  {
   "cell_type": "code",
   "execution_count": null,
   "id": "9634539d-fe2c-4c41-95e1-d2c2788af38c",
   "metadata": {
    "tags": []
   },
   "outputs": [],
   "source": [
    "txSize <- sizes[, as.numeric(sub(\" .*$\", \"\", unique(`Tx size`)))]\n",
    "txSize"
   ]
  },
  {
   "cell_type": "markdown",
   "id": "30397903-91e4-42f8-aaaa-029e695b0868",
   "metadata": {},
   "source": [
    "### EB contents"
   ]
  },
  {
   "cell_type": "markdown",
   "id": "ca305cb5-29d2-4d93-b86a-81f042f62918",
   "metadata": {},
   "source": [
    "#### Transactions"
   ]
  },
  {
   "cell_type": "code",
   "execution_count": null,
   "id": "d6c487d8-22f2-4e3c-9f58-f132101a8f96",
   "metadata": {
    "tags": []
   },
   "outputs": [],
   "source": [
    "ggplot(sizes[`VariedY` == yConstraint & `Message` == \"EB\" & `Transactions` > 0], aes(x=`Transactions`)) +\n",
    "    geom_histogram(binwidth=1000) +\n",
    "    facet_varied_x(wide=TRUE) +\n",
    "    ylab(\"Number of EBs\")"
   ]
  },
  {
   "cell_type": "markdown",
   "id": "6e662832-3e83-4b5f-b022-037396f352a3",
   "metadata": {},
   "source": [
    "#### Sizes"
   ]
  },
  {
   "cell_type": "code",
   "execution_count": null,
   "id": "1d0fa517-18fc-4b05-82f2-751efa94800f",
   "metadata": {
    "tags": []
   },
   "outputs": [],
   "source": [
    "ggplot(\n",
    "        sizes[`VariedY` == yConstraint & `Message` == \"EB\" & `Transactions` > 0, .(`EB size [MB]`=`Transactions`*txSize/1e6), .(`VariedX`, `VariedY`)], \n",
    "    aes(x=`EB size [MB]`)\n",
    ") +\n",
    "    geom_histogram(binwidth=1) +\n",
    "    facet_varied_x(wide=TRUE) +\n",
    "    ylab(\"Number of EBs\")"
   ]
  },
  {
   "cell_type": "code",
   "execution_count": null,
   "id": "5fac54a0-d037-4ffb-8a92-3d45d466ee96",
   "metadata": {
    "tags": []
   },
   "outputs": [],
   "source": [
    "ggsave(\"plots/contents-ebs-size.svg\", units=\"in\", dpi=150, width=16, height=8)"
   ]
  },
  {
   "cell_type": "code",
   "execution_count": null,
   "id": "fb6931bd-6d05-4ef3-bbd3-607746a6efad",
   "metadata": {
    "tags": []
   },
   "outputs": [],
   "source": [
    "ggsave(\"plots/contents-ebs-size.png\", units=\"in\", dpi=150, width=16, height=8)"
   ]
  },
  {
   "cell_type": "markdown",
   "id": "ac31b43d-5a38-44a4-91b1-c75b778ff66c",
   "metadata": {},
   "source": [
    "### RB contents"
   ]
  },
  {
   "cell_type": "markdown",
   "id": "3ea11c8a-fb6a-49f4-8782-aa1e36b7c6b3",
   "metadata": {},
   "source": [
    "#### Transactions"
   ]
  },
  {
   "cell_type": "code",
   "execution_count": null,
   "id": "72e71e9b-35e2-46ac-8a71-939fbdaa732c",
   "metadata": {
    "tags": []
   },
   "outputs": [],
   "source": [
    "ggplot(sizes[`VariedY` == yConstraint & `Message` == \"RB\" & `Transactions` > 0], aes(x=`Transactions`)) +\n",
    "    geom_histogram(binwidth=10) +\n",
    "    facet_varied_x() +\n",
    "    ylab(\"Number of RBs\")"
   ]
  },
  {
   "cell_type": "markdown",
   "id": "96b443d6-1b6d-4328-9f25-a90c714a3d32",
   "metadata": {},
   "source": [
    "#### Sizes"
   ]
  },
  {
   "cell_type": "code",
   "execution_count": null,
   "id": "0aab9e66-18c6-416e-a0b8-9b2ba3254807",
   "metadata": {
    "tags": []
   },
   "outputs": [],
   "source": [
    "ggplot(\n",
    "        sizes[`VariedY` == yConstraint & `Message` == \"RB\" & `Transactions` > 0, .(`RB size [kB]`=`Transactions`*txSize/1e3), .(`VariedX`, `VariedY`)],\n",
    "    aes(x=`RB size [kB]`)\n",
    ") +\n",
    "    geom_histogram(binwidth=10) +\n",
    "    facet_varied_x() +\n",
    "    ylab(\"Number of RBs\")"
   ]
  },
  {
   "cell_type": "markdown",
   "id": "28b97c74-4047-4dc7-a2e8-3cc277a7a0a8",
   "metadata": {},
   "source": [
    "### Disposition of blocks"
   ]
  },
  {
   "cell_type": "markdown",
   "id": "1c129b14-1072-4bbe-afe4-e2c556eb7df1",
   "metadata": {},
   "source": [
    "#### Data processing"
   ]
  },
  {
   "cell_type": "code",
   "execution_count": null,
   "id": "1e665b0d-c4c2-4c75-b0e6-4a5f3c8fcabf",
   "metadata": {
    "tags": []
   },
   "outputs": [],
   "source": [
    "ebSizes <- \n",
    "        sizes[`Message` == \"RB\" & !is.na(`Endorses`), .(`Certified`=TRUE), .(`VariedX`, `VariedY`, `Item`=`Endorses`)][\n",
    "        sizes[`Message` == \"EB\", .(`EB Transactions`=`Transactions`), .(`VariedX`, `VariedY`, `Item`)], \n",
    "            on=c(\"VariedX\", \"VariedY\", \"Item\")\n",
    "        ][\n",
    "            ,\n",
    "            .(\n",
    "                `EB txs later not certified`=ifelse(is.na(`Certified`), as.numeric(`EB Transactions`), 0),\n",
    "                `EB txs later certified`=ifelse(is.na(`Certified`), 0, as.numeric(`EB Transactions`))\n",
    "            ),\n",
    "            .(`VariedX`, `VariedY`, `Item`)\n",
    "        ]"
   ]
  },
  {
   "cell_type": "code",
   "execution_count": null,
   "id": "a9d73765-4b37-439b-af87-c9e2e8c2e237",
   "metadata": {
    "tags": []
   },
   "outputs": [],
   "source": [
    "rbSizes <- \n",
    "        ebSizes[\n",
    "            ebSizes[, .(`EB txs certified now`=`EB txs later certified`), .(`VariedX`, `VariedY`, `Endorses`=`Item`)][\n",
    "                sizes[`Message` == \"RB\", .(`Generated [s]`, `RB Transactions`=as.numeric(`Transactions`)), .(`VariedX`, `VariedY`, `Item`, `Endorses`)],\n",
    "                on=c(\"VariedX\", \"VariedY\", \"Endorses\")\n",
    "            ],\n",
    "            on=c(\"VariedX\", \"VariedY\", \"Item\"),\n",
    "            nomatch=0\n",
    "        ][\n",
    "            ,\n",
    "            .(\n",
    "                `Generated [s]`,\n",
    "                `RB`=`RB Transactions`,\n",
    "                `EB later not certified`=`EB txs later not certified`,\n",
    "                `EB later certified`=`EB txs later certified`,\n",
    "                `EB now certified`=ifelse(is.na(`EB txs certified now`), 0, `EB txs certified now`)\n",
    "            ),\n",
    "            , .(`VariedX`, `VariedY`, `Item`)\n",
    "        ]"
   ]
  },
  {
   "cell_type": "code",
   "execution_count": null,
   "id": "05b7d0b4-ac84-45f8-94a2-9e596caf6356",
   "metadata": {
    "tags": []
   },
   "outputs": [],
   "source": [
    "blocks <- melt(\n",
    "    rbSizes, \n",
    "    id.vars=c(\"VariedX\", \"VariedY\", \"Item\", \"Generated [s]\"),\n",
    "    measure.vars=c(\"RB\", \"EB later not certified\", \"EB later certified\", \"EB now certified\"),\n",
    "    variable.name=\"Block\",\n",
    "    value.name=\"Transactions\"\n",
    ")"
   ]
  },
  {
   "cell_type": "markdown",
   "id": "7577f175-7c6c-414a-af7c-ab83c1ae3955",
   "metadata": {},
   "source": [
    "#### Sanity checks"
   ]
  },
  {
   "cell_type": "code",
   "execution_count": null,
   "id": "dc4b96ab-89c1-4ca8-93d0-435593dec2fb",
   "metadata": {
    "tags": []
   },
   "outputs": [],
   "source": [
    "ebSizes[, .N] == sizes[`Message` == \"EB\", .N]"
   ]
  },
  {
   "cell_type": "code",
   "execution_count": null,
   "id": "57fb2ab6-820e-4791-be21-6121ce9320c2",
   "metadata": {
    "tags": []
   },
   "outputs": [],
   "source": [
    "ebSizes[, sum(`EB txs later not certified`) + sum(`EB txs later certified`)] == sizes[`Message` == \"EB\", sum(`Transactions`)]"
   ]
  },
  {
   "cell_type": "code",
   "execution_count": null,
   "id": "9ff2424f-270c-4a0c-b1cf-202a3407591d",
   "metadata": {
    "tags": []
   },
   "outputs": [],
   "source": [
    "rbSizes[, .N] == sizes[`Message` == \"RB\", .N]"
   ]
  },
  {
   "cell_type": "code",
   "execution_count": null,
   "id": "21a62269-a056-41ff-90bd-f784c1aecfa9",
   "metadata": {
    "tags": []
   },
   "outputs": [],
   "source": [
    "rbSizes[, sum(`RB`)] == sizes[`Message` == \"RB\", sum(`Transactions`)]"
   ]
  },
  {
   "cell_type": "code",
   "execution_count": null,
   "id": "1aec3cdd-2226-4bf3-8704-fdfd11ab58ce",
   "metadata": {
    "tags": []
   },
   "outputs": [],
   "source": [
    "rbSizes[, sum(`EB later not certified`) + sum(`EB later certified`)] == sizes[`Message` == \"EB\", sum(`Transactions`)]"
   ]
  },
  {
   "cell_type": "code",
   "execution_count": null,
   "id": "2fa7b1b8-9fea-4a3d-96cc-ab868fc78741",
   "metadata": {
    "tags": []
   },
   "outputs": [],
   "source": [
    "# TODO: Compute precise equality that accounts for forks.\n",
    "rbSizes[, sum(`EB later certified`)] <= rbSizes[, sum(`EB now certified`)]"
   ]
  },
  {
   "cell_type": "markdown",
   "id": "ce3e57c4-5ee2-4608-aea5-f154bc1ee97d",
   "metadata": {},
   "source": [
    "#### Transactions"
   ]
  },
  {
   "cell_type": "code",
   "execution_count": null,
   "id": "436afbc7-4373-4f7f-8805-a85313e2a3a8",
   "metadata": {
    "tags": []
   },
   "outputs": [],
   "source": [
    "ggplot(\n",
    "        blocks[`VariedY` == yConstraint, .(`Transactions`=sum(`Transactions`)), .(`VariedX`, `VariedY`, `Block`, `Minute generated`=(floor(`Generated [s]`/60)))],\n",
    "    aes(x=`Minute generated`, y=`Transactions`, fill=`Block`)\n",
    ") +\n",
    "    geom_bar(stat=\"identity\") +\n",
    "    facet_varied_x(wide=TRUE)"
   ]
  },
  {
   "cell_type": "code",
   "execution_count": null,
   "id": "1fda2095-9968-427e-898e-328895f8f53e",
   "metadata": {
    "tags": []
   },
   "outputs": [],
   "source": [
    "ggplot(\n",
    "        blocks[`VariedY` == yConstraint, .(`Transactions`=sum(`Transactions`)), .(`VariedX`, `VariedY`, `Block`)],\n",
    "    aes(x=\"\", y=`Transactions`, fill=`Block`)\n",
    ") +\n",
    "    geom_bar(stat=\"identity\") +\n",
    "    facet_varied_x()"
   ]
  },
  {
   "cell_type": "markdown",
   "id": "9aadae91-726b-4158-8155-96bf40964bd9",
   "metadata": {},
   "source": [
    "#### Sizes"
   ]
  },
  {
   "cell_type": "code",
   "execution_count": null,
   "id": "22ac0aaf-9ca4-4c54-a1ba-0670b06c8b73",
   "metadata": {
    "tags": []
   },
   "outputs": [],
   "source": [
    "ggplot(\n",
    "        blocks[`VariedY` == yConstraint, .(`Total size of transactions [MB]`=sum(`Transactions`)*txSize/1e6), .(`VariedX`, `VariedY`, `Block`, `Minute of block generation`=(floor(`Generated [s]`/60)))], \n",
    "    aes(x=`Minute of block generation`, y=`Total size of transactions [MB]`, fill=`Block`)\n",
    ") +\n",
    "    geom_bar(stat=\"identity\") +\n",
    "    facet_varied_x(wide=TRUE)"
   ]
  },
  {
   "cell_type": "code",
   "execution_count": null,
   "id": "7aba29a7-197a-46f4-83f7-bfd3a7bce0fc",
   "metadata": {
    "tags": []
   },
   "outputs": [],
   "source": [
    "ggsave(\"plots/disposition-size-timeseries.svg\", units=\"in\", dpi=150, width=16, height=8)"
   ]
  },
  {
   "cell_type": "code",
   "execution_count": null,
   "id": "0178a877-d779-4392-84b3-9edda27be079",
   "metadata": {
    "tags": []
   },
   "outputs": [],
   "source": [
    "ggsave(\"plots/disposition-size-timeseries.png\", units=\"in\", dpi=150, width=16, height=8)"
   ]
  },
  {
   "cell_type": "code",
   "execution_count": null,
   "id": "18976ec9-8ea9-4a60-a141-b28f240d5b50",
   "metadata": {
    "tags": []
   },
   "outputs": [],
   "source": [
    "ggplot(\n",
    "        blocks[`VariedY` == yConstraint, .(`Total size of transactions [MB]`=sum(`Transactions`)*txSize/1e6), .(`VariedX`, `VariedY`, `Block`)], \n",
    "    aes(x=\"\", y=`Total size of transactions [MB]`, fill=`Block`)\n",
    ") +\n",
    "    geom_bar(stat=\"identity\") +\n",
    "    facet_varied_x()"
   ]
  },
  {
   "cell_type": "markdown",
   "id": "e382fcee-18e0-4fea-8f1e-2e678f5d6949",
   "metadata": {},
   "source": [
    "#### Release memory"
   ]
  },
  {
   "cell_type": "code",
   "execution_count": null,
   "id": "12c5df92-53dc-4b5a-8756-9fac5439a323",
   "metadata": {
    "tags": []
   },
   "outputs": [],
   "source": [
    "rm(sizes, ebSizes, rbSizes, blocks)"
   ]
  },
  {
   "cell_type": "code",
   "execution_count": null,
   "id": "9918bf71-983d-4d02-84cb-54c183149c53",
   "metadata": {
    "tags": []
   },
   "outputs": [],
   "source": [
    "gc()"
   ]
  },
  {
   "cell_type": "markdown",
   "id": "eb37f9e3-df58-4f8b-a508-828c9db59cd1",
   "metadata": {},
   "source": [
    "## Cost estimate"
   ]
  },
  {
   "cell_type": "code",
   "execution_count": null,
   "id": "bec05bdd-9c69-4c87-a5f9-d131796ca4d6",
   "metadata": {
    "tags": []
   },
   "outputs": [],
   "source": [
    "usage <- cpusSummary[diskSummary[egressSummary, on=c(\"VariedX\" , \"VariedY\")], on=c(\"VariedX\" , \"VariedY\")][, .(\n",
    "    `Throughput [TxMB/s]`=as.numeric(sub(\" .*$\", \"\",`VariedX`)),\n",
    "    `TPS (avg-sized txs)`=as.numeric(sub(\" .*$\", \"\",`VariedX`))/txSize*1e6,\n",
    "    `TPS (small txs)`=as.numeric(sub(\" .*$\", \"\",`VariedX`))/0.000300,\n",
    "    `CPU [vCPU]`=ceiling(`Peak cores [vCPU/node]`),\n",
    "    `Disk [GB/mo]`=`Disk [MB/s/node]`/1e3*(365.24/12)*24*60*60,\n",
    "    `Egress [GB/mo]`=`Egress [MB/s/node]`/1e3*(365.24/12)*24*60*60,\n",
    "    `DMY`=TRUE\n",
    ")]\n",
    "usage"
   ]
  },
  {
   "cell_type": "code",
   "execution_count": null,
   "id": "00be019f-f627-48b0-8c6a-3d8d52061786",
   "metadata": {
    "tags": []
   },
   "outputs": [],
   "source": [
    "pricing <- data.table(\n",
    "    `Provider`            =c(\"Google Cloud\", \"Railway\",  \"AWS\", \"Microsoft Azure\", \"Alibaba Cloud\", \"DigitalOcean\", \"Oracle Cloud\", \"Linode\", \"Hetzner\", \"Upcloud\"),\n",
    "    `Egress [USD/GB]`     =c(         0.120,     0.100,  0.090,             0.087,           0.074,          0.010,         0.0085,    0.005,   0.00108,     0.000),\n",
    "    `Free egress [GB/mo]` =c(             0,         0,    100,               100,              10,            100,          10240,     1024,      1024,      1024),\n",
    "    `4 vCPU 16GB [USD/mo]`=c(        152.35,    161.88, 124.10,            123.37,          172.28,           84.0,          33.00,     60.0,     17.80,     65.12),\n",
    "    `Disk [USD/GB/mo]`    =c(         0.040,     0.150,  0.080,             0.075,           0.050,          0.100,         0.0425,    0.100,     0.046,     0.056),\n",
    "    DMY=TRUE\n",
    ")\n",
    "pricing"
   ]
  },
  {
   "cell_type": "code",
   "execution_count": null,
   "id": "fa046d9a-d9de-47a4-9c54-8e582451afd5",
   "metadata": {
    "tags": []
   },
   "outputs": [],
   "source": [
    "estimate <- pricing[usage, on=\"DMY\", allow.cartesian=TRUE][, .(\n",
    "    `Provider`,\n",
    "    `Throughput [TxMB/s]`,\n",
    "    `TPS (avg-sized txs)`,\n",
    "    `TPS (small txs)`,\n",
    "    `Compute [USD/mo]`=`4 vCPU 16GB [USD/mo]`,\n",
    "    `Egress [USD/mo]`=`Egress [USD/GB]` * ifelse(`Egress [GB/mo]` > `Free egress [GB/mo]`, `Egress [GB/mo]` - `Free egress [GB/mo]`, 0),\n",
    "    `Disk [USD/mo/mo]`=`Disk [USD/GB/mo]` * `Disk [GB/mo]`\n",
    ")][\n",
    "    ,\n",
    "    .(\n",
    "        `Min operating cost [USD/mo]`=min(`Compute [USD/mo]` + `Egress [USD/mo]`, na.rm=TRUE),\n",
    "        `Median operating cost [USD/mo]`=median(`Compute [USD/mo]` + `Egress [USD/mo]`, na.rm=TRUE),\n",
    "        `Max operating cost [USD/mo]`=max(`Compute [USD/mo]` + `Egress [USD/mo]`, na.rm=TRUE),\n",
    "        `Min storage cost [USD/mo/mo]`=min(`Disk [USD/mo/mo]`, na.rm=TRUE),\n",
    "        `Median storage cost [USD/mo/mo]`=median(`Disk [USD/mo/mo]`, na.rm=TRUE),\n",
    "        `Max storage cost [USD/mo/mo]`=max(`Disk [USD/mo/mo]`, na.rm=TRUE)\n",
    "    ),\n",
    "    .(`Throughput [TxMB/s]`, `TPS (avg-sized txs)`, `TPS (small txs)`)\n",
    "]\n",
    "estimate"
   ]
  },
  {
   "cell_type": "code",
   "execution_count": null,
   "id": "b034228e-4460-421e-ae9a-bd6d85a5ef0e",
   "metadata": {
    "tags": []
   },
   "outputs": [],
   "source": [
    "estimate[, .(\n",
    "    `Throughput`=sprintf(\"%.0f TxkB/s\", `Throughput [TxMB/s]` * 1000), \n",
    "    `Average-size transactions`=sprintf(\"%.0f Tx/s\", `TPS (avg-sized txs)`), \n",
    "    `Small transactions`=sprintf(\"%.0f Tx/s\", `TPS (small txs)`), \n",
    "    `Per-node operation`=sprintf(\"$%.2f/month\", `Median operating cost [USD/mo]`),\n",
    "    `Per-node storage`=sprintf(\"$%.2f/month/month\", `Median storage cost [USD/mo/mo]`), \n",
    "    `10k-node network<br/>(first year)`=sprintf(\"$%.1fM\", 10000/1e6*(12*`Median operating cost [USD/mo]`+6*`Median storage cost [USD/mo/mo]`)), \n",
    "    `10k-node network<br/>(first year)`=sprintf(\"$%.0fk/epoch\", 10000/1e3*(12*`Median operating cost [USD/mo]`+6*`Median storage cost [USD/mo/mo]`)/(365.24/5))\n",
    ")]"
   ]
  },
  {
   "cell_type": "code",
   "execution_count": null,
   "id": "5136a5bf-4413-4fbe-88a3-4035e41d9f5e",
   "metadata": {
    "tags": []
   },
   "outputs": [],
   "source": [
    "estimate[, .(\n",
    "    `Infrastructure cost`=sprintf(\"$%.1fM/year\", 10000/1e6*(12*`Median operating cost [USD/mo]`+6*`Median storage cost [USD/mo/mo]`)),\n",
    "    `Required ada<br/>@ $0.45/ADA`=sprintf(\"%.0fk ADA/epoch\", 10000/1e3*(12*`Median operating cost [USD/mo]`+6*`Median storage cost [USD/mo/mo]`)/0.45/(365.24/5)),\n",
    "    `Required transactions<br/>(average size)<br/>@ $0.45/ADA`=sprintf(\"%.2f Tx/s\", 10000*(12*`Median operating cost [USD/mo]`+6*`Median storage cost [USD/mo/mo]`)/0.45/0.217062/(365.23*24*60*60)),\n",
    "    `Required transactions<br/>(small size)<br/>@ $0.45/ADA`=sprintf(\"%.2f Tx/s\", 10000*(12*`Median operating cost [USD/mo]`+6*`Median storage cost [USD/mo/mo]`)/0.45/0.166395/(365.23*24*60*60))\n",
    ")]"
   ]
  },
  {
   "cell_type": "code",
   "execution_count": null,
   "id": "d4677946-8352-4199-9721-53bac7f100e7",
   "metadata": {
    "tags": []
   },
   "outputs": [],
   "source": [
    "c(0, 10.9, 20.1, 28.5, 36.1, 41.9) * 1400 / 1e3"
   ]
  }
 ],
 "metadata": {
  "kernelspec": {
   "display_name": "r-minimal kernel",
   "language": "r",
   "name": "r-minimal"
  },
  "language_info": {
   "codemirror_mode": "r",
   "file_extension": ".r",
   "mimetype": "text/x-r-source",
   "name": "R",
   "pygments_lexer": "r",
   "version": "4.2.2"
  }
 },
 "nbformat": 4,
 "nbformat_minor": 5
}
