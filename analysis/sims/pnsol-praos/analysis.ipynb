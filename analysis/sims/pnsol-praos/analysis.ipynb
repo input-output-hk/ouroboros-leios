{
 "cells": [
  {
   "cell_type": "markdown",
   "id": "11c10d93-fe1b-4019-8b44-3bdf1cc851e2",
   "metadata": {},
   "source": [
    "# Praos simulation analysis for hypotheses"
   ]
  },
  {
   "cell_type": "markdown",
   "id": "8b605859-ed4f-4e03-9f40-8891c3122a01",
   "metadata": {},
   "source": [
    "## Set up"
   ]
  },
  {
   "cell_type": "markdown",
   "id": "45599565-dbe9-415e-b356-0db87b421c63",
   "metadata": {},
   "source": [
    "### Load packages"
   ]
  },
  {
   "cell_type": "code",
   "execution_count": 1,
   "id": "26fe5452-fe6b-4383-b383-1de25d28bd0b",
   "metadata": {
    "tags": []
   },
   "outputs": [],
   "source": [
    "suppressMessages({\n",
    "    require(RColorBrewer, quietly=TRUE)\n",
    "    require(data.table, quietly=TRUE)\n",
    "    require(ggplot2, quietly=TRUE)\n",
    "    require(magrittr, quietly=TRUE)\n",
    "})"
   ]
  },
  {
   "cell_type": "markdown",
   "id": "f4313649-8871-435c-a405-42e99d7f7145",
   "metadata": {},
   "source": [
    "## Experiment: Testing hypotheses regarding throughput"
   ]
  },
  {
   "cell_type": "code",
   "execution_count": 2,
   "id": "73cc37a3-f119-4252-8d14-47c4fd504e6a",
   "metadata": {
    "tags": []
   },
   "outputs": [
    {
     "data": {
      "text/html": [
       "'sim-cli 1.3.1-66a2eb734'"
      ],
      "text/latex": [
       "'sim-cli 1.3.1-66a2eb734'"
      ],
      "text/markdown": [
       "'sim-cli 1.3.1-66a2eb734'"
      ],
      "text/plain": [
       "[1] \"sim-cli 1.3.1-66a2eb734\""
      ]
     },
     "metadata": {},
     "output_type": "display_data"
    }
   ],
   "source": [
    "readLines(\"sim-cli.hash\")"
   ]
  },
  {
   "cell_type": "markdown",
   "id": "3a101227-6be8-46e8-b20c-b73d82475bd5",
   "metadata": {},
   "source": [
    "### Read the lifecycle results"
   ]
  },
  {
   "cell_type": "code",
   "execution_count": 3,
   "id": "b492fce1-9267-4379-ad0d-9b775e0a424a",
   "metadata": {
    "tags": []
   },
   "outputs": [
    {
     "name": "stdout",
     "output_type": "stream",
     "text": [
      "Loaded Rdata file: sampleSize = 1 \n"
     ]
    },
    {
     "data": {
      "text/plain": [
       "        Network         Bandwidth               CPU        \n",
       " topology-v2:762409   10 Mb/s:762409   4 vCPU/node:762409  \n",
       "                                                           \n",
       "                                                           \n",
       "                                                           \n",
       "                                                           \n",
       "                                                           \n",
       "                                                           \n",
       "           Diffusion duration            Voting duration    Max EB size    \n",
       " L_diff = 1200 slots:762409   L_vote = 1200 slots:762409   0 MB/EB:762409  \n",
       "                                                                           \n",
       "                                                                           \n",
       "                                                                           \n",
       "                                                                           \n",
       "                                                                           \n",
       "                                                                           \n",
       "      Tx size              Throughput      Plutus         Tx start [s]\n",
       " 1500 B/Tx:762409   0.200 TxMB/s:171499   Mode:logical   Min.   :0    \n",
       "                    0.175 TxMB/s:150070   NA's:762409    1st Qu.:0    \n",
       "                    0.150 TxMB/s:120070                  Median :0    \n",
       "                    0.125 TxMB/s:100070                  Mean   :0    \n",
       "                    0.100 TxMB/s: 80070                  3rd Qu.:0    \n",
       "                    0.075 TxMB/s: 60070                  Max.   :0    \n",
       "                    (Other)     : 80560                               \n",
       "  Tx stop [s]    Sim stop [s]  Message                Item       \n",
       " Min.   :1200   Min.   :1200   RB:   980   0            :    14  \n",
       " 1st Qu.:1200   1st Qu.:1200   TX:761429   1            :    14  \n",
       " Median :1200   Median :1200               10           :    14  \n",
       " Mean   :1200   Mean   :1200               100          :    14  \n",
       " 3rd Qu.:1200   3rd Qu.:1200               100-node-427 :    14  \n",
       " Max.   :1200   Max.   :1200               1005-node-561:    14  \n",
       "                                           (Other)      :762325  \n",
       "    Size [B]       References     Created [s]     To IB [s]      To EB [s]     \n",
       " Min.   : 1500   Min.   :0.000   Min.   :   0.0   Mode:logical   Mode:logical  \n",
       " 1st Qu.: 1500   1st Qu.:0.000   1st Qu.: 300.0   NA's:762409    NA's:762409   \n",
       " Median : 1500   Median :0.000   Median : 600.0                                \n",
       " Mean   : 1597   Mean   :0.065   Mean   : 600.0                                \n",
       " 3rd Qu.: 1500   3rd Qu.:0.000   3rd Qu.: 899.9                                \n",
       " Max.   :91024   Max.   :1.000   Max.   :1200.0                                \n",
       "                                                                               \n",
       " To RB [s]        In RB [s]     \n",
       " Mode:logical   Min.   :  20.1  \n",
       " NA's:762409    1st Qu.: 280.1  \n",
       "                Median : 625.1  \n",
       "                Mean   : 595.0  \n",
       "                3rd Qu.: 889.1  \n",
       "                Max.   :1190.1  \n",
       "                NA's   :712852  "
      ]
     },
     "metadata": {},
     "output_type": "display_data"
    }
   ],
   "source": [
    "if (file.exists(\"results/lifecycle.Rdata\")) {\n",
    "    load(file=\"results/lifecycle.Rdata\")\n",
    "    cat(paste(\"Loaded Rdata file: sampleSize =\", sampleSize, \"\\n\"))\n",
    "} else {\n",
    "    lifecycle <- fread(\"results/lifecycle.csv.gz\", stringsAsFactors=TRUE)\n",
    "    sampleSize <- 1\n",
    "    save(lifecycle, sampleSize, file=\"results/lifecycle.Rdata\")\n",
    "    cat(paste(\"Saved Rdata file: sampleSize =\", sampleSize, \"\\n\"))\n",
    "}\n",
    "setnames(lifecycle, old=\"Kind\", new=\"Message\")\n",
    "lifecycle %>% summary"
   ]
  },
  {
   "cell_type": "markdown",
   "id": "3cb5c0bc-834f-40a1-9a4a-72cc901daf68",
   "metadata": {},
   "source": [
    "### Leios throughput is proportional to load until it plateaus when capacity is reached."
   ]
  },
  {
   "cell_type": "code",
   "execution_count": 4,
   "id": "3b322155-f437-429a-93cc-0fbc80c79f07",
   "metadata": {
    "tags": []
   },
   "outputs": [
    {
     "data": {
      "image/png": "[encoded data removed]",
      "text/plain": [
       "plot without title"
      ]
     },
     "metadata": {
      "image/png": {
       "height": 420,
       "width": 420
      }
     },
     "output_type": "display_data"
    }
   ],
   "source": [
    "ggplot(\n",
    "    lifecycle[\n",
    "        `Message` == \"TX\" &\n",
    "        (\n",
    "            !is.na(`To RB [s]`) & `To RB [s]` >= 0 & `To RB [s]` <= 1200 |\n",
    "            !is.na(`In RB [s]`) & `In RB [s]` >= 0 & `In RB [s]` <= 1200\n",
    "        ),\n",
    "        .(`Throughput [TxkB/s]`=sum(`Size [B]`)/(1200-0)/1000),\n",
    "        .(\n",
    "            `Load [TxkB/s]`=as.numeric(sub(\" .*$\", \"\", `Throughput`))*1000\n",
    "        )\n",
    "    ],\n",
    "    aes(x=`Load [TxkB/s]`, y=`Throughput [TxkB/s]`)\n",
    ") +\n",
    "    geom_point() +\n",
    "    xlim(0, NA) +\n",
    "    ylim(0, NA) +\n",
    "    ggtitle(\n",
    "        \"Leios throughput is proportional to load until it plateaus when capacity is reached.\", \n",
    "        paste(\n",
    "            \"Points are uncertain due to the randomness of block production in these simulations of 20 minutes.\",\n",
    "            \"Note that the simulation's unlimited memory pool starts empty and the simulation runs for 1200 slots.\",\n",
    "            sep=\"\\n\"\n",
    "        )\n",
    "    )"
   ]
  },
  {
   "cell_type": "code",
   "execution_count": 5,
   "id": "300f79ac-a2e4-45bd-b402-84d3b577f163",
   "metadata": {
    "tags": []
   },
   "outputs": [],
   "source": [
    "ggsave(\"plots/load-throughput.png\", units=\"in\", dpi=150, width=10, height=6)"
   ]
  },
  {
   "cell_type": "code",
   "execution_count": 6,
   "id": "5458a400-916f-464c-b621-449885489452",
   "metadata": {
    "tags": []
   },
   "outputs": [],
   "source": [
    "ggsave(\"plots/load-throughput.svg\", units=\"in\", dpi=150, width=10, height=6)"
   ]
  },
  {
   "cell_type": "markdown",
   "id": "d09520df-fac8-4aad-8a00-ee264b8adb5b",
   "metadata": {},
   "source": [
    "### The variability of delivery times plateaus until capacity is reached."
   ]
  },
  {
   "cell_type": "code",
   "execution_count": 7,
   "id": "7f89e601-01ec-4b57-ab88-9f74c11ce7c9",
   "metadata": {
    "tags": []
   },
   "outputs": [],
   "source": [
    "quantiles <- function(created, toRB, inRB) {\n",
    "    xs <- mapply(\n",
    "        function(c, t, i) {\n",
    "            if (is.na(t))\n",
    "                i - c\n",
    "            else\n",
    "                t - c\n",
    "        }, created, toRB, inRB)\n",
    "    qs <- c(0.10, 0.50, 0.90)\n",
    "    quantile(xs, qs) %>% as.numeric\n",
    "}"
   ]
  },
  {
   "cell_type": "code",
   "execution_count": 8,
   "id": "1b1e697f-d356-4338-82d6-68aba2b249a2",
   "metadata": {
    "tags": []
   },
   "outputs": [],
   "source": [
    "lifecycle1 <-\n",
    "    lifecycle[\n",
    "        `Message` == \"TX\" &\n",
    "        (\n",
    "            !is.na(`To RB [s]`) & `To RB [s]` >= 0 & `To RB [s]` <= 1200 |\n",
    "            !is.na(`In RB [s]`) & `In RB [s]` >= 0 & `In RB [s]` <= 1200\n",
    "        ),\n",
    "        .(\n",
    "            `Quantile`=factor(c(\"10%\", \"50%\", \"90%\")),\n",
    "            `Mempool-to-ledger for transactions [s]`=quantiles(`Created [s]`, `To RB [s]`, `In RB [s]`)\n",
    "        ),\n",
    "        by=.(\n",
    "            `Load [TxkB/s]`=as.numeric(sub(\" .*$\", \"\", `Throughput`))*1000\n",
    "        )\n",
    "    ]"
   ]
  },
  {
   "cell_type": "code",
   "execution_count": 9,
   "id": "c0dd4816-0543-4184-a4d1-51be7a399d21",
   "metadata": {
    "tags": []
   },
   "outputs": [
    {
     "data": {
      "image/png": "[encoded data removed]",
      "text/plain": [
       "plot without title"
      ]
     },
     "metadata": {
      "image/png": {
       "height": 420,
       "width": 420
      }
     },
     "output_type": "display_data"
    }
   ],
   "source": [
    "ggplot(\n",
    "    dcast(\n",
    "        lifecycle1[`Load [TxkB/s]` >= 50], \n",
    "        `Load [TxkB/s]` ~ `Quantile`, \n",
    "        value.var=\"Mempool-to-ledger for transactions [s]\"\n",
    "    ),\n",
    "    aes(x=`Load [TxkB/s]`)\n",
    ") +\n",
    "    geom_errorbar(aes(x=`Load [TxkB/s]`, ymin=`10%`, ymax=`90%`)) +\n",
    "    geom_point(aes(x=`Load [TxkB/s]`, y=`50%`)) +\n",
    "    ylab(\"Mempool-to-ledger for transactions [s]\") +\n",
    "    ggtitle(\n",
    "        \"The variability of delivery times plateaus until capacity is reached.\", \n",
    "        paste(\n",
    "            \"circle = median; lower tick = 10th percentile; upper tick = 90th percentile\",\n",
    "            \"Points are uncertain due to the randomness of block production in these simulations of 20 minutes.\",\n",
    "            \"Note that in these simulations transaction submission is unbounded and into an unlimited memory pool.\",\n",
    "            sep=\"\\n\"\n",
    "        )\n",
    "    )"
   ]
  },
  {
   "cell_type": "code",
   "execution_count": 10,
   "id": "12949768-c73c-4818-ba82-3cffe2fd246a",
   "metadata": {
    "tags": []
   },
   "outputs": [],
   "source": [
    "ggsave(\"plots/load-txvariance.png\", units=\"in\", dpi=150, width=10, height=6)"
   ]
  },
  {
   "cell_type": "code",
   "execution_count": 11,
   "id": "7bcde930-0f39-42a4-93dd-e32208c49445",
   "metadata": {
    "tags": []
   },
   "outputs": [],
   "source": [
    "ggsave(\"plots/load-txvariance.svg\", units=\"in\", dpi=150, width=10, height=6)"
   ]
  },
  {
   "cell_type": "markdown",
   "id": "81c648a4-179f-4547-a39a-6f16750b18ca",
   "metadata": {},
   "source": [
    "### Read resource data"
   ]
  },
  {
   "cell_type": "code",
   "execution_count": 12,
   "id": "ea6b032e-1c6e-488f-949a-f3f52e9331c9",
   "metadata": {
    "tags": []
   },
   "outputs": [
    {
     "name": "stdout",
     "output_type": "stream",
     "text": [
      "Loaded Rdata file: sampleSize = 1 \n"
     ]
    },
    {
     "data": {
      "text/plain": [
       "        Network        Bandwidth              CPU       \n",
       " topology-v2:10500   10 Mb/s:10500   4 vCPU/node:10500  \n",
       "                                                        \n",
       "                                                        \n",
       "                                                        \n",
       "                                                        \n",
       "                                                        \n",
       "                                                        \n",
       "           Diffusion duration            Voting duration   Max EB size   \n",
       " L_diff = 1200 slots:10500    L_vote = 1200 slots:10500   0 MB/EB:10500  \n",
       "                                                                         \n",
       "                                                                         \n",
       "                                                                         \n",
       "                                                                         \n",
       "                                                                         \n",
       "                                                                         \n",
       "      Tx size             Throughput    Plutus         Tx start [s]\n",
       " 1500 B/Tx:10500   0.001 TxMB/s: 750   Mode:logical   Min.   :0    \n",
       "                   0.002 TxMB/s: 750   NA's:10500     1st Qu.:0    \n",
       "                   0.003 TxMB/s: 750                  Median :0    \n",
       "                   0.004 TxMB/s: 750                  Mean   :0    \n",
       "                   0.005 TxMB/s: 750                  3rd Qu.:0    \n",
       "                   0.010 TxMB/s: 750                  Max.   :0    \n",
       "                   (Other)     :6000                               \n",
       "  Tx stop [s]    Sim stop [s]        Node         Egress [B]       \n",
       " Min.   :1200   Min.   :1200   node-0  :   14   Min.   :0.000e+00  \n",
       " 1st Qu.:1200   1st Qu.:1200   node-1  :   14   1st Qu.:2.701e+06  \n",
       " Median :1200   Median :1200   node-10 :   14   Median :1.457e+07  \n",
       " Mean   :1200   Mean   :1200   node-100:   14   Mean   :8.757e+07  \n",
       " 3rd Qu.:1200   3rd Qu.:1200   node-101:   14   3rd Qu.:9.924e+07  \n",
       " Max.   :1200   Max.   :1200   node-102:   14   Max.   :1.649e+09  \n",
       "                               (Other) :10416                      \n",
       "    Disk [B]      Total CPU [s]      Maximum CPU [s/s] \n",
       " Min.   :     0   Min.   :  0.5781   Min.   :0.002103  \n",
       " 1st Qu.:     0   1st Qu.:  2.1567   1st Qu.:0.006642  \n",
       " Median :     0   Median : 18.8274   Median :0.028852  \n",
       " Mean   :  7175   Mean   : 33.8731   Mean   :0.040421  \n",
       " 3rd Qu.:     0   3rd Qu.: 62.1029   3rd Qu.:0.071311  \n",
       " Max.   :182048   Max.   :106.6275   Max.   :0.169469  \n",
       "                                                       "
      ]
     },
     "metadata": {},
     "output_type": "display_data"
    }
   ],
   "source": [
    "if (file.exists(\"results/resources.Rdata\")) {\n",
    "    load(file=\"results/resources.Rdata\")\n",
    "    cat(paste(\"Loaded Rdata file: sampleSize =\", sampleSize, \"\\n\"))\n",
    "} else {\n",
    "    lifecycle <- fread(\"results/resources.csv.gz\", stringsAsFactors=TRUE)\n",
    "    sampleSize <- 1\n",
    "    save(lifecycle, sampleSize, file=\"results/resources.Rdata\")\n",
    "    cat(paste(\"Saved Rdata file: sampleSize =\", sampleSize, \"\\n\"))\n",
    "}\n",
    "resources %>% summary"
   ]
  },
  {
   "cell_type": "markdown",
   "id": "c924f8ea-bac2-46dc-8051-74feaf83c527",
   "metadata": {},
   "source": [
    "### The cost of processing per transaction either remains the same or goes down as the load goes up."
   ]
  },
  {
   "cell_type": "code",
   "execution_count": 13,
   "id": "18d49cfe-bb04-482f-bf57-e4ece62505dd",
   "metadata": {
    "tags": []
   },
   "outputs": [
    {
     "data": {
      "image/png": "[encoded data removed]",
      "text/plain": [
       "plot without title"
      ]
     },
     "metadata": {
      "image/png": {
       "height": 420,
       "width": 420
      }
     },
     "output_type": "display_data"
    }
   ],
   "source": [
    "ggplot(\n",
    "    resources[\n",
    "        !(`Throughput` %in% c(\"0.001 TxMB/s\", \"0.002 TxMB/s\")),\n",
    "        .(\n",
    "            `CPU usage per transaction [vCPU seconds / TxMB]`=sum(`Total CPU [s]`) / sum(1200 * as.numeric(sub(\" .*$\",\"\",`Throughput`)))\n",
    "        ),\n",
    "        .(\n",
    "            `Load [TxkB/s]`=1000 * as.numeric(sub(\" .*$\", \"\", `Throughput`))\n",
    "        )\n",
    "    ],\n",
    "    aes(x=`Load [TxkB/s]`, y=`CPU usage per transaction [vCPU seconds / TxMB]`)\n",
    ") +\n",
    "    geom_point() +\n",
    "    ggtitle(\n",
    "        \"The cost of processing per transaction either remains the same or goes down as the load goes up.\",\n",
    "        paste(\n",
    "            \"Points are uncertain due to the randomness of block production in these simulations of 20 minutes.\",\n",
    "            \"Note that in these simulations transaction submission is unbounded and into an unlimited memory pool.\",\n",
    "            sep=\"\\n\"\n",
    "        )\n",
    "    )"
   ]
  },
  {
   "cell_type": "code",
   "execution_count": 14,
   "id": "123d9785-7947-4af9-a38f-79b9716d260f",
   "metadata": {
    "tags": []
   },
   "outputs": [],
   "source": [
    "ggsave(\"plots/load-cpu.png\", units=\"in\", dpi=150, width=10, height=6)"
   ]
  },
  {
   "cell_type": "code",
   "execution_count": 15,
   "id": "5e439194-e868-43ed-b52b-7cfdb26e3797",
   "metadata": {
    "tags": []
   },
   "outputs": [],
   "source": [
    "ggsave(\"plots/load-cpu.svg\", units=\"in\", dpi=150, width=10, height=6)"
   ]
  },
  {
   "cell_type": "markdown",
   "id": "458bdda2-24f0-4569-9899-c0fd1677ad96",
   "metadata": {},
   "source": [
    "### The cost of processing per transaction either remains the same or goes down as the load goes up."
   ]
  },
  {
   "cell_type": "code",
   "execution_count": 16,
   "id": "768aa54a-f2c3-4d70-945d-0d552239e23d",
   "metadata": {
    "tags": []
   },
   "outputs": [
    {
     "data": {
      "image/png": "[encoded data removed]",
      "text/plain": [
       "plot without title"
      ]
     },
     "metadata": {
      "image/png": {
       "height": 420,
       "width": 420
      }
     },
     "output_type": "display_data"
    }
   ],
   "source": [
    "ggplot(\n",
    "    resources[\n",
    "        ,\n",
    "        .(\n",
    "            `Network usage [MB egress / TxMB]`=sum(`Egress [B]` / 1000000) / sum(1200 * as.numeric(sub(\" .*$\",\"\",`Throughput`)))\n",
    "        ),\n",
    "        .(\n",
    "            `Load [TxkB/s]`=1000 * as.numeric(sub(\" .*$\", \"\", `Throughput`))\n",
    "        )\n",
    "    ],\n",
    "    aes(x=`Load [TxkB/s]`, y=`Network usage [MB egress / TxMB]`)\n",
    ") +\n",
    "    geom_point() +\n",
    "    ggtitle(\n",
    "        \"The cost of processing per transaction either remains the same or goes down as the load goes up.\",\n",
    "        paste(\n",
    "            \"Points are uncertain due to the randomness of block production in these simulations of 20 minutes.\",\n",
    "            \"Note that in these simulations transaction submission is unbounded and into an unlimited memory pool.\",\n",
    "            sep=\"\\n\"\n",
    "        )\n",
    "    )"
   ]
  },
  {
   "cell_type": "code",
   "execution_count": 17,
   "id": "9d42cb62-7c1a-45fb-8a56-03f4eb2e5dca",
   "metadata": {
    "tags": []
   },
   "outputs": [],
   "source": [
    "ggsave(\"plots/load-egress.png\", units=\"in\", dpi=150, width=10, height=6)"
   ]
  },
  {
   "cell_type": "code",
   "execution_count": 18,
   "id": "3d232e22-567e-4f69-b045-31f77c46fba5",
   "metadata": {
    "tags": []
   },
   "outputs": [],
   "source": [
    "ggsave(\"plots/load-egress.svg\", units=\"in\", dpi=150, width=10, height=6)"
   ]
  }
 ],
 "metadata": {
  "kernelspec": {
   "display_name": "r-minimal kernel",
   "language": "r",
   "name": "r-minimal"
  },
  "language_info": {
   "codemirror_mode": "r",
   "file_extension": ".r",
   "mimetype": "text/x-r-source",
   "name": "R",
   "pygments_lexer": "r",
   "version": "4.2.2"
  }
 },
 "nbformat": 4,
 "nbformat_minor": 5
}
