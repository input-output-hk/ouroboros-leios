{
 "cells": [
  {
   "cell_type": "markdown",
   "id": "0c4eb4df-c4e2-4e77-a7dc-d152013686ac",
   "metadata": {},
   "source": [
    "# Debugging"
   ]
  },
  {
   "cell_type": "markdown",
   "id": "195761be-fe01-4d4c-a04a-2e3583387dc4",
   "metadata": {},
   "source": [
    "## Set up"
   ]
  },
  {
   "cell_type": "code",
   "execution_count": 75,
   "id": "faf4976c-447a-4792-9a54-fc79c9d2966a",
   "metadata": {
    "tags": []
   },
   "outputs": [],
   "source": [
    "suppressMessages({\n",
    "    require(RColorBrewer, quietly=TRUE)\n",
    "    require(data.table, quietly=TRUE)\n",
    "    require(ggplot2, quietly=TRUE)\n",
    "    require(magrittr, quietly=TRUE)\n",
    "})"
   ]
  },
  {
   "cell_type": "markdown",
   "id": "7b63fce3-7c68-4660-8cf6-b8541a40a6e2",
   "metadata": {},
   "source": [
    "## Transaction"
   ]
  },
  {
   "cell_type": "code",
   "execution_count": 76,
   "id": "62a2c1a3-979d-4860-bb85-b0d50c80a78d",
   "metadata": {
    "tags": []
   },
   "outputs": [
    {
     "data": {
      "text/html": [
       "<table class=\"dataframe\">\n",
       "<caption>A data.table: 1 x 3</caption>\n",
       "<thead>\n",
       "\t<tr><th scope=col>time_s</th><th scope=col>tx</th><th scope=col>node</th></tr>\n",
       "\t<tr><th scope=col>&lt;dbl&gt;</th><th scope=col>&lt;int&gt;</th><th scope=col>&lt;fct&gt;</th></tr>\n",
       "</thead>\n",
       "<tbody>\n",
       "\t<tr><td>869.21</td><td>80921</td><td>node-413</td></tr>\n",
       "</tbody>\n",
       "</table>\n"
      ],
      "text/latex": [
       "A data.table: 1 x 3\n",
       "\\begin{tabular}{lll}\n",
       " time\\_s & tx & node\\\\\n",
       " <dbl> & <int> & <fct>\\\\\n",
       "\\hline\n",
       "\t 869.21 & 80921 & node-413\\\\\n",
       "\\end{tabular}\n"
      ],
      "text/markdown": [
       "\n",
       "A data.table: 1 x 3\n",
       "\n",
       "| time_s &lt;dbl&gt; | tx &lt;int&gt; | node &lt;fct&gt; |\n",
       "|---|---|---|\n",
       "| 869.21 | 80921 | node-413 |\n",
       "\n"
      ],
      "text/plain": [
       "  time_s tx    node    \n",
       "1 869.21 80921 node-413"
      ]
     },
     "metadata": {},
     "output_type": "display_data"
    }
   ],
   "source": [
    "txGenerated <- fread(\"tx-generated.csv\", stringsAsFactors=TRUE)\n",
    "txGenerated"
   ]
  },
  {
   "cell_type": "code",
   "execution_count": 79,
   "id": "f3629d60-7b32-4a7d-ab5e-b599260e0664",
   "metadata": {
    "tags": []
   },
   "outputs": [
    {
     "data": {
      "text/plain": [
       "     time_s            tx              node    \n",
       " Min.   :869.2   Min.   :80921   node-0  :  1  \n",
       " 1st Qu.:869.3   1st Qu.:80921   node-1  :  1  \n",
       " Median :869.3   Median :80921   node-10 :  1  \n",
       " Mean   :869.4   Mean   :80921   node-100:  1  \n",
       " 3rd Qu.:869.4   3rd Qu.:80921   node-101:  1  \n",
       " Max.   :870.2   Max.   :80921   node-102:  1  \n",
       "                                 (Other) :743  "
      ]
     },
     "metadata": {},
     "output_type": "display_data"
    }
   ],
   "source": [
    "txReceived <- fread(\"tx-received.csv\", stringsAsFactors=TRUE)\n",
    "txReceived %>% summary"
   ]
  },
  {
   "cell_type": "code",
   "execution_count": 83,
   "id": "e9901097-bc2a-4485-8f14-a6f2e3c732be",
   "metadata": {
    "tags": []
   },
   "outputs": [
    {
     "data": {
      "text/html": [
       "<table class=\"dataframe\">\n",
       "<caption>A data.table: 1 x 4</caption>\n",
       "<thead>\n",
       "\t<tr><th scope=col>Any non-receipts?</th><th scope=col>Last receipt [s]</th><th scope=col>Created [s]</th><th scope=col>Elapsed [s]</th></tr>\n",
       "\t<tr><th scope=col>&lt;lgl&gt;</th><th scope=col>&lt;dbl&gt;</th><th scope=col>&lt;dbl&gt;</th><th scope=col>&lt;dbl&gt;</th></tr>\n",
       "</thead>\n",
       "<tbody>\n",
       "\t<tr><td>FALSE</td><td>870.2488</td><td>869.21</td><td>1.0388</td></tr>\n",
       "</tbody>\n",
       "</table>\n"
      ],
      "text/latex": [
       "A data.table: 1 x 4\n",
       "\\begin{tabular}{llll}\n",
       " Any non-receipts? & Last receipt {[}s{]} & Created {[}s{]} & Elapsed {[}s{]}\\\\\n",
       " <lgl> & <dbl> & <dbl> & <dbl>\\\\\n",
       "\\hline\n",
       "\t FALSE & 870.2488 & 869.21 & 1.0388\\\\\n",
       "\\end{tabular}\n"
      ],
      "text/markdown": [
       "\n",
       "A data.table: 1 x 4\n",
       "\n",
       "| Any non-receipts? &lt;lgl&gt; | Last receipt [s] &lt;dbl&gt; | Created [s] &lt;dbl&gt; | Elapsed [s] &lt;dbl&gt; |\n",
       "|---|---|---|---|\n",
       "| FALSE | 870.2488 | 869.21 | 1.0388 |\n",
       "\n"
      ],
      "text/plain": [
       "  Any non-receipts? Last receipt [s] Created [s] Elapsed [s]\n",
       "1 FALSE             870.2488         869.21      1.0388     "
      ]
     },
     "metadata": {},
     "output_type": "display_data"
    }
   ],
   "source": [
    "txReceived[, .(`Any non-receipts?`=.N!=749, `Last receipt [s]`=max(`time_s`), `Created [s]`=txGenerated[, `time_s`], `Elapsed [s]`=max(`time_s`)-txGenerated[, `time_s`])]"
   ]
  },
  {
   "cell_type": "markdown",
   "id": "930f1191-5983-4f56-ab94-184bb4c833b8",
   "metadata": {
    "tags": []
   },
   "source": [
    "## RBs"
   ]
  },
  {
   "cell_type": "code",
   "execution_count": 32,
   "id": "225f3d79-aaba-4e01-8215-9609cc4c6f83",
   "metadata": {
    "tags": []
   },
   "outputs": [
    {
     "data": {
      "text/plain": [
       "     time_s                    rb               parent               eb    \n",
       " Min.   :  20.07   100-node-432 : 1   1116-node-590: 3   1089-node-587: 2  \n",
       " 1st Qu.: 518.08   1007-node-564: 1   1089-node-587: 2   1023-node-151: 1  \n",
       " Median : 855.08   1023-node-151: 1   100-node-432 : 1   105-node-598 : 1  \n",
       " Mean   : 808.93   105-node-598 : 1   1007-node-564: 1   1052-node-214: 1  \n",
       " 3rd Qu.:1161.08   1052-node-214: 1   1023-node-151: 1   1127-node-567: 1  \n",
       " Max.   :1468.08   1089-node-587: 1   105-node-598 : 1   (Other)      :20  \n",
       "                   (Other)      :71   (Other)      :68   NA's         :51  \n",
       "   has_tx       \n",
       " Mode :logical  \n",
       " FALSE:77       \n",
       "                \n",
       "                \n",
       "                \n",
       "                \n",
       "                "
      ]
     },
     "metadata": {},
     "output_type": "display_data"
    }
   ],
   "source": [
    "rbGenerated <- fread(\"rb-generated.csv\", stringsAsFactors=TRUE)\n",
    "rbGenerated %>% summary"
   ]
  },
  {
   "cell_type": "code",
   "execution_count": 85,
   "id": "af5daa09-7c89-41c3-8d12-c955ae3f49b1",
   "metadata": {
    "tags": []
   },
   "outputs": [
    {
     "data": {
      "text/html": [
       "<table class=\"dataframe\">\n",
       "<caption>A data.table: 14 x 5</caption>\n",
       "<thead>\n",
       "\t<tr><th scope=col>time_s</th><th scope=col>rb</th><th scope=col>parent</th><th scope=col>eb</th><th scope=col>has_tx</th></tr>\n",
       "\t<tr><th scope=col>&lt;dbl&gt;</th><th scope=col>&lt;fct&gt;</th><th scope=col>&lt;fct&gt;</th><th scope=col>&lt;fct&gt;</th><th scope=col>&lt;lgl&gt;</th></tr>\n",
       "</thead>\n",
       "<tbody>\n",
       "\t<tr><td> 855.075</td><td>855-node-429 </td><td>839-node-148 </td><td>NA           </td><td>FALSE</td></tr>\n",
       "\t<tr><td> 864.075</td><td>864-node-101 </td><td>855-node-429 </td><td>NA           </td><td>FALSE</td></tr>\n",
       "\t<tr><td> 920.075</td><td>920-node-423 </td><td>864-node-101 </td><td>864-node-101 </td><td>FALSE</td></tr>\n",
       "\t<tr><td> 923.075</td><td>923-node-101 </td><td>920-node-423 </td><td>NA           </td><td>FALSE</td></tr>\n",
       "\t<tr><td> 940.075</td><td>940-node-573 </td><td>923-node-101 </td><td>NA           </td><td>FALSE</td></tr>\n",
       "\t<tr><td> 943.075</td><td>943-node-91  </td><td>940-node-573 </td><td>NA           </td><td>FALSE</td></tr>\n",
       "\t<tr><td> 952.075</td><td>952-node-209 </td><td>943-node-91  </td><td>NA           </td><td>FALSE</td></tr>\n",
       "\t<tr><td> 968.075</td><td>968-node-586 </td><td>952-node-209 </td><td>NA           </td><td>FALSE</td></tr>\n",
       "\t<tr><td> 984.075</td><td>984-node-139 </td><td>968-node-586 </td><td>NA           </td><td>FALSE</td></tr>\n",
       "\t<tr><td> 988.075</td><td>988-node-486 </td><td>984-node-139 </td><td>NA           </td><td>FALSE</td></tr>\n",
       "\t<tr><td>1007.075</td><td>1007-node-564</td><td>988-node-486 </td><td>NA           </td><td>FALSE</td></tr>\n",
       "\t<tr><td>1023.075</td><td>1023-node-151</td><td>1007-node-564</td><td>NA           </td><td>FALSE</td></tr>\n",
       "\t<tr><td>1052.075</td><td>1052-node-214</td><td>1023-node-151</td><td>1023-node-151</td><td>FALSE</td></tr>\n",
       "\t<tr><td>1089.075</td><td>1089-node-587</td><td>1052-node-214</td><td>1052-node-214</td><td>FALSE</td></tr>\n",
       "</tbody>\n",
       "</table>\n"
      ],
      "text/latex": [
       "A data.table: 14 x 5\n",
       "\\begin{tabular}{lllll}\n",
       " time\\_s & rb & parent & eb & has\\_tx\\\\\n",
       " <dbl> & <fct> & <fct> & <fct> & <lgl>\\\\\n",
       "\\hline\n",
       "\t  855.075 & 855-node-429  & 839-node-148  & NA            & FALSE\\\\\n",
       "\t  864.075 & 864-node-101  & 855-node-429  & NA            & FALSE\\\\\n",
       "\t  920.075 & 920-node-423  & 864-node-101  & 864-node-101  & FALSE\\\\\n",
       "\t  923.075 & 923-node-101  & 920-node-423  & NA            & FALSE\\\\\n",
       "\t  940.075 & 940-node-573  & 923-node-101  & NA            & FALSE\\\\\n",
       "\t  943.075 & 943-node-91   & 940-node-573  & NA            & FALSE\\\\\n",
       "\t  952.075 & 952-node-209  & 943-node-91   & NA            & FALSE\\\\\n",
       "\t  968.075 & 968-node-586  & 952-node-209  & NA            & FALSE\\\\\n",
       "\t  984.075 & 984-node-139  & 968-node-586  & NA            & FALSE\\\\\n",
       "\t  988.075 & 988-node-486  & 984-node-139  & NA            & FALSE\\\\\n",
       "\t 1007.075 & 1007-node-564 & 988-node-486  & NA            & FALSE\\\\\n",
       "\t 1023.075 & 1023-node-151 & 1007-node-564 & NA            & FALSE\\\\\n",
       "\t 1052.075 & 1052-node-214 & 1023-node-151 & 1023-node-151 & FALSE\\\\\n",
       "\t 1089.075 & 1089-node-587 & 1052-node-214 & 1052-node-214 & FALSE\\\\\n",
       "\\end{tabular}\n"
      ],
      "text/markdown": [
       "\n",
       "A data.table: 14 x 5\n",
       "\n",
       "| time_s &lt;dbl&gt; | rb &lt;fct&gt; | parent &lt;fct&gt; | eb &lt;fct&gt; | has_tx &lt;lgl&gt; |\n",
       "|---|---|---|---|---|\n",
       "|  855.075 | 855-node-429  | 839-node-148  | NA            | FALSE |\n",
       "|  864.075 | 864-node-101  | 855-node-429  | NA            | FALSE |\n",
       "|  920.075 | 920-node-423  | 864-node-101  | 864-node-101  | FALSE |\n",
       "|  923.075 | 923-node-101  | 920-node-423  | NA            | FALSE |\n",
       "|  940.075 | 940-node-573  | 923-node-101  | NA            | FALSE |\n",
       "|  943.075 | 943-node-91   | 940-node-573  | NA            | FALSE |\n",
       "|  952.075 | 952-node-209  | 943-node-91   | NA            | FALSE |\n",
       "|  968.075 | 968-node-586  | 952-node-209  | NA            | FALSE |\n",
       "|  984.075 | 984-node-139  | 968-node-586  | NA            | FALSE |\n",
       "|  988.075 | 988-node-486  | 984-node-139  | NA            | FALSE |\n",
       "| 1007.075 | 1007-node-564 | 988-node-486  | NA            | FALSE |\n",
       "| 1023.075 | 1023-node-151 | 1007-node-564 | NA            | FALSE |\n",
       "| 1052.075 | 1052-node-214 | 1023-node-151 | 1023-node-151 | FALSE |\n",
       "| 1089.075 | 1089-node-587 | 1052-node-214 | 1052-node-214 | FALSE |\n",
       "\n"
      ],
      "text/plain": [
       "   time_s   rb            parent        eb            has_tx\n",
       "1   855.075 855-node-429  839-node-148  NA            FALSE \n",
       "2   864.075 864-node-101  855-node-429  NA            FALSE \n",
       "3   920.075 920-node-423  864-node-101  864-node-101  FALSE \n",
       "4   923.075 923-node-101  920-node-423  NA            FALSE \n",
       "5   940.075 940-node-573  923-node-101  NA            FALSE \n",
       "6   943.075 943-node-91   940-node-573  NA            FALSE \n",
       "7   952.075 952-node-209  943-node-91   NA            FALSE \n",
       "8   968.075 968-node-586  952-node-209  NA            FALSE \n",
       "9   984.075 984-node-139  968-node-586  NA            FALSE \n",
       "10  988.075 988-node-486  984-node-139  NA            FALSE \n",
       "11 1007.075 1007-node-564 988-node-486  NA            FALSE \n",
       "12 1023.075 1023-node-151 1007-node-564 NA            FALSE \n",
       "13 1052.075 1052-node-214 1023-node-151 1023-node-151 FALSE \n",
       "14 1089.075 1089-node-587 1052-node-214 1052-node-214 FALSE "
      ]
     },
     "metadata": {},
     "output_type": "display_data"
    }
   ],
   "source": [
    "rbGenerated[`time_s` >= 850 & `time_s` <= 1100]"
   ]
  },
  {
   "cell_type": "code",
   "execution_count": 91,
   "id": "0a61f061-a1db-4730-98cb-25860cb1ea42",
   "metadata": {
    "tags": []
   },
   "outputs": [
    {
     "data": {
      "text/plain": [
       "     time_s                    rb           recipient    \n",
       " Min.   :  20.08   1052-node-214: 1240   node-450:  152  \n",
       " 1st Qu.: 552.58   1384-node-570: 1235   node-454:  152  \n",
       " Median : 923.79   1441-node-529: 1233   node-746:  152  \n",
       " Mean   : 839.26   1266-node-187: 1231   node-312:  151  \n",
       " 3rd Qu.:1201.32   26-node-95   : 1226   node-470:  151  \n",
       " Max.   :1470.56   1195-node-530: 1224   node-488:  151  \n",
       "                   (Other)      :61254   (Other) :67734  "
      ]
     },
     "metadata": {},
     "output_type": "display_data"
    }
   ],
   "source": [
    "rbReceived <- fread(\"rb-received.csv\", stringsAsFactors=TRUE)\n",
    "rbReceived %>% summary"
   ]
  },
  {
   "cell_type": "code",
   "execution_count": 104,
   "id": "25f4292e-27e7-4308-8a14-4e460d1388d9",
   "metadata": {
    "tags": []
   },
   "outputs": [
    {
     "data": {
      "text/plain": [
       "             rb      Created [s]      Any non-receipts? Last receipt [s]\n",
       " 100-node-432 : 1   Min.   :  20.07   Mode :logical     Min.   :  21.8  \n",
       " 1007-node-564: 1   1st Qu.: 518.08   FALSE:74          1st Qu.: 520.0  \n",
       " 1023-node-151: 1   Median : 855.08   TRUE :3           Median : 857.0  \n",
       " 105-node-598 : 1   Mean   : 808.93                     Mean   : 810.8  \n",
       " 1052-node-214: 1   3rd Qu.:1161.08                     3rd Qu.:1162.9  \n",
       " 1089-node-587: 1   Max.   :1468.08                     Max.   :1470.0  \n",
       " (Other)      :71                                                       \n",
       "  Elapsed [s]   \n",
       " Min.   :1.628  \n",
       " 1st Qu.:1.806  \n",
       " Median :1.887  \n",
       " Mean   :1.911  \n",
       " 3rd Qu.:1.935  \n",
       " Max.   :2.743  \n",
       "                "
      ]
     },
     "metadata": {},
     "output_type": "display_data"
    }
   ],
   "source": [
    "rbGenerated[, .(`Created [s]`=`time_s`, `rb`)][\n",
    "    rbReceived[, .(`Received [s]`=min(`time_s`)), .(`rb`, `recipient`)][, .(`Any non-receipts?`=.N<749, `Last receipt [s]`=max(`Received [s]`)), .(`rb`)],\n",
    "    on=\"rb\"\n",
    "][, .(`rb`, `Created [s]`, `Any non-receipts?`, `Last receipt [s]`, `Elapsed [s]`=`Last receipt [s]`-`Created [s]`)] %>% summary"
   ]
  },
  {
   "cell_type": "code",
   "execution_count": 110,
   "id": "26c7e8ad-92ff-4d72-bb01-47a0114f8c30",
   "metadata": {
    "tags": []
   },
   "outputs": [
    {
     "data": {
      "text/html": [
       "750"
      ],
      "text/latex": [
       "750"
      ],
      "text/markdown": [
       "750"
      ],
      "text/plain": [
       "[1] 750"
      ]
     },
     "metadata": {},
     "output_type": "display_data"
    }
   ],
   "source": [
    "rbReceived[, `recipient`=unique(`recipient`)]"
   ]
  },
  {
   "cell_type": "code",
   "execution_count": 115,
   "id": "40d53a32-676a-40e6-b7dc-31170554c2e4",
   "metadata": {
    "tags": []
   },
   "outputs": [
    {
     "data": {
      "text/plain": [
       "    recipient         time_s                    rb       \n",
       " node-450:  152   Min.   :  20.08   1052-node-214: 1240  \n",
       " node-454:  152   1st Qu.: 552.58   1384-node-570: 1235  \n",
       " node-746:  152   Median : 923.79   1441-node-529: 1233  \n",
       " node-312:  151   Mean   : 839.26   1266-node-187: 1231  \n",
       " node-470:  151   3rd Qu.:1201.32   26-node-95   : 1226  \n",
       " node-488:  151   Max.   :1470.56   1195-node-530: 1224  \n",
       " (Other) :67734                     (Other)      :61254  "
      ]
     },
     "metadata": {},
     "output_type": "display_data"
    }
   ],
   "source": [
    "rbReceived[, .(`recipient`=unique(`recipient`))][rbReceived, on=\"recipient\"] %>% summary"
   ]
  },
  {
   "cell_type": "markdown",
   "id": "58c20c79-bd55-473a-a176-9fd1a38037ec",
   "metadata": {},
   "source": [
    "The transaction was not directly included in an RB."
   ]
  },
  {
   "cell_type": "code",
   "execution_count": 33,
   "id": "40e0094c-88c0-4237-a683-8ad1a6794e07",
   "metadata": {
    "tags": []
   },
   "outputs": [
    {
     "data": {
      "text/html": [
       "<table class=\"dataframe\">\n",
       "<caption>A data.table: 0 x 5</caption>\n",
       "<thead>\n",
       "\t<tr><th scope=col>time_s</th><th scope=col>rb</th><th scope=col>parent</th><th scope=col>eb</th><th scope=col>has_tx</th></tr>\n",
       "\t<tr><th scope=col>&lt;dbl&gt;</th><th scope=col>&lt;fct&gt;</th><th scope=col>&lt;fct&gt;</th><th scope=col>&lt;fct&gt;</th><th scope=col>&lt;lgl&gt;</th></tr>\n",
       "</thead>\n",
       "<tbody>\n",
       "</tbody>\n",
       "</table>\n"
      ],
      "text/latex": [
       "A data.table: 0 x 5\n",
       "\\begin{tabular}{lllll}\n",
       " time\\_s & rb & parent & eb & has\\_tx\\\\\n",
       " <dbl> & <fct> & <fct> & <fct> & <lgl>\\\\\n",
       "\\hline\n",
       "\\end{tabular}\n"
      ],
      "text/markdown": [
       "\n",
       "A data.table: 0 x 5\n",
       "\n",
       "| time_s &lt;dbl&gt; | rb &lt;fct&gt; | parent &lt;fct&gt; | eb &lt;fct&gt; | has_tx &lt;lgl&gt; |\n",
       "|---|---|---|---|---|\n",
       "\n"
      ],
      "text/plain": [
       "     time_s rb parent eb has_tx"
      ]
     },
     "metadata": {},
     "output_type": "display_data"
    }
   ],
   "source": [
    "rbGenerated[`has_tx` == TRUE]"
   ]
  },
  {
   "cell_type": "code",
   "execution_count": 22,
   "id": "e8d68f70-c1b7-4b81-9e93-3c87de43946a",
   "metadata": {
    "tags": []
   },
   "outputs": [
    {
     "data": {
      "text/plain": [
       "     time_s             node               eb   \n",
       " Min.   : 920.1   node-101:1   1007-node-564:1  \n",
       " 1st Qu.: 940.1   node-139:1   920-node-423 :1  \n",
       " Median : 952.1   node-209:1   923-node-101 :1  \n",
       " Mean   : 958.4   node-423:1   940-node-573 :1  \n",
       " 3rd Qu.: 984.1   node-486:1   943-node-91  :1  \n",
       " Max.   :1007.1   node-564:1   952-node-209 :1  \n",
       "                  (Other) :3   (Other)      :3  "
      ]
     },
     "metadata": {},
     "output_type": "display_data"
    }
   ],
   "source": [
    "ebGenerated <- fread(\"eb-generated.csv\", stringsAsFactors=TRUE)\n",
    "ebGenerated %>% summary"
   ]
  },
  {
   "cell_type": "code",
   "execution_count": 23,
   "id": "31c9f476-28fa-485f-a13c-66b3b0f6e5ff",
   "metadata": {
    "tags": []
   },
   "outputs": [
    {
     "data": {
      "text/plain": [
       "     time_s                   eb          recipient   \n",
       " Min.   : 920.3   1007-node-564: 749   node-0  :   9  \n",
       " 1st Qu.: 940.9   920-node-423 : 749   node-1  :   9  \n",
       " Median : 953.0   923-node-101 : 749   node-10 :   9  \n",
       " Mean   : 959.5   940-node-573 : 749   node-100:   9  \n",
       " 3rd Qu.: 985.3   943-node-91  : 749   node-102:   9  \n",
       " Max.   :1010.0   952-node-209 : 749   node-103:   9  \n",
       "                  (Other)      :2247   (Other) :6687  "
      ]
     },
     "metadata": {},
     "output_type": "display_data"
    }
   ],
   "source": [
    "ebReceived <- fread(\"eb-received.csv\", stringsAsFactors=TRUE)\n",
    "ebReceived %>% summary"
   ]
  },
  {
   "cell_type": "markdown",
   "id": "9c85e866-69ea-4319-a8ba-49ceea069f8f",
   "metadata": {},
   "source": [
    "None of the EBs including the transaction were endorsed."
   ]
  },
  {
   "cell_type": "code",
   "execution_count": 36,
   "id": "3996683a-d5ac-42fc-a53a-9bc9f705a467",
   "metadata": {
    "tags": []
   },
   "outputs": [
    {
     "data": {
      "text/html": [
       "<table class=\"dataframe\">\n",
       "<caption>A data.table: 0 x 7</caption>\n",
       "<thead>\n",
       "\t<tr><th scope=col>time_s</th><th scope=col>node</th><th scope=col>eb</th><th scope=col>i.time_s</th><th scope=col>rb</th><th scope=col>parent</th><th scope=col>has_tx</th></tr>\n",
       "\t<tr><th scope=col>&lt;dbl&gt;</th><th scope=col>&lt;fct&gt;</th><th scope=col>&lt;fct&gt;</th><th scope=col>&lt;dbl&gt;</th><th scope=col>&lt;fct&gt;</th><th scope=col>&lt;fct&gt;</th><th scope=col>&lt;lgl&gt;</th></tr>\n",
       "</thead>\n",
       "<tbody>\n",
       "</tbody>\n",
       "</table>\n"
      ],
      "text/latex": [
       "A data.table: 0 x 7\n",
       "\\begin{tabular}{lllllll}\n",
       " time\\_s & node & eb & i.time\\_s & rb & parent & has\\_tx\\\\\n",
       " <dbl> & <fct> & <fct> & <dbl> & <fct> & <fct> & <lgl>\\\\\n",
       "\\hline\n",
       "\\end{tabular}\n"
      ],
      "text/markdown": [
       "\n",
       "A data.table: 0 x 7\n",
       "\n",
       "| time_s &lt;dbl&gt; | node &lt;fct&gt; | eb &lt;fct&gt; | i.time_s &lt;dbl&gt; | rb &lt;fct&gt; | parent &lt;fct&gt; | has_tx &lt;lgl&gt; |\n",
       "|---|---|---|---|---|---|---|\n",
       "\n"
      ],
      "text/plain": [
       "     time_s node eb i.time_s rb parent has_tx"
      ]
     },
     "metadata": {},
     "output_type": "display_data"
    }
   ],
   "source": [
    "ebGenerated[rbGenerated, on=\"eb\", nomatch=0]"
   ]
  },
  {
   "cell_type": "code",
   "execution_count": 38,
   "id": "637ac3b7-63b7-4b6e-b3c5-5b499dee6396",
   "metadata": {
    "tags": []
   },
   "outputs": [
    {
     "data": {
      "text/html": [
       "<table class=\"dataframe\">\n",
       "<caption>A data.table: 9 x 3</caption>\n",
       "<thead>\n",
       "\t<tr><th scope=col>time_s</th><th scope=col>node</th><th scope=col>eb</th></tr>\n",
       "\t<tr><th scope=col>&lt;dbl&gt;</th><th scope=col>&lt;fct&gt;</th><th scope=col>&lt;fct&gt;</th></tr>\n",
       "</thead>\n",
       "<tbody>\n",
       "\t<tr><td> 920.075</td><td>node-423</td><td>920-node-423 </td></tr>\n",
       "\t<tr><td> 923.075</td><td>node-101</td><td>923-node-101 </td></tr>\n",
       "\t<tr><td> 940.075</td><td>node-573</td><td>940-node-573 </td></tr>\n",
       "\t<tr><td> 943.075</td><td>node-91 </td><td>943-node-91  </td></tr>\n",
       "\t<tr><td> 952.075</td><td>node-209</td><td>952-node-209 </td></tr>\n",
       "\t<tr><td> 968.075</td><td>node-586</td><td>968-node-586 </td></tr>\n",
       "\t<tr><td> 984.075</td><td>node-139</td><td>984-node-139 </td></tr>\n",
       "\t<tr><td> 988.075</td><td>node-486</td><td>988-node-486 </td></tr>\n",
       "\t<tr><td>1007.075</td><td>node-564</td><td>1007-node-564</td></tr>\n",
       "</tbody>\n",
       "</table>\n"
      ],
      "text/latex": [
       "A data.table: 9 x 3\n",
       "\\begin{tabular}{lll}\n",
       " time\\_s & node & eb\\\\\n",
       " <dbl> & <fct> & <fct>\\\\\n",
       "\\hline\n",
       "\t  920.075 & node-423 & 920-node-423 \\\\\n",
       "\t  923.075 & node-101 & 923-node-101 \\\\\n",
       "\t  940.075 & node-573 & 940-node-573 \\\\\n",
       "\t  943.075 & node-91  & 943-node-91  \\\\\n",
       "\t  952.075 & node-209 & 952-node-209 \\\\\n",
       "\t  968.075 & node-586 & 968-node-586 \\\\\n",
       "\t  984.075 & node-139 & 984-node-139 \\\\\n",
       "\t  988.075 & node-486 & 988-node-486 \\\\\n",
       "\t 1007.075 & node-564 & 1007-node-564\\\\\n",
       "\\end{tabular}\n"
      ],
      "text/markdown": [
       "\n",
       "A data.table: 9 x 3\n",
       "\n",
       "| time_s &lt;dbl&gt; | node &lt;fct&gt; | eb &lt;fct&gt; |\n",
       "|---|---|---|\n",
       "|  920.075 | node-423 | 920-node-423  |\n",
       "|  923.075 | node-101 | 923-node-101  |\n",
       "|  940.075 | node-573 | 940-node-573  |\n",
       "|  943.075 | node-91  | 943-node-91   |\n",
       "|  952.075 | node-209 | 952-node-209  |\n",
       "|  968.075 | node-586 | 968-node-586  |\n",
       "|  984.075 | node-139 | 984-node-139  |\n",
       "|  988.075 | node-486 | 988-node-486  |\n",
       "| 1007.075 | node-564 | 1007-node-564 |\n",
       "\n"
      ],
      "text/plain": [
       "  time_s   node     eb           \n",
       "1  920.075 node-423 920-node-423 \n",
       "2  923.075 node-101 923-node-101 \n",
       "3  940.075 node-573 940-node-573 \n",
       "4  943.075 node-91  943-node-91  \n",
       "5  952.075 node-209 952-node-209 \n",
       "6  968.075 node-586 968-node-586 \n",
       "7  984.075 node-139 984-node-139 \n",
       "8  988.075 node-486 988-node-486 \n",
       "9 1007.075 node-564 1007-node-564"
      ]
     },
     "metadata": {},
     "output_type": "display_data"
    }
   ],
   "source": [
    "ebGenerated"
   ]
  },
  {
   "cell_type": "code",
   "execution_count": 72,
   "id": "d5d551a3-9305-42cc-8785-2b1989523a7a",
   "metadata": {
    "tags": []
   },
   "outputs": [
    {
     "data": {
      "text/html": [
       "<table class=\"dataframe\">\n",
       "<caption>A data.table: 9 x 5</caption>\n",
       "<thead>\n",
       "\t<tr><th scope=col>eb</th><th scope=col>Created [s]</th><th scope=col>Any non-receipts?</th><th scope=col>Last receipt [s]</th><th scope=col>Elapsed [s]</th></tr>\n",
       "\t<tr><th scope=col>&lt;fct&gt;</th><th scope=col>&lt;dbl&gt;</th><th scope=col>&lt;lgl&gt;</th><th scope=col>&lt;dbl&gt;</th><th scope=col>&lt;dbl&gt;</th></tr>\n",
       "</thead>\n",
       "<tbody>\n",
       "\t<tr><td>920-node-423 </td><td> 920.075</td><td>FALSE</td><td> 922.0910</td><td>2.0160</td></tr>\n",
       "\t<tr><td>923-node-101 </td><td> 923.075</td><td>FALSE</td><td> 925.1240</td><td>2.0490</td></tr>\n",
       "\t<tr><td>940-node-573 </td><td> 940.075</td><td>FALSE</td><td> 942.2498</td><td>2.1748</td></tr>\n",
       "\t<tr><td>943-node-91  </td><td> 943.075</td><td>FALSE</td><td> 945.2436</td><td>2.1686</td></tr>\n",
       "\t<tr><td>952-node-209 </td><td> 952.075</td><td>FALSE</td><td> 954.3091</td><td>2.2341</td></tr>\n",
       "\t<tr><td>968-node-586 </td><td> 968.075</td><td>FALSE</td><td> 970.3027</td><td>2.2277</td></tr>\n",
       "\t<tr><td>984-node-139 </td><td> 984.075</td><td>FALSE</td><td> 986.2630</td><td>2.1880</td></tr>\n",
       "\t<tr><td>988-node-486 </td><td> 988.075</td><td>FALSE</td><td> 990.3145</td><td>2.2395</td></tr>\n",
       "\t<tr><td>1007-node-564</td><td>1007.075</td><td>FALSE</td><td>1010.0482</td><td>2.9732</td></tr>\n",
       "</tbody>\n",
       "</table>\n"
      ],
      "text/latex": [
       "A data.table: 9 x 5\n",
       "\\begin{tabular}{lllll}\n",
       " eb & Created {[}s{]} & Any non-receipts? & Last receipt {[}s{]} & Elapsed {[}s{]}\\\\\n",
       " <fct> & <dbl> & <lgl> & <dbl> & <dbl>\\\\\n",
       "\\hline\n",
       "\t 920-node-423  &  920.075 & FALSE &  922.0910 & 2.0160\\\\\n",
       "\t 923-node-101  &  923.075 & FALSE &  925.1240 & 2.0490\\\\\n",
       "\t 940-node-573  &  940.075 & FALSE &  942.2498 & 2.1748\\\\\n",
       "\t 943-node-91   &  943.075 & FALSE &  945.2436 & 2.1686\\\\\n",
       "\t 952-node-209  &  952.075 & FALSE &  954.3091 & 2.2341\\\\\n",
       "\t 968-node-586  &  968.075 & FALSE &  970.3027 & 2.2277\\\\\n",
       "\t 984-node-139  &  984.075 & FALSE &  986.2630 & 2.1880\\\\\n",
       "\t 988-node-486  &  988.075 & FALSE &  990.3145 & 2.2395\\\\\n",
       "\t 1007-node-564 & 1007.075 & FALSE & 1010.0482 & 2.9732\\\\\n",
       "\\end{tabular}\n"
      ],
      "text/markdown": [
       "\n",
       "A data.table: 9 x 5\n",
       "\n",
       "| eb &lt;fct&gt; | Created [s] &lt;dbl&gt; | Any non-receipts? &lt;lgl&gt; | Last receipt [s] &lt;dbl&gt; | Elapsed [s] &lt;dbl&gt; |\n",
       "|---|---|---|---|---|\n",
       "| 920-node-423  |  920.075 | FALSE |  922.0910 | 2.0160 |\n",
       "| 923-node-101  |  923.075 | FALSE |  925.1240 | 2.0490 |\n",
       "| 940-node-573  |  940.075 | FALSE |  942.2498 | 2.1748 |\n",
       "| 943-node-91   |  943.075 | FALSE |  945.2436 | 2.1686 |\n",
       "| 952-node-209  |  952.075 | FALSE |  954.3091 | 2.2341 |\n",
       "| 968-node-586  |  968.075 | FALSE |  970.3027 | 2.2277 |\n",
       "| 984-node-139  |  984.075 | FALSE |  986.2630 | 2.1880 |\n",
       "| 988-node-486  |  988.075 | FALSE |  990.3145 | 2.2395 |\n",
       "| 1007-node-564 | 1007.075 | FALSE | 1010.0482 | 2.9732 |\n",
       "\n"
      ],
      "text/plain": [
       "  eb            Created [s] Any non-receipts? Last receipt [s] Elapsed [s]\n",
       "1 920-node-423   920.075    FALSE              922.0910        2.0160     \n",
       "2 923-node-101   923.075    FALSE              925.1240        2.0490     \n",
       "3 940-node-573   940.075    FALSE              942.2498        2.1748     \n",
       "4 943-node-91    943.075    FALSE              945.2436        2.1686     \n",
       "5 952-node-209   952.075    FALSE              954.3091        2.2341     \n",
       "6 968-node-586   968.075    FALSE              970.3027        2.2277     \n",
       "7 984-node-139   984.075    FALSE              986.2630        2.1880     \n",
       "8 988-node-486   988.075    FALSE              990.3145        2.2395     \n",
       "9 1007-node-564 1007.075    FALSE             1010.0482        2.9732     "
      ]
     },
     "metadata": {},
     "output_type": "display_data"
    }
   ],
   "source": [
    "ebGenerated[, .(`eb`, `Created [s]`=`time_s`)][\n",
    "    ebReceived[, .(`Any non-receipts?`=.N!=749, `Last receipt [s]`=max(`time_s`)), .(`eb`)],\n",
    "    on=\"eb\"\n",
    "][, .(`eb`, `Created [s]`, `Any non-receipts?`, `Last receipt [s]`, `Elapsed [s]`=`Last receipt [s]`-`Created [s]`)]"
   ]
  },
  {
   "cell_type": "code",
   "execution_count": 24,
   "id": "3ae39ca6-a49c-4bee-adac-498245728967",
   "metadata": {
    "tags": []
   },
   "outputs": [
    {
     "data": {
      "text/plain": [
       "     time_s             node                 vote                  eb     \n",
       " Min.   : 920.1   node-1  :   9   1007-node-1  :   1   968-node-586 :200  \n",
       " 1st Qu.: 943.0   node-100:   9   1007-node-100:   1   943-node-91  :192  \n",
       " Median : 955.0   node-101:   9   1007-node-101:   1   952-node-209 :189  \n",
       " Mean   : 961.4   node-12 :   9   1007-node-12 :   1   1007-node-564:188  \n",
       " 3rd Qu.: 987.0   node-132:   9   1007-node-13 :   1   920-node-423 :188  \n",
       " Max.   :1011.7   node-135:   9   1007-node-131:   1   988-node-486 :188  \n",
       "                  (Other) :1649   (Other)      :1697   (Other)      :558  \n",
       "     weight     \n",
       " Min.   :1.000  \n",
       " 1st Qu.:1.000  \n",
       " Median :2.000  \n",
       " Mean   :2.554  \n",
       " 3rd Qu.:3.000  \n",
       " Max.   :8.000  \n",
       "                "
      ]
     },
     "metadata": {},
     "output_type": "display_data"
    }
   ],
   "source": [
    "vtGenerated <- fread(\"vt-generated.csv\", stringsAsFactors=TRUE)\n",
    "vtGenerated %>% summary"
   ]
  },
  {
   "cell_type": "code",
   "execution_count": 25,
   "id": "21cd8f93-6999-47d6-9ba0-82d56cc866bd",
   "metadata": {
    "tags": []
   },
   "outputs": [
    {
     "data": {
      "text/plain": [
       "     time_s                  vote            recipient      \n",
       " Min.   : 920.1   1007-node-1  :    749   node-10 :   1703  \n",
       " 1st Qu.: 943.1   1007-node-100:    749   node-102:   1703  \n",
       " Median : 955.1   1007-node-101:    749   node-103:   1703  \n",
       " Mean   : 961.7   1007-node-12 :    749   node-104:   1703  \n",
       " 3rd Qu.: 987.3   1007-node-13 :    749   node-105:   1703  \n",
       " Max.   :1013.6   1007-node-131:    749   node-106:   1703  \n",
       "                  (Other)      :1271053   (Other) :1265329  "
      ]
     },
     "metadata": {},
     "output_type": "display_data"
    }
   ],
   "source": [
    "vtReceived <- fread(\"vt-received.csv\", stringsAsFactors=TRUE)\n",
    "vtReceived %>% summary"
   ]
  },
  {
   "cell_type": "code",
   "execution_count": 74,
   "id": "b2b628a1-1de3-4dc5-be9c-f507a5c73b46",
   "metadata": {
    "tags": []
   },
   "outputs": [
    {
     "data": {
      "text/html": [
       "<table class=\"dataframe\">\n",
       "<caption>A data.table: 9 x 6</caption>\n",
       "<thead>\n",
       "\t<tr><th scope=col>eb</th><th scope=col>Created [s]</th><th scope=col>weight</th><th scope=col>Any non-receipts?</th><th scope=col>Last receipt [s]</th><th scope=col>Elapsed [s]</th></tr>\n",
       "\t<tr><th scope=col>&lt;fct&gt;</th><th scope=col>&lt;dbl&gt;</th><th scope=col>&lt;int&gt;</th><th scope=col>&lt;lgl&gt;</th><th scope=col>&lt;dbl&gt;</th><th scope=col>&lt;dbl&gt;</th></tr>\n",
       "</thead>\n",
       "<tbody>\n",
       "\t<tr><td>920-node-423 </td><td> 920.075</td><td>509</td><td>FALSE</td><td> 925.0764</td><td>5.0014</td></tr>\n",
       "\t<tr><td>923-node-101 </td><td> 923.075</td><td>454</td><td>FALSE</td><td> 928.1464</td><td>5.0714</td></tr>\n",
       "\t<tr><td>940-node-573 </td><td> 940.075</td><td>513</td><td>FALSE</td><td> 945.5587</td><td>5.4837</td></tr>\n",
       "\t<tr><td>943-node-91  </td><td> 943.075</td><td>497</td><td>FALSE</td><td> 948.5800</td><td>5.5050</td></tr>\n",
       "\t<tr><td>952-node-209 </td><td> 952.075</td><td>467</td><td>FALSE</td><td> 957.8020</td><td>5.7270</td></tr>\n",
       "\t<tr><td>968-node-586 </td><td> 968.075</td><td>473</td><td>FALSE</td><td> 973.9178</td><td>5.8428</td></tr>\n",
       "\t<tr><td>984-node-139 </td><td> 984.075</td><td>480</td><td>FALSE</td><td> 989.8634</td><td>5.7884</td></tr>\n",
       "\t<tr><td>988-node-486 </td><td> 988.075</td><td>497</td><td>FALSE</td><td> 993.9080</td><td>5.8330</td></tr>\n",
       "\t<tr><td>1007-node-564</td><td>1007.075</td><td>459</td><td>FALSE</td><td>1013.5602</td><td>6.4852</td></tr>\n",
       "</tbody>\n",
       "</table>\n"
      ],
      "text/latex": [
       "A data.table: 9 x 6\n",
       "\\begin{tabular}{llllll}\n",
       " eb & Created {[}s{]} & weight & Any non-receipts? & Last receipt {[}s{]} & Elapsed {[}s{]}\\\\\n",
       " <fct> & <dbl> & <int> & <lgl> & <dbl> & <dbl>\\\\\n",
       "\\hline\n",
       "\t 920-node-423  &  920.075 & 509 & FALSE &  925.0764 & 5.0014\\\\\n",
       "\t 923-node-101  &  923.075 & 454 & FALSE &  928.1464 & 5.0714\\\\\n",
       "\t 940-node-573  &  940.075 & 513 & FALSE &  945.5587 & 5.4837\\\\\n",
       "\t 943-node-91   &  943.075 & 497 & FALSE &  948.5800 & 5.5050\\\\\n",
       "\t 952-node-209  &  952.075 & 467 & FALSE &  957.8020 & 5.7270\\\\\n",
       "\t 968-node-586  &  968.075 & 473 & FALSE &  973.9178 & 5.8428\\\\\n",
       "\t 984-node-139  &  984.075 & 480 & FALSE &  989.8634 & 5.7884\\\\\n",
       "\t 988-node-486  &  988.075 & 497 & FALSE &  993.9080 & 5.8330\\\\\n",
       "\t 1007-node-564 & 1007.075 & 459 & FALSE & 1013.5602 & 6.4852\\\\\n",
       "\\end{tabular}\n"
      ],
      "text/markdown": [
       "\n",
       "A data.table: 9 x 6\n",
       "\n",
       "| eb &lt;fct&gt; | Created [s] &lt;dbl&gt; | weight &lt;int&gt; | Any non-receipts? &lt;lgl&gt; | Last receipt [s] &lt;dbl&gt; | Elapsed [s] &lt;dbl&gt; |\n",
       "|---|---|---|---|---|---|\n",
       "| 920-node-423  |  920.075 | 509 | FALSE |  925.0764 | 5.0014 |\n",
       "| 923-node-101  |  923.075 | 454 | FALSE |  928.1464 | 5.0714 |\n",
       "| 940-node-573  |  940.075 | 513 | FALSE |  945.5587 | 5.4837 |\n",
       "| 943-node-91   |  943.075 | 497 | FALSE |  948.5800 | 5.5050 |\n",
       "| 952-node-209  |  952.075 | 467 | FALSE |  957.8020 | 5.7270 |\n",
       "| 968-node-586  |  968.075 | 473 | FALSE |  973.9178 | 5.8428 |\n",
       "| 984-node-139  |  984.075 | 480 | FALSE |  989.8634 | 5.7884 |\n",
       "| 988-node-486  |  988.075 | 497 | FALSE |  993.9080 | 5.8330 |\n",
       "| 1007-node-564 | 1007.075 | 459 | FALSE | 1013.5602 | 6.4852 |\n",
       "\n"
      ],
      "text/plain": [
       "  eb            Created [s] weight Any non-receipts? Last receipt [s]\n",
       "1 920-node-423   920.075    509    FALSE              925.0764       \n",
       "2 923-node-101   923.075    454    FALSE              928.1464       \n",
       "3 940-node-573   940.075    513    FALSE              945.5587       \n",
       "4 943-node-91    943.075    497    FALSE              948.5800       \n",
       "5 952-node-209   952.075    467    FALSE              957.8020       \n",
       "6 968-node-586   968.075    473    FALSE              973.9178       \n",
       "7 984-node-139   984.075    480    FALSE              989.8634       \n",
       "8 988-node-486   988.075    497    FALSE              993.9080       \n",
       "9 1007-node-564 1007.075    459    FALSE             1013.5602       \n",
       "  Elapsed [s]\n",
       "1 5.0014     \n",
       "2 5.0714     \n",
       "3 5.4837     \n",
       "4 5.5050     \n",
       "5 5.7270     \n",
       "6 5.8428     \n",
       "7 5.7884     \n",
       "8 5.8330     \n",
       "9 6.4852     "
      ]
     },
     "metadata": {},
     "output_type": "display_data"
    }
   ],
   "source": [
    "ebGenerated[, .(`eb`, `Created [s]`=`time_s`)][\n",
    "    vtGenerated[, .(`eb`, `vote`, `weight`)][\n",
    "        vtReceived[, .(`Any non-receipts?`=.N!=749, `Last receipt [s]`=max(`time_s`)), .(`vote`)],\n",
    "        on=\"vote\"\n",
    "    ][, .(`weight`=sum(`weight`), `Any non-receipts?`=any(`Any non-receipts?`), `Last receipt [s]`=max(`Last receipt [s]`)), .(`eb`)],\n",
    "    on=\"eb\"\n",
    "][, .(`eb`, `Created [s]`, `weight`, `Any non-receipts?`, `Last receipt [s]`, `Elapsed [s]`=`Last receipt [s]`-`Created [s]`)]"
   ]
  },
  {
   "cell_type": "code",
   "execution_count": 71,
   "id": "c64dc7a3-51d5-487e-9ba3-3f2e587a7d11",
   "metadata": {
    "tags": []
   },
   "outputs": [
    {
     "data": {
      "text/html": [
       "<table class=\"dataframe\">\n",
       "<caption>A data.table: 6 x 3</caption>\n",
       "<thead>\n",
       "\t<tr><th scope=col>time_s</th><th scope=col>node</th><th scope=col>eb</th></tr>\n",
       "\t<tr><th scope=col>&lt;dbl&gt;</th><th scope=col>&lt;fct&gt;</th><th scope=col>&lt;fct&gt;</th></tr>\n",
       "</thead>\n",
       "<tbody>\n",
       "\t<tr><td>920.075</td><td>node-423</td><td>920-node-423</td></tr>\n",
       "\t<tr><td>923.075</td><td>node-101</td><td>923-node-101</td></tr>\n",
       "\t<tr><td>940.075</td><td>node-573</td><td>940-node-573</td></tr>\n",
       "\t<tr><td>943.075</td><td>node-91 </td><td>943-node-91 </td></tr>\n",
       "\t<tr><td>952.075</td><td>node-209</td><td>952-node-209</td></tr>\n",
       "\t<tr><td>968.075</td><td>node-586</td><td>968-node-586</td></tr>\n",
       "</tbody>\n",
       "</table>\n"
      ],
      "text/latex": [
       "A data.table: 6 x 3\n",
       "\\begin{tabular}{lll}\n",
       " time\\_s & node & eb\\\\\n",
       " <dbl> & <fct> & <fct>\\\\\n",
       "\\hline\n",
       "\t 920.075 & node-423 & 920-node-423\\\\\n",
       "\t 923.075 & node-101 & 923-node-101\\\\\n",
       "\t 940.075 & node-573 & 940-node-573\\\\\n",
       "\t 943.075 & node-91  & 943-node-91 \\\\\n",
       "\t 952.075 & node-209 & 952-node-209\\\\\n",
       "\t 968.075 & node-586 & 968-node-586\\\\\n",
       "\\end{tabular}\n"
      ],
      "text/markdown": [
       "\n",
       "A data.table: 6 x 3\n",
       "\n",
       "| time_s &lt;dbl&gt; | node &lt;fct&gt; | eb &lt;fct&gt; |\n",
       "|---|---|---|\n",
       "| 920.075 | node-423 | 920-node-423 |\n",
       "| 923.075 | node-101 | 923-node-101 |\n",
       "| 940.075 | node-573 | 940-node-573 |\n",
       "| 943.075 | node-91  | 943-node-91  |\n",
       "| 952.075 | node-209 | 952-node-209 |\n",
       "| 968.075 | node-586 | 968-node-586 |\n",
       "\n"
      ],
      "text/plain": [
       "  time_s  node     eb          \n",
       "1 920.075 node-423 920-node-423\n",
       "2 923.075 node-101 923-node-101\n",
       "3 940.075 node-573 940-node-573\n",
       "4 943.075 node-91  943-node-91 \n",
       "5 952.075 node-209 952-node-209\n",
       "6 968.075 node-586 968-node-586"
      ]
     },
     "metadata": {},
     "output_type": "display_data"
    }
   ],
   "source": [
    "ebGenerated %>% head"
   ]
  },
  {
   "cell_type": "code",
   "execution_count": null,
   "id": "65d5eed1-4515-40f5-95ce-eb9af7ca69a7",
   "metadata": {},
   "outputs": [],
   "source": []
  }
 ],
 "metadata": {
  "kernelspec": {
   "display_name": "r-minimal kernel",
   "language": "r",
   "name": "r-minimal"
  },
  "language_info": {
   "codemirror_mode": "r",
   "file_extension": ".r",
   "mimetype": "text/x-r-source",
   "name": "R",
   "pygments_lexer": "r",
   "version": "4.2.2"
  }
 },
 "nbformat": 4,
 "nbformat_minor": 5
}
