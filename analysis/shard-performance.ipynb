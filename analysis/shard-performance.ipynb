{
 "cells": [
  {
   "cell_type": "markdown",
   "id": "6f51ef28-e6f6-41b5-80c9-1d873f4de641",
   "metadata": {},
   "source": [
    "# Performance of sharding"
   ]
  },
  {
   "cell_type": "markdown",
   "id": "bd03ac2e-ee25-48b1-a69b-a0c3b9462296",
   "metadata": {},
   "source": [
    "Consider the situation where protocol parameters are set to generate a mean of $m$ IBs for each shard, during the interval before transactions in IBs are temporarily blacklisted.\n",
    "\n",
    "The probability of having $k$ IBs generated for the shard follows a Poisson distribution with mean $m$ is\n",
    "\n",
    "$$\n",
    "\\mathcal{P}(k) = \\frac{m^k}{k!} e^{-m} \\; .\n",
    "$$\n",
    "\n",
    "We're interested in two types of inefficiency:\n",
    "\n",
    "1. *No IB is generated for the shard:* there will be no opportunity for transactions to be included in their assigned shard.\n",
    "2. *More than one IB is generated for the shard:* there will be several candidate IBs for the transaction, so (a) the transaction might appear in several IBs and/or (b) IBs would be smaller than if there were just a single one for the shard.\n",
    "\n",
    "The expected fraction of cases where there is no IB for the shard is \n",
    "\n",
    "$$\n",
    "\\mathbf{E}[1 | k = 0] = e^{- m} \\; .\n",
    "$$\n",
    "\n",
    "Similarly, the expected number of extra IBs for the shard is\n",
    "\n",
    "$$\n",
    "\\mathbf{E}[k - 1 | k \\geq 2] = m - 1 + e^{-m} \\; .\n",
    "$$\n",
    "\n",
    "We can plot these quantities."
   ]
  },
  {
   "cell_type": "markdown",
   "id": "0d5b2bc1-62ed-4ff3-ab9f-fef819dd680f",
   "metadata": {},
   "source": [
    "## No IB for shard vs number of extra IBs"
   ]
  },
  {
   "cell_type": "markdown",
   "id": "c3c45f18-7c67-4ab7-a0fd-85259f997413",
   "metadata": {},
   "source": [
    "### Load dependencies"
   ]
  },
  {
   "cell_type": "code",
   "execution_count": 1,
   "id": "e33b8d8e-8f23-4c46-8ca3-27321169f5d5",
   "metadata": {
    "tags": []
   },
   "outputs": [],
   "source": [
    "suppressMessages({\n",
    "    require(data.table, quietly=TRUE)\n",
    "    require(ggplot2, quietly=TRUE)\n",
    "    require(magrittr, quietly=TRUE)\n",
    "})"
   ]
  },
  {
   "cell_type": "markdown",
   "id": "a8d54c6d-97f7-41ec-bd38-3393ec032998",
   "metadata": {},
   "source": [
    "### Define the expectations"
   ]
  },
  {
   "cell_type": "code",
   "execution_count": 2,
   "id": "720f1f70-7e64-44a3-a6ba-40f7f1773bff",
   "metadata": {
    "tags": []
   },
   "outputs": [],
   "source": [
    "expectNoShard <- function(m)\n",
    "    exp(- m)"
   ]
  },
  {
   "cell_type": "code",
   "execution_count": 3,
   "id": "020fde22-2c11-4550-b16c-66cf3b2d2c2f",
   "metadata": {
    "tags": []
   },
   "outputs": [],
   "source": [
    "expectMultipleShards <- function(m)\n",
    "    m - 1 + exp(- m)"
   ]
  },
  {
   "cell_type": "markdown",
   "id": "add58741-a180-4599-bd9d-a91b979d9fdb",
   "metadata": {},
   "source": [
    "Make the plot"
   ]
  },
  {
   "cell_type": "code",
   "execution_count": 4,
   "id": "6f6cc545-4e51-4b9d-b5d4-3f8538a0c276",
   "metadata": {
    "tags": []
   },
   "outputs": [],
   "source": [
    "results <-\n",
    "data.table(`Protocol IBs per shard`=1:20/5)[, .(\n",
    "    `Protocol IBs per shard`,\n",
    "    `Fraction of shards with no IB` = expectNoShard(`Protocol IBs per shard`),\n",
    "    `Mean number of extra IBs for the shard` = expectMultipleShards(`Protocol IBs per shard`)\n",
    ")]"
   ]
  },
  {
   "cell_type": "code",
   "execution_count": 5,
   "id": "9677b491-79e9-4451-9fef-1ce3bf45ac08",
   "metadata": {
    "tags": []
   },
   "outputs": [
    {
     "data": {
      "image/png": "[encoded data removed]",
      "text/plain": [
       "plot without title"
      ]
     },
     "metadata": {
      "image/png": {
       "height": 420,
       "width": 420
      }
     },
     "output_type": "display_data"
    }
   ],
   "source": [
    "ggplot(results, aes(x=`Fraction of shards with no IB`, y=`Mean number of extra IBs for the shard`)) +\n",
    "    geom_line()"
   ]
  },
  {
   "cell_type": "code",
   "execution_count": 6,
   "id": "b27f1a07-9dff-4898-a4f2-9fd404501c91",
   "metadata": {
    "tags": []
   },
   "outputs": [],
   "source": [
    "ggsave(\"shard-performance.png\", units=\"in\", width=8, height=6, dpi=150)"
   ]
  },
  {
   "cell_type": "code",
   "execution_count": 7,
   "id": "9d1e54c5-a923-4884-8b0e-f95c39a66380",
   "metadata": {
    "tags": []
   },
   "outputs": [],
   "source": [
    "ggsave(\"shard-performance.svg\", units=\"in\", width=8, height=6, dpi=150)"
   ]
  },
  {
   "cell_type": "code",
   "execution_count": null,
   "id": "adc544b2-e173-4013-8507-b5715ab7074b",
   "metadata": {},
   "outputs": [],
   "source": []
  }
 ],
 "metadata": {
  "kernelspec": {
   "display_name": "r-minimal kernel",
   "language": "r",
   "name": "r-minimal"
  },
  "language_info": {
   "codemirror_mode": "r",
   "file_extension": ".r",
   "mimetype": "text/x-r-source",
   "name": "R",
   "pygments_lexer": "r",
   "version": "4.2.2"
  }
 },
 "nbformat": 4,
 "nbformat_minor": 5
}
