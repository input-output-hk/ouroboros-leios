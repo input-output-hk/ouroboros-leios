{
 "cells": [
  {
   "cell_type": "markdown",
   "id": "7fe73b4e-0447-47f3-9bc5-a387531345ce",
   "metadata": {},
   "source": [
    "# Analysis of mainnet transaction validation times"
   ]
  },
  {
   "cell_type": "markdown",
   "id": "45d83e31-7476-4db3-b375-1ebb49c0bc10",
   "metadata": {},
   "source": [
    "## Setup"
   ]
  },
  {
   "cell_type": "code",
   "execution_count": 1,
   "id": "d1970b60-47cd-4618-937e-24eb03c7efd0",
   "metadata": {
    "tags": []
   },
   "outputs": [],
   "source": [
    "suppressMessages({\n",
    "    require(data.table, quietly=TRUE)\n",
    "    require(ggplot2, quietly=TRUE)\n",
    "    require(magrittr, quietly=TRUE)\n",
    "    require(VGAM, quietly=TRUE)\n",
    "})"
   ]
  },
  {
   "cell_type": "markdown",
   "id": "5a75f51b-6a23-4c27-8519-adafea0f7a2c",
   "metadata": {},
   "source": [
    "### Generate data\n",
    "\n",
    "We use the `db-analyser` tool:\n",
    "\n",
    "```bash\n",
    "nix build 'github:IntersectMBO/ouroboros-consensus/release-ouroboros-consensus-diffusion-0.20.0.0#db-analyser'\n",
    "```\n",
    "\n",
    "Measure CPU usage starting from [Epoch 350](https://cardanoscan.io/block/7477993) and doing full application of blocks.\n",
    "\n",
    "```bash\n",
    "db-analyser \\\n",
    "  --verbose \\\n",
    "  --db node.db/ \\\n",
    "  --analyse-from 65836843 \\\n",
    "  --benchmark-ledger-ops \\\n",
    "    --out-file ledger-ops-apply-65836843.csv \\\n",
    "  cardano --config node.json\n",
    "```\n",
    "\n",
    "Re-measure CPU usage but only reapplying blocks.\n",
    "\n",
    "```bash\n",
    "db-analyser \\\n",
    "  --verbose \\\n",
    "  --db node.db/ \\\n",
    "  --analyse-from 65836843 \\\n",
    "  --benchmark-ledger-ops \\\n",
    "    --out-file ledger-ops-reapply-65836843.csv \\\n",
    "    --reapply \\\n",
    "  cardano --config node.json\n",
    "```\n",
    "\n",
    "The dominant difference between application and reapplication is the verification of transaction signatures and the execution of Plutus scripts.\n",
    "\n",
    "<font color=\"red\">WARNING: The measurements must be made on an otherwise idle machine because other CPU-heavy processes will interfere with the accuracy of `db-analyser`.</font>"
   ]
  },
  {
   "cell_type": "markdown",
   "id": "7f0e439f-527d-4019-911a-e9b6bbe98f84",
   "metadata": {},
   "source": [
    "## Read data"
   ]
  },
  {
   "cell_type": "markdown",
   "id": "a9a51ed3-bdd7-46ae-b902-363459ee9c72",
   "metadata": {},
   "source": [
    "### Application"
   ]
  },
  {
   "cell_type": "code",
   "execution_count": 2,
   "id": "85656513-697c-4c85-8d28-e6a741bbaed9",
   "metadata": {
    "tags": []
   },
   "outputs": [
    {
     "data": {
      "text/plain": [
       "      Slot             Block [kB]        Tx count       Tx size [kB]   \n",
       " Min.   : 65836984   Min.   : 0.864   Min.   :  0.00   Min.   : 0.000  \n",
       " 1st Qu.: 89833176   1st Qu.: 6.235   1st Qu.:  4.00   1st Qu.: 5.369  \n",
       " Median :113740091   Median :20.825   Median : 10.00   Median :19.962  \n",
       " Mean   :113666120   Mean   :31.091   Mean   : 14.19   Mean   :30.231  \n",
       " 3rd Qu.:137528206   3rd Qu.:50.030   3rd Qu.: 21.00   3rd Qu.:49.175  \n",
       " Max.   :161151612   Max.   :90.061   Max.   :385.00   Max.   :89.053  \n",
       " Tx exec [step]      Apply CPU [ms]     \n",
       " Min.   :0.000e+00   Min.   :    0.068  \n",
       " 1st Qu.:4.381e+08   1st Qu.:    0.481  \n",
       " Median :2.024e+09   Median :    0.923  \n",
       " Mean   :3.272e+09   Mean   :    1.631  \n",
       " 3rd Qu.:5.067e+09   3rd Qu.:    1.773  \n",
       " Max.   :3.625e+10   Max.   :30172.027  "
      ]
     },
     "metadata": {},
     "output_type": "display_data"
    }
   ],
   "source": [
    "timingsApply <- fread(\"ledger-ops-apply-65836843.csv.gz\")[\n",
    "    `slot` >= 65836843, # Epoch 350\n",
    "    .(\n",
    "        `Slot`=`slot`,\n",
    "        `Block [kB]`=`blockBytes`/1000,\n",
    "        `Tx count`=as.numeric(`txs`),\n",
    "        `Tx size [kB]`=txs_size/1000,\n",
    "        `Tx exec [step]`=as.numeric(`txs_steps`),\n",
    "        `Apply CPU [ms]`=`totalTime`/1000\n",
    "    )\n",
    "]\n",
    "timingsApply %>% summary"
   ]
  },
  {
   "cell_type": "markdown",
   "id": "4fd017ad-13db-4cb3-b29d-e9e8dda40f89",
   "metadata": {},
   "source": [
    "### Reapplication"
   ]
  },
  {
   "cell_type": "code",
   "execution_count": 3,
   "id": "6df7d877-5715-421c-8fca-bad2efba4c32",
   "metadata": {
    "tags": []
   },
   "outputs": [
    {
     "data": {
      "text/plain": [
       "      Slot           Reapply CPU [ms]   \n",
       " Min.   : 65836984   Min.   :    0.068  \n",
       " 1st Qu.: 89833176   1st Qu.:    0.483  \n",
       " Median :113740091   Median :    0.927  \n",
       " Mean   :113666120   Mean   :    1.644  \n",
       " 3rd Qu.:137528206   3rd Qu.:    1.770  \n",
       " Max.   :161151612   Max.   :31563.911  "
      ]
     },
     "metadata": {},
     "output_type": "display_data"
    }
   ],
   "source": [
    "timingsReapply <- fread(\"ledger-ops-reapply-65836843.csv.gz\")[\n",
    "    `slot` >= 65836843, # Epoch 350\n",
    "    .(\n",
    "        `Slot`=`slot`,\n",
    "        `Reapply CPU [ms]`=`totalTime`/1000\n",
    "    )\n",
    "]\n",
    "timingsReapply %>% summary"
   ]
  },
  {
   "cell_type": "markdown",
   "id": "fff4e948-bb3a-4174-b3d1-73e1614aa395",
   "metadata": {},
   "source": [
    "### Join the datasets"
   ]
  },
  {
   "cell_type": "code",
   "execution_count": 4,
   "id": "1dbda0df-b25e-4c9b-86b6-ac6a1f5f6d03",
   "metadata": {
    "tags": []
   },
   "outputs": [
    {
     "data": {
      "text/plain": [
       "      Slot             Block [kB]        Tx count       Tx size [kB]   \n",
       " Min.   : 65836984   Min.   : 0.864   Min.   :  0.00   Min.   : 0.000  \n",
       " 1st Qu.: 89833176   1st Qu.: 6.235   1st Qu.:  4.00   1st Qu.: 5.369  \n",
       " Median :113740091   Median :20.825   Median : 10.00   Median :19.962  \n",
       " Mean   :113666120   Mean   :31.091   Mean   : 14.19   Mean   :30.231  \n",
       " 3rd Qu.:137528206   3rd Qu.:50.030   3rd Qu.: 21.00   3rd Qu.:49.175  \n",
       " Max.   :161151612   Max.   :90.061   Max.   :385.00   Max.   :89.053  \n",
       " Tx exec [step]      Apply CPU [ms]      Reapply CPU [ms]   \n",
       " Min.   :0.000e+00   Min.   :    0.068   Min.   :    0.068  \n",
       " 1st Qu.:4.381e+08   1st Qu.:    0.481   1st Qu.:    0.483  \n",
       " Median :2.024e+09   Median :    0.923   Median :    0.927  \n",
       " Mean   :3.272e+09   Mean   :    1.631   Mean   :    1.644  \n",
       " 3rd Qu.:5.067e+09   3rd Qu.:    1.773   3rd Qu.:    1.770  \n",
       " Max.   :3.625e+10   Max.   :30172.027   Max.   :31563.911  \n",
       " Apply - Reapply CPU [ms]\n",
       " Min.   :-2701.4260      \n",
       " 1st Qu.:   -0.0330      \n",
       " Median :    0.0000      \n",
       " Mean   :   -0.0133      \n",
       " 3rd Qu.:    0.0330      \n",
       " Max.   : 2504.2290      "
      ]
     },
     "metadata": {},
     "output_type": "display_data"
    }
   ],
   "source": [
    "timings <- timingsApply[timingsReapply, on=\"Slot\"]\n",
    "timings[, `Apply - Reapply CPU [ms]`:=`Apply CPU [ms]`-`Reapply CPU [ms]`]\n",
    "timings %>% summary"
   ]
  },
  {
   "cell_type": "markdown",
   "id": "0edcc5cb-1a9d-4bcc-ba17-b2bc548b621f",
   "metadata": {},
   "source": [
    "### Cleanup"
   ]
  },
  {
   "cell_type": "markdown",
   "id": "f23c47b4-9612-4803-93b5-2fa10d788916",
   "metadata": {},
   "source": [
    "A few blocks have anomalously large times."
   ]
  },
  {
   "cell_type": "code",
   "execution_count": 5,
   "id": "b8d27a1f-2c2c-4b89-a6b5-47c6e9945701",
   "metadata": {
    "tags": []
   },
   "outputs": [
    {
     "data": {
      "image/png": "[encoded data removed]",
      "text/plain": [
       "plot without title"
      ]
     },
     "metadata": {
      "image/png": {
       "height": 420,
       "width": 420
      }
     },
     "output_type": "display_data"
    }
   ],
   "source": [
    "ggplot(timings, aes(x=`Apply CPU [ms]`)) +\n",
    "    geom_histogram(binwidth=0.1) +\n",
    "    scale_x_log10() +\n",
    "    ylab(\"Number of blocks\") +\n",
    "    ggtitle(\n",
    "        \"Total time spent applying the block\",\n",
    "        \"Epoch 350 and following\"\n",
    "    )"
   ]
  },
  {
   "cell_type": "markdown",
   "id": "91b98139-2adf-4c29-899f-5ecb03f57a55",
   "metadata": {},
   "source": [
    "Ignore blocks that exceed the 99.9 %tile in CPU time because presumably there is something anomalous about these."
   ]
  },
  {
   "cell_type": "code",
   "execution_count": 6,
   "id": "6aa3668a-9671-4e3d-a808-07e3dfe466ea",
   "metadata": {
    "tags": []
   },
   "outputs": [
    {
     "data": {
      "text/html": [
       "<strong>99.9%:</strong> 12.3701289999997"
      ],
      "text/latex": [
       "\\textbf{99.9\\textbackslash{}\\%:} 12.3701289999997"
      ],
      "text/markdown": [
       "**99.9%:** 12.3701289999997"
      ],
      "text/plain": [
       "   99.9% \n",
       "12.37013 "
      ]
     },
     "metadata": {},
     "output_type": "display_data"
    }
   ],
   "source": [
    "timeLimit <- timings[`Tx count` > 0, quantile(`Apply CPU [ms]`, 0.999)]\n",
    "timeLimit"
   ]
  },
  {
   "cell_type": "markdown",
   "id": "0767d4aa-6963-4f21-8306-195ac8f59daa",
   "metadata": {},
   "source": [
    "## Basic statistics"
   ]
  },
  {
   "cell_type": "code",
   "execution_count": 7,
   "id": "755482fc-1bdb-4a80-a343-814f8810655a",
   "metadata": {
    "tags": []
   },
   "outputs": [
    {
     "data": {
      "text/plain": [
       "      Slot           Apply CPU [ms/tx] Reapply CPU [ms/tx] Delta CPU [ms/tx] \n",
       " Min.   : 65836998   Min.   :0.03067   Min.   :0.03062     Min.   :0.000000  \n",
       " 1st Qu.: 85857458   1st Qu.:0.07243   1st Qu.:0.06727     1st Qu.:0.001375  \n",
       " Median :104992476   Median :0.09411   Median :0.08435     Median :0.003676  \n",
       " Mean   :107725778   Mean   :0.13580   Mean   :0.11241     Mean   :0.023394  \n",
       " 3rd Qu.:127014552   3rd Qu.:0.14271   3rd Qu.:0.12200     3rd Qu.:0.010286  \n",
       " Max.   :161151612   Max.   :7.28200   Max.   :6.91900     Max.   :5.262000  \n",
       " Apply CPU [ms/kB]   Reapply CPU [ms/kB] Delta CPU [ms/kB]  \n",
       " Min.   : 0.003556   Min.   : 0.003409   Min.   : 0.000000  \n",
       " 1st Qu.: 0.030258   1st Qu.: 0.027559   1st Qu.: 0.000648  \n",
       " Median : 0.049332   Median : 0.043411   Median : 0.001946  \n",
       " Mean   : 0.109081   Mean   : 0.088818   Mean   : 0.020263  \n",
       " 3rd Qu.: 0.096708   3rd Qu.: 0.083242   3rd Qu.: 0.006287  \n",
       " Max.   :14.478927   Max.   :11.081633   Max.   :13.835249  "
      ]
     },
     "metadata": {},
     "output_type": "display_data"
    }
   ],
   "source": [
    "basics <- timings[\n",
    "    `Tx count` > 0 & `Apply CPU [ms]` <= timeLimit & `Reapply CPU [ms]` <= `Apply CPU [ms]`,\n",
    "    .(\n",
    "        `Apply CPU [ms/tx]`=`Apply CPU [ms]`/`Tx count`,\n",
    "        `Reapply CPU [ms/tx]`=`Reapply CPU [ms]`/`Tx count`,\n",
    "        `Delta CPU [ms/tx]`=(`Apply CPU [ms]`-`Reapply CPU [ms]`)/`Tx count`,\n",
    "        `Apply CPU [ms/kB]`=`Apply CPU [ms]`/`Tx size [kB]`,\n",
    "        `Reapply CPU [ms/kB]`=`Reapply CPU [ms]`/`Tx size [kB]`,\n",
    "        `Delta CPU [ms/kB]`=(`Apply - Reapply CPU [ms]`)/`Tx size [kB]`\n",
    "    ),\n",
    "    .(\n",
    "        `Slot`\n",
    "    )\n",
    "]\n",
    "basics %>% summary"
   ]
  },
  {
   "cell_type": "markdown",
   "id": "a7ccafb5-da48-4f47-afb2-6dd6a7ee77da",
   "metadata": {},
   "source": [
    "### CPU time per transaction"
   ]
  },
  {
   "cell_type": "code",
   "execution_count": 8,
   "id": "3c018a3b-7fc9-43a9-9c2b-4c3c80bed177",
   "metadata": {
    "tags": []
   },
   "outputs": [],
   "source": [
    "melted <- melt(\n",
    "    basics[, .(`Slot`, `Apply`=`Apply CPU [ms/tx]`, `Reapply`=`Reapply CPU [ms/tx]`, `Apply - Reapply`=`Delta CPU [ms/tx]`)],\n",
    "    id.vars=\"Slot\",\n",
    "    measure.vars=c(\"Apply\", \"Reapply\", \"Apply - Reapply\"),\n",
    "    variable.name=\"Metric\",\n",
    "    value.name=\"CPU [ms/tx]\"\n",
    ")"
   ]
  },
  {
   "cell_type": "code",
   "execution_count": 9,
   "id": "0418d00a-e36c-4d69-8018-6c9a6cec69bf",
   "metadata": {
    "tags": []
   },
   "outputs": [
    {
     "data": {
      "image/png": "[encoded data removed]",
      "text/plain": [
       "plot without title"
      ]
     },
     "metadata": {
      "image/png": {
       "height": 420,
       "width": 420
      }
     },
     "output_type": "display_data"
    }
   ],
   "source": [
    "ggplot(melted[`CPU [ms/tx]` > 0 & `CPU [ms/tx]` < melted[, quantile(`CPU [ms/tx]`, 0.95)]], aes(x=`CPU [ms/tx]`)) +\n",
    "    geom_histogram(bins=50) +\n",
    "    ylab(\"Number of blocks\") +\n",
    "    facet_grid(`Metric` ~ ., scales=\"free_y\") +\n",
    "    ggtitle(\n",
    "        \"CPU time per transaction\",\n",
    "        \"Epoch 350 and following\"\n",
    "    )"
   ]
  },
  {
   "cell_type": "code",
   "execution_count": 10,
   "id": "49abee19-65a5-4bcd-adb5-b658b0bf8518",
   "metadata": {
    "tags": []
   },
   "outputs": [],
   "source": [
    "ggsave(\"cpu-per-tx.png\", units=\"in\", dpi=150, width=16, height=8)"
   ]
  },
  {
   "cell_type": "code",
   "execution_count": 11,
   "id": "482518ec-1afd-4334-b506-a4d0f130e07c",
   "metadata": {
    "tags": []
   },
   "outputs": [
    {
     "data": {
      "text/html": [
       "<table class=\"dataframe\">\n",
       "<caption>A data.table: 3 x 2</caption>\n",
       "<thead>\n",
       "\t<tr><th scope=col>Metric</th><th scope=col>Median CPU [ms/tx]</th></tr>\n",
       "\t<tr><th scope=col>&lt;fct&gt;</th><th scope=col>&lt;dbl&gt;</th></tr>\n",
       "</thead>\n",
       "<tbody>\n",
       "\t<tr><td>Apply          </td><td>0.094111111</td></tr>\n",
       "\t<tr><td>Reapply        </td><td>0.084352941</td></tr>\n",
       "\t<tr><td>Apply - Reapply</td><td>0.003675676</td></tr>\n",
       "</tbody>\n",
       "</table>\n"
      ],
      "text/latex": [
       "A data.table: 3 x 2\n",
       "\\begin{tabular}{ll}\n",
       " Metric & Median CPU {[}ms/tx{]}\\\\\n",
       " <fct> & <dbl>\\\\\n",
       "\\hline\n",
       "\t Apply           & 0.094111111\\\\\n",
       "\t Reapply         & 0.084352941\\\\\n",
       "\t Apply - Reapply & 0.003675676\\\\\n",
       "\\end{tabular}\n"
      ],
      "text/markdown": [
       "\n",
       "A data.table: 3 x 2\n",
       "\n",
       "| Metric &lt;fct&gt; | Median CPU [ms/tx] &lt;dbl&gt; |\n",
       "|---|---|\n",
       "| Apply           | 0.094111111 |\n",
       "| Reapply         | 0.084352941 |\n",
       "| Apply - Reapply | 0.003675676 |\n",
       "\n"
      ],
      "text/plain": [
       "  Metric          Median CPU [ms/tx]\n",
       "1 Apply           0.094111111       \n",
       "2 Reapply         0.084352941       \n",
       "3 Apply - Reapply 0.003675676       "
      ]
     },
     "metadata": {},
     "output_type": "display_data"
    }
   ],
   "source": [
    "melted[, .(`Median CPU [ms/tx]`=median(`CPU [ms/tx]`)), .(`Metric`)]"
   ]
  },
  {
   "cell_type": "markdown",
   "id": "2300493b-c7be-43af-acd0-e44755efbb4e",
   "metadata": {},
   "source": [
    "### CPU time per byte of transaction"
   ]
  },
  {
   "cell_type": "code",
   "execution_count": 12,
   "id": "d262e347-7c57-4328-8238-93323855ac19",
   "metadata": {
    "tags": []
   },
   "outputs": [],
   "source": [
    "melted <- melt(\n",
    "    basics[, .(`Slot`, `Apply`=`Apply CPU [ms/kB]`, `Reapply`=`Reapply CPU [ms/kB]`, `Apply - Reapply`=`Delta CPU [ms/kB]`)],\n",
    "    id.vars=\"Slot\",\n",
    "    measure.vars=c(\"Apply\", \"Reapply\", \"Apply - Reapply\"),\n",
    "    variable.name=\"Metric\",\n",
    "    value.name=\"CPU [ms/kB]\"\n",
    ")"
   ]
  },
  {
   "cell_type": "code",
   "execution_count": 13,
   "id": "9e58da8b-925d-46b5-a5be-27dea577f18e",
   "metadata": {
    "tags": []
   },
   "outputs": [
    {
     "data": {
      "image/png": "[encoded data removed]",
      "text/plain": [
       "plot without title"
      ]
     },
     "metadata": {
      "image/png": {
       "height": 420,
       "width": 420
      }
     },
     "output_type": "display_data"
    }
   ],
   "source": [
    "ggplot(melted[`CPU [ms/kB]` > 0 & `CPU [ms/kB]` < melted[, quantile(`CPU [ms/kB]`, 0.95)]], aes(x=`CPU [ms/kB]`)) +\n",
    "    geom_histogram(bins=50) +\n",
    "    ylab(\"Number of blocks\") + \n",
    "    facet_grid(`Metric` ~ ., scales=\"free_y\") +\n",
    "    ggtitle(\n",
    "        \"CPU time per byte\",\n",
    "        \"Epoch 350 and following\"\n",
    "    )"
   ]
  },
  {
   "cell_type": "code",
   "execution_count": 14,
   "id": "e1bda0d5-2ea9-49e7-8295-713aa992b42e",
   "metadata": {
    "tags": []
   },
   "outputs": [],
   "source": [
    "ggsave(\"cpu-per-kb.png\", units=\"in\", dpi=150, width=16, height=8)"
   ]
  },
  {
   "cell_type": "code",
   "execution_count": 15,
   "id": "a595795a-17b7-407a-94f8-774fab6c012a",
   "metadata": {
    "tags": []
   },
   "outputs": [
    {
     "data": {
      "text/html": [
       "<table class=\"dataframe\">\n",
       "<caption>A data.table: 3 x 2</caption>\n",
       "<thead>\n",
       "\t<tr><th scope=col>Metric</th><th scope=col>Median CPU [ms/kB]</th></tr>\n",
       "\t<tr><th scope=col>&lt;fct&gt;</th><th scope=col>&lt;dbl&gt;</th></tr>\n",
       "</thead>\n",
       "<tbody>\n",
       "\t<tr><td>Apply          </td><td>0.049332409</td></tr>\n",
       "\t<tr><td>Reapply        </td><td>0.043410714</td></tr>\n",
       "\t<tr><td>Apply - Reapply</td><td>0.001946142</td></tr>\n",
       "</tbody>\n",
       "</table>\n"
      ],
      "text/latex": [
       "A data.table: 3 x 2\n",
       "\\begin{tabular}{ll}\n",
       " Metric & Median CPU {[}ms/kB{]}\\\\\n",
       " <fct> & <dbl>\\\\\n",
       "\\hline\n",
       "\t Apply           & 0.049332409\\\\\n",
       "\t Reapply         & 0.043410714\\\\\n",
       "\t Apply - Reapply & 0.001946142\\\\\n",
       "\\end{tabular}\n"
      ],
      "text/markdown": [
       "\n",
       "A data.table: 3 x 2\n",
       "\n",
       "| Metric &lt;fct&gt; | Median CPU [ms/kB] &lt;dbl&gt; |\n",
       "|---|---|\n",
       "| Apply           | 0.049332409 |\n",
       "| Reapply         | 0.043410714 |\n",
       "| Apply - Reapply | 0.001946142 |\n",
       "\n"
      ],
      "text/plain": [
       "  Metric          Median CPU [ms/kB]\n",
       "1 Apply           0.049332409       \n",
       "2 Reapply         0.043410714       \n",
       "3 Apply - Reapply 0.001946142       "
      ]
     },
     "metadata": {},
     "output_type": "display_data"
    }
   ],
   "source": [
    "melted[, .(`Median CPU [ms/kB]`=median(`CPU [ms/kB]`)), .(`Metric`)]"
   ]
  },
  {
   "cell_type": "markdown",
   "id": "2c463e15-f51e-4e52-bd52-efb9a8a96104",
   "metadata": {},
   "source": [
    "## Linear model"
   ]
  },
  {
   "cell_type": "markdown",
   "id": "25350217-9f4f-4cd8-bcc1-b2ed922bd5e4",
   "metadata": {},
   "source": [
    "### Independent variables: transaction count and size"
   ]
  },
  {
   "cell_type": "code",
   "execution_count": 16,
   "id": "32dd8210-8e41-4d77-bd93-e77159e90863",
   "metadata": {
    "tags": []
   },
   "outputs": [
    {
     "data": {
      "text/plain": [
       "\n",
       "Call:\n",
       "lm(formula = `Apply - Reapply CPU [ms]` ~ 0 + `Tx count` + `Tx size [kB]`, \n",
       "    data = timings[`Tx count` > 0 & `Apply CPU [ms]` <= timeLimit & \n",
       "        `Reapply CPU [ms]` <= `Apply CPU [ms]`])\n",
       "\n",
       "Residuals:\n",
       "    Min      1Q  Median      3Q     Max \n",
       "-2.0325 -0.1425 -0.0484 -0.0007 10.4920 \n",
       "\n",
       "Coefficients:\n",
       "                Estimate Std. Error t value Pr(>|t|)    \n",
       "`Tx count`     7.353e-03  3.723e-05  197.52   <2e-16 ***\n",
       "`Tx size [kB]` 1.474e-03  1.693e-05   87.05   <2e-16 ***\n",
       "---\n",
       "Signif. codes:  0 ‘***’ 0.001 ‘**’ 0.01 ‘*’ 0.05 ‘.’ 0.1 ‘ ’ 1\n",
       "\n",
       "Residual standard error: 0.4692 on 2238455 degrees of freedom\n",
       "Multiple R-squared:  0.169,\tAdjusted R-squared:  0.169 \n",
       "F-statistic: 2.277e+05 on 2 and 2238455 DF,  p-value: < 2.2e-16\n"
      ]
     },
     "metadata": {},
     "output_type": "display_data"
    }
   ],
   "source": [
    "model <- lm(\n",
    "    `Apply - Reapply CPU [ms]` ~ 0 + `Tx count` + `Tx size [kB]`, \n",
    "    timings[`Tx count` > 0 & `Apply CPU [ms]` <= timeLimit & `Reapply CPU [ms]` <= `Apply CPU [ms]`]\n",
    ")\n",
    "model %>% summary"
   ]
  },
  {
   "cell_type": "code",
   "execution_count": 17,
   "id": "f2d25584-3d25-415d-b89b-22e046f88db7",
   "metadata": {
    "tags": []
   },
   "outputs": [
    {
     "data": {
      "image/png": "[encoded data removed]",
      "text/plain": [
       "plot without title"
      ]
     },
     "metadata": {
      "image/png": {
       "height": 420,
       "width": 420
      }
     },
     "output_type": "display_data"
    }
   ],
   "source": [
    "ggplot(data.table(`Actual - Fit [ms]`=residuals(model)), aes(`Actual - Fit [ms]`)) +\n",
    "    geom_histogram(binwidth=0.1) +\n",
    "    xlab(\"Apply - Reapply CPU [ms]\") +\n",
    "    ylab(\"Number of blocks\") +\n",
    "    ggtitle(\n",
    "        \"Total time spent applying the block: Epoch 350 and following\",\n",
    "        \"Independent variables: transaction count and size\"\n",
    "    )"
   ]
  },
  {
   "cell_type": "markdown",
   "id": "25cfc210-5453-46aa-95c4-358f63178393",
   "metadata": {},
   "source": [
    "The resulting model for validating a block (signature checking and running Plutus scripts) is:\n",
    "\n",
    "```\n",
    "(validation time) ~ 7.353 μs/tx * (Number of transactions) + 1.474 μs/kB * (size of transactions)\n",
    "```"
   ]
  },
  {
   "cell_type": "markdown",
   "id": "a330b1b3-5f0a-4f96-a46b-94856e92d8a5",
   "metadata": {},
   "source": [
    "### Independent variables: transaction count, size, and execution steps"
   ]
  },
  {
   "cell_type": "code",
   "execution_count": 18,
   "id": "5b117088-c790-4aee-8b55-9c463c46056e",
   "metadata": {
    "tags": []
   },
   "outputs": [
    {
     "data": {
      "text/plain": [
       "\n",
       "Call:\n",
       "lm(formula = `Apply - Reapply CPU [ms]` ~ 0 + `Tx count` + `Tx size [kB]` + \n",
       "    `Tx exec [step]`, data = timings[`Tx count` > 0 & `Apply CPU [ms]` <= \n",
       "    timeLimit & `Reapply CPU [ms]` <= `Apply CPU [ms]`])\n",
       "\n",
       "Residuals:\n",
       "    Min      1Q  Median      3Q     Max \n",
       "-1.9764 -0.1430 -0.0489 -0.0008 10.4947 \n",
       "\n",
       "Coefficients:\n",
       "                  Estimate Std. Error t value Pr(>|t|)    \n",
       "`Tx count`       7.271e-03  3.728e-05  195.05   <2e-16 ***\n",
       "`Tx size [kB]`   9.383e-04  2.193e-05   42.78   <2e-16 ***\n",
       "`Tx exec [step]` 5.463e-12  1.425e-13   38.35   <2e-16 ***\n",
       "---\n",
       "Signif. codes:  0 ‘***’ 0.001 ‘**’ 0.01 ‘*’ 0.05 ‘.’ 0.1 ‘ ’ 1\n",
       "\n",
       "Residual standard error: 0.4691 on 2238454 degrees of freedom\n",
       "Multiple R-squared:  0.1696,\tAdjusted R-squared:  0.1696 \n",
       "F-statistic: 1.524e+05 on 3 and 2238454 DF,  p-value: < 2.2e-16\n"
      ]
     },
     "metadata": {},
     "output_type": "display_data"
    }
   ],
   "source": [
    "model <- lm(\n",
    "    `Apply - Reapply CPU [ms]` ~ 0 + `Tx count` + `Tx size [kB]` + `Tx exec [step]`, \n",
    "    timings[`Tx count` > 0 & `Apply CPU [ms]` <= timeLimit & `Reapply CPU [ms]` <= `Apply CPU [ms]`]\n",
    ")\n",
    "model %>% summary"
   ]
  },
  {
   "cell_type": "code",
   "execution_count": 19,
   "id": "dab6f162-2c7b-4be9-9d17-12455e350255",
   "metadata": {
    "tags": []
   },
   "outputs": [
    {
     "data": {
      "text/plain": [
       "      Slot             Block [kB]        Tx count       Tx size [kB]   \n",
       " Min.   : 65836998   Min.   : 1.053   Min.   :  1.00   Min.   : 0.159  \n",
       " 1st Qu.: 85857458   1st Qu.: 8.820   1st Qu.:  5.00   1st Qu.: 7.953  \n",
       " Median :104992476   Median :25.227   Median : 11.00   Median :24.364  \n",
       " Mean   :107725778   Mean   :34.621   Mean   : 15.17   Mean   :33.758  \n",
       " 3rd Qu.:127014552   3rd Qu.:56.608   3rd Qu.: 22.00   3rd Qu.:55.753  \n",
       " Max.   :161151612   Max.   :90.049   Max.   :268.00   Max.   :89.053  \n",
       " Tx exec [step]      Apply CPU [ms]   Reapply CPU [ms] Apply - Reapply CPU [ms]\n",
       " Min.   :0.000e+00   Min.   : 0.107   Min.   : 0.105   Min.   : 0.0000         \n",
       " 1st Qu.:6.963e+08   1st Qu.: 0.571   1st Qu.: 0.524   1st Qu.: 0.0110         \n",
       " Median :2.455e+09   Median : 1.071   Median : 0.940   Median : 0.0350         \n",
       " Mean   :3.620e+09   Mean   : 1.486   Mean   : 1.280   Mean   : 0.2053         \n",
       " 3rd Qu.:5.613e+09   3rd Qu.: 2.035   3rd Qu.: 1.679   3rd Qu.: 0.1180         \n",
       " Max.   :3.625e+10   Max.   :12.370   Max.   :12.274   Max.   :10.5240         \n",
       " Residual [ms]      \n",
       " Min.   :-1.976391  \n",
       " 1st Qu.:-0.142958  \n",
       " Median :-0.048928  \n",
       " Mean   : 0.043568  \n",
       " 3rd Qu.:-0.000795  \n",
       " Max.   :10.494709  "
      ]
     },
     "metadata": {},
     "output_type": "display_data"
    }
   ],
   "source": [
    "timingsFit <- cbind(\n",
    "    timings[`Tx count` > 0 & `Apply CPU [ms]` <= timeLimit & `Reapply CPU [ms]` <= `Apply CPU [ms]`],\n",
    "    data.table(`Residual [ms]`=residuals(model))\n",
    ")\n",
    "timingsFit %>% summary"
   ]
  },
  {
   "cell_type": "code",
   "execution_count": 20,
   "id": "4c88f072-dab9-4f6b-b3c3-54eb469fa42a",
   "metadata": {
    "tags": []
   },
   "outputs": [
    {
     "data": {
      "image/png": "[encoded data removed]",
      "text/plain": [
       "plot without title"
      ]
     },
     "metadata": {
      "image/png": {
       "height": 420,
       "width": 420
      }
     },
     "output_type": "display_data"
    }
   ],
   "source": [
    "ggplot(timingsFit, aes(x=`Residual [ms]`)) +\n",
    "    geom_histogram(binwidth=0.1) +\n",
    "    xlab(\"Apply - Reapply CPU [ms]\") +\n",
    "    ylab(\"Number of blocks\") +\n",
    "    ggtitle(\n",
    "        \"Total time spent applying the block: Epoch 350 and following\",\n",
    "        \"Independent variables: transaction count, size, and execution steps\"\n",
    "    )"
   ]
  },
  {
   "cell_type": "code",
   "execution_count": 21,
   "id": "44821349-448e-408c-8f9e-bb38f616256f",
   "metadata": {
    "tags": []
   },
   "outputs": [],
   "source": [
    "ggsave(\"residual-histogram.png\", units=\"in\", dpi=150, width=16, height=8)"
   ]
  },
  {
   "cell_type": "code",
   "execution_count": 22,
   "id": "55275b15-17bf-4159-9aa5-b4cb8c61c988",
   "metadata": {
    "tags": []
   },
   "outputs": [
    {
     "data": {
      "image/png": "[encoded data removed]",
      "text/plain": [
       "plot without title"
      ]
     },
     "metadata": {
      "image/png": {
       "height": 420,
       "width": 420
      }
     },
     "output_type": "display_data"
    }
   ],
   "source": [
    "ggplot(\n",
    "    timingsFit[, .(`Actual [ms]`=`Apply - Reapply CPU [ms]`, `Residual [ms]`)],\n",
    "    aes(x=`Actual [ms]`, y=`Residual [ms]`)\n",
    ") +\n",
    "    geom_point(size=0.025, alpha=0.01) +\n",
    "    ggtitle(\n",
    "        \"Total time spent applying the block: Epoch 350 and following\",\n",
    "        \"Independent variables: transaction count, size, and execution steps\"\n",
    "    )"
   ]
  },
  {
   "cell_type": "code",
   "execution_count": 23,
   "id": "adc51e6f-3ce8-4949-9bf3-eaad4cc7dbb2",
   "metadata": {
    "tags": []
   },
   "outputs": [],
   "source": [
    "ggsave(\"residual-scatterplot.png\", units=\"in\", dpi=150, width=16, height=8)"
   ]
  },
  {
   "cell_type": "markdown",
   "id": "9a22585f-fa30-46f7-9ce4-624c9fe2e890",
   "metadata": {},
   "source": [
    "The previous plot indicates that nonlinear terms are present, and that a more sophisticate model might be possible, though we do not pursue this.\n",
    "\n",
    "It turns out that the distribution of residuals are fit pretty well by a [Laplace distribution](https://en.wikipedia.org/wiki/Laplace_distribution) with location 0 and scale 0.145. We ignore heteroscedasticity."
   ]
  },
  {
   "cell_type": "code",
   "execution_count": 24,
   "id": "beb3f5b0-a9d2-4360-bdef-478e05ffbf69",
   "metadata": {
    "tags": []
   },
   "outputs": [],
   "source": [
    "b <- 0.145"
   ]
  },
  {
   "cell_type": "code",
   "execution_count": 25,
   "id": "b27e19e0-090d-4f95-a0b0-544592b0dbde",
   "metadata": {
    "tags": []
   },
   "outputs": [],
   "source": [
    "errorModel <- data.table(`Residual [ms]`=-30:30/10, `Fit`=nrow(timingsFit)*dlaplace(-30:30/10, 0, b))"
   ]
  },
  {
   "cell_type": "code",
   "execution_count": 26,
   "id": "83acf9a5-eeae-4ac3-8bee-50b642e0b157",
   "metadata": {
    "tags": []
   },
   "outputs": [
    {
     "data": {
      "image/png": "[encoded data removed]",
      "text/plain": [
       "plot without title"
      ]
     },
     "metadata": {
      "image/png": {
       "height": 420,
       "width": 420
      }
     },
     "output_type": "display_data"
    }
   ],
   "source": [
    "ggplot(timingsFit, aes(x=`Residual [ms]`)) +\n",
    "    geom_histogram(binwidth=0.1) +\n",
    "    geom_line(data=errorModel, aes(x=`Residual [ms]`, y=0.1*`Fit`), color=\"red\") +\n",
    "    ylab(\"Number of blocks\") +\n",
    "    ggtitle(\n",
    "        \"Total time spent applying the block: Epoch 350 and following\",\n",
    "        \"Independent variables: transaction count, size, and execution steps\"\n",
    "    )"
   ]
  },
  {
   "cell_type": "code",
   "execution_count": 27,
   "id": "c44c9f9b-9f52-4448-b9ba-4adbe942d5c0",
   "metadata": {
    "tags": []
   },
   "outputs": [],
   "source": [
    "ggsave(\"residual-histogram-fit.png\", units=\"in\", dpi=150, width=16, height=8)"
   ]
  },
  {
   "cell_type": "markdown",
   "id": "7f6712b1-0227-4561-b417-a19bfa811a7d",
   "metadata": {},
   "source": [
    "The resulting model for validating a block (signature checking and running Plutus scripts) is:\n",
    "\n",
    "```\n",
    "(validation time) ~ 7.271 μs/tx * (Number of transactions)\n",
    "                  + 0.938 μs/kB * (size of transactions) \n",
    "                  + 5.463 μs/Gstep * (Plutus execution steps)\n",
    "                  + (Laplace-distributed random variable with location 0 ms and scale 0.145 ms)\n",
    "```"
   ]
  },
  {
   "cell_type": "markdown",
   "id": "22370f63-ed19-40cc-a1eb-4d9e64302bb3",
   "metadata": {},
   "source": [
    "## Outliers"
   ]
  },
  {
   "cell_type": "code",
   "execution_count": 28,
   "id": "335991ce-6e86-4d70-9b72-d385b9447cfb",
   "metadata": {
    "tags": []
   },
   "outputs": [
    {
     "data": {
      "text/html": [
       "<table class=\"dataframe\">\n",
       "<caption>A data.table: 1 x 8</caption>\n",
       "<thead>\n",
       "\t<tr><th scope=col>Slot</th><th scope=col>Block [kB]</th><th scope=col>Tx count</th><th scope=col>Tx size [kB]</th><th scope=col>Tx exec [step]</th><th scope=col>Apply CPU [ms]</th><th scope=col>Reapply CPU [ms]</th><th scope=col>Apply - Reapply CPU [ms]</th></tr>\n",
       "\t<tr><th scope=col>&lt;int&gt;</th><th scope=col>&lt;dbl&gt;</th><th scope=col>&lt;dbl&gt;</th><th scope=col>&lt;dbl&gt;</th><th scope=col>&lt;dbl&gt;</th><th scope=col>&lt;dbl&gt;</th><th scope=col>&lt;dbl&gt;</th><th scope=col>&lt;dbl&gt;</th></tr>\n",
       "</thead>\n",
       "<tbody>\n",
       "\t<tr><td>160444814</td><td>34.951</td><td>17</td><td>34.109</td><td>1810937370</td><td>3560.348</td><td>3501.57</td><td>58.778</td></tr>\n",
       "</tbody>\n",
       "</table>\n"
      ],
      "text/latex": [
       "A data.table: 1 x 8\n",
       "\\begin{tabular}{llllllll}\n",
       " Slot & Block {[}kB{]} & Tx count & Tx size {[}kB{]} & Tx exec {[}step{]} & Apply CPU {[}ms{]} & Reapply CPU {[}ms{]} & Apply - Reapply CPU {[}ms{]}\\\\\n",
       " <int> & <dbl> & <dbl> & <dbl> & <dbl> & <dbl> & <dbl> & <dbl>\\\\\n",
       "\\hline\n",
       "\t 160444814 & 34.951 & 17 & 34.109 & 1810937370 & 3560.348 & 3501.57 & 58.778\\\\\n",
       "\\end{tabular}\n"
      ],
      "text/markdown": [
       "\n",
       "A data.table: 1 x 8\n",
       "\n",
       "| Slot &lt;int&gt; | Block [kB] &lt;dbl&gt; | Tx count &lt;dbl&gt; | Tx size [kB] &lt;dbl&gt; | Tx exec [step] &lt;dbl&gt; | Apply CPU [ms] &lt;dbl&gt; | Reapply CPU [ms] &lt;dbl&gt; | Apply - Reapply CPU [ms] &lt;dbl&gt; |\n",
       "|---|---|---|---|---|---|---|---|\n",
       "| 160444814 | 34.951 | 17 | 34.109 | 1810937370 | 3560.348 | 3501.57 | 58.778 |\n",
       "\n"
      ],
      "text/plain": [
       "  Slot      Block [kB] Tx count Tx size [kB] Tx exec [step] Apply CPU [ms]\n",
       "1 160444814 34.951     17       34.109       1810937370     3560.348      \n",
       "  Reapply CPU [ms] Apply - Reapply CPU [ms]\n",
       "1 3501.57          58.778                  "
      ]
     },
     "metadata": {},
     "output_type": "display_data"
    }
   ],
   "source": [
    "recentMax <- timings[`Slot` >= 160000000 & `Apply CPU [ms]` >= timings[`Slot` >= 160000000, max(`Apply CPU [ms]`)]]\n",
    "recentMax"
   ]
  },
  {
   "cell_type": "markdown",
   "id": "d7f52280-96e0-43d7-93c7-304af6bc80a6",
   "metadata": {},
   "source": [
    "This is [block 12100125](https://cexplorer.io/block/347993f8c93aa95a088c77732d054458597275e085bfdc9f00814e73e6f37000). Opening it in an explorer reveals that it contains several transactions with large number of NFTs and several Plutus scripts. Indeed, it did [propagate slowly](https://pooltool.io/realtime/12100125). Apparently, this is caused by [Cardano Ledger issue #3034](https://github.com/IntersectMBO/cardano-ledger/issues/3034)."
   ]
  },
  {
   "cell_type": "markdown",
   "id": "35660b9a-ed4b-4311-8548-b3731cf03ac7",
   "metadata": {},
   "source": [
    "Are these measures repeatable?\n",
    "\n",
    "```bash\n",
    "(\n",
    "    for i in {1..10}\n",
    "    do\n",
    "        db-analyser --db node.db --analyse-from 160444759 --benchmark-ledger-ops --num-blocks-to-process 3 cardano --config node.json 2>/dev/null\n",
    "    done\n",
    ") | sed -n -e '1p;/160444814/p' | cut -f 1,3,4,5\n",
    "```\n",
    "\n",
    "```console\n",
    "slot          totalTime     mut     gc\n",
    "160444814       2837493 2185118 652375\n",
    "160444814       2967857 2280091 687766\n",
    "160444814       2900696 2227492 673203\n",
    "160444814       2881636 2222040 659596\n",
    "160444814       3289770 2471157 818612\n",
    "160444814       2880495 2205710 674784\n",
    "160444814       2911893 2237162 674731\n",
    "160444814       2948804 2260896 687907\n",
    "160444814       3028562 2335259 693303\n",
    "160444814       2922908 2243885 679023\n",
    "```\n",
    "\n",
    "Also repeat the `--reapply` measurements.\n",
    "\n",
    "```bash\n",
    "(\n",
    "    for i in {1..10}\n",
    "    do\n",
    "        db-analyser --db node.db --analyse-from 160444759 --benchmark-ledger-ops --reapply --num-blocks-to-process 3 cardano --config node.json 2>/dev/null\n",
    "    done\n",
    ") | sed -n -e '1p;/160444814/p' | cut -f 1,3,4,5\n",
    "```\n",
    "\n",
    "```console\n",
    "slot          totalTime     mut     gc\n",
    "160444814       2979251 2280452 698799\n",
    "160444814       2926794 2252894 673899\n",
    "160444814       2838160 2184320 653839\n",
    "160444814       2948609 2267553 681056\n",
    "160444814       2968821 2262615 706205\n",
    "160444814       2887207 2220366 666840\n",
    "160444814       2889603 2226234 663369\n",
    "160444814       2889129 2217814 671315\n",
    "160444814       2821164 2164449 656715\n",
    "160444814       2848343 2195993 652349\n",
    "```\n",
    "\n",
    "These results also provide a sense of how noisy the measurements are."
   ]
  },
  {
   "cell_type": "markdown",
   "id": "6e19155c-8978-455a-80a0-7187415858fe",
   "metadata": {},
   "source": [
    "## Findings\n",
    "\n",
    "We undertook basic analysis of block and transaction validation times for Cardano `mainnet` since Epoch 350.\n",
    "\n",
    "1. The `db-analyser` tool can be used to measure the Cardno block-application time, either including or not including verifying transaction signatures and running Plutus scripts.\n",
    "2. Ideally, `db-analyser` could be modified to report CPU times for phase 1 and phase 2 validation on a per-transaction basis.\n",
    "3. The output of this tool is quite noisy and does not include enough of the explanatory variable for predicting CPU times for transactions or blocks.\n",
    "4. The missing explanatory variables (size of UTxO set, number of inputs, number of outputs, etc.) can be extracted from the ledger or `cardano-db-sync`.\n",
    "5. For transaction signature verification and Plutus script execution, the median times are . . .\n",
    "    - 3.675 μs/tx\n",
    "    - 1.946 μs/kB\n",
    "    - Jointly via a linear model, 7.353 μs/tx plus 1.474 μs/kB.\n",
    "    - Jointly via a linear model, 7.271 μs/tx plus 0.938 μs/kB plus 5.463 μs/Gstep, with a Lapace-distributed error having location 0 μs and scale 145 μs.\n",
    "6. The noise in the data and the uncertainty in predictions make the above values unsuitable for estimating individual transactions but suitable for bulk estimates of many blocks.\n",
    "7. A more sophisticated double general linear model could be used to generate artificial transaction workloads."
   ]
  }
 ],
 "metadata": {
  "kernelspec": {
   "display_name": "r-minimal kernel",
   "language": "r",
   "name": "r-minimal"
  },
  "language_info": {
   "codemirror_mode": "r",
   "file_extension": ".r",
   "mimetype": "text/x-r-source",
   "name": "R",
   "pygments_lexer": "r",
   "version": "4.2.2"
  }
 },
 "nbformat": 4,
 "nbformat_minor": 5
}
